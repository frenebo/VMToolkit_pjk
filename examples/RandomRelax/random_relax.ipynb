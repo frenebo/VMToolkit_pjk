{
 "cells": [
  {
   "cell_type": "markdown",
   "id": "9e935c16-9a39-4bc4-83b6-ded62bddc5e9",
   "metadata": {},
   "source": [
    "# VMTutorial Example\n",
    "\n",
    "## Random Relax\n",
    "\n",
    "In this example, we load a configuration of $N=1000$ cells placed at random in a periodic square box of size $60\\times60$.\n",
    "\n",
    "We will use the standard vertex model with energy given as $$E = \\frac{1}{2}\\sum_c\\left[\\kappa(A_c - A_0)^2 + \\Gamma P_c^2 - \\Lambda P_c\\right],$$where $\\kappa$ is the area modulus, $\\Gamma$ is the perimeter modulus, and $\\Lambda = 2\\Gamma P_0$.\n",
    "\n",
    "The equation of motion for vertex $i$ is $$\\gamma\\dot{\\mathbf{r}}_i = -\\nabla_{\\mathbf{r}_i}E,$$where $\\gamma$ is the friction coefficient between the vertex and the substrate."
   ]
  },
  {
   "cell_type": "markdown",
   "id": "a6748898-5be3-4183-b236-47a22ad4d26b",
   "metadata": {},
   "source": [
    "### Loading the VM simulation module"
   ]
  },
  {
   "cell_type": "code",
   "execution_count": 1,
   "id": "dfc77357-92ed-483d-8392-0ac68f4a711b",
   "metadata": {},
   "outputs": [],
   "source": [
    "from VMToolkit.VM import *"
   ]
  },
  {
   "cell_type": "markdown",
   "id": "a97857a8-3d5b-4237-90e0-a8117c7e373b",
   "metadata": {},
   "source": [
    "### Parameters\n",
    "\n",
    "Model parameters"
   ]
  },
  {
   "cell_type": "code",
   "execution_count": 2,
   "id": "897945da-1444-4044-bcf2-ac556af0402c",
   "metadata": {},
   "outputs": [],
   "source": [
    "kappa = 1.0\n",
    "Gamma = 0.25\n",
    "Lambda = 1.7\n",
    "gamma = 1.0"
   ]
  },
  {
   "cell_type": "markdown",
   "id": "c9c1ad1e-b56a-44fa-98b9-5c69befa4624",
   "metadata": {},
   "source": [
    "Simulation parameters"
   ]
  },
  {
   "cell_type": "code",
   "execution_count": 3,
   "id": "55b73443-0d93-4fff-8433-a8be8cd350c0",
   "metadata": {},
   "outputs": [],
   "source": [
    "input_file = 'random_conf.json'\n",
    "dt = 0.1\n",
    "rng_seed = 1892\n",
    "dumpfreq = 10\n",
    "nrun = 100\n",
    "timeunit = int(round(1/dt))"
   ]
  },
  {
   "cell_type": "markdown",
   "id": "b71c7fe5-5664-4433-984d-c89bdc7f1cf3",
   "metadata": {},
   "source": [
    "### Simulation initialisation\n",
    "\n",
    "We now set the simulation object that will constrol the execution."
   ]
  },
  {
   "cell_type": "code",
   "execution_count": 4,
   "id": "af7b0c38-7431-4263-95bf-6e4f8f3fa561",
   "metadata": {},
   "outputs": [],
   "source": [
    "tissue  = Tissue()                                               # initialise mesh\n",
    "sim_sys = System(tissue)                                         # base object for the system\n",
    "forces = Force(sim_sys)                                          # handles all types of forces\n",
    "integrators = Integrate(sim_sys, forces, rng_seed)               # handles all integrators\n",
    "topology = Topology(sim_sys, forces)                             # handles all topology changes (T1, division, ingression)\n",
    "dumps = Dump(sim_sys, forces)                                    # handles all data output \n",
    "simulation = Simulation(sim_sys, integrators, forces, topology)  # simulation object"
   ]
  },
  {
   "cell_type": "markdown",
   "id": "b3ebf388-2f97-49bb-affc-43ec3c8796af",
   "metadata": {},
   "source": [
    "We proceed to read in the data."
   ]
  },
  {
   "cell_type": "code",
   "execution_count": 5,
   "id": "e30cda4b-f964-49ed-b039-ea1d428c9a0e",
   "metadata": {},
   "outputs": [
    {
     "name": "stdout",
     "output_type": "stream",
     "text": [
      "Setting periodic simulation box.\n",
      "Finished reading vertices.\n",
      "Finished reading faces.\n",
      "Finished mesh setup.\n",
      "Mesh has 2000 vertices 3000 edges and 1000 faces.\n",
      "Finished reading input configuration.\n"
     ]
    }
   ],
   "source": [
    "sim_sys.read_input(input_file)"
   ]
  },
  {
   "cell_type": "markdown",
   "id": "62686e60-626c-43a8-8ab9-9e720dedf471",
   "metadata": {},
   "source": [
    "We now plot it to see how it looks like."
   ]
  },
  {
   "cell_type": "code",
   "execution_count": 6,
   "id": "762f5ab4-e7a2-466c-ac24-41a4cfaa38e2",
   "metadata": {},
   "outputs": [
    {
     "data": {
      "application/vnd.jupyter.widget-view+json": {
       "model_id": "f938ec7d9de44d1b9f8f1c8029d2015c",
       "version_major": 2,
       "version_minor": 0
      },
      "text/plain": [
       "Widget(value=\"<iframe src='http://localhost:40297/index.html?ui=P_0x7fc62879f460_0&reconnect=auto' style='widt…"
      ]
     },
     "metadata": {},
     "output_type": "display_data"
    }
   ],
   "source": [
    "from tissue_plot import make_plotter\n",
    "make_plotter(tissue).show()"
   ]
  },
  {
   "cell_type": "markdown",
   "id": "847d2e37-b345-4cc9-b996-c9a1e043c43f",
   "metadata": {},
   "source": [
    "### Add model (force) and assign parameter values"
   ]
  },
  {
   "cell_type": "code",
   "execution_count": 7,
   "id": "57cae903-38d8-4086-b244-e9cfacf13c1d",
   "metadata": {},
   "outputs": [],
   "source": [
    "forces.add('area')         # add area force form term E = 0.5*kappa*(A-A0)^2\n",
    "forces.add('perimeter')    # add perimeter force term from E = 0.5*gamma*P^2 - lambda*P "
   ]
  },
  {
   "cell_type": "markdown",
   "id": "28adcbae-233b-467c-97d0-6107fdde7b0f",
   "metadata": {},
   "source": [
    "Assign parameters to cell type 'passive'"
   ]
  },
  {
   "cell_type": "code",
   "execution_count": 8,
   "id": "6ad86134-cc58-415f-af0d-d0f94c43bc8c",
   "metadata": {},
   "outputs": [],
   "source": [
    "forces.set_params('area', 'passive', {'kappa' : kappa})\n",
    "forces.set_params('perimeter', 'passive',  {'gamma': Gamma, 'lambda': Lambda})"
   ]
  },
  {
   "cell_type": "markdown",
   "id": "da148219-121d-42ff-b6fe-3f81190d6e67",
   "metadata": {},
   "source": [
    "### Set topology change (i.e. T1 transition) conditions"
   ]
  },
  {
   "cell_type": "code",
   "execution_count": 9,
   "id": "fa2922c1-4abb-42ac-8ad9-4bb877ac6547",
   "metadata": {},
   "outputs": [],
   "source": [
    "topology.set_params({'min_edge_len': 0.05, 'new_edge_len': 0.055}) "
   ]
  },
  {
   "cell_type": "markdown",
   "id": "5014c418-2439-4662-ab8c-88b32cfd58b7",
   "metadata": {},
   "source": [
    "### Add integrator for the equations of motion (Brownian dynamics)"
   ]
  },
  {
   "cell_type": "code",
   "execution_count": 10,
   "id": "8045599a-2632-4ac5-848c-d42f8f4e64df",
   "metadata": {},
   "outputs": [],
   "source": [
    "integrators.add('brownian') "
   ]
  },
  {
   "cell_type": "markdown",
   "id": "5f9d1395-da70-464c-84e3-8327bef3098c",
   "metadata": {},
   "source": [
    "and set its timestep"
   ]
  },
  {
   "cell_type": "code",
   "execution_count": 11,
   "id": "52da6485-79eb-4b4f-b2c5-45592e4e304b",
   "metadata": {},
   "outputs": [],
   "source": [
    "integrators.set_dt(dt)"
   ]
  },
  {
   "cell_type": "markdown",
   "id": "86ed4cb6-ecea-4d10-960a-446fc3b1b29f",
   "metadata": {},
   "source": [
    "### Exectute simulation\n",
    "\n",
    "We also produce output as vtp and json files for detailed visualisation and analysis."
   ]
  },
  {
   "cell_type": "code",
   "execution_count": 19,
   "id": "500efb46",
   "metadata": {},
   "outputs": [
    {
     "name": "stdout",
     "output_type": "stream",
     "text": [
      "[========================================] 100%  --> Completed 10 simulation steps \n",
      "[========================================] 100%  --> Completed 20 simulation steps \n",
      "[========================================] 100%  --> Completed 30 simulation steps \n",
      "[========================================] 100%  --> Completed 40 simulation steps ] 80%\n",
      "[========================================] 100%  --> Completed 50 simulation steps \n",
      "[========================================] 100%  --> Completed 60 simulation steps \n",
      "[========================================] 100%  --> Completed 70 simulation steps \n",
      "[========================================] 100%  --> Completed 80 simulation steps \n",
      "[========================================] 100%  --> Completed 90 simulation steps \n",
      "[========================================] 100%  --> Completed 100 simulation steps \n",
      "[========================================] 100%  --> Completed 110 simulation steps \n",
      "[====================================>   ] 90%==================] 100%  --> Completed 120 simulation steps \n",
      "[========================================] 100%  --> Completed 130 simulation steps \n",
      "[========================================] 100%  --> Completed 140 simulation steps \n",
      "[========================================] 100%  --> Completed 150 simulation steps \n",
      "[========================================] 100%  --> Completed 160 simulation steps \n",
      "[========================================] 100%  --> Completed 170 simulation steps \n",
      "[========================================] 100%  --> Completed 180 simulation steps \n",
      "[========================================] 100%  --> Completed 190 simulation steps \n",
      "[========================================] 100%  --> Completed 200 simulation steps \n",
      "[========================================] 100%  --> Completed 210 simulation steps \n",
      "[========================================] 100%  --> Completed 220 simulation steps \n",
      "[========================================] 100%  --> Completed 230 simulation steps \n",
      "[========================================] 100%  --> Completed 240 simulation steps \n",
      "[========================================] 100%  --> Completed 250 simulation steps \n",
      "[========================================] 100%  --> Completed 260 simulation steps \n",
      "[========================================] 100%  --> Completed 270 simulation steps \n",
      "[========================================] 100%  --> Completed 280 simulation steps \n",
      "[========================================] 100%  --> Completed 290 simulation steps \n",
      "[========================================] 100%  --> Completed 300 simulation steps \n",
      "[========================================] 100%  --> Completed 310 simulation steps \n",
      "[========================================] 100%  --> Completed 320 simulation steps \n",
      "[========================================] 100%  --> Completed 330 simulation steps \n",
      "[========================================] 100%  --> Completed 340 simulation steps \n",
      "[========================================] 100%  --> Completed 350 simulation steps \n",
      "[========================================] 100%  --> Completed 360 simulation steps \n",
      "[========================================] 100%  --> Completed 370 simulation steps \n",
      "[========================================] 100%  --> Completed 380 simulation steps \n",
      "[========================================] 100%  --> Completed 390 simulation steps \n",
      "[========================================] 100%  --> Completed 400 simulation steps \n",
      "[========================================] 100%  --> Completed 410 simulation steps \n",
      "[====================================>   ] 90%=====================] 100%  --> Completed 420 simulation steps \n",
      "[========================================] 100%  --> Completed 430 simulation steps \n",
      "[========================================] 100%  --> Completed 440 simulation steps \n",
      "[========================================] 100%  --> Completed 450 simulation steps \n",
      "[========================================] 100%  --> Completed 460 simulation steps \n",
      "[========================================] 100%  --> Completed 470 simulation steps \n",
      "[========================================] 100%  --> Completed 480 simulation steps \n",
      "[========================================] 100%  --> Completed 490 simulation steps \n",
      "[========================================] 100%  --> Completed 500 simulation steps \n",
      "[========================================] 100%  --> Completed 510 simulation steps \n",
      "[========================================] 100%  --> Completed 520 simulation steps \n",
      "[========================================] 100%  --> Completed 530 simulation steps \n",
      "[========================================] 100%  --> Completed 540 simulation steps \n",
      "[========================================] 100%  --> Completed 550 simulation steps \n",
      "[========================================] 100%  --> Completed 560 simulation steps \n",
      "[========================================] 100%  --> Completed 570 simulation steps \n",
      "[========================================] 100%  --> Completed 580 simulation steps \n",
      "[========================================] 100%  --> Completed 590 simulation steps \n",
      "[========================================] 100%  --> Completed 600 simulation steps \n",
      "[========================================] 100%  --> Completed 610 simulation steps \n",
      "[========================================] 100%  --> Completed 620 simulation steps \n",
      "[========================================] 100%  --> Completed 630 simulation steps \n",
      "[========================================] 100%  --> Completed 640 simulation steps \n",
      "[========================================] 100%  --> Completed 650 simulation steps \n",
      "[========================================] 100%  --> Completed 660 simulation steps \n",
      "[========================================] 100%  --> Completed 670 simulation steps \n",
      "[========================================] 100%  --> Completed 680 simulation steps \n",
      "[========================================] 100%  --> Completed 690 simulation steps \n",
      "[========================================] 100%  --> Completed 700 simulation steps \n",
      "[========================================] 100%  --> Completed 710 simulation steps \n",
      "[========================================] 100%  --> Completed 720 simulation steps \n",
      "[========================================] 100%  --> Completed 730 simulation steps \n",
      "[========================================] 100%  --> Completed 740 simulation steps \n",
      "[========================================] 100%  --> Completed 750 simulation steps \n",
      "[========================================] 100%  --> Completed 760 simulation steps \n",
      "[========================================] 100%  --> Completed 770 simulation steps \n",
      "[========================================] 100%  --> Completed 780 simulation steps \n",
      "[========================================] 100%  --> Completed 790 simulation steps \n",
      "[========================================] 100%  --> Completed 800 simulation steps \n",
      "[========================================] 100%  --> Completed 810 simulation steps \n",
      "[========================================] 100%  --> Completed 820 simulation steps \n",
      "[========================================] 100%  --> Completed 830 simulation steps \n",
      "[========================================] 100%  --> Completed 840 simulation steps \n",
      "[========================================] 100%  --> Completed 850 simulation steps \n",
      "[========================================] 100%  --> Completed 860 simulation steps \n",
      "[========================================] 100%  --> Completed 870 simulation steps \n",
      "[========================================] 100%  --> Completed 880 simulation steps \n",
      "[========================================] 100%  --> Completed 890 simulation steps \n",
      "[========================================] 100%  --> Completed 900 simulation steps \n",
      "[========================================] 100%  --> Completed 910 simulation steps \n",
      "[========================================] 100%  --> Completed 920 simulation steps \n",
      "[========================================] 100%  --> Completed 930 simulation steps \n",
      "[========================================] 100%  --> Completed 940 simulation steps \n",
      "[========================================] 100%  --> Completed 950 simulation steps \n",
      "[========================================] 100%  --> Completed 960 simulation steps \n",
      "[========================================] 100%  --> Completed 970 simulation steps \n",
      "[========================================] 100%  --> Completed 980 simulation steps \n",
      "[========================================] 100%  --> Completed 990 simulation steps \n",
      "[========================================] 100%  --> Completed 1000 simulation steps \n"
     ]
    }
   ],
   "source": [
    "for i in range(nrun):\n",
    "    if i % dumpfreq == 0:\n",
    "        dumps.dump_cells(f'cells_{i:08d}.vtp', draw_periodic=True)\n",
    "        dumps.dump_mesh(f'mesh_{i:08d}.json')\n",
    "    simulation.run(timeunit)"
   ]
  },
  {
   "cell_type": "markdown",
   "id": "b15e5274-54d4-4ff0-ae98-4b8af389626b",
   "metadata": {},
   "source": [
    "### Visualisation post relaxation\n",
    "\n",
    "We can now take a look into the relaxed configuration"
   ]
  },
  {
   "cell_type": "code",
   "execution_count": 20,
   "id": "3817846a-e854-45e2-9d5d-cf57a04bdc1e",
   "metadata": {},
   "outputs": [
    {
     "data": {
      "application/vnd.jupyter.widget-view+json": {
       "model_id": "7dc520e3fd704460b6f470cf60b07e6e",
       "version_major": 2,
       "version_minor": 0
      },
      "text/plain": [
       "Widget(value=\"<iframe src='http://localhost:40297/index.html?ui=P_0x7fc5ca1ded90_2&reconnect=auto' style='widt…"
      ]
     },
     "metadata": {},
     "output_type": "display_data"
    }
   ],
   "source": [
    "make_plotter(tissue).show()"
   ]
  },
  {
   "cell_type": "markdown",
   "id": "8c8e5707-0294-4a7e-a99c-5eff9a2174e0",
   "metadata": {},
   "source": [
    "## Basic analysis\n",
    "\n",
    "Let's first check the energy."
   ]
  },
  {
   "cell_type": "code",
   "execution_count": 21,
   "id": "e0f41599-d70e-4658-ac28-4ae15e475f8c",
   "metadata": {},
   "outputs": [
    {
     "name": "stdout",
     "output_type": "stream",
     "text": [
      "Energy per vertex 0.025945367409384943\n"
     ]
    }
   ],
   "source": [
    "print(f'Energy per vertex {forces.energy()/len(tissue.vertices())}')"
   ]
  },
  {
   "cell_type": "markdown",
   "id": "95c122c1-e0dc-44d5-b60c-5f1578bffea8",
   "metadata": {},
   "source": [
    "Then we save the final configuration to 'final.json'"
   ]
  },
  {
   "cell_type": "code",
   "execution_count": 22,
   "id": "697f0a91-1800-4325-9c62-332e9c5c45ef",
   "metadata": {},
   "outputs": [],
   "source": [
    "dumps.dump_mesh('final.json')"
   ]
  },
  {
   "cell_type": "markdown",
   "id": "4a5f9a2f-8f49-4388-9940-23d7133e196b",
   "metadata": {},
   "source": [
    "We now import VMAnalysis module and plot the histogram of cell areas."
   ]
  },
  {
   "cell_type": "code",
   "execution_count": 23,
   "id": "b9935033-8f67-4522-b9f2-3e366c3082c3",
   "metadata": {},
   "outputs": [],
   "source": [
    "from VMToolkit.VMAnalysis import *\n",
    "import numpy as np\n",
    "import matplotlib.pyplot as plt"
   ]
  },
  {
   "cell_type": "markdown",
   "id": "35271a3a-0b78-40dc-8b4e-d5b63d1e1be0",
   "metadata": {},
   "source": [
    "We read in the final configuration from the JSON file."
   ]
  },
  {
   "cell_type": "code",
   "execution_count": 24,
   "id": "67ce5efe-09a9-486b-a3d7-022345f565e4",
   "metadata": {},
   "outputs": [],
   "source": [
    "m = utils.HalfEdge.Mesh()\n",
    "m.read_json('final.json')"
   ]
  },
  {
   "cell_type": "markdown",
   "id": "b3f796f9-8d96-4fc5-affe-0b32a3f92e92",
   "metadata": {},
   "source": [
    "Compute and collect all cell areas."
   ]
  },
  {
   "cell_type": "code",
   "execution_count": 25,
   "id": "0628b591-ec73-49a5-9c14-9b595809e3c5",
   "metadata": {},
   "outputs": [],
   "source": [
    "areas = []\n",
    "for f in m.faces:\n",
    "    areas.append(f.area())\n",
    "areas = np.array(areas)"
   ]
  },
  {
   "cell_type": "markdown",
   "id": "36a26742-bf19-4c9d-b0be-3dedd6dd4bca",
   "metadata": {},
   "source": [
    "Plot a histogram"
   ]
  },
  {
   "cell_type": "code",
   "execution_count": 26,
   "id": "37a0e7d9-dd49-46da-9e31-6a10dc02fb27",
   "metadata": {},
   "outputs": [
    {
     "data": {
      "text/plain": [
       "(array([  0.,   1.,   1.,  23., 182., 659., 132.,   2.,   0.]),\n",
       " array([3.        , 3.11111111, 3.22222222, 3.33333333, 3.44444444,\n",
       "        3.55555556, 3.66666667, 3.77777778, 3.88888889, 4.        ]),\n",
       " <a list of 9 Patch objects>)"
      ]
     },
     "execution_count": 26,
     "metadata": {},
     "output_type": "execute_result"
    },
    {
     "data": {
      "image/png": "[encoded data removed]",
      "text/plain": [
       "<Figure size 432x288 with 1 Axes>"
      ]
     },
     "metadata": {
      "needs_background": "light"
     },
     "output_type": "display_data"
    }
   ],
   "source": [
    "plt.hist(areas, bins=np.linspace(3,4,10),width=0.1,edgecolor='k', facecolor='red')"
   ]
  },
  {
   "cell_type": "code",
   "execution_count": null,
   "id": "33034368",
   "metadata": {},
   "outputs": [],
   "source": []
  }
 ],
 "metadata": {
  "kernelspec": {
   "display_name": "Python 3 (ipykernel)",
   "language": "python",
   "name": "python3"
  },
  "language_info": {
   "codemirror_mode": {
    "name": "ipython",
    "version": 3
   },
   "file_extension": ".py",
   "mimetype": "text/x-python",
   "name": "python",
   "nbconvert_exporter": "python",
   "pygments_lexer": "ipython3",
   "version": "3.8.10"
  }
 },
 "nbformat": 4,
 "nbformat_minor": 5
}
