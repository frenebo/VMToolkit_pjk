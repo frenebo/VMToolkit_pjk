{
 "cells": [
  {
   "cell_type": "markdown",
   "id": "9e935c16-9a39-4bc4-83b6-ded62bddc5e9",
   "metadata": {},
   "source": [
    "# VMTutorial Example\n",
    "\n",
    "## Tissue stretch \n",
    "\n",
    "In this example, we load a configuration of $N=157$ identical hexagonal cells ($A_0 = \\frac{3\\sqrt{3}}{2}$) placed in an open simulation box. Vertices on the two vertical sides are labelled as ''left'' or ''right''. \n",
    "\n",
    "We will use the standard vertex model with energy given as $$E = \\frac{1}{2}\\sum_c\\left[\\kappa(A_c - A_0)^2 + \\Gamma P_c^2 - \\Lambda P_c\\right],$$where $\\kappa$ is the area modulus, $\\Gamma$ is the perimeter modulus, and $\\Lambda = 2\\Gamma P_0$.\n",
    "\n",
    "The equation of motion for vertex $i$ is $$\\gamma\\dot{\\mathbf{r}}_i = -\\nabla_{\\mathbf{r}_i}E + \\mathbf{f}_i^\\text{pull},$$where $\\gamma$ is the friction coefficient between the vertex and the substrate, and $\\mathbf{f}_i^\\text{pull}$ is the pulling force applied in the horizontal direction only to left and right vertices, with $\\mathbf{f}_i^\\text{pull,l}=-f^\\text{pull}\\mathbf{e}_x$ and $\\mathbf{f}_i^\\text{pull,r}=f^\\text{pull}\\mathbf{e}_x$."
   ]
  },
  {
   "cell_type": "markdown",
   "id": "a6748898-5be3-4183-b236-47a22ad4d26b",
   "metadata": {},
   "source": [
    "### Loading the VM simulation module"
   ]
  },
  {
   "cell_type": "code",
   "execution_count": 1,
   "id": "dfc77357-92ed-483d-8392-0ac68f4a711b",
   "metadata": {
    "tags": []
   },
   "outputs": [],
   "source": [
    "from VMToolkit.VM import *"
   ]
  },
  {
   "cell_type": "markdown",
   "id": "a97857a8-3d5b-4237-90e0-a8117c7e373b",
   "metadata": {},
   "source": [
    "### Parameters\n",
    "\n",
    "Model parameters"
   ]
  },
  {
   "cell_type": "code",
   "execution_count": 2,
   "id": "897945da-1444-4044-bcf2-ac556af0402c",
   "metadata": {
    "tags": []
   },
   "outputs": [],
   "source": [
    "kappa = 1.0\n",
    "Gamma = 0.5\n",
    "Lambda = 3.0\n",
    "gamma = 1.0"
   ]
  },
  {
   "cell_type": "markdown",
   "id": "c9c1ad1e-b56a-44fa-98b9-5c69befa4624",
   "metadata": {},
   "source": [
    "Simulation parameters"
   ]
  },
  {
   "cell_type": "code",
   "execution_count": 3,
   "id": "55b73443-0d93-4fff-8433-a8be8cd350c0",
   "metadata": {
    "tags": []
   },
   "outputs": [],
   "source": [
    "input_file = 'honeycomb.json'\n",
    "dt = 0.1\n",
    "rng_seed = 11122023\n",
    "dumpfreq = 100\n",
    "nrun = 601\n",
    "timeunit = int(round(1/dt))\n",
    "fpull = 0.01"
   ]
  },
  {
   "cell_type": "markdown",
   "id": "b71c7fe5-5664-4433-984d-c89bdc7f1cf3",
   "metadata": {},
   "source": [
    "### Simulation initialisation\n",
    "\n",
    "We now set the simulation object that will constrol the execution."
   ]
  },
  {
   "cell_type": "code",
   "execution_count": 4,
   "id": "af7b0c38-7431-4263-95bf-6e4f8f3fa561",
   "metadata": {
    "tags": []
   },
   "outputs": [],
   "source": [
    "tissue  = Tissue()                                               # initialise mesh\n",
    "sim_sys = System(tissue)                                         # base object for the system\n",
    "forces = Force(sim_sys)                                          # handles all types of forces\n",
    "integrators = Integrate(sim_sys, forces, rng_seed)               # handles all integrators\n",
    "topology = Topology(sim_sys, forces)                             # handles all topology changes (T1, division, ingression)\n",
    "dumps = Dump(sim_sys, forces)                                    # handles all data output \n",
    "simulation = Simulation(sim_sys, integrators, forces, topology)  # simulation object\n",
    "simulation.print_freq=0"
   ]
  },
  {
   "cell_type": "markdown",
   "id": "b3ebf388-2f97-49bb-affc-43ec3c8796af",
   "metadata": {},
   "source": [
    "We proceed to read in the data."
   ]
  },
  {
   "cell_type": "code",
   "execution_count": 5,
   "id": "e30cda4b-f964-49ed-b039-ea1d428c9a0e",
   "metadata": {
    "tags": []
   },
   "outputs": [
    {
     "name": "stdout",
     "output_type": "stream",
     "text": [
      "Finished reading vertices.\n",
      "Finished reading faces.\n",
      "Finished mesh setup.\n",
      "Mesh has 364 vertices 520 edges and 158 faces.\n",
      "Finished reading input configuration.\n"
     ]
    }
   ],
   "source": [
    "sim_sys.read_input(input_file)"
   ]
  },
  {
   "cell_type": "markdown",
   "id": "62686e60-626c-43a8-8ab9-9e720dedf471",
   "metadata": {},
   "source": [
    "We now plot it to see how it looks like."
   ]
  },
  {
   "cell_type": "code",
   "execution_count": 6,
   "id": "762f5ab4-e7a2-466c-ac24-41a4cfaa38e2",
   "metadata": {
    "tags": []
   },
   "outputs": [
    {
     "name": "stderr",
     "output_type": "stream",
     "text": [
      "/home/pk5192/.conda/envs/vmtutorial/lib/python3.9/site-packages/numpy/_core/getlimits.py:552: UserWarning: The value of the smallest subnormal for <class 'numpy.float32'> type is zero.\n",
      "  setattr(self, word, getattr(machar, word).flat[0])\n",
      "/home/pk5192/.conda/envs/vmtutorial/lib/python3.9/site-packages/numpy/_core/getlimits.py:89: UserWarning: The value of the smallest subnormal for <class 'numpy.float32'> type is zero.\n",
      "  return self._float_to_str(self.smallest_subnormal)\n",
      "/home/pk5192/.conda/envs/vmtutorial/lib/python3.9/site-packages/numpy/_core/getlimits.py:552: UserWarning: The value of the smallest subnormal for <class 'numpy.float64'> type is zero.\n",
      "  setattr(self, word, getattr(machar, word).flat[0])\n",
      "/home/pk5192/.conda/envs/vmtutorial/lib/python3.9/site-packages/numpy/_core/getlimits.py:89: UserWarning: The value of the smallest subnormal for <class 'numpy.float64'> type is zero.\n",
      "  return self._float_to_str(self.smallest_subnormal)\n"
     ]
    },
    {
     "data": {
      "application/vnd.jupyter.widget-view+json": {
       "model_id": "0b94d36695b34639827394c4f3d84653",
       "version_major": 2,
       "version_minor": 0
      },
      "text/plain": [
       "Widget(value='<iframe src=\"http://localhost:39615/index.html?ui=P_0x1555258f53d0_0&reconnect=auto\" class=\"pyvi…"
      ]
     },
     "metadata": {},
     "output_type": "display_data"
    }
   ],
   "source": [
    "from tissue_plot import make_plotter\n",
    "make_plotter(tissue).show()"
   ]
  },
  {
   "cell_type": "markdown",
   "id": "847d2e37-b345-4cc9-b996-c9a1e043c43f",
   "metadata": {},
   "source": [
    "### Add model (force) and assign parameter values"
   ]
  },
  {
   "cell_type": "code",
   "execution_count": 6,
   "id": "57cae903-38d8-4086-b244-e9cfacf13c1d",
   "metadata": {
    "tags": []
   },
   "outputs": [],
   "source": [
    "forces.add('area')         # add area force form term E = 0.5*kappa*(A-A0)^2\n",
    "forces.add('perimeter')    # add perimeter force term from E = 0.5*gamma*P^2 - lambda*P "
   ]
  },
  {
   "cell_type": "markdown",
   "id": "28adcbae-233b-467c-97d0-6107fdde7b0f",
   "metadata": {},
   "source": [
    "Assign parameters to cell type 'passive'"
   ]
  },
  {
   "cell_type": "code",
   "execution_count": 7,
   "id": "6ad86134-cc58-415f-af0d-d0f94c43bc8c",
   "metadata": {
    "tags": []
   },
   "outputs": [],
   "source": [
    "forces.set_params('area', 'passive', {'kappa' : kappa})\n",
    "forces.set_params('perimeter', 'passive',  {'gamma': Gamma, 'lambda': Lambda})"
   ]
  },
  {
   "cell_type": "markdown",
   "id": "da148219-121d-42ff-b6fe-3f81190d6e67",
   "metadata": {},
   "source": [
    "### Set topology change (i.e. T1 transition) conditions"
   ]
  },
  {
   "cell_type": "code",
   "execution_count": 8,
   "id": "fa2922c1-4abb-42ac-8ad9-4bb877ac6547",
   "metadata": {
    "tags": []
   },
   "outputs": [],
   "source": [
    "topology.set_params({'min_edge_len': 0.05, 'new_edge_len': 0.055}) "
   ]
  },
  {
   "cell_type": "markdown",
   "id": "5014c418-2439-4662-ab8c-88b32cfd58b7",
   "metadata": {},
   "source": [
    "### Add integrator for the equations of motion (Brownian dynamics)"
   ]
  },
  {
   "cell_type": "code",
   "execution_count": 9,
   "id": "8045599a-2632-4ac5-848c-d42f8f4e64df",
   "metadata": {
    "tags": []
   },
   "outputs": [],
   "source": [
    "integrators.add('brownian') "
   ]
  },
  {
   "cell_type": "markdown",
   "id": "61b3a035",
   "metadata": {},
   "source": [
    "Add pulling force:"
   ]
  },
  {
   "cell_type": "code",
   "execution_count": 10,
   "id": "3c9e9b1a",
   "metadata": {
    "tags": []
   },
   "outputs": [],
   "source": [
    "integrators.set_external_force('brownian', 'right', Vec(fpull,0.0))  # pulling on the right-most column of vertices\n",
    "integrators.set_external_force('brownian', 'left', Vec(-fpull,0.0))  # pulling on the left-most column of vertices"
   ]
  },
  {
   "cell_type": "markdown",
   "id": "5f9d1395-da70-464c-84e3-8327bef3098c",
   "metadata": {},
   "source": [
    "Set the timestep"
   ]
  },
  {
   "cell_type": "code",
   "execution_count": 11,
   "id": "52da6485-79eb-4b4f-b2c5-45592e4e304b",
   "metadata": {
    "tags": []
   },
   "outputs": [],
   "source": [
    "integrators.set_dt(dt)"
   ]
  },
  {
   "cell_type": "code",
   "execution_count": null,
   "id": "728f17c8-3551-45b0-86a5-32e4f04b19fc",
   "metadata": {},
   "outputs": [],
   "source": []
  },
  {
   "cell_type": "markdown",
   "id": "86ed4cb6-ecea-4d10-960a-446fc3b1b29f",
   "metadata": {},
   "source": [
    "### Exectute simulation\n",
    "\n",
    "We also produce output as vtp and json files for detailed visualisation and analysis."
   ]
  },
  {
   "cell_type": "code",
   "execution_count": 12,
   "id": "2a7cd4b6",
   "metadata": {
    "tags": []
   },
   "outputs": [
    {
     "name": "stderr",
     "output_type": "stream",
     "text": [
      "100%|████████████████████████████████████████| 601/601 [00:03<00:00, 160.77it/s]\n"
     ]
    }
   ],
   "source": [
    "import os\n",
    "import tqdm\n",
    "meshes_outdir = \"mesh_results\"\n",
    "os.makedirs(meshes_outdir, exist_ok=True)\n",
    "\n",
    "dumps.dump_mesh(os.path.join(meshes_outdir, \"beforestretch.json\"))\n",
    "for i in tqdm.tqdm(range(nrun)):\n",
    "    #if i % dumpfreq == 0:\n",
    "    #    dumps.dump_junctions(f'junctions_fpull_{fpull:.4f}_step_{i:08d}.vtp')\n",
    "    #    dumps.dump_cells(f'cells_fpull_{fpull:.4f}_step_{i:08d}.vtp')\n",
    "    simulation.run(timeunit)\n",
    "\n",
    "final_cells_dump_vtkfp = os.path.join(meshes_outdir, 'cells_final.vtp')\n",
    "dumps.dump_cells(final_cells_dump_vtkfp)"
   ]
  },
  {
   "cell_type": "markdown",
   "id": "b15e5274-54d4-4ff0-ae98-4b8af389626b",
   "metadata": {},
   "source": [
    "### Visualisation post relaxation\n",
    "\n",
    "We can now take a look into the relaxed configuration"
   ]
  },
  {
   "cell_type": "code",
   "execution_count": null,
   "id": "3817846a-e854-45e2-9d5d-cf57a04bdc1e",
   "metadata": {},
   "outputs": [],
   "source": [
    "make_plotter(tissue).show()"
   ]
  },
  {
   "cell_type": "markdown",
   "id": "8c8e5707-0294-4a7e-a99c-5eff9a2174e0",
   "metadata": {},
   "source": [
    "## Basic analysis\n",
    "\n",
    "Let's first check the energy."
   ]
  },
  {
   "cell_type": "code",
   "execution_count": 13,
   "id": "e0f41599-d70e-4658-ac28-4ae15e475f8c",
   "metadata": {},
   "outputs": [
    {
     "name": "stdout",
     "output_type": "stream",
     "text": [
      "Energy per vertex 0.00010617325094565584\n"
     ]
    }
   ],
   "source": [
    "print(f'Energy per vertex {forces.energy()/len(tissue.vertices())}')"
   ]
  },
  {
   "cell_type": "markdown",
   "id": "95c122c1-e0dc-44d5-b60c-5f1578bffea8",
   "metadata": {},
   "source": [
    "Then we save the final configuration to 'final.json'"
   ]
  },
  {
   "cell_type": "code",
   "execution_count": 14,
   "id": "697f0a91-1800-4325-9c62-332e9c5c45ef",
   "metadata": {},
   "outputs": [],
   "source": [
    "result_fin_jsonfp = os.path.join(meshes_outdir, \"final.json\")\n",
    "dumps.dump_mesh(result_fin_jsonfp)"
   ]
  },
  {
   "cell_type": "markdown",
   "id": "4a5f9a2f-8f49-4388-9940-23d7133e196b",
   "metadata": {},
   "source": [
    "We now import VMAnalysis module and plot the histogram of cell areas."
   ]
  },
  {
   "cell_type": "code",
   "execution_count": 15,
   "id": "b9935033-8f67-4522-b9f2-3e366c3082c3",
   "metadata": {},
   "outputs": [
    {
     "name": "stderr",
     "output_type": "stream",
     "text": [
      "/home/pk5192/.conda/envs/vmtutorial/lib/python3.9/site-packages/numpy/_core/getlimits.py:552: UserWarning: The value of the smallest subnormal for <class 'numpy.float32'> type is zero.\n",
      "  setattr(self, word, getattr(machar, word).flat[0])\n",
      "/home/pk5192/.conda/envs/vmtutorial/lib/python3.9/site-packages/numpy/_core/getlimits.py:89: UserWarning: The value of the smallest subnormal for <class 'numpy.float32'> type is zero.\n",
      "  return self._float_to_str(self.smallest_subnormal)\n",
      "/home/pk5192/.conda/envs/vmtutorial/lib/python3.9/site-packages/numpy/_core/getlimits.py:552: UserWarning: The value of the smallest subnormal for <class 'numpy.float64'> type is zero.\n",
      "  setattr(self, word, getattr(machar, word).flat[0])\n",
      "/home/pk5192/.conda/envs/vmtutorial/lib/python3.9/site-packages/numpy/_core/getlimits.py:89: UserWarning: The value of the smallest subnormal for <class 'numpy.float64'> type is zero.\n",
      "  return self._float_to_str(self.smallest_subnormal)\n"
     ]
    }
   ],
   "source": [
    "from VMToolkit.VMAnalysis import *\n",
    "import numpy as np\n",
    "import matplotlib.pyplot as plt"
   ]
  },
  {
   "cell_type": "markdown",
   "id": "35271a3a-0b78-40dc-8b4e-d5b63d1e1be0",
   "metadata": {},
   "source": [
    "We read in the final configuration from the JSON file."
   ]
  },
  {
   "cell_type": "code",
   "execution_count": 16,
   "id": "67ce5efe-09a9-486b-a3d7-022345f565e4",
   "metadata": {},
   "outputs": [],
   "source": [
    "m = utils.HalfEdge.Mesh()\n",
    "m.read_json(result_fin_jsonfp )"
   ]
  },
  {
   "cell_type": "markdown",
   "id": "b3f796f9-8d96-4fc5-affe-0b32a3f92e92",
   "metadata": {},
   "source": [
    "Compute and collect all cell areas."
   ]
  },
  {
   "cell_type": "code",
   "execution_count": 17,
   "id": "0628b591-ec73-49a5-9c14-9b595809e3c5",
   "metadata": {},
   "outputs": [],
   "source": [
    "areas = []\n",
    "for f in m.faces:\n",
    "    areas.append(f.area())\n",
    "areas = np.array(areas)"
   ]
  },
  {
   "cell_type": "markdown",
   "id": "36a26742-bf19-4c9d-b0be-3dedd6dd4bca",
   "metadata": {},
   "source": [
    "Plot a histogram"
   ]
  },
  {
   "cell_type": "code",
   "execution_count": 18,
   "id": "37a0e7d9-dd49-46da-9e31-6a10dc02fb27",
   "metadata": {},
   "outputs": [
    {
     "data": {
      "text/plain": [
       "(array([  0.,   0.,   0.,   0.,   0., 157.,   0.,   0.,   0.]),\n",
       " array([2.        , 2.11111111, 2.22222222, 2.33333333, 2.44444444,\n",
       "        2.55555556, 2.66666667, 2.77777778, 2.88888889, 3.        ]),\n",
       " <BarContainer object of 9 artists>)"
      ]
     },
     "execution_count": 18,
     "metadata": {},
     "output_type": "execute_result"
    },
    {
     "data": {
      "image/png": "[encoded data removed]",
      "text/plain": [
       "<Figure size 640x480 with 1 Axes>"
      ]
     },
     "metadata": {},
     "output_type": "display_data"
    }
   ],
   "source": [
    "plt.hist(areas, bins=np.linspace(2,3,10),width=0.1,edgecolor='k', facecolor='red')"
   ]
  },
  {
   "cell_type": "markdown",
   "id": "3b5d1adb",
   "metadata": {},
   "source": [
    "Calculate texture tensor"
   ]
  },
  {
   "cell_type": "code",
   "execution_count": 19,
   "id": "9ff6a6a7",
   "metadata": {},
   "outputs": [],
   "source": [
    "M = MTensor(result_fin_jsonfp )"
   ]
  },
  {
   "cell_type": "markdown",
   "id": "b9592682",
   "metadata": {},
   "source": [
    "Save $\\hat{M}$ into a VTK file and visualise it as ellipses."
   ]
  },
  {
   "cell_type": "code",
   "execution_count": 20,
   "id": "1ebf16d2",
   "metadata": {},
   "outputs": [],
   "source": [
    "m_ellipses_vtk_fp = os.path.join(meshes_outdir, \"M_ellipses.vtp\")\n",
    "M.plot_vtk_ellipse(m_ellipses_vtk_fp, scale = 0.25)"
   ]
  },
  {
   "cell_type": "markdown",
   "id": "46f48015",
   "metadata": {},
   "source": [
    "Plot the configuration and the M tensor."
   ]
  },
  {
   "cell_type": "code",
   "execution_count": 21,
   "id": "be1de573",
   "metadata": {},
   "outputs": [
    {
     "name": "stderr",
     "output_type": "stream",
     "text": [
      "/tmp/ipykernel_4006620/1200622448.py:3: MatplotlibDeprecationWarning: The get_cmap function was deprecated in Matplotlib 3.7 and will be removed in 3.11. Use ``matplotlib.colormaps[name]`` or ``matplotlib.colormaps.get_cmap()`` or ``pyplot.get_cmap()`` instead.\n",
      "  cmap = plt.cm.get_cmap(\"winter\", 20)\n"
     ]
    },
    {
     "data": {
      "application/vnd.jupyter.widget-view+json": {
       "model_id": "1f9ec72399624503aa661a279759e6d0",
       "version_major": 2,
       "version_minor": 0
      },
      "text/plain": [
       "Widget(value='<iframe src=\"http://localhost:42429/index.html?ui=P_0x146d14d01040_0&reconnect=auto\" class=\"pyvi…"
      ]
     },
     "metadata": {},
     "output_type": "display_data"
    }
   ],
   "source": [
    "import matplotlib.pyplot as plt\n",
    "import pyvista as pv\n",
    "cmap = plt.cm.get_cmap(\"winter\", 20)\n",
    "p = pv.Plotter()\n",
    "p.add_mesh(pv.read(final_cells_dump_vtkfp), \n",
    "        scalars='Area',\n",
    "        show_edges=True,\n",
    "        line_width = 1,\n",
    "        cmap=cmap,\n",
    "        )\n",
    "p.add_mesh(pv.read(m_ellipses_vtk_fp))\n",
    "p.camera_position = 'xy'\n",
    "p.show()"
   ]
  },
  {
   "cell_type": "code",
   "execution_count": null,
   "id": "24530f07",
   "metadata": {},
   "outputs": [],
   "source": [
    "\n",
    "\n",
    "\n",
    "\n",
    "\n",
    "\n",
    "\n"
   ]
  }
 ],
 "metadata": {
  "kernelspec": {
   "display_name": "Python 3 (ipykernel)",
   "language": "python",
   "name": "python3"
  },
  "language_info": {
   "codemirror_mode": {
    "name": "ipython",
    "version": 3
   },
   "file_extension": ".py",
   "mimetype": "text/x-python",
   "name": "python",
   "nbconvert_exporter": "python",
   "pygments_lexer": "ipython3",
   "version": "3.9.20"
  }
 },
 "nbformat": 4,
 "nbformat_minor": 5
}
