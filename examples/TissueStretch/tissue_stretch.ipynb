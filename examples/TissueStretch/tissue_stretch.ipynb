{
 "cells": [
  {
   "cell_type": "markdown",
   "id": "9e935c16-9a39-4bc4-83b6-ded62bddc5e9",
   "metadata": {},
   "source": [
    "# VMTutorial Example\n",
    "\n",
    "## Tissue stretch \n",
    "\n",
    "In this example, we load a configuration of $N=157$ identical hexagonal cells ($A_0 = \\frac{3\\sqrt{3}}{2}$) placed in an open simulation box. Vertices on the two vertical sides are labelled as ''left'' or ''right''. \n",
    "\n",
    "We will use the standard vertex model with energy given as $$E = \\frac{1}{2}\\sum_c\\left[\\kappa(A_c - A_0)^2 + \\Gamma P_c^2 - \\Lambda P_c\\right],$$where $\\kappa$ is the area modulus, $\\Gamma$ is the perimeter modulus, and $\\Lambda = 2\\Gamma P_0$.\n",
    "\n",
    "The equation of motion for vertex $i$ is $$\\gamma\\dot{\\mathbf{r}}_i = -\\nabla_{\\mathbf{r}_i}E + \\mathbf{f}_i^\\text{pull},$$where $\\gamma$ is the friction coefficient between the vertex and the substrate, and $\\mathbf{f}_i^\\text{pull}$ is the pulling force applied in the horizontal direction only to left and right vertices, with $\\mathbf{f}_i^\\text{pull,l}=-f^\\text{pull}\\mathbf{e}_x$ and $\\mathbf{f}_i^\\text{pull,r}=f^\\text{pull}\\mathbf{e}_x$."
   ]
  },
  {
   "cell_type": "markdown",
   "id": "a6748898-5be3-4183-b236-47a22ad4d26b",
   "metadata": {},
   "source": [
    "### Loading the VM simulation module"
   ]
  },
  {
   "cell_type": "code",
   "execution_count": 1,
   "id": "dfc77357-92ed-483d-8392-0ac68f4a711b",
   "metadata": {},
   "outputs": [],
   "source": [
    "from VMToolkit.VM import *"
   ]
  },
  {
   "cell_type": "markdown",
   "id": "a97857a8-3d5b-4237-90e0-a8117c7e373b",
   "metadata": {},
   "source": [
    "### Parameters\n",
    "\n",
    "Model parameters"
   ]
  },
  {
   "cell_type": "code",
   "execution_count": 2,
   "id": "897945da-1444-4044-bcf2-ac556af0402c",
   "metadata": {},
   "outputs": [],
   "source": [
    "kappa = 1.0\n",
    "Gamma = 0.5\n",
    "Lambda = 3.0\n",
    "gamma = 1.0"
   ]
  },
  {
   "cell_type": "markdown",
   "id": "c9c1ad1e-b56a-44fa-98b9-5c69befa4624",
   "metadata": {},
   "source": [
    "Simulation parameters"
   ]
  },
  {
   "cell_type": "code",
   "execution_count": 3,
   "id": "55b73443-0d93-4fff-8433-a8be8cd350c0",
   "metadata": {},
   "outputs": [],
   "source": [
    "input_file = 'honeycomb.json'\n",
    "dt = 0.1\n",
    "rng_seed = 11122023\n",
    "dumpfreq = 100\n",
    "nrun = 601\n",
    "timeunit = int(round(1/dt))\n",
    "fpull = 0.05"
   ]
  },
  {
   "cell_type": "markdown",
   "id": "b71c7fe5-5664-4433-984d-c89bdc7f1cf3",
   "metadata": {},
   "source": [
    "### Simulation initialisation\n",
    "\n",
    "We now set the simulation object that will constrol the execution."
   ]
  },
  {
   "cell_type": "code",
   "execution_count": 4,
   "id": "af7b0c38-7431-4263-95bf-6e4f8f3fa561",
   "metadata": {},
   "outputs": [],
   "source": [
    "tissue  = Tissue()                                               # initialise mesh\n",
    "sim_sys = System(tissue)                                         # base object for the system\n",
    "forces = Force(sim_sys)                                          # handles all types of forces\n",
    "integrators = Integrate(sim_sys, forces, rng_seed)               # handles all integrators\n",
    "topology = Topology(sim_sys, forces)                             # handles all topology changes (T1, division, ingression)\n",
    "dumps = Dump(sim_sys, forces)                                    # handles all data output \n",
    "simulation = Simulation(sim_sys, integrators, forces, topology)  # simulation object"
   ]
  },
  {
   "cell_type": "markdown",
   "id": "b3ebf388-2f97-49bb-affc-43ec3c8796af",
   "metadata": {},
   "source": [
    "We proceed to read in the data."
   ]
  },
  {
   "cell_type": "code",
   "execution_count": 5,
   "id": "e30cda4b-f964-49ed-b039-ea1d428c9a0e",
   "metadata": {},
   "outputs": [
    {
     "name": "stdout",
     "output_type": "stream",
     "text": [
      "Finished reading vertices.\n",
      "Finished reading faces.\n",
      "Finished mesh setup.\n",
      "Mesh has 364 vertices 520 edges and 158 faces.\n",
      "Finished reading input configuration.\n"
     ]
    }
   ],
   "source": [
    "sim_sys.read_input(input_file)"
   ]
  },
  {
   "cell_type": "markdown",
   "id": "62686e60-626c-43a8-8ab9-9e720dedf471",
   "metadata": {},
   "source": [
    "We now plot it to see how it looks like."
   ]
  },
  {
   "cell_type": "code",
   "execution_count": 6,
   "id": "762f5ab4-e7a2-466c-ac24-41a4cfaa38e2",
   "metadata": {},
   "outputs": [
    {
     "data": {
      "application/vnd.jupyter.widget-view+json": {
       "model_id": "f3ed2590a0dd44c4b8d94f0c35d95cdd",
       "version_major": 2,
       "version_minor": 0
      },
      "text/plain": [
       "Widget(value=\"<iframe src='http://localhost:51514/index.html?ui=P_0x104972c20_0&reconnect=auto' style='width: …"
      ]
     },
     "metadata": {},
     "output_type": "display_data"
    }
   ],
   "source": [
    "from tissue_plot import make_plotter\n",
    "make_plotter(tissue).show()"
   ]
  },
  {
   "cell_type": "markdown",
   "id": "847d2e37-b345-4cc9-b996-c9a1e043c43f",
   "metadata": {},
   "source": [
    "### Add model (force) and assign parameter values"
   ]
  },
  {
   "cell_type": "code",
   "execution_count": 7,
   "id": "57cae903-38d8-4086-b244-e9cfacf13c1d",
   "metadata": {},
   "outputs": [],
   "source": [
    "forces.add('area')         # add area force form term E = 0.5*kappa*(A-A0)^2\n",
    "forces.add('perimeter')    # add perimeter force term from E = 0.5*gamma*P^2 - lambda*P "
   ]
  },
  {
   "cell_type": "markdown",
   "id": "28adcbae-233b-467c-97d0-6107fdde7b0f",
   "metadata": {},
   "source": [
    "Assign parameters to cell type 'passive'"
   ]
  },
  {
   "cell_type": "code",
   "execution_count": 8,
   "id": "6ad86134-cc58-415f-af0d-d0f94c43bc8c",
   "metadata": {},
   "outputs": [],
   "source": [
    "forces.set_params('area', 'passive', {'kappa' : kappa})\n",
    "forces.set_params('perimeter', 'passive',  {'gamma': Gamma, 'lambda': Lambda})"
   ]
  },
  {
   "cell_type": "markdown",
   "id": "da148219-121d-42ff-b6fe-3f81190d6e67",
   "metadata": {},
   "source": [
    "### Set topology change (i.e. T1 transition) conditions"
   ]
  },
  {
   "cell_type": "code",
   "execution_count": 9,
   "id": "fa2922c1-4abb-42ac-8ad9-4bb877ac6547",
   "metadata": {},
   "outputs": [],
   "source": [
    "topology.set_params({'min_edge_len': 0.05, 'new_edge_len': 0.055}) "
   ]
  },
  {
   "cell_type": "markdown",
   "id": "5014c418-2439-4662-ab8c-88b32cfd58b7",
   "metadata": {},
   "source": [
    "### Add integrator for the equations of motion (Brownian dynamics)"
   ]
  },
  {
   "cell_type": "code",
   "execution_count": 10,
   "id": "8045599a-2632-4ac5-848c-d42f8f4e64df",
   "metadata": {},
   "outputs": [],
   "source": [
    "integrators.add('brownian') "
   ]
  },
  {
   "cell_type": "markdown",
   "id": "61b3a035",
   "metadata": {},
   "source": [
    "Add pulling force:"
   ]
  },
  {
   "cell_type": "code",
   "execution_count": 11,
   "id": "3c9e9b1a",
   "metadata": {},
   "outputs": [],
   "source": [
    "integrators.set_external_force('brownian', 'right', Vec(fpull,0.0))  # pulling on the right-most column of vertices\n",
    "integrators.set_external_force('brownian', 'left', Vec(-fpull,0.0))  # pulling on the left-most column of vertices"
   ]
  },
  {
   "cell_type": "markdown",
   "id": "5f9d1395-da70-464c-84e3-8327bef3098c",
   "metadata": {},
   "source": [
    "Set the timestep"
   ]
  },
  {
   "cell_type": "code",
   "execution_count": 12,
   "id": "52da6485-79eb-4b4f-b2c5-45592e4e304b",
   "metadata": {},
   "outputs": [],
   "source": [
    "integrators.set_dt(dt)"
   ]
  },
  {
   "cell_type": "markdown",
   "id": "86ed4cb6-ecea-4d10-960a-446fc3b1b29f",
   "metadata": {},
   "source": [
    "### Exectute simulation\n",
    "\n",
    "We also produce output as vtp and json files for detailed visualisation and analysis."
   ]
  },
  {
   "cell_type": "code",
   "execution_count": 13,
   "id": "2a7cd4b6",
   "metadata": {},
   "outputs": [
    {
     "name": "stdout",
     "output_type": "stream",
     "text": [
      "[========================================] 100%  --> Completed 10 simulation steps \n",
      "[========================================] 100%  --> Completed 20 simulation steps \n",
      "[========================================] 100%  --> Completed 30 simulation steps \n",
      "[========================================] 100%  --> Completed 40 simulation steps \n",
      "[========================================] 100%  --> Completed 50 simulation steps \n",
      "[========================================] 100%  --> Completed 60 simulation steps \n",
      "[========================================] 100%  --> Completed 70 simulation steps \n",
      "[========================================] 100%  --> Completed 80 simulation steps \n",
      "[========================================] 100%  --> Completed 90 simulation steps \n",
      "[========================================] 100%  --> Completed 100 simulation steps \n",
      "[========================================] 100%  --> Completed 110 simulation steps \n",
      "[========================================] 100%  --> Completed 120 simulation steps \n",
      "[========================================] 100%  --> Completed 130 simulation steps \n",
      "[========================================] 100%  --> Completed 140 simulation steps \n",
      "[========================================] 100%  --> Completed 150 simulation steps \n",
      "[========================================] 100%  --> Completed 160 simulation steps \n",
      "[========================================] 100%  --> Completed 170 simulation steps \n",
      "[========================================] 100%  --> Completed 180 simulation steps \n",
      "[========================================] 100%  --> Completed 190 simulation steps \n",
      "[========================================] 100%  --> Completed 200 simulation steps \n",
      "[========================================] 100%  --> Completed 210 simulation steps \n",
      "[========================================] 100%  --> Completed 220 simulation steps \n",
      "[========================================] 100%  --> Completed 230 simulation steps \n",
      "[========================================] 100%  --> Completed 240 simulation steps \n",
      "[========================================] 100%  --> Completed 250 simulation steps \n",
      "[========================================] 100%  --> Completed 260 simulation steps \n",
      "[========================================] 100%  --> Completed 270 simulation steps \n",
      "[========================================] 100%  --> Completed 280 simulation steps \n",
      "[========================================] 100%  --> Completed 290 simulation steps \n",
      "[========================================] 100%  --> Completed 300 simulation steps \n",
      "[========================================] 100%  --> Completed 310 simulation steps \n",
      "[========================================] 100%  --> Completed 320 simulation steps \n",
      "[========================================] 100%  --> Completed 330 simulation steps \n",
      "[========================================] 100%  --> Completed 340 simulation steps \n",
      "[========================================] 100%  --> Completed 350 simulation steps \n",
      "[========================================] 100%  --> Completed 360 simulation steps \n",
      "[========================================] 100%  --> Completed 370 simulation steps \n",
      "[========================================] 100%  --> Completed 380 simulation steps \n",
      "[========================================] 100%  --> Completed 390 simulation steps \n",
      "[========================================] 100%  --> Completed 400 simulation steps \n",
      "[========================================] 100%  --> Completed 410 simulation steps \n",
      "[========================================] 100%  --> Completed 420 simulation steps \n",
      "[========================================] 100%  --> Completed 430 simulation steps \n",
      "[========================================] 100%  --> Completed 440 simulation steps \n",
      "[========================================] 100%  --> Completed 450 simulation steps \n",
      "[========================================] 100%  --> Completed 460 simulation steps \n",
      "[========================================] 100%  --> Completed 470 simulation steps \n",
      "[========================================] 100%  --> Completed 480 simulation steps \n",
      "[========================================] 100%  --> Completed 490 simulation steps \n",
      "[========================================] 100%  --> Completed 500 simulation steps \n",
      "[========================================] 100%  --> Completed 510 simulation steps \n",
      "[========================================] 100%  --> Completed 520 simulation steps \n",
      "[========================================] 100%  --> Completed 530 simulation steps \n",
      "[========================================] 100%  --> Completed 540 simulation steps \n",
      "[========================================] 100%  --> Completed 550 simulation steps \n",
      "[========================================] 100%  --> Completed 560 simulation steps \n",
      "[========================================] 100%  --> Completed 570 simulation steps \n",
      "[========================================] 100%  --> Completed 580 simulation steps \n",
      "[========================================] 100%  --> Completed 590 simulation steps \n",
      "[========================================] 100%  --> Completed 600 simulation steps \n",
      "[========================================] 100%  --> Completed 610 simulation steps \n",
      "[========================================] 100%  --> Completed 620 simulation steps \n",
      "[========================================] 100%  --> Completed 630 simulation steps \n",
      "[========================================] 100%  --> Completed 640 simulation steps \n",
      "[========================================] 100%  --> Completed 650 simulation steps \n",
      "[========================================] 100%  --> Completed 660 simulation steps \n",
      "[========================================] 100%  --> Completed 670 simulation steps \n",
      "[========================================] 100%  --> Completed 680 simulation steps \n",
      "[========================================] 100%  --> Completed 690 simulation steps \n",
      "[========================================] 100%  --> Completed 700 simulation steps \n",
      "[========================================] 100%  --> Completed 710 simulation steps \n",
      "[========================================] 100%  --> Completed 720 simulation steps \n",
      "[========================================] 100%  --> Completed 730 simulation steps \n",
      "[========================================] 100%  --> Completed 740 simulation steps \n",
      "[========================================] 100%  --> Completed 750 simulation steps \n",
      "[========================================] 100%  --> Completed 760 simulation steps \n",
      "[========================================] 100%  --> Completed 770 simulation steps \n",
      "[========================================] 100%  --> Completed 780 simulation steps \n",
      "[========================================] 100%  --> Completed 790 simulation steps \n",
      "[========================================] 100%  --> Completed 800 simulation steps \n",
      "[========================================] 100%  --> Completed 810 simulation steps \n",
      "[========================================] 100%  --> Completed 820 simulation steps \n",
      "[========================================] 100%  --> Completed 830 simulation steps \n",
      "[========================================] 100%  --> Completed 840 simulation steps \n",
      "[========================================] 100%  --> Completed 850 simulation steps \n",
      "[========================================] 100%  --> Completed 860 simulation steps \n",
      "[========================================] 100%  --> Completed 870 simulation steps \n",
      "[========================================] 100%  --> Completed 880 simulation steps \n",
      "[========================================] 100%  --> Completed 890 simulation steps \n",
      "[========================================] 100%  --> Completed 900 simulation steps \n",
      "[========================================] 100%  --> Completed 910 simulation steps \n",
      "[========================================] 100%  --> Completed 920 simulation steps \n",
      "[========================================] 100%  --> Completed 930 simulation steps \n",
      "[========================================] 100%  --> Completed 940 simulation steps \n",
      "[========================================] 100%  --> Completed 950 simulation steps \n",
      "[========================================] 100%  --> Completed 960 simulation steps \n",
      "[========================================] 100%  --> Completed 970 simulation steps \n",
      "[========================================] 100%  --> Completed 980 simulation steps \n",
      "[========================================] 100%  --> Completed 990 simulation steps \n",
      "[========================================] 100%  --> Completed 1000 simulation steps \n",
      "[========================================] 100%  --> Completed 1010 simulation steps \n",
      "[========================================] 100%  --> Completed 1020 simulation steps \n",
      "[========================================] 100%  --> Completed 1030 simulation steps \n",
      "[========================================] 100%  --> Completed 1040 simulation steps \n",
      "[========================================] 100%  --> Completed 1050 simulation steps \n",
      "[========================================] 100%  --> Completed 1060 simulation steps \n",
      "[========================================] 100%  --> Completed 1070 simulation steps \n",
      "[========================================] 100%  --> Completed 1080 simulation steps \n",
      "[========================================] 100%  --> Completed 1090 simulation steps \n",
      "[========================================] 100%  --> Completed 1100 simulation steps \n",
      "[========================================] 100%  --> Completed 1110 simulation steps \n",
      "[========================================] 100%  --> Completed 1120 simulation steps \n",
      "[========================================] 100%  --> Completed 1130 simulation steps \n",
      "[========================================] 100%  --> Completed 1140 simulation steps \n",
      "[========================================] 100%  --> Completed 1150 simulation steps \n",
      "[========================================] 100%  --> Completed 1160 simulation steps \n",
      "[========================================] 100%  --> Completed 1170 simulation steps \n",
      "[========================================] 100%  --> Completed 1180 simulation steps \n",
      "[========================================] 100%  --> Completed 1190 simulation steps \n",
      "[========================================] 100%  --> Completed 1200 simulation steps \n",
      "[========================================] 100%  --> Completed 1210 simulation steps \n",
      "[========================================] 100%  --> Completed 1220 simulation steps \n",
      "[========================================] 100%  --> Completed 1230 simulation steps \n",
      "[========================================] 100%  --> Completed 1240 simulation steps \n",
      "[========================================] 100%  --> Completed 1250 simulation steps \n",
      "[========================================] 100%  --> Completed 1260 simulation steps \n",
      "[========================================] 100%  --> Completed 1270 simulation steps \n",
      "[========================================] 100%  --> Completed 1280 simulation steps \n",
      "[========================================] 100%  --> Completed 1290 simulation steps \n",
      "[========================================] 100%  --> Completed 1300 simulation steps \n",
      "[========================================] 100%  --> Completed 1310 simulation steps \n",
      "[========================================] 100%  --> Completed 1320 simulation steps \n",
      "[========================================] 100%  --> Completed 1330 simulation steps \n",
      "[========================================] 100%  --> Completed 1340 simulation steps \n",
      "[========================================] 100%  --> Completed 1350 simulation steps \n",
      "[========================================] 100%  --> Completed 1360 simulation steps \n",
      "[========================================] 100%  --> Completed 1370 simulation steps \n",
      "[========================================] 100%  --> Completed 1380 simulation steps \n",
      "[========================================] 100%  --> Completed 1390 simulation steps \n",
      "[========================================] 100%  --> Completed 1400 simulation steps \n",
      "[========================================] 100%  --> Completed 1410 simulation steps \n",
      "[========================================] 100%  --> Completed 1420 simulation steps \n",
      "[========================================] 100%  --> Completed 1430 simulation steps \n",
      "[========================================] 100%  --> Completed 1440 simulation steps \n",
      "[========================================] 100%  --> Completed 1450 simulation steps \n",
      "[========================================] 100%  --> Completed 1460 simulation steps \n",
      "[========================================] 100%  --> Completed 1470 simulation steps \n",
      "[========================================] 100%  --> Completed 1480 simulation steps \n",
      "[========================================] 100%  --> Completed 1490 simulation steps \n",
      "[========================================] 100%  --> Completed 1500 simulation steps \n",
      "[========================================] 100%  --> Completed 1510 simulation steps \n",
      "[========================================] 100%  --> Completed 1520 simulation steps \n",
      "[========================================] 100%  --> Completed 1530 simulation steps \n",
      "[========================================] 100%  --> Completed 1540 simulation steps \n",
      "[========================================] 100%  --> Completed 1550 simulation steps \n",
      "[========================================] 100%  --> Completed 1560 simulation steps \n",
      "[========================================] 100%  --> Completed 1570 simulation steps \n",
      "[========================================] 100%  --> Completed 1580 simulation steps \n",
      "[========================================] 100%  --> Completed 1590 simulation steps \n",
      "[========================================] 100%  --> Completed 1600 simulation steps \n",
      "[========================================] 100%  --> Completed 1610 simulation steps \n",
      "[========================================] 100%  --> Completed 1620 simulation steps \n",
      "[========================================] 100%  --> Completed 1630 simulation steps \n",
      "[========================================] 100%  --> Completed 1640 simulation steps \n",
      "[========================================] 100%  --> Completed 1650 simulation steps \n",
      "[========================================] 100%  --> Completed 1660 simulation steps \n",
      "[========================================] 100%  --> Completed 1670 simulation steps \n",
      "[========================================] 100%  --> Completed 1680 simulation steps \n",
      "[========================================] 100%  --> Completed 1690 simulation steps \n",
      "[========================================] 100%  --> Completed 1700 simulation steps \n",
      "[========================================] 100%  --> Completed 1710 simulation steps \n",
      "[========================================] 100%  --> Completed 1720 simulation steps \n",
      "[========================================] 100%  --> Completed 1730 simulation steps \n",
      "[========================================] 100%  --> Completed 1740 simulation steps \n",
      "[========================================] 100%  --> Completed 1750 simulation steps \n",
      "[========================================] 100%  --> Completed 1760 simulation steps \n",
      "[========================================] 100%  --> Completed 1770 simulation steps \n",
      "[========================================] 100%  --> Completed 1780 simulation steps \n",
      "[========================================] 100%  --> Completed 1790 simulation steps \n",
      "[========================================] 100%  --> Completed 1800 simulation steps \n",
      "[========================================] 100%  --> Completed 1810 simulation steps \n",
      "[========================================] 100%  --> Completed 1820 simulation steps \n",
      "[========================================] 100%  --> Completed 1830 simulation steps \n",
      "[========================================] 100%  --> Completed 1840 simulation steps \n",
      "[========================================] 100%  --> Completed 1850 simulation steps \n",
      "[========================================] 100%  --> Completed 1860 simulation steps \n",
      "[========================================] 100%  --> Completed 1870 simulation steps \n",
      "[========================================] 100%  --> Completed 1880 simulation steps \n",
      "[========================================] 100%  --> Completed 1890 simulation steps \n",
      "[========================================] 100%  --> Completed 1900 simulation steps \n",
      "[========================================] 100%  --> Completed 1910 simulation steps \n",
      "[========================================] 100%  --> Completed 1920 simulation steps \n",
      "[========================================] 100%  --> Completed 1930 simulation steps \n",
      "[========================================] 100%  --> Completed 1940 simulation steps \n",
      "[========================================] 100%  --> Completed 1950 simulation steps \n",
      "[========================================] 100%  --> Completed 1960 simulation steps \n",
      "[========================================] 100%  --> Completed 1970 simulation steps \n",
      "[========================================] 100%  --> Completed 1980 simulation steps \n",
      "[========================================] 100%  --> Completed 1990 simulation steps \n",
      "[========================================] 100%  --> Completed 2000 simulation steps \n",
      "[========================================] 100%  --> Completed 2010 simulation steps \n",
      "[========================================] 100%  --> Completed 2020 simulation steps \n",
      "[========================================] 100%  --> Completed 2030 simulation steps \n",
      "[========================================] 100%  --> Completed 2040 simulation steps \n",
      "[========================================] 100%  --> Completed 2050 simulation steps \n",
      "[========================================] 100%  --> Completed 2060 simulation steps \n",
      "[========================================] 100%  --> Completed 2070 simulation steps \n",
      "[========================================] 100%  --> Completed 2080 simulation steps \n",
      "[========================================] 100%  --> Completed 2090 simulation steps \n",
      "[========================================] 100%  --> Completed 2100 simulation steps \n",
      "[========================================] 100%  --> Completed 2110 simulation steps \n",
      "[========================================] 100%  --> Completed 2120 simulation steps \n",
      "[========================================] 100%  --> Completed 2130 simulation steps \n",
      "[========================================] 100%  --> Completed 2140 simulation steps \n",
      "[========================================] 100%  --> Completed 2150 simulation steps \n",
      "[========================================] 100%  --> Completed 2160 simulation steps \n",
      "[========================================] 100%  --> Completed 2170 simulation steps \n",
      "[========================================] 100%  --> Completed 2180 simulation steps \n",
      "[========================================] 100%  --> Completed 2190 simulation steps \n",
      "[========================================] 100%  --> Completed 2200 simulation steps \n",
      "[========================================] 100%  --> Completed 2210 simulation steps \n",
      "[========================================] 100%  --> Completed 2220 simulation steps \n",
      "[========================================] 100%  --> Completed 2230 simulation steps \n",
      "[========================================] 100%  --> Completed 2240 simulation steps \n",
      "[========================================] 100%  --> Completed 2250 simulation steps \n",
      "[========================================] 100%  --> Completed 2260 simulation steps \n",
      "[========================================] 100%  --> Completed 2270 simulation steps \n",
      "[========================================] 100%  --> Completed 2280 simulation steps \n",
      "[========================================] 100%  --> Completed 2290 simulation steps \n",
      "[========================================] 100%  --> Completed 2300 simulation steps \n",
      "[========================================] 100%  --> Completed 2310 simulation steps \n",
      "[========================================] 100%  --> Completed 2320 simulation steps \n",
      "[========================================] 100%  --> Completed 2330 simulation steps \n",
      "[========================================] 100%  --> Completed 2340 simulation steps \n",
      "[========================================] 100%  --> Completed 2350 simulation steps \n",
      "[========================================] 100%  --> Completed 2360 simulation steps \n",
      "[========================================] 100%  --> Completed 2370 simulation steps \n",
      "[========================================] 100%  --> Completed 2380 simulation steps \n",
      "[========================================] 100%  --> Completed 2390 simulation steps \n",
      "[========================================] 100%  --> Completed 2400 simulation steps \n",
      "[========================================] 100%  --> Completed 2410 simulation steps \n",
      "[========================================] 100%  --> Completed 2420 simulation steps \n",
      "[========================================] 100%  --> Completed 2430 simulation steps \n",
      "[========================================] 100%  --> Completed 2440 simulation steps \n",
      "[========================================] 100%  --> Completed 2450 simulation steps \n",
      "[========================================] 100%  --> Completed 2460 simulation steps \n",
      "[========================================] 100%  --> Completed 2470 simulation steps \n",
      "[========================================] 100%  --> Completed 2480 simulation steps \n",
      "[========================================] 100%  --> Completed 2490 simulation steps \n",
      "[========================================] 100%  --> Completed 2500 simulation steps \n",
      "[========================================] 100%  --> Completed 2510 simulation steps \n",
      "[========================================] 100%  --> Completed 2520 simulation steps \n",
      "[========================================] 100%  --> Completed 2530 simulation steps \n",
      "[========================================] 100%  --> Completed 2540 simulation steps \n",
      "[========================================] 100%  --> Completed 2550 simulation steps \n",
      "[========================================] 100%  --> Completed 2560 simulation steps \n",
      "[========================================] 100%  --> Completed 2570 simulation steps \n",
      "[========================================] 100%  --> Completed 2580 simulation steps \n",
      "[========================================] 100%  --> Completed 2590 simulation steps \n",
      "[========================================] 100%  --> Completed 2600 simulation steps \n",
      "[========================================] 100%  --> Completed 2610 simulation steps \n",
      "[========================================] 100%  --> Completed 2620 simulation steps \n",
      "[========================================] 100%  --> Completed 2630 simulation steps \n",
      "[========================================] 100%  --> Completed 2640 simulation steps \n",
      "[========================================] 100%  --> Completed 2650 simulation steps \n",
      "[========================================] 100%  --> Completed 2660 simulation steps \n",
      "[========================================] 100%  --> Completed 2670 simulation steps \n",
      "[========================================] 100%  --> Completed 2680 simulation steps \n",
      "[========================================] 100%  --> Completed 2690 simulation steps \n",
      "[========================================] 100%  --> Completed 2700 simulation steps \n",
      "[========================================] 100%  --> Completed 2710 simulation steps \n",
      "[========================================] 100%  --> Completed 2720 simulation steps \n",
      "[========================================] 100%  --> Completed 2730 simulation steps \n",
      "[========================================] 100%  --> Completed 2740 simulation steps \n",
      "[========================================] 100%  --> Completed 2750 simulation steps \n",
      "[========================================] 100%  --> Completed 2760 simulation steps \n",
      "[========================================] 100%  --> Completed 2770 simulation steps \n",
      "[========================================] 100%  --> Completed 2780 simulation steps \n",
      "[========================================] 100%  --> Completed 2790 simulation steps \n",
      "[========================================] 100%  --> Completed 2800 simulation steps \n",
      "[========================================] 100%  --> Completed 2810 simulation steps \n",
      "[========================================] 100%  --> Completed 2820 simulation steps \n",
      "[========================================] 100%  --> Completed 2830 simulation steps \n",
      "[========================================] 100%  --> Completed 2840 simulation steps \n",
      "[========================================] 100%  --> Completed 2850 simulation steps \n",
      "[========================================] 100%  --> Completed 2860 simulation steps \n",
      "[========================================] 100%  --> Completed 2870 simulation steps \n",
      "[========================================] 100%  --> Completed 2880 simulation steps \n",
      "[========================================] 100%  --> Completed 2890 simulation steps \n",
      "[========================================] 100%  --> Completed 2900 simulation steps \n",
      "[========================================] 100%  --> Completed 2910 simulation steps \n",
      "[========================================] 100%  --> Completed 2920 simulation steps \n",
      "[========================================] 100%  --> Completed 2930 simulation steps \n",
      "[========================================] 100%  --> Completed 2940 simulation steps \n",
      "[========================================] 100%  --> Completed 2950 simulation steps \n",
      "[========================================] 100%  --> Completed 2960 simulation steps \n",
      "[========================================] 100%  --> Completed 2970 simulation steps \n",
      "[========================================] 100%  --> Completed 2980 simulation steps \n",
      "[========================================] 100%  --> Completed 2990 simulation steps \n",
      "[========================================] 100%  --> Completed 3000 simulation steps \n",
      "[========================================] 100%  --> Completed 3010 simulation steps \n",
      "[========================================] 100%  --> Completed 3020 simulation steps \n",
      "[========================================] 100%  --> Completed 3030 simulation steps \n",
      "[========================================] 100%  --> Completed 3040 simulation steps \n",
      "[========================================] 100%  --> Completed 3050 simulation steps \n",
      "[========================================] 100%  --> Completed 3060 simulation steps \n",
      "[========================================] 100%  --> Completed 3070 simulation steps \n",
      "[========================================] 100%  --> Completed 3080 simulation steps \n",
      "[========================================] 100%  --> Completed 3090 simulation steps \n",
      "[========================================] 100%  --> Completed 3100 simulation steps \n",
      "[========================================] 100%  --> Completed 3110 simulation steps \n",
      "[========================================] 100%  --> Completed 3120 simulation steps \n",
      "[========================================] 100%  --> Completed 3130 simulation steps \n",
      "[========================================] 100%  --> Completed 3140 simulation steps \n",
      "[========================================] 100%  --> Completed 3150 simulation steps \n",
      "[========================================] 100%  --> Completed 3160 simulation steps \n",
      "[========================================] 100%  --> Completed 3170 simulation steps \n",
      "[========================================] 100%  --> Completed 3180 simulation steps \n",
      "[========================================] 100%  --> Completed 3190 simulation steps \n",
      "[========================================] 100%  --> Completed 3200 simulation steps \n",
      "[========================================] 100%  --> Completed 3210 simulation steps \n",
      "[========================================] 100%  --> Completed 3220 simulation steps \n",
      "[========================================] 100%  --> Completed 3230 simulation steps \n",
      "[========================================] 100%  --> Completed 3240 simulation steps \n",
      "[========================================] 100%  --> Completed 3250 simulation steps \n",
      "[========================================] 100%  --> Completed 3260 simulation steps \n",
      "[========================================] 100%  --> Completed 3270 simulation steps \n",
      "[========================================] 100%  --> Completed 3280 simulation steps \n",
      "[========================================] 100%  --> Completed 3290 simulation steps \n",
      "[========================================] 100%  --> Completed 3300 simulation steps \n",
      "[========================================] 100%  --> Completed 3310 simulation steps \n",
      "[========================================] 100%  --> Completed 3320 simulation steps \n",
      "[========================================] 100%  --> Completed 3330 simulation steps \n",
      "[========================================] 100%  --> Completed 3340 simulation steps \n",
      "[========================================] 100%  --> Completed 3350 simulation steps \n",
      "[========================================] 100%  --> Completed 3360 simulation steps \n",
      "[========================================] 100%  --> Completed 3370 simulation steps \n",
      "[========================================] 100%  --> Completed 3380 simulation steps \n",
      "[========================================] 100%  --> Completed 3390 simulation steps \n",
      "[========================================] 100%  --> Completed 3400 simulation steps \n",
      "[========================================] 100%  --> Completed 3410 simulation steps \n",
      "[========================================] 100%  --> Completed 3420 simulation steps \n",
      "[========================================] 100%  --> Completed 3430 simulation steps \n",
      "[========================================] 100%  --> Completed 3440 simulation steps \n",
      "[========================================] 100%  --> Completed 3450 simulation steps \n",
      "[========================================] 100%  --> Completed 3460 simulation steps \n",
      "[========================================] 100%  --> Completed 3470 simulation steps \n",
      "[========================================] 100%  --> Completed 3480 simulation steps 0%\n",
      "[========================================] 100%  --> Completed 3490 simulation steps \n",
      "[========================================] 100%  --> Completed 3500 simulation steps \n",
      "[========================================] 100%  --> Completed 3510 simulation steps \n",
      "[========================================] 100%  --> Completed 3520 simulation steps \n",
      "[========================================] 100%  --> Completed 3530 simulation steps \n",
      "[========================================] 100%  --> Completed 3540 simulation steps \n",
      "[========================================] 100%  --> Completed 3550 simulation steps \n",
      "[========================================] 100%  --> Completed 3560 simulation steps \n",
      "[========================================] 100%  --> Completed 3570 simulation steps \n",
      "[========================================] 100%  --> Completed 3580 simulation steps \n",
      "[========================================] 100%  --> Completed 3590 simulation steps \n",
      "[========================================] 100%  --> Completed 3600 simulation steps \n",
      "[========================================] 100%  --> Completed 3610 simulation steps \n",
      "[========================================] 100%  --> Completed 3620 simulation steps \n",
      "[========================================] 100%  --> Completed 3630 simulation steps \n",
      "[========================================] 100%  --> Completed 3640 simulation steps \n",
      "[========================================] 100%  --> Completed 3650 simulation steps \n",
      "[========================================] 100%  --> Completed 3660 simulation steps \n",
      "[========================================] 100%  --> Completed 3670 simulation steps \n",
      "[========================================] 100%  --> Completed 3680 simulation steps \n",
      "[========================================] 100%  --> Completed 3690 simulation steps \n",
      "[========================================] 100%  --> Completed 3700 simulation steps \n",
      "[========================================] 100%  --> Completed 3710 simulation steps \n",
      "[========================================] 100%  --> Completed 3720 simulation steps \n",
      "[========================================] 100%  --> Completed 3730 simulation steps \n",
      "[========================================] 100%  --> Completed 3740 simulation steps \n",
      "[========================================] 100%  --> Completed 3750 simulation steps \n",
      "[========================================] 100%  --> Completed 3760 simulation steps \n",
      "[========================================] 100%  --> Completed 3770 simulation steps \n",
      "[========================================] 100%  --> Completed 3780 simulation steps \n",
      "[========================================] 100%  --> Completed 3790 simulation steps \n",
      "[========================================] 100%  --> Completed 3800 simulation steps \n",
      "[========================================] 100%  --> Completed 3810 simulation steps \n",
      "[========================================] 100%  --> Completed 3820 simulation steps \n",
      "[========================================] 100%  --> Completed 3830 simulation steps \n",
      "[========================================] 100%  --> Completed 3840 simulation steps \n",
      "[========================================] 100%  --> Completed 3850 simulation steps \n",
      "[========================================] 100%  --> Completed 3860 simulation steps \n",
      "[========================================] 100%  --> Completed 3870 simulation steps \n",
      "[========================================] 100%  --> Completed 3880 simulation steps \n",
      "[========================================] 100%  --> Completed 3890 simulation steps \n",
      "[========================================] 100%  --> Completed 3900 simulation steps \n",
      "[========================================] 100%  --> Completed 3910 simulation steps \n",
      "[========================================] 100%  --> Completed 3920 simulation steps \n",
      "[========================================] 100%  --> Completed 3930 simulation steps \n",
      "[========================================] 100%  --> Completed 3940 simulation steps \n",
      "[========================================] 100%  --> Completed 3950 simulation steps \n",
      "[========================================] 100%  --> Completed 3960 simulation steps \n",
      "[========================================] 100%  --> Completed 3970 simulation steps \n",
      "[========================================] 100%  --> Completed 3980 simulation steps \n",
      "[========================================] 100%  --> Completed 3990 simulation steps \n",
      "[========================================] 100%  --> Completed 4000 simulation steps \n",
      "[========================================] 100%  --> Completed 4010 simulation steps \n",
      "[========================================] 100%  --> Completed 4020 simulation steps \n",
      "[========================================] 100%  --> Completed 4030 simulation steps \n",
      "[========================================] 100%  --> Completed 4040 simulation steps \n",
      "[========================================] 100%  --> Completed 4050 simulation steps \n",
      "[========================================] 100%  --> Completed 4060 simulation steps \n",
      "[========================================] 100%  --> Completed 4070 simulation steps \n",
      "[========================================] 100%  --> Completed 4080 simulation steps \n",
      "[========================================] 100%  --> Completed 4090 simulation steps \n",
      "[========================================] 100%  --> Completed 4100 simulation steps \n",
      "[========================================] 100%  --> Completed 4110 simulation steps \n",
      "[========================================] 100%  --> Completed 4120 simulation steps \n",
      "[========================================] 100%  --> Completed 4130 simulation steps \n",
      "[========================================] 100%  --> Completed 4140 simulation steps \n",
      "[========================================] 100%  --> Completed 4150 simulation steps \n",
      "[========================================] 100%  --> Completed 4160 simulation steps \n",
      "[========================================] 100%  --> Completed 4170 simulation steps \n",
      "[========================================] 100%  --> Completed 4180 simulation steps \n",
      "[========================================] 100%  --> Completed 4190 simulation steps \n",
      "[========================================] 100%  --> Completed 4200 simulation steps \n",
      "[========================================] 100%  --> Completed 4210 simulation steps \n",
      "[========================================] 100%  --> Completed 4220 simulation steps \n",
      "[========================================] 100%  --> Completed 4230 simulation steps \n",
      "[========================================] 100%  --> Completed 4240 simulation steps \n",
      "[========================================] 100%  --> Completed 4250 simulation steps \n",
      "[========================================] 100%  --> Completed 4260 simulation steps \n",
      "[========================================] 100%  --> Completed 4270 simulation steps \n",
      "[========================================] 100%  --> Completed 4280 simulation steps \n",
      "[========================================] 100%  --> Completed 4290 simulation steps \n",
      "[========================================] 100%  --> Completed 4300 simulation steps \n",
      "[========================================] 100%  --> Completed 4310 simulation steps \n",
      "[========================================] 100%  --> Completed 4320 simulation steps \n",
      "[========================================] 100%  --> Completed 4330 simulation steps \n",
      "[========================================] 100%  --> Completed 4340 simulation steps \n",
      "[========================================] 100%  --> Completed 4350 simulation steps \n",
      "[========================================] 100%  --> Completed 4360 simulation steps \n",
      "[========================================] 100%  --> Completed 4370 simulation steps \n",
      "[========================================] 100%  --> Completed 4380 simulation steps \n",
      "[========================================] 100%  --> Completed 4390 simulation steps \n",
      "[========================================] 100%  --> Completed 4400 simulation steps \n",
      "[========================================] 100%  --> Completed 4410 simulation steps \n",
      "[========================================] 100%  --> Completed 4420 simulation steps \n",
      "[========================================] 100%  --> Completed 4430 simulation steps \n",
      "[========================================] 100%  --> Completed 4440 simulation steps \n",
      "[========================================] 100%  --> Completed 4450 simulation steps \n",
      "[========================================] 100%  --> Completed 4460 simulation steps \n",
      "[========================================] 100%  --> Completed 4470 simulation steps \n",
      "[========================================] 100%  --> Completed 4480 simulation steps \n",
      "[========================================] 100%  --> Completed 4490 simulation steps \n",
      "[========================================] 100%  --> Completed 4500 simulation steps \n",
      "[========================================] 100%  --> Completed 4510 simulation steps \n",
      "[========================================] 100%  --> Completed 4520 simulation steps \n",
      "[========================================] 100%  --> Completed 4530 simulation steps \n",
      "[========================================] 100%  --> Completed 4540 simulation steps \n",
      "[========================================] 100%  --> Completed 4550 simulation steps \n",
      "[========================================] 100%  --> Completed 4560 simulation steps \n",
      "[========================================] 100%  --> Completed 4570 simulation steps \n",
      "[========================================] 100%  --> Completed 4580 simulation steps \n",
      "[========================================] 100%  --> Completed 4590 simulation steps \n",
      "[========================================] 100%  --> Completed 4600 simulation steps \n",
      "[========================================] 100%  --> Completed 4610 simulation steps \n",
      "[========================================] 100%  --> Completed 4620 simulation steps \n",
      "[========================================] 100%  --> Completed 4630 simulation steps \n",
      "[========================================] 100%  --> Completed 4640 simulation steps \n",
      "[========================================] 100%  --> Completed 4650 simulation steps \n",
      "[========================================] 100%  --> Completed 4660 simulation steps \n",
      "[========================================] 100%  --> Completed 4670 simulation steps \n",
      "[========================================] 100%  --> Completed 4680 simulation steps \n",
      "[========================================] 100%  --> Completed 4690 simulation steps \n",
      "[========================================] 100%  --> Completed 4700 simulation steps \n",
      "[========================================] 100%  --> Completed 4710 simulation steps \n",
      "[========================================] 100%  --> Completed 4720 simulation steps \n",
      "[========================================] 100%  --> Completed 4730 simulation steps \n",
      "[========================================] 100%  --> Completed 4740 simulation steps \n",
      "[========================================] 100%  --> Completed 4750 simulation steps \n",
      "[========================================] 100%  --> Completed 4760 simulation steps \n",
      "[========================================] 100%  --> Completed 4770 simulation steps \n",
      "[========================================] 100%  --> Completed 4780 simulation steps \n",
      "[========================================] 100%  --> Completed 4790 simulation steps \n",
      "[========================================] 100%  --> Completed 4800 simulation steps \n",
      "[========================================] 100%  --> Completed 4810 simulation steps \n",
      "[========================================] 100%  --> Completed 4820 simulation steps \n",
      "[========================================] 100%  --> Completed 4830 simulation steps \n",
      "[========================================] 100%  --> Completed 4840 simulation steps \n",
      "[========================================] 100%  --> Completed 4850 simulation steps \n",
      "[========================================] 100%  --> Completed 4860 simulation steps \n",
      "[========================================] 100%  --> Completed 4870 simulation steps \n",
      "[========================================] 100%  --> Completed 4880 simulation steps \n",
      "[========================================] 100%  --> Completed 4890 simulation steps \n",
      "[========================================] 100%  --> Completed 4900 simulation steps \n",
      "[========================================] 100%  --> Completed 4910 simulation steps \n",
      "[========================================] 100%  --> Completed 4920 simulation steps \n",
      "[========================================] 100%  --> Completed 4930 simulation steps \n",
      "[========================================] 100%  --> Completed 4940 simulation steps \n",
      "[========================================] 100%  --> Completed 4950 simulation steps \n",
      "[========================================] 100%  --> Completed 4960 simulation steps \n",
      "[========================================] 100%  --> Completed 4970 simulation steps \n",
      "[========================================] 100%  --> Completed 4980 simulation steps \n",
      "[========================================] 100%  --> Completed 4990 simulation steps \n",
      "[========================================] 100%  --> Completed 5000 simulation steps \n",
      "[========================================] 100%  --> Completed 5010 simulation steps \n",
      "[========================================] 100%  --> Completed 5020 simulation steps \n",
      "[========================================] 100%  --> Completed 5030 simulation steps \n",
      "[========================================] 100%  --> Completed 5040 simulation steps \n",
      "[========================================] 100%  --> Completed 5050 simulation steps \n",
      "[========================================] 100%  --> Completed 5060 simulation steps \n",
      "[========================================] 100%  --> Completed 5070 simulation steps \n",
      "[========================================] 100%  --> Completed 5080 simulation steps \n",
      "[========================================] 100%  --> Completed 5090 simulation steps \n",
      "[========================================] 100%  --> Completed 5100 simulation steps \n",
      "[========================================] 100%  --> Completed 5110 simulation steps \n",
      "[========================================] 100%  --> Completed 5120 simulation steps \n",
      "[========================================] 100%  --> Completed 5130 simulation steps \n",
      "[========================================] 100%  --> Completed 5140 simulation steps \n",
      "[========================================] 100%  --> Completed 5150 simulation steps \n",
      "[========================================] 100%  --> Completed 5160 simulation steps \n",
      "[========================================] 100%  --> Completed 5170 simulation steps \n",
      "[========================================] 100%  --> Completed 5180 simulation steps \n",
      "[========================================] 100%  --> Completed 5190 simulation steps \n",
      "[========================================] 100%  --> Completed 5200 simulation steps \n",
      "[========================================] 100%  --> Completed 5210 simulation steps \n",
      "[========================================] 100%  --> Completed 5220 simulation steps \n",
      "[========================================] 100%  --> Completed 5230 simulation steps \n",
      "[========================================] 100%  --> Completed 5240 simulation steps \n",
      "[========================================] 100%  --> Completed 5250 simulation steps \n",
      "[========================================] 100%  --> Completed 5260 simulation steps \n",
      "[========================================] 100%  --> Completed 5270 simulation steps \n",
      "[========================================] 100%  --> Completed 5280 simulation steps \n",
      "[========================================] 100%  --> Completed 5290 simulation steps \n",
      "[========================================] 100%  --> Completed 5300 simulation steps \n",
      "[========================================] 100%  --> Completed 5310 simulation steps \n",
      "[========================================] 100%  --> Completed 5320 simulation steps \n",
      "[========================================] 100%  --> Completed 5330 simulation steps \n",
      "[========================================] 100%  --> Completed 5340 simulation steps \n",
      "[========================================] 100%  --> Completed 5350 simulation steps \n",
      "[========================================] 100%  --> Completed 5360 simulation steps \n",
      "[========================================] 100%  --> Completed 5370 simulation steps \n",
      "[========================================] 100%  --> Completed 5380 simulation steps \n",
      "[========================================] 100%  --> Completed 5390 simulation steps \n",
      "[========================================] 100%  --> Completed 5400 simulation steps \n",
      "[========================================] 100%  --> Completed 5410 simulation steps \n",
      "[========================================] 100%  --> Completed 5420 simulation steps \n",
      "[========================================] 100%  --> Completed 5430 simulation steps \n",
      "[========================================] 100%  --> Completed 5440 simulation steps \n",
      "[========================================] 100%  --> Completed 5450 simulation steps \n",
      "[========================================] 100%  --> Completed 5460 simulation steps \n",
      "[========================================] 100%  --> Completed 5470 simulation steps \n",
      "[========================================] 100%  --> Completed 5480 simulation steps \n",
      "[========================================] 100%  --> Completed 5490 simulation steps \n",
      "[========================================] 100%  --> Completed 5500 simulation steps \n",
      "[========================================] 100%  --> Completed 5510 simulation steps \n",
      "[========================================] 100%  --> Completed 5520 simulation steps \n",
      "[========================================] 100%  --> Completed 5530 simulation steps \n",
      "[========================================] 100%  --> Completed 5540 simulation steps \n",
      "[========================================] 100%  --> Completed 5550 simulation steps \n",
      "[========================================] 100%  --> Completed 5560 simulation steps \n",
      "[========================================] 100%  --> Completed 5570 simulation steps \n",
      "[========================================] 100%  --> Completed 5580 simulation steps \n",
      "[========================================] 100%  --> Completed 5590 simulation steps \n",
      "[========================================] 100%  --> Completed 5600 simulation steps \n",
      "[========================================] 100%  --> Completed 5610 simulation steps \n",
      "[========================================] 100%  --> Completed 5620 simulation steps \n",
      "[========================================] 100%  --> Completed 5630 simulation steps \n",
      "[========================================] 100%  --> Completed 5640 simulation steps \n",
      "[========================================] 100%  --> Completed 5650 simulation steps \n",
      "[========================================] 100%  --> Completed 5660 simulation steps \n",
      "[========================================] 100%  --> Completed 5670 simulation steps \n",
      "[========================================] 100%  --> Completed 5680 simulation steps \n",
      "[========================================] 100%  --> Completed 5690 simulation steps \n",
      "[========================================] 100%  --> Completed 5700 simulation steps \n",
      "[========================================] 100%  --> Completed 5710 simulation steps \n",
      "[========================================] 100%  --> Completed 5720 simulation steps \n",
      "[========================================] 100%  --> Completed 5730 simulation steps \n",
      "[========================================] 100%  --> Completed 5740 simulation steps \n",
      "[========================================] 100%  --> Completed 5750 simulation steps \n",
      "[========================================] 100%  --> Completed 5760 simulation steps \n",
      "[========================================] 100%  --> Completed 5770 simulation steps \n",
      "[========================================] 100%  --> Completed 5780 simulation steps \n",
      "[========================================] 100%  --> Completed 5790 simulation steps \n",
      "[========================================] 100%  --> Completed 5800 simulation steps \n",
      "[========================================] 100%  --> Completed 5810 simulation steps \n",
      "[========================================] 100%  --> Completed 5820 simulation steps \n",
      "[========================================] 100%  --> Completed 5830 simulation steps \n",
      "[========================================] 100%  --> Completed 5840 simulation steps \n",
      "[========================================] 100%  --> Completed 5850 simulation steps \n",
      "[========================================] 100%  --> Completed 5860 simulation steps \n",
      "[========================================] 100%  --> Completed 5870 simulation steps \n",
      "[========================================] 100%  --> Completed 5880 simulation steps \n",
      "[========================================] 100%  --> Completed 5890 simulation steps \n",
      "[========================================] 100%  --> Completed 5900 simulation steps \n",
      "[============>                           ] 20%"
     ]
    },
    {
     "name": "stdout",
     "output_type": "stream",
     "text": [
      "[========================================] 100%  --> Completed 5910 simulation steps \n",
      "[========================================] 100%  --> Completed 5920 simulation steps \n",
      "[========================================] 100%  --> Completed 5930 simulation steps \n",
      "[========================================] 100%  --> Completed 5940 simulation steps \n",
      "[========================================] 100%  --> Completed 5950 simulation steps \n",
      "[========================================] 100%  --> Completed 5960 simulation steps \n",
      "[========================================] 100%  --> Completed 5970 simulation steps \n",
      "[========================================] 100%  --> Completed 5980 simulation steps \n",
      "[========================================] 100%  --> Completed 5990 simulation steps \n",
      "[========================================] 100%  --> Completed 6000 simulation steps \n",
      "[========================================] 100%  --> Completed 6010 simulation steps \n"
     ]
    }
   ],
   "source": [
    "for i in range(nrun):\n",
    "    if i % dumpfreq == 0:\n",
    "        dumps.dump_junctions(f'junctions_fpull_{fpull:.4f}_step_{i:08d}.vtp')\n",
    "        dumps.dump_cells(f'cells_fpull_{fpull:.4f}_step_{i:08d}.vtp')\n",
    "    simulation.run(timeunit)"
   ]
  },
  {
   "cell_type": "markdown",
   "id": "b15e5274-54d4-4ff0-ae98-4b8af389626b",
   "metadata": {},
   "source": [
    "### Visualisation post relaxation\n",
    "\n",
    "We can now take a look into the relaxed configuration"
   ]
  },
  {
   "cell_type": "code",
   "execution_count": 16,
   "id": "3817846a-e854-45e2-9d5d-cf57a04bdc1e",
   "metadata": {},
   "outputs": [
    {
     "data": {
      "application/vnd.jupyter.widget-view+json": {
       "model_id": "0cf98a912f7d4f84a5252359a10f0e2b",
       "version_major": 2,
       "version_minor": 0
      },
      "text/plain": [
       "Widget(value=\"<iframe src='http://localhost:51514/index.html?ui=P_0x283f93700_3&reconnect=auto' style='width: …"
      ]
     },
     "metadata": {},
     "output_type": "display_data"
    },
    {
     "name": "stderr",
     "output_type": "stream",
     "text": [
      "Exception raised\n",
      "ConnectionResetError('Cannot write to closing transport')\n",
      "Traceback (most recent call last):\n",
      "  File \"/Users/RSknepnek/opt/anaconda3/envs/py310/lib/python3.10/site-packages/wslink/protocol.py\", line 340, in onMessage\n",
      "    await self.sendWrappedMessage(\n",
      "  File \"/Users/RSknepnek/opt/anaconda3/envs/py310/lib/python3.10/site-packages/wslink/protocol.py\", line 484, in sendWrappedMessage\n",
      "    await ws.send_str(encMsg)\n",
      "  File \"/Users/RSknepnek/opt/anaconda3/envs/py310/lib/python3.10/site-packages/aiohttp/web_ws.py\", line 336, in send_str\n",
      "    await self._writer.send(data, binary=False, compress=compress)\n",
      "  File \"/Users/RSknepnek/opt/anaconda3/envs/py310/lib/python3.10/site-packages/aiohttp/http_websocket.py\", line 723, in send\n",
      "    await self._send_frame(message, WSMsgType.TEXT, compress)\n",
      "  File \"/Users/RSknepnek/opt/anaconda3/envs/py310/lib/python3.10/site-packages/aiohttp/http_websocket.py\", line 686, in _send_frame\n",
      "    self._write(header + message)\n",
      "  File \"/Users/RSknepnek/opt/anaconda3/envs/py310/lib/python3.10/site-packages/aiohttp/http_websocket.py\", line 696, in _write\n",
      "    raise ConnectionResetError(\"Cannot write to closing transport\")\n",
      "ConnectionResetError: Cannot write to closing transport\n",
      "\n",
      "Error handling request\n",
      "Traceback (most recent call last):\n",
      "  File \"/Users/RSknepnek/opt/anaconda3/envs/py310/lib/python3.10/site-packages/wslink/protocol.py\", line 340, in onMessage\n",
      "    await self.sendWrappedMessage(\n",
      "  File \"/Users/RSknepnek/opt/anaconda3/envs/py310/lib/python3.10/site-packages/wslink/protocol.py\", line 484, in sendWrappedMessage\n",
      "    await ws.send_str(encMsg)\n",
      "  File \"/Users/RSknepnek/opt/anaconda3/envs/py310/lib/python3.10/site-packages/aiohttp/web_ws.py\", line 336, in send_str\n",
      "    await self._writer.send(data, binary=False, compress=compress)\n",
      "  File \"/Users/RSknepnek/opt/anaconda3/envs/py310/lib/python3.10/site-packages/aiohttp/http_websocket.py\", line 723, in send\n",
      "    await self._send_frame(message, WSMsgType.TEXT, compress)\n",
      "  File \"/Users/RSknepnek/opt/anaconda3/envs/py310/lib/python3.10/site-packages/aiohttp/http_websocket.py\", line 686, in _send_frame\n",
      "    self._write(header + message)\n",
      "  File \"/Users/RSknepnek/opt/anaconda3/envs/py310/lib/python3.10/site-packages/aiohttp/http_websocket.py\", line 696, in _write\n",
      "    raise ConnectionResetError(\"Cannot write to closing transport\")\n",
      "ConnectionResetError: Cannot write to closing transport\n",
      "\n",
      "During handling of the above exception, another exception occurred:\n",
      "\n",
      "Traceback (most recent call last):\n",
      "  File \"/Users/RSknepnek/opt/anaconda3/envs/py310/lib/python3.10/site-packages/wslink/protocol.py\", line 348, in onMessage\n",
      "    await self.sendWrappedError(\n",
      "  File \"/Users/RSknepnek/opt/anaconda3/envs/py310/lib/python3.10/site-packages/wslink/protocol.py\", line 508, in sendWrappedError\n",
      "    await ws.send_str(encMsg)\n",
      "  File \"/Users/RSknepnek/opt/anaconda3/envs/py310/lib/python3.10/site-packages/aiohttp/web_ws.py\", line 336, in send_str\n",
      "    await self._writer.send(data, binary=False, compress=compress)\n",
      "  File \"/Users/RSknepnek/opt/anaconda3/envs/py310/lib/python3.10/site-packages/aiohttp/http_websocket.py\", line 723, in send\n",
      "    await self._send_frame(message, WSMsgType.TEXT, compress)\n",
      "  File \"/Users/RSknepnek/opt/anaconda3/envs/py310/lib/python3.10/site-packages/aiohttp/http_websocket.py\", line 686, in _send_frame\n",
      "    self._write(header + message)\n",
      "  File \"/Users/RSknepnek/opt/anaconda3/envs/py310/lib/python3.10/site-packages/aiohttp/http_websocket.py\", line 696, in _write\n",
      "    raise ConnectionResetError(\"Cannot write to closing transport\")\n",
      "ConnectionResetError: Cannot write to closing transport\n",
      "\n",
      "During handling of the above exception, another exception occurred:\n",
      "\n",
      "Traceback (most recent call last):\n",
      "  File \"/Users/RSknepnek/opt/anaconda3/envs/py310/lib/python3.10/site-packages/aiohttp/web_protocol.py\", line 452, in _handle_request\n",
      "    resp = await request_handler(request)\n",
      "  File \"/Users/RSknepnek/opt/anaconda3/envs/py310/lib/python3.10/site-packages/aiohttp/web_app.py\", line 543, in _handle\n",
      "    resp = await handler(request)\n",
      "  File \"/Users/RSknepnek/opt/anaconda3/envs/py310/lib/python3.10/site-packages/wslink/backends/aiohttp/__init__.py\", line 215, in handleWsRequest\n",
      "    await self.onMessage(is_binary(msg), msg, client_id)\n",
      "  File \"/Users/RSknepnek/opt/anaconda3/envs/py310/lib/python3.10/site-packages/wslink/protocol.py\", line 361, in onMessage\n",
      "    await self.sendWrappedError(\n",
      "  File \"/Users/RSknepnek/opt/anaconda3/envs/py310/lib/python3.10/site-packages/wslink/protocol.py\", line 508, in sendWrappedError\n",
      "    await ws.send_str(encMsg)\n",
      "  File \"/Users/RSknepnek/opt/anaconda3/envs/py310/lib/python3.10/site-packages/aiohttp/web_ws.py\", line 336, in send_str\n",
      "    await self._writer.send(data, binary=False, compress=compress)\n",
      "  File \"/Users/RSknepnek/opt/anaconda3/envs/py310/lib/python3.10/site-packages/aiohttp/http_websocket.py\", line 723, in send\n",
      "    await self._send_frame(message, WSMsgType.TEXT, compress)\n",
      "  File \"/Users/RSknepnek/opt/anaconda3/envs/py310/lib/python3.10/site-packages/aiohttp/http_websocket.py\", line 686, in _send_frame\n",
      "    self._write(header + message)\n",
      "  File \"/Users/RSknepnek/opt/anaconda3/envs/py310/lib/python3.10/site-packages/aiohttp/http_websocket.py\", line 696, in _write\n",
      "    raise ConnectionResetError(\"Cannot write to closing transport\")\n",
      "ConnectionResetError: Cannot write to closing transport\n"
     ]
    },
    {
     "name": "stdout",
     "output_type": "stream",
     "text": [
      " JS Error => Malformed message:  {\"wslink\": \"1.0\", \"id\": \"publish:trame.vtk.delta:0\", \"result\": {\"parent\": \"0x0\", \"id\": 4, \"type\": \"vtkCocoaRenderWindow\", \"properties\": {\"numberOfLayers\": 2}, \"dependencies\": [{\"parent\": \"0000000292a33760\", \"id\": \"0000000115e3c600\", \"type\": \"vtkOpenGLRenderer\", \"properties\": {\"background\": [1.0, 1.0, 1.0], \"background2\": [0.2, 0.2, 0.2], \"viewport\": [0.0, 0.0, 1.0, 1.0], \"twoSidedLighting\": 1, \"lightFollowCamera\": 1, \"layer\": 0, \"preserveColorBuffer\": 0, \"preserveDepthBuffer\": 0, \"nearClippingPlaneTolerance\": 0.001, \"clippingRangeExpansion\": 0.5, \"useShadows\": 0, \"useDepthPeeling\": 0, \"occlusionRatio\": 0.0, \"maximumNumberOfPeels\": 4, \"interactive\": 1}, \"dependencies\": [{\"parent\": \"0000000115e3c600\", \"id\": \"0000000292a14dd0\", \"type\": \"vtkOpenGLCamera\", \"properties\": {\"focalPoint\": [-8.881784197001252e-16, 4.440892098500626e-16, 0.0], \"position\": [-8.881784197001252e-16, 4.440892098500626e-16, 65.45544935343179], \"viewUp\": [0.0, 1.0, 0.0], \"clippingRange\": [61.31068663579828, 70.83073415974759]}}, {\"parent\": \"0000000115e3c600\", \"id\": \"0000000292a34b50\", \"type\": \"vtkOpenGLActor\", \"properties\": {\"visibility\": 1, \"pickable\": 1, \"dragable\": 1, \"useBounds\": true, \"origin\": [0.0, 0.0, 0.0], \"position\": [0.0, 0.0, 0.0], \"scale\": [1.0, 1.0, 1.0], \"forceOpaque\": false, \"forceTranslucent\": false}, \"calls\": [[\"setMapper\", [\"instance:${0000000292a3cae0}\"]], [\"setProperty\", [\"instance:${00000002882926e0}\"]]], \"dependencies\": [{\"parent\": \"0000000292a34b50\", \"id\": \"0000000292a3cae0\", \"type\": \"vtkMapper\", \"properties\": {\"resolveCoincidentTopology\": 0, \"renderTime\": 0.0, \"arrayAccessMode\": 0, \"scalarRange\": [2.493159596366184, 2.545453326828119], \"useLookupTableScalarRange\": 0, \"scalarVisibility\": 1, \"colorByArrayName\": -1, \"colorMode\": 1, \"scalarMode\": 2, \"interpolateScalarsBeforeMapping\": 1}, \"calls\": [[\"setInputData\", [\"instance:${0000000292a3cae0-dataset}\"]], [\"setLookupTable\", [\"instance:${0000000292a3b390}\"]]], \"dependencies\": [{\"parent\": \"0000000292a3cae0\", \"id\": \"0000000292a3cae0-dataset\", \"type\": \"vtkPolyData\", \"properties\": {\"points\": {\"hash\": \"d031d3764ffd58b4159736f7971613f7_1092d\", \"vtkClass\": \"vtkPoints\", \"name\": \"Points\", \"dataType\": \"Float64Array\", \"numberOfComponents\": 3, \"size\": 1092, \"ranges\": [{\"min\": -15.3776570925357, \"max\": 15.377657092535697, \"component\": null}, {\"min\": -7.108382664856641, \"max\": 7.1083826648566415, \"component\": null}, {\"min\": 0.0, \"max\": 0.0, \"component\": null}, {\"min\": 1.0308845268213749, \"max\": 16.370850280090814, \"component\": null}]}, \"polys\": {\"hash\": \"f33ed7b41f9afb9eb6346f8b366909f4_1099L\", \"vtkClass\": \"vtkCellArray\", \"name\": null, \"dataType\": \"Uint32Array\", \"numberOfComponents\": 1, \"size\": 1099, \"ranges\": [{\"min\": 0.0, \"max\": 363.0, \"component\": null}]}, \"fields\": [{\"hash\": \"0230479ef676990e53bc1a0a3265c14b_157d\", \"vtkClass\": \"vtkDataArray\", \"name\": \"Data\", \"dataType\": \"Float64Array\", \"numberOfComponents\": 1, \"size\": 157, \"ranges\": [{\"min\": 2.493159596366184, \"max\": 2.545453326828119, \"component\": null}], \"location\": \"cellData\", \"registration\": \"setScalars\"}]}}, {\"parent\": \"0000000292a3cae0\", \"id\": \"0000000292a3b390\", \"type\": \"vtkLookupTable\", \"properties\": {\"numberOfColors\": 256, \"valueRange\": [2.493159596366184, 2.545453326828119], \"hueRange\": [0.5, 0], \"saturationRange\": [1.0, 1.0], \"nanColor\": [0.6627450980392157, 0.6627450980392157, 0.6627450980392157, 1.0], \"belowRangeColor\": [0.0, 0.0, 0.0, 1.0], \"aboveRangeColor\": [1.0, 1.0, 1.0, 1.0], \"useAboveRangeColor\": false, \"useBelowRangeColor\": false, \"alpha\": 1.0, \"vectorSize\": -1, \"vectorComponent\": 0, \"vectorMode\": 1, \"indexedLookup\": 0, \"table\": [[10, 0, 0, 255], [13, 0, 0, 255], [15, 0, 0, 255], [18, 0, 0, 255], [21, 0, 0, 255], [23, 0, 0, 255], [26, 0, 0, 255], [28, 0, 0, 255], [31, 0, 0, 255], [34, 0, 0, 255], [36, 0, 0, 255], [39, 0, 0, 255], [42, 0, 0, 255], [44, 0, 0, 255], [47, 0, 0, 255], [49, 0, 0, 255], [52, 0, 0, 255], [55, 0, 0, 255], [57, 0, 0, 255], [60, 0, 0, 255], [63, 0, 0, 255], [65, 0, 0, 255], [68, 0, 0, 255], [70, 0, 0, 255], [73, 0, 0, 255], [76, 0, 0, 255], [78, 0, 0, 255], [81, 0, 0, 255], [84, 0, 0, 255], [86, 0, 0, 255], [89, 0, 0, 255], [91, 0, 0, 255], [94, 0, 0, 255], [97, 0, 0, 255], [99, 0, 0, 255], [102, 0, 0, 255], [105, 0, 0, 255], [107, 0, 0, 255], [110, 0, 0, 255], [112, 0, 0, 255], [115, 0, 0, 255], [118, 0, 0, 255], [120, 0, 0, 255], [123, 0, 0, 255], [126, 0, 0, 255], [128, 0, 0, 255], [131, 0, 0, 255], [133, 0, 0, 255], [136, 0, 0, 255], [139, 0, 0, 255], [141, 0, 0, 255], [144, 0, 0, 255], [147, 0, 0, 255], [149, 0, 0, 255], [152, 0, 0, 255], [154, 0, 0, 255], [157, 0, 0, 255], [160, 0, 0, 255], [162, 0, 0, 255], [165, 0, 0, 255], [168, 0, 0, 255], [170, 0, 0, 255], [173, 0, 0, 255], [175, 0, 0, 255], [178, 0, 0, 255], [181, 0, 0, 255], [183, 0, 0, 255], [186, 0, 0, 255], [189, 0, 0, 255], [191, 0, 0, 255], [194, 0, 0, 255], [196, 0, 0, 255], [199, 0, 0, 255], [202, 0, 0, 255], [204, 0, 0, 255], [207, 0, 0, 255], [210, 0, 0, 255], [212, 0, 0, 255], [215, 0, 0, 255], [217, 0, 0, 255], [220, 0, 0, 255], [223, 0, 0, 255], [225, 0, 0, 255], [228, 0, 0, 255], [231, 0, 0, 255], [233, 0, 0, 255], [236, 0, 0, 255], [238, 0, 0, 255], [241, 0, 0, 255], [244, 0, 0, 255], [246, 0, 0, 255], [249, 0, 0, 255], [252, 0, 0, 255], [254, 0, 0, 255], [255, 2, 0, 255], [255, 5, 0, 255], [255, 7, 0, 255], [255, 10, 0, 255], [255, 12, 0, 255], [255, 15, 0, 255], [255, 18, 0, 255], [255, 20, 0, 255], [255, 23, 0, 255], [255, 26, 0, 255], [255, 28, 0, 255], [255, 31, 0, 255], [255, 33, 0, 255], [255, 36, 0, 255], [255, 39, 0, 255], [255, 41, 0, 255], [255, 44, 0, 255], [255, 47, 0, 255], [255, 49, 0, 255], [255, 52, 0, 255], [255, 54, 0, 255], [255, 57, 0, 255], [255, 60, 0, 255], [255, 62, 0, 255], [255, 65, 0, 255], [255, 68, 0, 255], [255, 70, 0, 255], [255, 73, 0, 255], [255, 75, 0, 255], [255, 78, 0, 255], [255, 81, 0, 255], [255, 83, 0, 255], [255, 86, 0, 255], [255, 89, 0, 255], [255, 91, 0, 255], [255, 94, 0, 255], [255, 96, 0, 255], [255, 99, 0, 255], [255, 102, 0, 255], [255, 104, 0, 255], [255, 107, 0, 255], [255, 110, 0, 255], [255, 112, 0, 255], [255, 115, 0, 255], [255, 117, 0, 255], [255, 120, 0, 255], [255, 123, 0, 255], [255, 125, 0, 255], [255, 128, 0, 255], [255, 131, 0, 255], [255, 133, 0, 255], [255, 136, 0, 255], [255, 138, 0, 255], [255, 141, 0, 255], [255, 144, 0, 255], [255, 146, 0, 255], [255, 149, 0, 255], [255, 151, 0, 255], [255, 154, 0, 255], [255, 157, 0, 255], [255, 159, 0, 255], [255, 162, 0, 255], [255, 165, 0, 255], [255, 167, 0, 255], [255, 170, 0, 255], [255, 172, 0, 255], [255, 175, 0, 255], [255, 178, 0, 255], [255, 180, 0, 255], [255, 183, 0, 255], [255, 186, 0, 255], [255, 188, 0, 255], [255, 191, 0, 255], [255, 193, 0, 255], [255, 196, 0, 255], [255, 199, 0, 255], [255, 201, 0, 255], [255, 204, 0, 255], [255, 207, 0, 255], [255, 209, 0, 255], [255, 212, 0, 255], [255, 214, 0, 255], [255, 217, 0, 255], [255, 220, 0, 255], [255, 222, 0, 255], [255, 225, 0, 255], [255, 228, 0, 255], [255, 230, 0, 255], [255, 233, 0, 255], [255, 235, 0, 255], [255, 238, 0, 255], [255, 241, 0, 255], [255, 243, 0, 255], [255, 246, 0, 255], [255, 249, 0, 255], [255, 251, 0, 255], [255, 254, 0, 255], [255, 255, 2, 255], [255, 255, 6, 255], [255, 255, 10, 255], [255, 255, 14, 255], [255, 255, 18, 255], [255, 255, 22, 255], [255, 255, 26, 255], [255, 255, 30, 255], [255, 255, 34, 255], [255, 255, 38, 255], [255, 255, 42, 255], [255, 255, 46, 255], [255, 255, 50, 255], [255, 255, 54, 255], [255, 255, 58, 255], [255, 255, 62, 255], [255, 255, 65, 255], [255, 255, 69, 255], [255, 255, 73, 255], [255, 255, 77, 255], [255, 255, 81, 255], [255, 255, 85, 255], [255, 255, 89, 255], [255, 255, 93, 255], [255, 255, 97, 255], [255, 255, 101, 255], [255, 255, 105, 255], [255, 255, 109, 255], [255, 255, 113, 255], [255, 255, 117, 255], [255, 255, 121, 255], [255, 255, 125, 255], [255, 255, 128, 255], [255, 255, 132, 255], [255, 255, 136, 255], [255, 255, 140, 255], [255, 255, 144, 255], [255, 255, 148, 255], [255, 255, 152, 255], [255, 255, 156, 255], [255, 255, 160, 255], [255, 255, 164, 255], [255, 255, 168, 255], [255, 255, 172, 255], [255, 255, 176, 255], [255, 255, 180, 255], [255, 255, 184, 255], [255, 255, 188, 255], [255, 255, 191, 255], [255, 255, 195, 255], [255, 255, 199, 255], [255, 255, 203, 255], [255, 255, 207, 255], [255, 255, 211, 255], [255, 255, 215, 255], [255, 255, 219, 255], [255, 255, 223, 255], [255, 255, 227, 255], [255, 255, 231, 255], [255, 255, 235, 255], [255, 255, 239, 255], [255, 255, 243, 255], [255, 255, 247, 255], [255, 255, 251, 255], [255, 255, 255, 255]]}}]}, {\"parent\": \"0000000292a34b50\", \"id\": \"00000002882926e0\", \"type\": \"vtkOpenGLProperty\", \"properties\": {\"representation\": 2, \"diffuseColor\": [0.6784313725490196, 0.8470588235294118, 0.9019607843137255], \"color\": [0.6784313725490196, 0.8470588235294118, 0.9019607843137255], \"ambientColor\": [0.6784313725490196, 0.8470588235294118, 0.9019607843137255], \"specularColor\": [0.6784313725490196, 0.8470588235294118, 0.9019607843137255], \"edgeColor\": [0.0, 0.0, 0.0], \"ambient\": 0.0, \"diffuse\": 1.0, \"specular\": 0.0, \"specularPower\": 100.0, \"opacity\": 1.0, \"interpolation\": 0, \"edgeVisibility\": 1, \"backfaceCulling\": 0, \"frontfaceCulling\": 0, \"pointSize\": 5.0, \"lineWidth\": 1.0, \"lighting\": 0}}]}, {\"parent\": \"0000000115e3c600\", \"id\": \"0000000288292950\", \"type\": \"vtkScalarBarActor\", \"properties\": {\"visibility\": 1, \"pickable\": 0, \"dragable\": 1, \"useBounds\": true, \"automated\": true, \"axisLabel\": \"area\", \"boxPosition\": [0.88, -0.92], \"boxSize\": [0.6, 0.08], \"axisTitlePixelOffset\": 36.0, \"axisTextStyle\": {\"fontColor\": \"#000000\", \"fontStyle\": \"normal\", \"fontSize\": 18, \"fontFamily\": \"serif\"}, \"tickLabelPixelOffset\": 14.0, \"tickTextStyle\": {\"fontColor\": \"#000000\", \"fontStyle\": \"normal\", \"fontSize\": 14, \"fontFamily\": \"serif\"}, \"drawNanAnnotation\": 0, \"drawBelowRangeSwatch\": false, \"drawAboveRangeSwatch\": false}, \"calls\": [[\"setScalarsToColors\", [\"instance:${0000000292a3b390}\"]]], \"dependencies\": [{\"parent\": \"0000000288292950\", \"id\": \"0000000292a3b390\", \"type\": \"vtkLookupTable\", \"properties\": {}}]}, {\"parent\": \"0000000115e3c600\", \"id\": \"0000000292a37f80\", \"type\": \"vtkOpenGLLight\", \"properties\": {\"switch\": 1, \"intensity\": 0.25, \"color\": [1.0, 1.0, 1.0], \"position\": [0.0, 0.0, 1.0], \"focalPoint\": [0.0, 0.0, 0.0], \"positional\": 0, \"exponent\": 1.0, \"coneAngle\": 30.0, \"attenuationValues\": [1.0, 0.0, 0.0], \"lightType\": \"HeadLight\", \"shadowAttenuation\": 1.0}}, {\"parent\": \"0000000115e3c600\", \"id\": \"0000000292a388a0\", \"type\": \"vtkOpenGLLight\", \"properties\": {\"switch\": 1, \"intensity\": 0.75, \"color\": [1.0, 0.9725490196078431, 0.9019607843137255], \"position\": [0.11161889704894966, 0.766044443118978, 0.6330222215594891], \"focalPoint\": [0.0, 0.0, 0.0], \"positional\": 0, \"exponent\": 1.0, \"coneAngle\": 30.0, \"attenuationValues\": [1.0, 0.0, 0.0], \"lightType\": \"CameraLight\", \"shadowAttenuation\": 1.0}}, {\"parent\": \"0000000115e3c600\", \"id\": \"0000000292a39300\", \"type\": \"vtkOpenGLLight\", \"properties\": {\"switch\": 1, \"intensity\": 0.25, \"color\": [0.9098039215686274, 0.9333333333333333, 1.0], \"position\": [-0.044943455527547777, -0.9659258262890683, 0.25488700224417876], \"focalPoint\": [0.0, 0.0, 0.0], \"positional\": 0, \"exponent\": 1.0, \"coneAngle\": 30.0, \"attenuationValues\": [1.0, 0.0, 0.0], \"lightType\": \"CameraLight\", \"shadowAttenuation\": 1.0}}, {\"parent\": \"0000000115e3c600\", \"id\": \"0000000292a39d60\", \"type\": \"vtkOpenGLLight\", \"properties\": {\"switch\": 1, \"intensity\": 0.21428571428571427, \"color\": [1.0, 1.0, 1.0], \"position\": [0.9396926207859084, 0.0, -0.3420201433256687], \"focalPoint\": [0.0, 0.0, 0.0], \"positional\": 0, \"exponent\": 1.0, \"coneAngle\": 30.0, \"attenuationValues\": [1.0, 0.0, 0.0], \"lightType\": \"CameraLight\", \"shadowAttenuation\": 1.0}}, {\"parent\": \"0000000115e3c600\", \"id\": \"0000000292a3a7c0\", \"type\": \"vtkOpenGLLight\", \"properties\": {\"switch\": 1, \"intensity\": 0.21428571428571427, \"color\": [1.0, 1.0, 1.0], \"position\": [-0.9396926207859084, 0.0, -0.3420201433256687], \"focalPoint\": [0.0, 0.0, 0.0], \"positional\": 0, \"exponent\": 1.0, \"coneAngle\": 30.0, \"attenuationValues\": [1.0, 0.0, 0.0], \"lightType\": \"CameraLight\", \"shadowAttenuation\": 1.0}}], \"calls\": [[\"setActiveCamera\", [\"instance:${0000000292a14dd0}\"]], [\"addViewProp\", [\"instance:${0000000292a34b50}\"]], [\"addViewProp\", [\"instance:${0000000288292950}\"]], [\"addLight\", [\"instance:${0000000292a37f80}\"]], [\"addLight\", [\"instance:${0000000292a388a0}\"]], [\"addLight\", [\"instance:${0000000292a39300}\"]], [\"addLight\", [\"instance:${0000000292a39d60}\"]], [\"addLight\", [\"instance:${0000000292a3a7c0}\"]]]}], \"calls\": [[\"addRenderer\", [\"instance:${0000000115e3c600}\"]]], \"mtime\": 122935, \"extra\": {\"vtkRefId\": \"0000000292a33760\", \"centerOfRotation\": [-8.881784197001252e-16, 4.440892098500626e-16, 0.0], \"camera\": \"0000000292a14dd0\"}}}{\"wslink\": \"1.0\", \"id\": \"publish:trame.vtk.delta:0\", \"result\": {\"parent\": \"0x0\", \"id\": 4, \"type\": \"vtkCocoaRenderWindow\", \"properties\": {\"numberOfLayers\": 2}, \"dependencies\": [{\"parent\": \"0000000292a33760\", \"id\": \"0000000115e3c600\", \"type\": \"vtkOpenGLRenderer\", \"properties\": {\"background\": [1.0, 1.0, 1.0], \"background2\": [0.2, 0.2, 0.2], \"viewport\": [0.0, 0.0, 1.0, 1.0], \"twoSidedLighting\": 1, \"lightFollowCamera\": 1, \"layer\": 0, \"preserveColorBuffer\": 0, \"preserveDepthBuffer\": 0, \"nearClippingPlaneTolerance\": 0.001, \"clippingRangeExpansion\": 0.5, \"useShadows\": 0, \"useDepthPeeling\": 0, \"occlusionRatio\": 0.0, \"maximumNumberOfPeels\": 4, \"interactive\": 1}, \"dependencies\": [{\"parent\": \"0000000115e3c600\", \"id\": \"0000000292a14dd0\", \"type\": \"vtkOpenGLCamera\", \"properties\": {\"focalPoint\": [-8.881784197001252e-16, 4.440892098500626e-16, 0.0], \"position\": [-8.881784197001252e-16, 4.440892098500626e-16, 65.45544935343179], \"viewUp\": [0.0, 1.0, 0.0], \"clippingRange\": [61.31068663579828, 70.83073415974759]}}, {\"parent\": \"0000000115e3c600\", \"id\": \"0000000292a34b50\", \"type\": \"vtkOpenGLActor\", \"properties\": {}, \"calls\": [[\"setMapper\", [\"instance:${0000000292a3cae0}\"]], [\"setProperty\", [\"instance:${00000002882926e0}\"]]], \"dependencies\": [{\"parent\": \"0000000292a34b50\", \"id\": \"0000000292a3cae0\", \"type\": \"vtkMapper\", \"properties\": {}, \"calls\": [[\"setInputData\", [\"instance:${0000000292a3cae0-dataset}\"]], [\"setLookupTable\", [\"instance:${0000000292a3b390}\"]]], \"dependencies\": [{\"parent\": \"0000000292a3cae0\", \"id\": \"0000000292a3cae0-dataset\", \"type\": \"vtkPolyData\", \"properties\": {\"points\": {\"hash\": \"d031d3764ffd58b4159736f7971613f7_1092d\", \"vtkClass\": \"vtkPoints\", \"name\": \"Points\", \"dataType\": \"Float64Array\", \"numberOfComponents\": 3, \"size\": 1092, \"ranges\": [{\"min\": -15.3776570925357, \"max\": 15.377657092535697, \"component\": null}, {\"min\": -7.108382664856641, \"max\": 7.1083826648566415, \"component\": null}, {\"min\": 0.0, \"max\": 0.0, \"component\": null}, {\"min\": 1.0308845268213749, \"max\": 16.370850280090814, \"component\": null}]}, \"polys\": {\"hash\": \"f33ed7b41f9afb9eb6346f8b366909f4_1099L\", \"vtkClass\": \"vtkCellArray\", \"name\": null, \"dataType\": \"Uint32Array\", \"numberOfComponents\": 1, \"size\": 1099, \"ranges\": [{\"min\": 0.0, \"max\": 363.0, \"component\": null}]}, \"fields\": [{\"hash\": \"0230479ef676990e53bc1a0a3265c14b_157d\", \"vtkClass\": \"vtkDataArray\", \"name\": \"Data\", \"dataType\": \"Float64Array\", \"numberOfComponents\": 1, \"size\": 157, \"ranges\": [{\"min\": 2.493159596366184, \"max\": 2.545453326828119, \"component\": null}], \"location\": \"cellData\", \"registration\": \"setScalars\"}]}}, {\"parent\": \"0000000292a3cae0\", \"id\": \"0000000292a3b390\", \"type\": \"vtkLookupTable\", \"properties\": {}}]}, {\"parent\": \"0000000292a34b50\", \"id\": \"00000002882926e0\", \"type\": \"vtkOpenGLProperty\", \"properties\": {}}]}, {\"parent\": \"0000000115e3c600\", \"id\": \"0000000288292950\", \"type\": \"vtkScalarBarActor\", \"properties\": {}, \"calls\": [[\"setScalarsToColors\", [\"instance:${0000000292a3b390}\"]]], \"dependencies\": [{\"parent\": \"0000000288292950\", \"id\": \"0000000292a3b390\", \"type\": \"vtkLookupTable\", \"properties\": {}}]}, {\"parent\": \"0000000115e3c600\", \"id\": \"0000000292a37f80\", \"type\": \"vtkOpenGLLight\", \"properties\": {\"position\": [-8.881784197001252e-16, 4.440892098500626e-16, 65.45544935343179], \"focalPoint\": [-8.881784197001252e-16, 4.440892098500626e-16, 0.0]}}, {\"parent\": \"0000000115e3c600\", \"id\": \"0000000292a388a0\", \"type\": \"vtkOpenGLLight\", \"properties\": {}}, {\"parent\": \"0000000115e3c600\", \"id\": \"0000000292a39300\", \"type\": \"vtkOpenGLLight\", \"properties\": {}}, {\"parent\": \"0000000115e3c600\", \"id\": \"0000000292a39d60\", \"type\": \"vtkOpenGLLight\", \"properties\": {}}, {\"parent\": \"0000000115e3c600\", \"id\": \"0000000292a3a7c0\", \"type\": \"vtkOpenGLLight\", \"properties\": {}}], \"calls\": [[\"setActiveCamera\", [\"instance:${0000000292a14dd0}\"]]]}], \"calls\": [], \"mtime\": 125531, \"extra\": {\"vtkRefId\": \"0000000292a33760\", \"centerOfRotation\": [-8.881784197001252e-16, 4.440892098500626e-16, 0.0], \"camera\": \"0000000292a14dd0\"}}}\n",
      " JS Error => Malformed message:  {\"wslink\": \"1.0\", \"id\": \"publish:trame.vtk.delta:0\", \"result\": {\"parent\": \"0x0\", \"id\": 4, \"type\": \"vtkCocoaRenderWindow\", \"properties\": {\"numberOfLayers\": 2}, \"dependencies\": [{\"parent\": \"0000000292a33760\", \"id\": \"0000000115e3c600\", \"type\": \"vtkOpenGLRenderer\", \"properties\": {\"background\": [1.0, 1.0, 1.0], \"background2\": [0.2, 0.2, 0.2], \"viewport\": [0.0, 0.0, 1.0, 1.0], \"twoSidedLighting\": 1, \"lightFollowCamera\": 1, \"layer\": 0, \"preserveColorBuffer\": 0, \"preserveDepthBuffer\": 0, \"nearClippingPlaneTolerance\": 0.001, \"clippingRangeExpansion\": 0.5, \"useShadows\": 0, \"useDepthPeeling\": 0, \"occlusionRatio\": 0.0, \"maximumNumberOfPeels\": 4, \"interactive\": 1}, \"dependencies\": [{\"parent\": \"0000000115e3c600\", \"id\": \"0000000292a14dd0\", \"type\": \"vtkOpenGLCamera\", \"properties\": {\"focalPoint\": [-8.881784197001252e-16, 4.440892098500626e-16, 0.0], \"position\": [-8.881784197001252e-16, 4.440892098500626e-16, 65.45544935343179], \"viewUp\": [0.0, 1.0, 0.0], \"clippingRange\": [61.31068663579828, 70.83073415974759]}}, {\"parent\": \"0000000115e3c600\", \"id\": \"0000000292a34b50\", \"type\": \"vtkOpenGLActor\", \"properties\": {\"visibility\": 1, \"pickable\": 1, \"dragable\": 1, \"useBounds\": true, \"origin\": [0.0, 0.0, 0.0], \"position\": [0.0, 0.0, 0.0], \"scale\": [1.0, 1.0, 1.0], \"forceOpaque\": false, \"forceTranslucent\": false}, \"calls\": [[\"setMapper\", [\"instance:${0000000292a3cae0}\"]], [\"setProperty\", [\"instance:${00000002882926e0}\"]]], \"dependencies\": [{\"parent\": \"0000000292a34b50\", \"id\": \"0000000292a3cae0\", \"type\": \"vtkMapper\", \"properties\": {\"resolveCoincidentTopology\": 0, \"renderTime\": 0.0, \"arrayAccessMode\": 0, \"scalarRange\": [2.493159596366184, 2.545453326828119], \"useLookupTableScalarRange\": 0, \"scalarVisibility\": 1, \"colorByArrayName\": -1, \"colorMode\": 1, \"scalarMode\": 2, \"interpolateScalarsBeforeMapping\": 1}, \"calls\": [[\"setInputData\", [\"instance:${0000000292a3cae0-dataset}\"]], [\"setLookupTable\", [\"instance:${0000000292a3b390}\"]]], \"dependencies\": [{\"parent\": \"0000000292a3cae0\", \"id\": \"0000000292a3cae0-dataset\", \"type\": \"vtkPolyData\", \"properties\": {\"points\": {\"hash\": \"d031d3764ffd58b4159736f7971613f7_1092d\", \"vtkClass\": \"vtkPoints\", \"name\": \"Points\", \"dataType\": \"Float64Array\", \"numberOfComponents\": 3, \"size\": 1092, \"ranges\": [{\"min\": -15.3776570925357, \"max\": 15.377657092535697, \"component\": null}, {\"min\": -7.108382664856641, \"max\": 7.1083826648566415, \"component\": null}, {\"min\": 0.0, \"max\": 0.0, \"component\": null}, {\"min\": 1.0308845268213749, \"max\": 16.370850280090814, \"component\": null}]}, \"polys\": {\"hash\": \"f33ed7b41f9afb9eb6346f8b366909f4_1099L\", \"vtkClass\": \"vtkCellArray\", \"name\": null, \"dataType\": \"Uint32Array\", \"numberOfComponents\": 1, \"size\": 1099, \"ranges\": [{\"min\": 0.0, \"max\": 363.0, \"component\": null}]}, \"fields\": [{\"hash\": \"0230479ef676990e53bc1a0a3265c14b_157d\", \"vtkClass\": \"vtkDataArray\", \"name\": \"Data\", \"dataType\": \"Float64Array\", \"numberOfComponents\": 1, \"size\": 157, \"ranges\": [{\"min\": 2.493159596366184, \"max\": 2.545453326828119, \"component\": null}], \"location\": \"cellData\", \"registration\": \"setScalars\"}]}}, {\"parent\": \"0000000292a3cae0\", \"id\": \"0000000292a3b390\", \"type\": \"vtkLookupTable\", \"properties\": {\"numberOfColors\": 256, \"valueRange\": [2.493159596366184, 2.545453326828119], \"hueRange\": [0.5, 0], \"saturationRange\": [1.0, 1.0], \"nanColor\": [0.6627450980392157, 0.6627450980392157, 0.6627450980392157, 1.0], \"belowRangeColor\": [0.0, 0.0, 0.0, 1.0], \"aboveRangeColor\": [1.0, 1.0, 1.0, 1.0], \"useAboveRangeColor\": false, \"useBelowRangeColor\": false, \"alpha\": 1.0, \"vectorSize\": -1, \"vectorComponent\": 0, \"vectorMode\": 1, \"indexedLookup\": 0, \"table\": [[10, 0, 0, 255], [13, 0, 0, 255], [15, 0, 0, 255], [18, 0, 0, 255], [21, 0, 0, 255], [23, 0, 0, 255], [26, 0, 0, 255], [28, 0, 0, 255], [31, 0, 0, 255], [34, 0, 0, 255], [36, 0, 0, 255], [39, 0, 0, 255], [42, 0, 0, 255], [44, 0, 0, 255], [47, 0, 0, 255], [49, 0, 0, 255], [52, 0, 0, 255], [55, 0, 0, 255], [57, 0, 0, 255], [60, 0, 0, 255], [63, 0, 0, 255], [65, 0, 0, 255], [68, 0, 0, 255], [70, 0, 0, 255], [73, 0, 0, 255], [76, 0, 0, 255], [78, 0, 0, 255], [81, 0, 0, 255], [84, 0, 0, 255], [86, 0, 0, 255], [89, 0, 0, 255], [91, 0, 0, 255], [94, 0, 0, 255], [97, 0, 0, 255], [99, 0, 0, 255], [102, 0, 0, 255], [105, 0, 0, 255], [107, 0, 0, 255], [110, 0, 0, 255], [112, 0, 0, 255], [115, 0, 0, 255], [118, 0, 0, 255], [120, 0, 0, 255], [123, 0, 0, 255], [126, 0, 0, 255], [128, 0, 0, 255], [131, 0, 0, 255], [133, 0, 0, 255], [136, 0, 0, 255], [139, 0, 0, 255], [141, 0, 0, 255], [144, 0, 0, 255], [147, 0, 0, 255], [149, 0, 0, 255], [152, 0, 0, 255], [154, 0, 0, 255], [157, 0, 0, 255], [160, 0, 0, 255], [162, 0, 0, 255], [165, 0, 0, 255], [168, 0, 0, 255], [170, 0, 0, 255], [173, 0, 0, 255], [175, 0, 0, 255], [178, 0, 0, 255], [181, 0, 0, 255], [183, 0, 0, 255], [186, 0, 0, 255], [189, 0, 0, 255], [191, 0, 0, 255], [194, 0, 0, 255], [196, 0, 0, 255], [199, 0, 0, 255], [202, 0, 0, 255], [204, 0, 0, 255], [207, 0, 0, 255], [210, 0, 0, 255], [212, 0, 0, 255], [215, 0, 0, 255], [217, 0, 0, 255], [220, 0, 0, 255], [223, 0, 0, 255], [225, 0, 0, 255], [228, 0, 0, 255], [231, 0, 0, 255], [233, 0, 0, 255], [236, 0, 0, 255], [238, 0, 0, 255], [241, 0, 0, 255], [244, 0, 0, 255], [246, 0, 0, 255], [249, 0, 0, 255], [252, 0, 0, 255], [254, 0, 0, 255], [255, 2, 0, 255], [255, 5, 0, 255], [255, 7, 0, 255], [255, 10, 0, 255], [255, 12, 0, 255], [255, 15, 0, 255], [255, 18, 0, 255], [255, 20, 0, 255], [255, 23, 0, 255], [255, 26, 0, 255], [255, 28, 0, 255], [255, 31, 0, 255], [255, 33, 0, 255], [255, 36, 0, 255], [255, 39, 0, 255], [255, 41, 0, 255], [255, 44, 0, 255], [255, 47, 0, 255], [255, 49, 0, 255], [255, 52, 0, 255], [255, 54, 0, 255], [255, 57, 0, 255], [255, 60, 0, 255], [255, 62, 0, 255], [255, 65, 0, 255], [255, 68, 0, 255], [255, 70, 0, 255], [255, 73, 0, 255], [255, 75, 0, 255], [255, 78, 0, 255], [255, 81, 0, 255], [255, 83, 0, 255], [255, 86, 0, 255], [255, 89, 0, 255], [255, 91, 0, 255], [255, 94, 0, 255], [255, 96, 0, 255], [255, 99, 0, 255], [255, 102, 0, 255], [255, 104, 0, 255], [255, 107, 0, 255], [255, 110, 0, 255], [255, 112, 0, 255], [255, 115, 0, 255], [255, 117, 0, 255], [255, 120, 0, 255], [255, 123, 0, 255], [255, 125, 0, 255], [255, 128, 0, 255], [255, 131, 0, 255], [255, 133, 0, 255], [255, 136, 0, 255], [255, 138, 0, 255], [255, 141, 0, 255], [255, 144, 0, 255], [255, 146, 0, 255], [255, 149, 0, 255], [255, 151, 0, 255], [255, 154, 0, 255], [255, 157, 0, 255], [255, 159, 0, 255], [255, 162, 0, 255], [255, 165, 0, 255], [255, 167, 0, 255], [255, 170, 0, 255], [255, 172, 0, 255], [255, 175, 0, 255], [255, 178, 0, 255], [255, 180, 0, 255], [255, 183, 0, 255], [255, 186, 0, 255], [255, 188, 0, 255], [255, 191, 0, 255], [255, 193, 0, 255], [255, 196, 0, 255], [255, 199, 0, 255], [255, 201, 0, 255], [255, 204, 0, 255], [255, 207, 0, 255], [255, 209, 0, 255], [255, 212, 0, 255], [255, 214, 0, 255], [255, 217, 0, 255], [255, 220, 0, 255], [255, 222, 0, 255], [255, 225, 0, 255], [255, 228, 0, 255], [255, 230, 0, 255], [255, 233, 0, 255], [255, 235, 0, 255], [255, 238, 0, 255], [255, 241, 0, 255], [255, 243, 0, 255], [255, 246, 0, 255], [255, 249, 0, 255], [255, 251, 0, 255], [255, 254, 0, 255], [255, 255, 2, 255], [255, 255, 6, 255], [255, 255, 10, 255], [255, 255, 14, 255], [255, 255, 18, 255], [255, 255, 22, 255], [255, 255, 26, 255], [255, 255, 30, 255], [255, 255, 34, 255], [255, 255, 38, 255], [255, 255, 42, 255], [255, 255, 46, 255], [255, 255, 50, 255], [255, 255, 54, 255], [255, 255, 58, 255], [255, 255, 62, 255], [255, 255, 65, 255], [255, 255, 69, 255], [255, 255, 73, 255], [255, 255, 77, 255], [255, 255, 81, 255], [255, 255, 85, 255], [255, 255, 89, 255], [255, 255, 93, 255], [255, 255, 97, 255], [255, 255, 101, 255], [255, 255, 105, 255], [255, 255, 109, 255], [255, 255, 113, 255], [255, 255, 117, 255], [255, 255, 121, 255], [255, 255, 125, 255], [255, 255, 128, 255], [255, 255, 132, 255], [255, 255, 136, 255], [255, 255, 140, 255], [255, 255, 144, 255], [255, 255, 148, 255], [255, 255, 152, 255], [255, 255, 156, 255], [255, 255, 160, 255], [255, 255, 164, 255], [255, 255, 168, 255], [255, 255, 172, 255], [255, 255, 176, 255], [255, 255, 180, 255], [255, 255, 184, 255], [255, 255, 188, 255], [255, 255, 191, 255], [255, 255, 195, 255], [255, 255, 199, 255], [255, 255, 203, 255], [255, 255, 207, 255], [255, 255, 211, 255], [255, 255, 215, 255], [255, 255, 219, 255], [255, 255, 223, 255], [255, 255, 227, 255], [255, 255, 231, 255], [255, 255, 235, 255], [255, 255, 239, 255], [255, 255, 243, 255], [255, 255, 247, 255], [255, 255, 251, 255], [255, 255, 255, 255]]}}]}, {\"parent\": \"0000000292a34b50\", \"id\": \"00000002882926e0\", \"type\": \"vtkOpenGLProperty\", \"properties\": {\"representation\": 2, \"diffuseColor\": [0.6784313725490196, 0.8470588235294118, 0.9019607843137255], \"color\": [0.6784313725490196, 0.8470588235294118, 0.9019607843137255], \"ambientColor\": [0.6784313725490196, 0.8470588235294118, 0.9019607843137255], \"specularColor\": [0.6784313725490196, 0.8470588235294118, 0.9019607843137255], \"edgeColor\": [0.0, 0.0, 0.0], \"ambient\": 0.0, \"diffuse\": 1.0, \"specular\": 0.0, \"specularPower\": 100.0, \"opacity\": 1.0, \"interpolation\": 0, \"edgeVisibility\": 1, \"backfaceCulling\": 0, \"frontfaceCulling\": 0, \"pointSize\": 5.0, \"lineWidth\": 1.0, \"lighting\": 0}}]}, {\"parent\": \"0000000115e3c600\", \"id\": \"0000000288292950\", \"type\": \"vtkScalarBarActor\", \"properties\": {\"visibility\": 1, \"pickable\": 0, \"dragable\": 1, \"useBounds\": true, \"automated\": true, \"axisLabel\": \"area\", \"boxPosition\": [0.88, -0.92], \"boxSize\": [0.6, 0.08], \"axisTitlePixelOffset\": 36.0, \"axisTextStyle\": {\"fontColor\": \"#000000\", \"fontStyle\": \"normal\", \"fontSize\": 18, \"fontFamily\": \"serif\"}, \"tickLabelPixelOffset\": 14.0, \"tickTextStyle\": {\"fontColor\": \"#000000\", \"fontStyle\": \"normal\", \"fontSize\": 14, \"fontFamily\": \"serif\"}, \"drawNanAnnotation\": 0, \"drawBelowRangeSwatch\": false, \"drawAboveRangeSwatch\": false}, \"calls\": [[\"setScalarsToColors\", [\"instance:${0000000292a3b390}\"]]], \"dependencies\": [{\"parent\": \"0000000288292950\", \"id\": \"0000000292a3b390\", \"type\": \"vtkLookupTable\", \"properties\": {}}]}, {\"parent\": \"0000000115e3c600\", \"id\": \"0000000292a37f80\", \"type\": \"vtkOpenGLLight\", \"properties\": {\"switch\": 1, \"intensity\": 0.25, \"color\": [1.0, 1.0, 1.0], \"position\": [0.0, 0.0, 1.0], \"focalPoint\": [0.0, 0.0, 0.0], \"positional\": 0, \"exponent\": 1.0, \"coneAngle\": 30.0, \"attenuationValues\": [1.0, 0.0, 0.0], \"lightType\": \"HeadLight\", \"shadowAttenuation\": 1.0}}, {\"parent\": \"0000000115e3c600\", \"id\": \"0000000292a388a0\", \"type\": \"vtkOpenGLLight\", \"properties\": {\"switch\": 1, \"intensity\": 0.75, \"color\": [1.0, 0.9725490196078431, 0.9019607843137255], \"position\": [0.11161889704894966, 0.766044443118978, 0.6330222215594891], \"focalPoint\": [0.0, 0.0, 0.0], \"positional\": 0, \"exponent\": 1.0, \"coneAngle\": 30.0, \"attenuationValues\": [1.0, 0.0, 0.0], \"lightType\": \"CameraLight\", \"shadowAttenuation\": 1.0}}, {\"parent\": \"0000000115e3c600\", \"id\": \"0000000292a39300\", \"type\": \"vtkOpenGLLight\", \"properties\": {\"switch\": 1, \"intensity\": 0.25, \"color\": [0.9098039215686274, 0.9333333333333333, 1.0], \"position\": [-0.044943455527547777, -0.9659258262890683, 0.25488700224417876], \"focalPoint\": [0.0, 0.0, 0.0], \"positional\": 0, \"exponent\": 1.0, \"coneAngle\": 30.0, \"attenuationValues\": [1.0, 0.0, 0.0], \"lightType\": \"CameraLight\", \"shadowAttenuation\": 1.0}}, {\"parent\": \"0000000115e3c600\", \"id\": \"0000000292a39d60\", \"type\": \"vtkOpenGLLight\", \"properties\": {\"switch\": 1, \"intensity\": 0.21428571428571427, \"color\": [1.0, 1.0, 1.0], \"position\": [0.9396926207859084, 0.0, -0.3420201433256687], \"focalPoint\": [0.0, 0.0, 0.0], \"positional\": 0, \"exponent\": 1.0, \"coneAngle\": 30.0, \"attenuationValues\": [1.0, 0.0, 0.0], \"lightType\": \"CameraLight\", \"shadowAttenuation\": 1.0}}, {\"parent\": \"0000000115e3c600\", \"id\": \"0000000292a3a7c0\", \"type\": \"vtkOpenGLLight\", \"properties\": {\"switch\": 1, \"intensity\": 0.21428571428571427, \"color\": [1.0, 1.0, 1.0], \"position\": [-0.9396926207859084, 0.0, -0.3420201433256687], \"focalPoint\": [0.0, 0.0, 0.0], \"positional\": 0, \"exponent\": 1.0, \"coneAngle\": 30.0, \"attenuationValues\": [1.0, 0.0, 0.0], \"lightType\": \"CameraLight\", \"shadowAttenuation\": 1.0}}], \"calls\": [[\"setActiveCamera\", [\"instance:${0000000292a14dd0}\"]], [\"addViewProp\", [\"instance:${0000000292a34b50}\"]], [\"addViewProp\", [\"instance:${0000000288292950}\"]], [\"addLight\", [\"instance:${0000000292a37f80}\"]], [\"addLight\", [\"instance:${0000000292a388a0}\"]], [\"addLight\", [\"instance:${0000000292a39300}\"]], [\"addLight\", [\"instance:${0000000292a39d60}\"]], [\"addLight\", [\"instance:${0000000292a3a7c0}\"]]]}], \"calls\": [[\"addRenderer\", [\"instance:${0000000115e3c600}\"]]], \"mtime\": 122935, \"extra\": {\"vtkRefId\": \"0000000292a33760\", \"centerOfRotation\": [-8.881784197001252e-16, 4.440892098500626e-16, 0.0], \"camera\": \"0000000292a14dd0\"}}}{\"wslink\": \"1.0\", \"id\": \"publish:trame.vtk.delta:0\", \"result\": {\"parent\": \"0x0\", \"id\": 4, \"type\": \"vtkCocoaRenderWindow\", \"properties\": {\"numberOfLayers\": 2}, \"dependencies\": [{\"parent\": \"0000000292a33760\", \"id\": \"0000000115e3c600\", \"type\": \"vtkOpenGLRenderer\", \"properties\": {\"background\": [1.0, 1.0, 1.0], \"background2\": [0.2, 0.2, 0.2], \"viewport\": [0.0, 0.0, 1.0, 1.0], \"twoSidedLighting\": 1, \"lightFollowCamera\": 1, \"layer\": 0, \"preserveColorBuffer\": 0, \"preserveDepthBuffer\": 0, \"nearClippingPlaneTolerance\": 0.001, \"clippingRangeExpansion\": 0.5, \"useShadows\": 0, \"useDepthPeeling\": 0, \"occlusionRatio\": 0.0, \"maximumNumberOfPeels\": 4, \"interactive\": 1}, \"dependencies\": [{\"parent\": \"0000000115e3c600\", \"id\": \"0000000292a14dd0\", \"type\": \"vtkOpenGLCamera\", \"properties\": {\"focalPoint\": [-8.881784197001252e-16, 4.440892098500626e-16, 0.0], \"position\": [-8.881784197001252e-16, 4.440892098500626e-16, 65.45544935343179], \"viewUp\": [0.0, 1.0, 0.0], \"clippingRange\": [61.31068663579828, 70.83073415974759]}}, {\"parent\": \"0000000115e3c600\", \"id\": \"0000000292a34b50\", \"type\": \"vtkOpenGLActor\", \"properties\": {}, \"calls\": [[\"setMapper\", [\"instance:${0000000292a3cae0}\"]], [\"setProperty\", [\"instance:${00000002882926e0}\"]]], \"dependencies\": [{\"parent\": \"0000000292a34b50\", \"id\": \"0000000292a3cae0\", \"type\": \"vtkMapper\", \"properties\": {}, \"calls\": [[\"setInputData\", [\"instance:${0000000292a3cae0-dataset}\"]], [\"setLookupTable\", [\"instance:${0000000292a3b390}\"]]], \"dependencies\": [{\"parent\": \"0000000292a3cae0\", \"id\": \"0000000292a3cae0-dataset\", \"type\": \"vtkPolyData\", \"properties\": {\"points\": {\"hash\": \"d031d3764ffd58b4159736f7971613f7_1092d\", \"vtkClass\": \"vtkPoints\", \"name\": \"Points\", \"dataType\": \"Float64Array\", \"numberOfComponents\": 3, \"size\": 1092, \"ranges\": [{\"min\": -15.3776570925357, \"max\": 15.377657092535697, \"component\": null}, {\"min\": -7.108382664856641, \"max\": 7.1083826648566415, \"component\": null}, {\"min\": 0.0, \"max\": 0.0, \"component\": null}, {\"min\": 1.0308845268213749, \"max\": 16.370850280090814, \"component\": null}]}, \"polys\": {\"hash\": \"f33ed7b41f9afb9eb6346f8b366909f4_1099L\", \"vtkClass\": \"vtkCellArray\", \"name\": null, \"dataType\": \"Uint32Array\", \"numberOfComponents\": 1, \"size\": 1099, \"ranges\": [{\"min\": 0.0, \"max\": 363.0, \"component\": null}]}, \"fields\": [{\"hash\": \"0230479ef676990e53bc1a0a3265c14b_157d\", \"vtkClass\": \"vtkDataArray\", \"name\": \"Data\", \"dataType\": \"Float64Array\", \"numberOfComponents\": 1, \"size\": 157, \"ranges\": [{\"min\": 2.493159596366184, \"max\": 2.545453326828119, \"component\": null}], \"location\": \"cellData\", \"registration\": \"setScalars\"}]}}, {\"parent\": \"0000000292a3cae0\", \"id\": \"0000000292a3b390\", \"type\": \"vtkLookupTable\", \"properties\": {}}]}, {\"parent\": \"0000000292a34b50\", \"id\": \"00000002882926e0\", \"type\": \"vtkOpenGLProperty\", \"properties\": {}}]}, {\"parent\": \"0000000115e3c600\", \"id\": \"0000000288292950\", \"type\": \"vtkScalarBarActor\", \"properties\": {}, \"calls\": [[\"setScalarsToColors\", [\"instance:${0000000292a3b390}\"]]], \"dependencies\": [{\"parent\": \"0000000288292950\", \"id\": \"0000000292a3b390\", \"type\": \"vtkLookupTable\", \"properties\": {}}]}, {\"parent\": \"0000000115e3c600\", \"id\": \"0000000292a37f80\", \"type\": \"vtkOpenGLLight\", \"properties\": {\"position\": [-8.881784197001252e-16, 4.440892098500626e-16, 65.45544935343179], \"focalPoint\": [-8.881784197001252e-16, 4.440892098500626e-16, 0.0]}}, {\"parent\": \"0000000115e3c600\", \"id\": \"0000000292a388a0\", \"type\": \"vtkOpenGLLight\", \"properties\": {}}, {\"parent\": \"0000000115e3c600\", \"id\": \"0000000292a39300\", \"type\": \"vtkOpenGLLight\", \"properties\": {}}, {\"parent\": \"0000000115e3c600\", \"id\": \"0000000292a39d60\", \"type\": \"vtkOpenGLLight\", \"properties\": {}}, {\"parent\": \"0000000115e3c600\", \"id\": \"0000000292a3a7c0\", \"type\": \"vtkOpenGLLight\", \"properties\": {}}], \"calls\": [[\"setActiveCamera\", [\"instance:${0000000292a14dd0}\"]]]}], \"calls\": [], \"mtime\": 125531, \"extra\": {\"vtkRefId\": \"0000000292a33760\", \"centerOfRotation\": [-8.881784197001252e-16, 4.440892098500626e-16, 0.0], \"camera\": \"0000000292a14dd0\"}}}\n",
      " JS Error => Malformed message:  {\"wslink\": \"1.0\", \"id\": \"publish:trame.vtk.delta:0\", \"result\": {\"parent\": \"0x0\", \"id\": 4, \"type\": \"vtkCocoaRenderWindow\", \"properties\": {\"numberOfLayers\": 2}, \"dependencies\": [{\"parent\": \"0000000292a33760\", \"id\": \"0000000115e3c600\", \"type\": \"vtkOpenGLRenderer\", \"properties\": {\"background\": [1.0, 1.0, 1.0], \"background2\": [0.2, 0.2, 0.2], \"viewport\": [0.0, 0.0, 1.0, 1.0], \"twoSidedLighting\": 1, \"lightFollowCamera\": 1, \"layer\": 0, \"preserveColorBuffer\": 0, \"preserveDepthBuffer\": 0, \"nearClippingPlaneTolerance\": 0.001, \"clippingRangeExpansion\": 0.5, \"useShadows\": 0, \"useDepthPeeling\": 0, \"occlusionRatio\": 0.0, \"maximumNumberOfPeels\": 4, \"interactive\": 1}, \"dependencies\": [{\"parent\": \"0000000115e3c600\", \"id\": \"0000000292a14dd0\", \"type\": \"vtkOpenGLCamera\", \"properties\": {\"focalPoint\": [-8.881784197001252e-16, 4.440892098500626e-16, 0.0], \"position\": [-8.881784197001252e-16, 4.440892098500626e-16, 65.45544935343179], \"viewUp\": [0.0, 1.0, 0.0], \"clippingRange\": [61.31068663579828, 70.83073415974759]}}, {\"parent\": \"0000000115e3c600\", \"id\": \"0000000292a34b50\", \"type\": \"vtkOpenGLActor\", \"properties\": {\"visibility\": 1, \"pickable\": 1, \"dragable\": 1, \"useBounds\": true, \"origin\": [0.0, 0.0, 0.0], \"position\": [0.0, 0.0, 0.0], \"scale\": [1.0, 1.0, 1.0], \"forceOpaque\": false, \"forceTranslucent\": false}, \"calls\": [[\"setMapper\", [\"instance:${0000000292a3cae0}\"]], [\"setProperty\", [\"instance:${00000002882926e0}\"]]], \"dependencies\": [{\"parent\": \"0000000292a34b50\", \"id\": \"0000000292a3cae0\", \"type\": \"vtkMapper\", \"properties\": {\"resolveCoincidentTopology\": 0, \"renderTime\": 0.0, \"arrayAccessMode\": 0, \"scalarRange\": [2.493159596366184, 2.545453326828119], \"useLookupTableScalarRange\": 0, \"scalarVisibility\": 1, \"colorByArrayName\": -1, \"colorMode\": 1, \"scalarMode\": 2, \"interpolateScalarsBeforeMapping\": 1}, \"calls\": [[\"setInputData\", [\"instance:${0000000292a3cae0-dataset}\"]], [\"setLookupTable\", [\"instance:${0000000292a3b390}\"]]], \"dependencies\": [{\"parent\": \"0000000292a3cae0\", \"id\": \"0000000292a3cae0-dataset\", \"type\": \"vtkPolyData\", \"properties\": {\"points\": {\"hash\": \"d031d3764ffd58b4159736f7971613f7_1092d\", \"vtkClass\": \"vtkPoints\", \"name\": \"Points\", \"dataType\": \"Float64Array\", \"numberOfComponents\": 3, \"size\": 1092, \"ranges\": [{\"min\": -15.3776570925357, \"max\": 15.377657092535697, \"component\": null}, {\"min\": -7.108382664856641, \"max\": 7.1083826648566415, \"component\": null}, {\"min\": 0.0, \"max\": 0.0, \"component\": null}, {\"min\": 1.0308845268213749, \"max\": 16.370850280090814, \"component\": null}]}, \"polys\": {\"hash\": \"f33ed7b41f9afb9eb6346f8b366909f4_1099L\", \"vtkClass\": \"vtkCellArray\", \"name\": null, \"dataType\": \"Uint32Array\", \"numberOfComponents\": 1, \"size\": 1099, \"ranges\": [{\"min\": 0.0, \"max\": 363.0, \"component\": null}]}, \"fields\": [{\"hash\": \"0230479ef676990e53bc1a0a3265c14b_157d\", \"vtkClass\": \"vtkDataArray\", \"name\": \"Data\", \"dataType\": \"Float64Array\", \"numberOfComponents\": 1, \"size\": 157, \"ranges\": [{\"min\": 2.493159596366184, \"max\": 2.545453326828119, \"component\": null}], \"location\": \"cellData\", \"registration\": \"setScalars\"}]}}, {\"parent\": \"0000000292a3cae0\", \"id\": \"0000000292a3b390\", \"type\": \"vtkLookupTable\", \"properties\": {\"numberOfColors\": 256, \"valueRange\": [2.493159596366184, 2.545453326828119], \"hueRange\": [0.5, 0], \"saturationRange\": [1.0, 1.0], \"nanColor\": [0.6627450980392157, 0.6627450980392157, 0.6627450980392157, 1.0], \"belowRangeColor\": [0.0, 0.0, 0.0, 1.0], \"aboveRangeColor\": [1.0, 1.0, 1.0, 1.0], \"useAboveRangeColor\": false, \"useBelowRangeColor\": false, \"alpha\": 1.0, \"vectorSize\": -1, \"vectorComponent\": 0, \"vectorMode\": 1, \"indexedLookup\": 0, \"table\": [[10, 0, 0, 255], [13, 0, 0, 255], [15, 0, 0, 255], [18, 0, 0, 255], [21, 0, 0, 255], [23, 0, 0, 255], [26, 0, 0, 255], [28, 0, 0, 255], [31, 0, 0, 255], [34, 0, 0, 255], [36, 0, 0, 255], [39, 0, 0, 255], [42, 0, 0, 255], [44, 0, 0, 255], [47, 0, 0, 255], [49, 0, 0, 255], [52, 0, 0, 255], [55, 0, 0, 255], [57, 0, 0, 255], [60, 0, 0, 255], [63, 0, 0, 255], [65, 0, 0, 255], [68, 0, 0, 255], [70, 0, 0, 255], [73, 0, 0, 255], [76, 0, 0, 255], [78, 0, 0, 255], [81, 0, 0, 255], [84, 0, 0, 255], [86, 0, 0, 255], [89, 0, 0, 255], [91, 0, 0, 255], [94, 0, 0, 255], [97, 0, 0, 255], [99, 0, 0, 255], [102, 0, 0, 255], [105, 0, 0, 255], [107, 0, 0, 255], [110, 0, 0, 255], [112, 0, 0, 255], [115, 0, 0, 255], [118, 0, 0, 255], [120, 0, 0, 255], [123, 0, 0, 255], [126, 0, 0, 255], [128, 0, 0, 255], [131, 0, 0, 255], [133, 0, 0, 255], [136, 0, 0, 255], [139, 0, 0, 255], [141, 0, 0, 255], [144, 0, 0, 255], [147, 0, 0, 255], [149, 0, 0, 255], [152, 0, 0, 255], [154, 0, 0, 255], [157, 0, 0, 255], [160, 0, 0, 255], [162, 0, 0, 255], [165, 0, 0, 255], [168, 0, 0, 255], [170, 0, 0, 255], [173, 0, 0, 255], [175, 0, 0, 255], [178, 0, 0, 255], [181, 0, 0, 255], [183, 0, 0, 255], [186, 0, 0, 255], [189, 0, 0, 255], [191, 0, 0, 255], [194, 0, 0, 255], [196, 0, 0, 255], [199, 0, 0, 255], [202, 0, 0, 255], [204, 0, 0, 255], [207, 0, 0, 255], [210, 0, 0, 255], [212, 0, 0, 255], [215, 0, 0, 255], [217, 0, 0, 255], [220, 0, 0, 255], [223, 0, 0, 255], [225, 0, 0, 255], [228, 0, 0, 255], [231, 0, 0, 255], [233, 0, 0, 255], [236, 0, 0, 255], [238, 0, 0, 255], [241, 0, 0, 255], [244, 0, 0, 255], [246, 0, 0, 255], [249, 0, 0, 255], [252, 0, 0, 255], [254, 0, 0, 255], [255, 2, 0, 255], [255, 5, 0, 255], [255, 7, 0, 255], [255, 10, 0, 255], [255, 12, 0, 255], [255, 15, 0, 255], [255, 18, 0, 255], [255, 20, 0, 255], [255, 23, 0, 255], [255, 26, 0, 255], [255, 28, 0, 255], [255, 31, 0, 255], [255, 33, 0, 255], [255, 36, 0, 255], [255, 39, 0, 255], [255, 41, 0, 255], [255, 44, 0, 255], [255, 47, 0, 255], [255, 49, 0, 255], [255, 52, 0, 255], [255, 54, 0, 255], [255, 57, 0, 255], [255, 60, 0, 255], [255, 62, 0, 255], [255, 65, 0, 255], [255, 68, 0, 255], [255, 70, 0, 255], [255, 73, 0, 255], [255, 75, 0, 255], [255, 78, 0, 255], [255, 81, 0, 255], [255, 83, 0, 255], [255, 86, 0, 255], [255, 89, 0, 255], [255, 91, 0, 255], [255, 94, 0, 255], [255, 96, 0, 255], [255, 99, 0, 255], [255, 102, 0, 255], [255, 104, 0, 255], [255, 107, 0, 255], [255, 110, 0, 255], [255, 112, 0, 255], [255, 115, 0, 255], [255, 117, 0, 255], [255, 120, 0, 255], [255, 123, 0, 255], [255, 125, 0, 255], [255, 128, 0, 255], [255, 131, 0, 255], [255, 133, 0, 255], [255, 136, 0, 255], [255, 138, 0, 255], [255, 141, 0, 255], [255, 144, 0, 255], [255, 146, 0, 255], [255, 149, 0, 255], [255, 151, 0, 255], [255, 154, 0, 255], [255, 157, 0, 255], [255, 159, 0, 255], [255, 162, 0, 255], [255, 165, 0, 255], [255, 167, 0, 255], [255, 170, 0, 255], [255, 172, 0, 255], [255, 175, 0, 255], [255, 178, 0, 255], [255, 180, 0, 255], [255, 183, 0, 255], [255, 186, 0, 255], [255, 188, 0, 255], [255, 191, 0, 255], [255, 193, 0, 255], [255, 196, 0, 255], [255, 199, 0, 255], [255, 201, 0, 255], [255, 204, 0, 255], [255, 207, 0, 255], [255, 209, 0, 255], [255, 212, 0, 255], [255, 214, 0, 255], [255, 217, 0, 255], [255, 220, 0, 255], [255, 222, 0, 255], [255, 225, 0, 255], [255, 228, 0, 255], [255, 230, 0, 255], [255, 233, 0, 255], [255, 235, 0, 255], [255, 238, 0, 255], [255, 241, 0, 255], [255, 243, 0, 255], [255, 246, 0, 255], [255, 249, 0, 255], [255, 251, 0, 255], [255, 254, 0, 255], [255, 255, 2, 255], [255, 255, 6, 255], [255, 255, 10, 255], [255, 255, 14, 255], [255, 255, 18, 255], [255, 255, 22, 255], [255, 255, 26, 255], [255, 255, 30, 255], [255, 255, 34, 255], [255, 255, 38, 255], [255, 255, 42, 255], [255, 255, 46, 255], [255, 255, 50, 255], [255, 255, 54, 255], [255, 255, 58, 255], [255, 255, 62, 255], [255, 255, 65, 255], [255, 255, 69, 255], [255, 255, 73, 255], [255, 255, 77, 255], [255, 255, 81, 255], [255, 255, 85, 255], [255, 255, 89, 255], [255, 255, 93, 255], [255, 255, 97, 255], [255, 255, 101, 255], [255, 255, 105, 255], [255, 255, 109, 255], [255, 255, 113, 255], [255, 255, 117, 255], [255, 255, 121, 255], [255, 255, 125, 255], [255, 255, 128, 255], [255, 255, 132, 255], [255, 255, 136, 255], [255, 255, 140, 255], [255, 255, 144, 255], [255, 255, 148, 255], [255, 255, 152, 255], [255, 255, 156, 255], [255, 255, 160, 255], [255, 255, 164, 255], [255, 255, 168, 255], [255, 255, 172, 255], [255, 255, 176, 255], [255, 255, 180, 255], [255, 255, 184, 255], [255, 255, 188, 255], [255, 255, 191, 255], [255, 255, 195, 255], [255, 255, 199, 255], [255, 255, 203, 255], [255, 255, 207, 255], [255, 255, 211, 255], [255, 255, 215, 255], [255, 255, 219, 255], [255, 255, 223, 255], [255, 255, 227, 255], [255, 255, 231, 255], [255, 255, 235, 255], [255, 255, 239, 255], [255, 255, 243, 255], [255, 255, 247, 255], [255, 255, 251, 255], [255, 255, 255, 255]]}}]}, {\"parent\": \"0000000292a34b50\", \"id\": \"00000002882926e0\", \"type\": \"vtkOpenGLProperty\", \"properties\": {\"representation\": 2, \"diffuseColor\": [0.6784313725490196, 0.8470588235294118, 0.9019607843137255], \"color\": [0.6784313725490196, 0.8470588235294118, 0.9019607843137255], \"ambientColor\": [0.6784313725490196, 0.8470588235294118, 0.9019607843137255], \"specularColor\": [0.6784313725490196, 0.8470588235294118, 0.9019607843137255], \"edgeColor\": [0.0, 0.0, 0.0], \"ambient\": 0.0, \"diffuse\": 1.0, \"specular\": 0.0, \"specularPower\": 100.0, \"opacity\": 1.0, \"interpolation\": 0, \"edgeVisibility\": 1, \"backfaceCulling\": 0, \"frontfaceCulling\": 0, \"pointSize\": 5.0, \"lineWidth\": 1.0, \"lighting\": 0}}]}, {\"parent\": \"0000000115e3c600\", \"id\": \"0000000288292950\", \"type\": \"vtkScalarBarActor\", \"properties\": {\"visibility\": 1, \"pickable\": 0, \"dragable\": 1, \"useBounds\": true, \"automated\": true, \"axisLabel\": \"area\", \"boxPosition\": [0.88, -0.92], \"boxSize\": [0.6, 0.08], \"axisTitlePixelOffset\": 36.0, \"axisTextStyle\": {\"fontColor\": \"#000000\", \"fontStyle\": \"normal\", \"fontSize\": 18, \"fontFamily\": \"serif\"}, \"tickLabelPixelOffset\": 14.0, \"tickTextStyle\": {\"fontColor\": \"#000000\", \"fontStyle\": \"normal\", \"fontSize\": 14, \"fontFamily\": \"serif\"}, \"drawNanAnnotation\": 0, \"drawBelowRangeSwatch\": false, \"drawAboveRangeSwatch\": false}, \"calls\": [[\"setScalarsToColors\", [\"instance:${0000000292a3b390}\"]]], \"dependencies\": [{\"parent\": \"0000000288292950\", \"id\": \"0000000292a3b390\", \"type\": \"vtkLookupTable\", \"properties\": {}}]}, {\"parent\": \"0000000115e3c600\", \"id\": \"0000000292a37f80\", \"type\": \"vtkOpenGLLight\", \"properties\": {\"switch\": 1, \"intensity\": 0.25, \"color\": [1.0, 1.0, 1.0], \"position\": [0.0, 0.0, 1.0], \"focalPoint\": [0.0, 0.0, 0.0], \"positional\": 0, \"exponent\": 1.0, \"coneAngle\": 30.0, \"attenuationValues\": [1.0, 0.0, 0.0], \"lightType\": \"HeadLight\", \"shadowAttenuation\": 1.0}}, {\"parent\": \"0000000115e3c600\", \"id\": \"0000000292a388a0\", \"type\": \"vtkOpenGLLight\", \"properties\": {\"switch\": 1, \"intensity\": 0.75, \"color\": [1.0, 0.9725490196078431, 0.9019607843137255], \"position\": [0.11161889704894966, 0.766044443118978, 0.6330222215594891], \"focalPoint\": [0.0, 0.0, 0.0], \"positional\": 0, \"exponent\": 1.0, \"coneAngle\": 30.0, \"attenuationValues\": [1.0, 0.0, 0.0], \"lightType\": \"CameraLight\", \"shadowAttenuation\": 1.0}}, {\"parent\": \"0000000115e3c600\", \"id\": \"0000000292a39300\", \"type\": \"vtkOpenGLLight\", \"properties\": {\"switch\": 1, \"intensity\": 0.25, \"color\": [0.9098039215686274, 0.9333333333333333, 1.0], \"position\": [-0.044943455527547777, -0.9659258262890683, 0.25488700224417876], \"focalPoint\": [0.0, 0.0, 0.0], \"positional\": 0, \"exponent\": 1.0, \"coneAngle\": 30.0, \"attenuationValues\": [1.0, 0.0, 0.0], \"lightType\": \"CameraLight\", \"shadowAttenuation\": 1.0}}, {\"parent\": \"0000000115e3c600\", \"id\": \"0000000292a39d60\", \"type\": \"vtkOpenGLLight\", \"properties\": {\"switch\": 1, \"intensity\": 0.21428571428571427, \"color\": [1.0, 1.0, 1.0], \"position\": [0.9396926207859084, 0.0, -0.3420201433256687], \"focalPoint\": [0.0, 0.0, 0.0], \"positional\": 0, \"exponent\": 1.0, \"coneAngle\": 30.0, \"attenuationValues\": [1.0, 0.0, 0.0], \"lightType\": \"CameraLight\", \"shadowAttenuation\": 1.0}}, {\"parent\": \"0000000115e3c600\", \"id\": \"0000000292a3a7c0\", \"type\": \"vtkOpenGLLight\", \"properties\": {\"switch\": 1, \"intensity\": 0.21428571428571427, \"color\": [1.0, 1.0, 1.0], \"position\": [-0.9396926207859084, 0.0, -0.3420201433256687], \"focalPoint\": [0.0, 0.0, 0.0], \"positional\": 0, \"exponent\": 1.0, \"coneAngle\": 30.0, \"attenuationValues\": [1.0, 0.0, 0.0], \"lightType\": \"CameraLight\", \"shadowAttenuation\": 1.0}}], \"calls\": [[\"setActiveCamera\", [\"instance:${0000000292a14dd0}\"]], [\"addViewProp\", [\"instance:${0000000292a34b50}\"]], [\"addViewProp\", [\"instance:${0000000288292950}\"]], [\"addLight\", [\"instance:${0000000292a37f80}\"]], [\"addLight\", [\"instance:${0000000292a388a0}\"]], [\"addLight\", [\"instance:${0000000292a39300}\"]], [\"addLight\", [\"instance:${0000000292a39d60}\"]], [\"addLight\", [\"instance:${0000000292a3a7c0}\"]]]}], \"calls\": [[\"addRenderer\", [\"instance:${0000000115e3c600}\"]]], \"mtime\": 122935, \"extra\": {\"vtkRefId\": \"0000000292a33760\", \"centerOfRotation\": [-8.881784197001252e-16, 4.440892098500626e-16, 0.0], \"camera\": \"0000000292a14dd0\"}}}{\"wslink\": \"1.0\", \"id\": \"publish:trame.vtk.delta:0\", \"result\": {\"parent\": \"0x0\", \"id\": 4, \"type\": \"vtkCocoaRenderWindow\", \"properties\": {\"numberOfLayers\": 2}, \"dependencies\": [{\"parent\": \"0000000292a33760\", \"id\": \"0000000115e3c600\", \"type\": \"vtkOpenGLRenderer\", \"properties\": {\"background\": [1.0, 1.0, 1.0], \"background2\": [0.2, 0.2, 0.2], \"viewport\": [0.0, 0.0, 1.0, 1.0], \"twoSidedLighting\": 1, \"lightFollowCamera\": 1, \"layer\": 0, \"preserveColorBuffer\": 0, \"preserveDepthBuffer\": 0, \"nearClippingPlaneTolerance\": 0.001, \"clippingRangeExpansion\": 0.5, \"useShadows\": 0, \"useDepthPeeling\": 0, \"occlusionRatio\": 0.0, \"maximumNumberOfPeels\": 4, \"interactive\": 1}, \"dependencies\": [{\"parent\": \"0000000115e3c600\", \"id\": \"0000000292a14dd0\", \"type\": \"vtkOpenGLCamera\", \"properties\": {\"focalPoint\": [-8.881784197001252e-16, 4.440892098500626e-16, 0.0], \"position\": [-8.881784197001252e-16, 4.440892098500626e-16, 65.45544935343179], \"viewUp\": [0.0, 1.0, 0.0], \"clippingRange\": [61.31068663579828, 70.83073415974759]}}, {\"parent\": \"0000000115e3c600\", \"id\": \"0000000292a34b50\", \"type\": \"vtkOpenGLActor\", \"properties\": {}, \"calls\": [[\"setMapper\", [\"instance:${0000000292a3cae0}\"]], [\"setProperty\", [\"instance:${00000002882926e0}\"]]], \"dependencies\": [{\"parent\": \"0000000292a34b50\", \"id\": \"0000000292a3cae0\", \"type\": \"vtkMapper\", \"properties\": {}, \"calls\": [[\"setInputData\", [\"instance:${0000000292a3cae0-dataset}\"]], [\"setLookupTable\", [\"instance:${0000000292a3b390}\"]]], \"dependencies\": [{\"parent\": \"0000000292a3cae0\", \"id\": \"0000000292a3cae0-dataset\", \"type\": \"vtkPolyData\", \"properties\": {\"points\": {\"hash\": \"d031d3764ffd58b4159736f7971613f7_1092d\", \"vtkClass\": \"vtkPoints\", \"name\": \"Points\", \"dataType\": \"Float64Array\", \"numberOfComponents\": 3, \"size\": 1092, \"ranges\": [{\"min\": -15.3776570925357, \"max\": 15.377657092535697, \"component\": null}, {\"min\": -7.108382664856641, \"max\": 7.1083826648566415, \"component\": null}, {\"min\": 0.0, \"max\": 0.0, \"component\": null}, {\"min\": 1.0308845268213749, \"max\": 16.370850280090814, \"component\": null}]}, \"polys\": {\"hash\": \"f33ed7b41f9afb9eb6346f8b366909f4_1099L\", \"vtkClass\": \"vtkCellArray\", \"name\": null, \"dataType\": \"Uint32Array\", \"numberOfComponents\": 1, \"size\": 1099, \"ranges\": [{\"min\": 0.0, \"max\": 363.0, \"component\": null}]}, \"fields\": [{\"hash\": \"0230479ef676990e53bc1a0a3265c14b_157d\", \"vtkClass\": \"vtkDataArray\", \"name\": \"Data\", \"dataType\": \"Float64Array\", \"numberOfComponents\": 1, \"size\": 157, \"ranges\": [{\"min\": 2.493159596366184, \"max\": 2.545453326828119, \"component\": null}], \"location\": \"cellData\", \"registration\": \"setScalars\"}]}}, {\"parent\": \"0000000292a3cae0\", \"id\": \"0000000292a3b390\", \"type\": \"vtkLookupTable\", \"properties\": {}}]}, {\"parent\": \"0000000292a34b50\", \"id\": \"00000002882926e0\", \"type\": \"vtkOpenGLProperty\", \"properties\": {}}]}, {\"parent\": \"0000000115e3c600\", \"id\": \"0000000288292950\", \"type\": \"vtkScalarBarActor\", \"properties\": {}, \"calls\": [[\"setScalarsToColors\", [\"instance:${0000000292a3b390}\"]]], \"dependencies\": [{\"parent\": \"0000000288292950\", \"id\": \"0000000292a3b390\", \"type\": \"vtkLookupTable\", \"properties\": {}}]}, {\"parent\": \"0000000115e3c600\", \"id\": \"0000000292a37f80\", \"type\": \"vtkOpenGLLight\", \"properties\": {\"position\": [-8.881784197001252e-16, 4.440892098500626e-16, 65.45544935343179], \"focalPoint\": [-8.881784197001252e-16, 4.440892098500626e-16, 0.0]}}, {\"parent\": \"0000000115e3c600\", \"id\": \"0000000292a388a0\", \"type\": \"vtkOpenGLLight\", \"properties\": {}}, {\"parent\": \"0000000115e3c600\", \"id\": \"0000000292a39300\", \"type\": \"vtkOpenGLLight\", \"properties\": {}}, {\"parent\": \"0000000115e3c600\", \"id\": \"0000000292a39d60\", \"type\": \"vtkOpenGLLight\", \"properties\": {}}, {\"parent\": \"0000000115e3c600\", \"id\": \"0000000292a3a7c0\", \"type\": \"vtkOpenGLLight\", \"properties\": {}}], \"calls\": [[\"setActiveCamera\", [\"instance:${0000000292a14dd0}\"]]]}], \"calls\": [], \"mtime\": 125531, \"extra\": {\"vtkRefId\": \"0000000292a33760\", \"centerOfRotation\": [-8.881784197001252e-16, 4.440892098500626e-16, 0.0], \"camera\": \"0000000292a14dd0\"}}}\n",
      " JS Error => Malformed message:  {\"wslink\": \"1.0\", \"id\": \"publish:trame.vtk.delta:0\", \"result\": {\"parent\": \"0x0\", \"id\": 4, \"type\": \"vtkCocoaRenderWindow\", \"properties\": {\"numberOfLayers\": 2}, \"dependencies\": [{\"parent\": \"0000000292a33760\", \"id\": \"0000000115e3c600\", \"type\": \"vtkOpenGLRenderer\", \"properties\": {\"background\": [1.0, 1.0, 1.0], \"background2\": [0.2, 0.2, 0.2], \"viewport\": [0.0, 0.0, 1.0, 1.0], \"twoSidedLighting\": 1, \"lightFollowCamera\": 1, \"layer\": 0, \"preserveColorBuffer\": 0, \"preserveDepthBuffer\": 0, \"nearClippingPlaneTolerance\": 0.001, \"clippingRangeExpansion\": 0.5, \"useShadows\": 0, \"useDepthPeeling\": 0, \"occlusionRatio\": 0.0, \"maximumNumberOfPeels\": 4, \"interactive\": 1}, \"dependencies\": [{\"parent\": \"0000000115e3c600\", \"id\": \"0000000292a14dd0\", \"type\": \"vtkOpenGLCamera\", \"properties\": {\"focalPoint\": [-8.881784197001252e-16, 4.440892098500626e-16, 0.0], \"position\": [-8.881784197001252e-16, 4.440892098500626e-16, 65.45544935343179], \"viewUp\": [0.0, 1.0, 0.0], \"clippingRange\": [61.31068663579828, 70.83073415974759]}}, {\"parent\": \"0000000115e3c600\", \"id\": \"0000000292a34b50\", \"type\": \"vtkOpenGLActor\", \"properties\": {\"visibility\": 1, \"pickable\": 1, \"dragable\": 1, \"useBounds\": true, \"origin\": [0.0, 0.0, 0.0], \"position\": [0.0, 0.0, 0.0], \"scale\": [1.0, 1.0, 1.0], \"forceOpaque\": false, \"forceTranslucent\": false}, \"calls\": [[\"setMapper\", [\"instance:${0000000292a3cae0}\"]], [\"setProperty\", [\"instance:${00000002882926e0}\"]]], \"dependencies\": [{\"parent\": \"0000000292a34b50\", \"id\": \"0000000292a3cae0\", \"type\": \"vtkMapper\", \"properties\": {\"resolveCoincidentTopology\": 0, \"renderTime\": 0.0, \"arrayAccessMode\": 0, \"scalarRange\": [2.493159596366184, 2.545453326828119], \"useLookupTableScalarRange\": 0, \"scalarVisibility\": 1, \"colorByArrayName\": -1, \"colorMode\": 1, \"scalarMode\": 2, \"interpolateScalarsBeforeMapping\": 1}, \"calls\": [[\"setInputData\", [\"instance:${0000000292a3cae0-dataset}\"]], [\"setLookupTable\", [\"instance:${0000000292a3b390}\"]]], \"dependencies\": [{\"parent\": \"0000000292a3cae0\", \"id\": \"0000000292a3cae0-dataset\", \"type\": \"vtkPolyData\", \"properties\": {\"points\": {\"hash\": \"d031d3764ffd58b4159736f7971613f7_1092d\", \"vtkClass\": \"vtkPoints\", \"name\": \"Points\", \"dataType\": \"Float64Array\", \"numberOfComponents\": 3, \"size\": 1092, \"ranges\": [{\"min\": -15.3776570925357, \"max\": 15.377657092535697, \"component\": null}, {\"min\": -7.108382664856641, \"max\": 7.1083826648566415, \"component\": null}, {\"min\": 0.0, \"max\": 0.0, \"component\": null}, {\"min\": 1.0308845268213749, \"max\": 16.370850280090814, \"component\": null}]}, \"polys\": {\"hash\": \"f33ed7b41f9afb9eb6346f8b366909f4_1099L\", \"vtkClass\": \"vtkCellArray\", \"name\": null, \"dataType\": \"Uint32Array\", \"numberOfComponents\": 1, \"size\": 1099, \"ranges\": [{\"min\": 0.0, \"max\": 363.0, \"component\": null}]}, \"fields\": [{\"hash\": \"0230479ef676990e53bc1a0a3265c14b_157d\", \"vtkClass\": \"vtkDataArray\", \"name\": \"Data\", \"dataType\": \"Float64Array\", \"numberOfComponents\": 1, \"size\": 157, \"ranges\": [{\"min\": 2.493159596366184, \"max\": 2.545453326828119, \"component\": null}], \"location\": \"cellData\", \"registration\": \"setScalars\"}]}}, {\"parent\": \"0000000292a3cae0\", \"id\": \"0000000292a3b390\", \"type\": \"vtkLookupTable\", \"properties\": {\"numberOfColors\": 256, \"valueRange\": [2.493159596366184, 2.545453326828119], \"hueRange\": [0.5, 0], \"saturationRange\": [1.0, 1.0], \"nanColor\": [0.6627450980392157, 0.6627450980392157, 0.6627450980392157, 1.0], \"belowRangeColor\": [0.0, 0.0, 0.0, 1.0], \"aboveRangeColor\": [1.0, 1.0, 1.0, 1.0], \"useAboveRangeColor\": false, \"useBelowRangeColor\": false, \"alpha\": 1.0, \"vectorSize\": -1, \"vectorComponent\": 0, \"vectorMode\": 1, \"indexedLookup\": 0, \"table\": [[10, 0, 0, 255], [13, 0, 0, 255], [15, 0, 0, 255], [18, 0, 0, 255], [21, 0, 0, 255], [23, 0, 0, 255], [26, 0, 0, 255], [28, 0, 0, 255], [31, 0, 0, 255], [34, 0, 0, 255], [36, 0, 0, 255], [39, 0, 0, 255], [42, 0, 0, 255], [44, 0, 0, 255], [47, 0, 0, 255], [49, 0, 0, 255], [52, 0, 0, 255], [55, 0, 0, 255], [57, 0, 0, 255], [60, 0, 0, 255], [63, 0, 0, 255], [65, 0, 0, 255], [68, 0, 0, 255], [70, 0, 0, 255], [73, 0, 0, 255], [76, 0, 0, 255], [78, 0, 0, 255], [81, 0, 0, 255], [84, 0, 0, 255], [86, 0, 0, 255], [89, 0, 0, 255], [91, 0, 0, 255], [94, 0, 0, 255], [97, 0, 0, 255], [99, 0, 0, 255], [102, 0, 0, 255], [105, 0, 0, 255], [107, 0, 0, 255], [110, 0, 0, 255], [112, 0, 0, 255], [115, 0, 0, 255], [118, 0, 0, 255], [120, 0, 0, 255], [123, 0, 0, 255], [126, 0, 0, 255], [128, 0, 0, 255], [131, 0, 0, 255], [133, 0, 0, 255], [136, 0, 0, 255], [139, 0, 0, 255], [141, 0, 0, 255], [144, 0, 0, 255], [147, 0, 0, 255], [149, 0, 0, 255], [152, 0, 0, 255], [154, 0, 0, 255], [157, 0, 0, 255], [160, 0, 0, 255], [162, 0, 0, 255], [165, 0, 0, 255], [168, 0, 0, 255], [170, 0, 0, 255], [173, 0, 0, 255], [175, 0, 0, 255], [178, 0, 0, 255], [181, 0, 0, 255], [183, 0, 0, 255], [186, 0, 0, 255], [189, 0, 0, 255], [191, 0, 0, 255], [194, 0, 0, 255], [196, 0, 0, 255], [199, 0, 0, 255], [202, 0, 0, 255], [204, 0, 0, 255], [207, 0, 0, 255], [210, 0, 0, 255], [212, 0, 0, 255], [215, 0, 0, 255], [217, 0, 0, 255], [220, 0, 0, 255], [223, 0, 0, 255], [225, 0, 0, 255], [228, 0, 0, 255], [231, 0, 0, 255], [233, 0, 0, 255], [236, 0, 0, 255], [238, 0, 0, 255], [241, 0, 0, 255], [244, 0, 0, 255], [246, 0, 0, 255], [249, 0, 0, 255], [252, 0, 0, 255], [254, 0, 0, 255], [255, 2, 0, 255], [255, 5, 0, 255], [255, 7, 0, 255], [255, 10, 0, 255], [255, 12, 0, 255], [255, 15, 0, 255], [255, 18, 0, 255], [255, 20, 0, 255], [255, 23, 0, 255], [255, 26, 0, 255], [255, 28, 0, 255], [255, 31, 0, 255], [255, 33, 0, 255], [255, 36, 0, 255], [255, 39, 0, 255], [255, 41, 0, 255], [255, 44, 0, 255], [255, 47, 0, 255], [255, 49, 0, 255], [255, 52, 0, 255], [255, 54, 0, 255], [255, 57, 0, 255], [255, 60, 0, 255], [255, 62, 0, 255], [255, 65, 0, 255], [255, 68, 0, 255], [255, 70, 0, 255], [255, 73, 0, 255], [255, 75, 0, 255], [255, 78, 0, 255], [255, 81, 0, 255], [255, 83, 0, 255], [255, 86, 0, 255], [255, 89, 0, 255], [255, 91, 0, 255], [255, 94, 0, 255], [255, 96, 0, 255], [255, 99, 0, 255], [255, 102, 0, 255], [255, 104, 0, 255], [255, 107, 0, 255], [255, 110, 0, 255], [255, 112, 0, 255], [255, 115, 0, 255], [255, 117, 0, 255], [255, 120, 0, 255], [255, 123, 0, 255], [255, 125, 0, 255], [255, 128, 0, 255], [255, 131, 0, 255], [255, 133, 0, 255], [255, 136, 0, 255], [255, 138, 0, 255], [255, 141, 0, 255], [255, 144, 0, 255], [255, 146, 0, 255], [255, 149, 0, 255], [255, 151, 0, 255], [255, 154, 0, 255], [255, 157, 0, 255], [255, 159, 0, 255], [255, 162, 0, 255], [255, 165, 0, 255], [255, 167, 0, 255], [255, 170, 0, 255], [255, 172, 0, 255], [255, 175, 0, 255], [255, 178, 0, 255], [255, 180, 0, 255], [255, 183, 0, 255], [255, 186, 0, 255], [255, 188, 0, 255], [255, 191, 0, 255], [255, 193, 0, 255], [255, 196, 0, 255], [255, 199, 0, 255], [255, 201, 0, 255], [255, 204, 0, 255], [255, 207, 0, 255], [255, 209, 0, 255], [255, 212, 0, 255], [255, 214, 0, 255], [255, 217, 0, 255], [255, 220, 0, 255], [255, 222, 0, 255], [255, 225, 0, 255], [255, 228, 0, 255], [255, 230, 0, 255], [255, 233, 0, 255], [255, 235, 0, 255], [255, 238, 0, 255], [255, 241, 0, 255], [255, 243, 0, 255], [255, 246, 0, 255], [255, 249, 0, 255], [255, 251, 0, 255], [255, 254, 0, 255], [255, 255, 2, 255], [255, 255, 6, 255], [255, 255, 10, 255], [255, 255, 14, 255], [255, 255, 18, 255], [255, 255, 22, 255], [255, 255, 26, 255], [255, 255, 30, 255], [255, 255, 34, 255], [255, 255, 38, 255], [255, 255, 42, 255], [255, 255, 46, 255], [255, 255, 50, 255], [255, 255, 54, 255], [255, 255, 58, 255], [255, 255, 62, 255], [255, 255, 65, 255], [255, 255, 69, 255], [255, 255, 73, 255], [255, 255, 77, 255], [255, 255, 81, 255], [255, 255, 85, 255], [255, 255, 89, 255], [255, 255, 93, 255], [255, 255, 97, 255], [255, 255, 101, 255], [255, 255, 105, 255], [255, 255, 109, 255], [255, 255, 113, 255], [255, 255, 117, 255], [255, 255, 121, 255], [255, 255, 125, 255], [255, 255, 128, 255], [255, 255, 132, 255], [255, 255, 136, 255], [255, 255, 140, 255], [255, 255, 144, 255], [255, 255, 148, 255], [255, 255, 152, 255], [255, 255, 156, 255], [255, 255, 160, 255], [255, 255, 164, 255], [255, 255, 168, 255], [255, 255, 172, 255], [255, 255, 176, 255], [255, 255, 180, 255], [255, 255, 184, 255], [255, 255, 188, 255], [255, 255, 191, 255], [255, 255, 195, 255], [255, 255, 199, 255], [255, 255, 203, 255], [255, 255, 207, 255], [255, 255, 211, 255], [255, 255, 215, 255], [255, 255, 219, 255], [255, 255, 223, 255], [255, 255, 227, 255], [255, 255, 231, 255], [255, 255, 235, 255], [255, 255, 239, 255], [255, 255, 243, 255], [255, 255, 247, 255], [255, 255, 251, 255], [255, 255, 255, 255]]}}]}, {\"parent\": \"0000000292a34b50\", \"id\": \"00000002882926e0\", \"type\": \"vtkOpenGLProperty\", \"properties\": {\"representation\": 2, \"diffuseColor\": [0.6784313725490196, 0.8470588235294118, 0.9019607843137255], \"color\": [0.6784313725490196, 0.8470588235294118, 0.9019607843137255], \"ambientColor\": [0.6784313725490196, 0.8470588235294118, 0.9019607843137255], \"specularColor\": [0.6784313725490196, 0.8470588235294118, 0.9019607843137255], \"edgeColor\": [0.0, 0.0, 0.0], \"ambient\": 0.0, \"diffuse\": 1.0, \"specular\": 0.0, \"specularPower\": 100.0, \"opacity\": 1.0, \"interpolation\": 0, \"edgeVisibility\": 1, \"backfaceCulling\": 0, \"frontfaceCulling\": 0, \"pointSize\": 5.0, \"lineWidth\": 1.0, \"lighting\": 0}}]}, {\"parent\": \"0000000115e3c600\", \"id\": \"0000000288292950\", \"type\": \"vtkScalarBarActor\", \"properties\": {\"visibility\": 1, \"pickable\": 0, \"dragable\": 1, \"useBounds\": true, \"automated\": true, \"axisLabel\": \"area\", \"boxPosition\": [0.88, -0.92], \"boxSize\": [0.6, 0.08], \"axisTitlePixelOffset\": 36.0, \"axisTextStyle\": {\"fontColor\": \"#000000\", \"fontStyle\": \"normal\", \"fontSize\": 18, \"fontFamily\": \"serif\"}, \"tickLabelPixelOffset\": 14.0, \"tickTextStyle\": {\"fontColor\": \"#000000\", \"fontStyle\": \"normal\", \"fontSize\": 14, \"fontFamily\": \"serif\"}, \"drawNanAnnotation\": 0, \"drawBelowRangeSwatch\": false, \"drawAboveRangeSwatch\": false}, \"calls\": [[\"setScalarsToColors\", [\"instance:${0000000292a3b390}\"]]], \"dependencies\": [{\"parent\": \"0000000288292950\", \"id\": \"0000000292a3b390\", \"type\": \"vtkLookupTable\", \"properties\": {}}]}, {\"parent\": \"0000000115e3c600\", \"id\": \"0000000292a37f80\", \"type\": \"vtkOpenGLLight\", \"properties\": {\"switch\": 1, \"intensity\": 0.25, \"color\": [1.0, 1.0, 1.0], \"position\": [0.0, 0.0, 1.0], \"focalPoint\": [0.0, 0.0, 0.0], \"positional\": 0, \"exponent\": 1.0, \"coneAngle\": 30.0, \"attenuationValues\": [1.0, 0.0, 0.0], \"lightType\": \"HeadLight\", \"shadowAttenuation\": 1.0}}, {\"parent\": \"0000000115e3c600\", \"id\": \"0000000292a388a0\", \"type\": \"vtkOpenGLLight\", \"properties\": {\"switch\": 1, \"intensity\": 0.75, \"color\": [1.0, 0.9725490196078431, 0.9019607843137255], \"position\": [0.11161889704894966, 0.766044443118978, 0.6330222215594891], \"focalPoint\": [0.0, 0.0, 0.0], \"positional\": 0, \"exponent\": 1.0, \"coneAngle\": 30.0, \"attenuationValues\": [1.0, 0.0, 0.0], \"lightType\": \"CameraLight\", \"shadowAttenuation\": 1.0}}, {\"parent\": \"0000000115e3c600\", \"id\": \"0000000292a39300\", \"type\": \"vtkOpenGLLight\", \"properties\": {\"switch\": 1, \"intensity\": 0.25, \"color\": [0.9098039215686274, 0.9333333333333333, 1.0], \"position\": [-0.044943455527547777, -0.9659258262890683, 0.25488700224417876], \"focalPoint\": [0.0, 0.0, 0.0], \"positional\": 0, \"exponent\": 1.0, \"coneAngle\": 30.0, \"attenuationValues\": [1.0, 0.0, 0.0], \"lightType\": \"CameraLight\", \"shadowAttenuation\": 1.0}}, {\"parent\": \"0000000115e3c600\", \"id\": \"0000000292a39d60\", \"type\": \"vtkOpenGLLight\", \"properties\": {\"switch\": 1, \"intensity\": 0.21428571428571427, \"color\": [1.0, 1.0, 1.0], \"position\": [0.9396926207859084, 0.0, -0.3420201433256687], \"focalPoint\": [0.0, 0.0, 0.0], \"positional\": 0, \"exponent\": 1.0, \"coneAngle\": 30.0, \"attenuationValues\": [1.0, 0.0, 0.0], \"lightType\": \"CameraLight\", \"shadowAttenuation\": 1.0}}, {\"parent\": \"0000000115e3c600\", \"id\": \"0000000292a3a7c0\", \"type\": \"vtkOpenGLLight\", \"properties\": {\"switch\": 1, \"intensity\": 0.21428571428571427, \"color\": [1.0, 1.0, 1.0], \"position\": [-0.9396926207859084, 0.0, -0.3420201433256687], \"focalPoint\": [0.0, 0.0, 0.0], \"positional\": 0, \"exponent\": 1.0, \"coneAngle\": 30.0, \"attenuationValues\": [1.0, 0.0, 0.0], \"lightType\": \"CameraLight\", \"shadowAttenuation\": 1.0}}], \"calls\": [[\"setActiveCamera\", [\"instance:${0000000292a14dd0}\"]], [\"addViewProp\", [\"instance:${0000000292a34b50}\"]], [\"addViewProp\", [\"instance:${0000000288292950}\"]], [\"addLight\", [\"instance:${0000000292a37f80}\"]], [\"addLight\", [\"instance:${0000000292a388a0}\"]], [\"addLight\", [\"instance:${0000000292a39300}\"]], [\"addLight\", [\"instance:${0000000292a39d60}\"]], [\"addLight\", [\"instance:${0000000292a3a7c0}\"]]]}], \"calls\": [[\"addRenderer\", [\"instance:${0000000115e3c600}\"]]], \"mtime\": 122935, \"extra\": {\"vtkRefId\": \"0000000292a33760\", \"centerOfRotation\": [-8.881784197001252e-16, 4.440892098500626e-16, 0.0], \"camera\": \"0000000292a14dd0\"}}}{\"wslink\": \"1.0\", \"id\": \"publish:trame.vtk.delta:0\", \"result\": {\"parent\": \"0x0\", \"id\": 4, \"type\": \"vtkCocoaRenderWindow\", \"properties\": {\"numberOfLayers\": 2}, \"dependencies\": [{\"parent\": \"0000000292a33760\", \"id\": \"0000000115e3c600\", \"type\": \"vtkOpenGLRenderer\", \"properties\": {\"background\": [1.0, 1.0, 1.0], \"background2\": [0.2, 0.2, 0.2], \"viewport\": [0.0, 0.0, 1.0, 1.0], \"twoSidedLighting\": 1, \"lightFollowCamera\": 1, \"layer\": 0, \"preserveColorBuffer\": 0, \"preserveDepthBuffer\": 0, \"nearClippingPlaneTolerance\": 0.001, \"clippingRangeExpansion\": 0.5, \"useShadows\": 0, \"useDepthPeeling\": 0, \"occlusionRatio\": 0.0, \"maximumNumberOfPeels\": 4, \"interactive\": 1}, \"dependencies\": [{\"parent\": \"0000000115e3c600\", \"id\": \"0000000292a14dd0\", \"type\": \"vtkOpenGLCamera\", \"properties\": {\"focalPoint\": [-8.881784197001252e-16, 4.440892098500626e-16, 0.0], \"position\": [-8.881784197001252e-16, 4.440892098500626e-16, 65.45544935343179], \"viewUp\": [0.0, 1.0, 0.0], \"clippingRange\": [61.31068663579828, 70.83073415974759]}}, {\"parent\": \"0000000115e3c600\", \"id\": \"0000000292a34b50\", \"type\": \"vtkOpenGLActor\", \"properties\": {}, \"calls\": [[\"setMapper\", [\"instance:${0000000292a3cae0}\"]], [\"setProperty\", [\"instance:${00000002882926e0}\"]]], \"dependencies\": [{\"parent\": \"0000000292a34b50\", \"id\": \"0000000292a3cae0\", \"type\": \"vtkMapper\", \"properties\": {}, \"calls\": [[\"setInputData\", [\"instance:${0000000292a3cae0-dataset}\"]], [\"setLookupTable\", [\"instance:${0000000292a3b390}\"]]], \"dependencies\": [{\"parent\": \"0000000292a3cae0\", \"id\": \"0000000292a3cae0-dataset\", \"type\": \"vtkPolyData\", \"properties\": {\"points\": {\"hash\": \"d031d3764ffd58b4159736f7971613f7_1092d\", \"vtkClass\": \"vtkPoints\", \"name\": \"Points\", \"dataType\": \"Float64Array\", \"numberOfComponents\": 3, \"size\": 1092, \"ranges\": [{\"min\": -15.3776570925357, \"max\": 15.377657092535697, \"component\": null}, {\"min\": -7.108382664856641, \"max\": 7.1083826648566415, \"component\": null}, {\"min\": 0.0, \"max\": 0.0, \"component\": null}, {\"min\": 1.0308845268213749, \"max\": 16.370850280090814, \"component\": null}]}, \"polys\": {\"hash\": \"f33ed7b41f9afb9eb6346f8b366909f4_1099L\", \"vtkClass\": \"vtkCellArray\", \"name\": null, \"dataType\": \"Uint32Array\", \"numberOfComponents\": 1, \"size\": 1099, \"ranges\": [{\"min\": 0.0, \"max\": 363.0, \"component\": null}]}, \"fields\": [{\"hash\": \"0230479ef676990e53bc1a0a3265c14b_157d\", \"vtkClass\": \"vtkDataArray\", \"name\": \"Data\", \"dataType\": \"Float64Array\", \"numberOfComponents\": 1, \"size\": 157, \"ranges\": [{\"min\": 2.493159596366184, \"max\": 2.545453326828119, \"component\": null}], \"location\": \"cellData\", \"registration\": \"setScalars\"}]}}, {\"parent\": \"0000000292a3cae0\", \"id\": \"0000000292a3b390\", \"type\": \"vtkLookupTable\", \"properties\": {}}]}, {\"parent\": \"0000000292a34b50\", \"id\": \"00000002882926e0\", \"type\": \"vtkOpenGLProperty\", \"properties\": {}}]}, {\"parent\": \"0000000115e3c600\", \"id\": \"0000000288292950\", \"type\": \"vtkScalarBarActor\", \"properties\": {}, \"calls\": [[\"setScalarsToColors\", [\"instance:${0000000292a3b390}\"]]], \"dependencies\": [{\"parent\": \"0000000288292950\", \"id\": \"0000000292a3b390\", \"type\": \"vtkLookupTable\", \"properties\": {}}]}, {\"parent\": \"0000000115e3c600\", \"id\": \"0000000292a37f80\", \"type\": \"vtkOpenGLLight\", \"properties\": {\"position\": [-8.881784197001252e-16, 4.440892098500626e-16, 65.45544935343179], \"focalPoint\": [-8.881784197001252e-16, 4.440892098500626e-16, 0.0]}}, {\"parent\": \"0000000115e3c600\", \"id\": \"0000000292a388a0\", \"type\": \"vtkOpenGLLight\", \"properties\": {}}, {\"parent\": \"0000000115e3c600\", \"id\": \"0000000292a39300\", \"type\": \"vtkOpenGLLight\", \"properties\": {}}, {\"parent\": \"0000000115e3c600\", \"id\": \"0000000292a39d60\", \"type\": \"vtkOpenGLLight\", \"properties\": {}}, {\"parent\": \"0000000115e3c600\", \"id\": \"0000000292a3a7c0\", \"type\": \"vtkOpenGLLight\", \"properties\": {}}], \"calls\": [[\"setActiveCamera\", [\"instance:${0000000292a14dd0}\"]]]}], \"calls\": [], \"mtime\": 125531, \"extra\": {\"vtkRefId\": \"0000000292a33760\", \"centerOfRotation\": [-8.881784197001252e-16, 4.440892098500626e-16, 0.0], \"camera\": \"0000000292a14dd0\"}}}\n"
     ]
    }
   ],
   "source": [
    "make_plotter(tissue).show()"
   ]
  },
  {
   "cell_type": "markdown",
   "id": "8c8e5707-0294-4a7e-a99c-5eff9a2174e0",
   "metadata": {},
   "source": [
    "## Basic analysis\n",
    "\n",
    "Let's first check the energy."
   ]
  },
  {
   "cell_type": "code",
   "execution_count": 17,
   "id": "e0f41599-d70e-4658-ac28-4ae15e475f8c",
   "metadata": {},
   "outputs": [
    {
     "name": "stdout",
     "output_type": "stream",
     "text": [
      "Energy per vertex 0.005238334248851037\n"
     ]
    }
   ],
   "source": [
    "print(f'Energy per vertex {forces.energy()/len(tissue.vertices())}')"
   ]
  },
  {
   "cell_type": "markdown",
   "id": "95c122c1-e0dc-44d5-b60c-5f1578bffea8",
   "metadata": {},
   "source": [
    "Then we save the final configuration to 'final.json'"
   ]
  },
  {
   "cell_type": "code",
   "execution_count": 18,
   "id": "697f0a91-1800-4325-9c62-332e9c5c45ef",
   "metadata": {},
   "outputs": [],
   "source": [
    "dumps.dump_mesh('final.json')"
   ]
  },
  {
   "cell_type": "markdown",
   "id": "4a5f9a2f-8f49-4388-9940-23d7133e196b",
   "metadata": {},
   "source": [
    "We now import VMAnalysis module and plot the histogram of cell areas."
   ]
  },
  {
   "cell_type": "code",
   "execution_count": 19,
   "id": "b9935033-8f67-4522-b9f2-3e366c3082c3",
   "metadata": {},
   "outputs": [],
   "source": [
    "from VMToolkit.VMAnalysis import *\n",
    "import numpy as np\n",
    "import matplotlib.pyplot as plt"
   ]
  },
  {
   "cell_type": "markdown",
   "id": "35271a3a-0b78-40dc-8b4e-d5b63d1e1be0",
   "metadata": {},
   "source": [
    "We read in the final configuration from the JSON file."
   ]
  },
  {
   "cell_type": "code",
   "execution_count": 20,
   "id": "67ce5efe-09a9-486b-a3d7-022345f565e4",
   "metadata": {},
   "outputs": [],
   "source": [
    "m = utils.HalfEdge.Mesh()\n",
    "m.read_json('final.json')"
   ]
  },
  {
   "cell_type": "markdown",
   "id": "b3f796f9-8d96-4fc5-affe-0b32a3f92e92",
   "metadata": {},
   "source": [
    "Compute and collect all cell areas."
   ]
  },
  {
   "cell_type": "code",
   "execution_count": 21,
   "id": "0628b591-ec73-49a5-9c14-9b595809e3c5",
   "metadata": {},
   "outputs": [],
   "source": [
    "areas = []\n",
    "for f in m.faces:\n",
    "    areas.append(f.area())\n",
    "areas = np.array(areas)"
   ]
  },
  {
   "cell_type": "markdown",
   "id": "36a26742-bf19-4c9d-b0be-3dedd6dd4bca",
   "metadata": {},
   "source": [
    "Plot a histogram"
   ]
  },
  {
   "cell_type": "code",
   "execution_count": 22,
   "id": "37a0e7d9-dd49-46da-9e31-6a10dc02fb27",
   "metadata": {},
   "outputs": [
    {
     "name": "stderr",
     "output_type": "stream",
     "text": [
      "Task exception was never retrieved\n",
      "future: <Task finished name='Task-166' coro=<WebSocketWriter.ping() done, defined at /Users/RSknepnek/opt/anaconda3/envs/py310/lib/python3.10/site-packages/aiohttp/http_websocket.py:705> exception=ConnectionResetError('Cannot write to closing transport')>\n",
      "Traceback (most recent call last):\n",
      "  File \"/Users/RSknepnek/opt/anaconda3/envs/py310/lib/python3.10/asyncio/tasks.py\", line 232, in __step\n",
      "    result = coro.send(None)\n",
      "  File \"/Users/RSknepnek/opt/anaconda3/envs/py310/lib/python3.10/site-packages/aiohttp/http_websocket.py\", line 709, in ping\n",
      "    await self._send_frame(message, WSMsgType.PING)\n",
      "  File \"/Users/RSknepnek/opt/anaconda3/envs/py310/lib/python3.10/site-packages/aiohttp/http_websocket.py\", line 686, in _send_frame\n",
      "    self._write(header + message)\n",
      "  File \"/Users/RSknepnek/opt/anaconda3/envs/py310/lib/python3.10/site-packages/aiohttp/http_websocket.py\", line 696, in _write\n",
      "    raise ConnectionResetError(\"Cannot write to closing transport\")\n",
      "ConnectionResetError: Cannot write to closing transport\n"
     ]
    },
    {
     "data": {
      "text/plain": [
       "(array([  0.,   0.,   0.,   0., 157.,   0.,   0.,   0.,   0.]),\n",
       " array([2.        , 2.11111111, 2.22222222, 2.33333333, 2.44444444,\n",
       "        2.55555556, 2.66666667, 2.77777778, 2.88888889, 3.        ]),\n",
       " <BarContainer object of 9 artists>)"
      ]
     },
     "execution_count": 22,
     "metadata": {},
     "output_type": "execute_result"
    },
    {
     "data": {
      "image/png": "[encoded data removed]",
      "text/plain": [
       "<Figure size 640x480 with 1 Axes>"
      ]
     },
     "metadata": {},
     "output_type": "display_data"
    }
   ],
   "source": [
    "plt.hist(areas, bins=np.linspace(2,3,10),width=0.1,edgecolor='k', facecolor='red')"
   ]
  },
  {
   "cell_type": "markdown",
   "id": "3b5d1adb",
   "metadata": {},
   "source": [
    "Calculate texture tensor"
   ]
  },
  {
   "cell_type": "code",
   "execution_count": 23,
   "id": "9ff6a6a7",
   "metadata": {},
   "outputs": [],
   "source": [
    "M = MTensor('final.json')"
   ]
  },
  {
   "cell_type": "markdown",
   "id": "b9592682",
   "metadata": {},
   "source": [
    "Save $\\hat{M}$ into a VTK file and visualise it as ellipses."
   ]
  },
  {
   "cell_type": "code",
   "execution_count": 24,
   "id": "1ebf16d2",
   "metadata": {},
   "outputs": [],
   "source": [
    "M.plot_vtk_ellipse('M_ellipses.vtp', scale = 0.25)"
   ]
  },
  {
   "cell_type": "markdown",
   "id": "46f48015",
   "metadata": {},
   "source": [
    "Plot the configuration and the M tensor."
   ]
  },
  {
   "cell_type": "code",
   "execution_count": 27,
   "id": "be1de573",
   "metadata": {},
   "outputs": [
    {
     "name": "stderr",
     "output_type": "stream",
     "text": [
      "/var/folders/m1/0dcyjgv515j5kwn3zj48yl9h0000gq/T/ipykernel_85273/751997107.py:3: MatplotlibDeprecationWarning: The get_cmap function was deprecated in Matplotlib 3.7 and will be removed two minor releases later. Use ``matplotlib.colormaps[name]`` or ``matplotlib.colormaps.get_cmap(obj)`` instead.\n",
      "  cmap = plt.cm.get_cmap(\"winter\", 20)\n"
     ]
    },
    {
     "data": {
      "application/vnd.jupyter.widget-view+json": {
       "model_id": "9504c241de34434eaa11a21a4e8718da",
       "version_major": 2,
       "version_minor": 0
      },
      "text/plain": [
       "Widget(value=\"<iframe src='http://localhost:51514/index.html?ui=P_0x2a71ddb70_6&reconnect=auto' style='width: …"
      ]
     },
     "metadata": {},
     "output_type": "display_data"
    }
   ],
   "source": [
    "import matplotlib.pyplot as plt\n",
    "import pyvista as pv\n",
    "cmap = plt.cm.get_cmap(\"winter\", 20)\n",
    "p = pv.Plotter()\n",
    "p.add_mesh(pv.read('cells_fpull_0.0500_step_00000600.vtp'), \n",
    "        scalars='Area',\n",
    "        show_edges=True,\n",
    "        line_width = 1,\n",
    "        cmap=cmap,\n",
    "        )\n",
    "p.add_mesh(pv.read('M_ellipses.vtp'))\n",
    "p.camera_position = 'xy'\n",
    "p.show()"
   ]
  },
  {
   "cell_type": "code",
   "execution_count": null,
   "id": "24530f07",
   "metadata": {},
   "outputs": [],
   "source": []
  }
 ],
 "metadata": {
  "kernelspec": {
   "display_name": "Python 3 (ipykernel)",
   "language": "python",
   "name": "python3"
  },
  "language_info": {
   "codemirror_mode": {
    "name": "ipython",
    "version": 3
   },
   "file_extension": ".py",
   "mimetype": "text/x-python",
   "name": "python",
   "nbconvert_exporter": "python",
   "pygments_lexer": "ipython3",
   "version": "3.10.4"
  }
 },
 "nbformat": 4,
 "nbformat_minor": 5
}
