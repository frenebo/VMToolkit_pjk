{
 "cells": [
  {
   "cell_type": "markdown",
   "id": "9e935c16-9a39-4bc4-83b6-ded62bddc5e9",
   "metadata": {},
   "source": [
    "# VMTutorial Example\n",
    "\n",
    "## Self-propelled cell\n",
    "\n",
    "In this example, we load a configuration of $N=100$ cells with average area set to 1 placed in a simulation box with periodic boundaries. All cells but are are labelled as ''passive''. One cells is labelled as ''active''.\n",
    "\n",
    "We use the standard vertex model with energy given as $$E = \\frac{1}{2}\\sum_c\\left[\\kappa(A_c - A_0)^2 + \\Gamma P_c^2 - \\Lambda P_c\\right],$$where $\\kappa$ is the area modulus, $\\Gamma$ is the perimeter modulus, and $\\Lambda = 2\\Gamma P_0$.\n",
    "\n",
    "The equation of motion for vertex $i$ is $$\\eta\\dot{\\mathbf{r}}_i = \\frac{f_0}{N_\\text{v}} \\mathbf{n}_C \\delta_{C,\\text{active}} -\\nabla_{\\mathbf{r}_i}E,$$where $\\eta$ is the friction coefficient between the vertex and the substrate. Term $\\frac{f_0 }{N_\\text{v}} \\mathbf{n}_C \\delta_{C,\\text{active}}$  denotes that the active cells is self-propelled with the force of magnitude $f_0$ along the direction set by the director vector $\\mathbf{n}_C$ assigned to each cell. The self propulsion force on the vertex is then $\\frac{1}{N_\\text{v}} \\mathbf{n}_C$, where $N_\\text{v}$ is the number of vertices in cell $C$. The Kronecker delta $\\delta_{C,\\text{active}}$ is used to indicate that the self-propulsion force is applied to the active cell only.\n",
    "\n",
    "In the actual simulation, we'll set $\\eta = 1$, and define $v_0 = f_0/\\eta$."
   ]
  },
  {
   "cell_type": "markdown",
   "id": "a6748898-5be3-4183-b236-47a22ad4d26b",
   "metadata": {},
   "source": [
    "### Loading the VM simulation module"
   ]
  },
  {
   "cell_type": "code",
   "execution_count": 1,
   "id": "dfc77357-92ed-483d-8392-0ac68f4a711b",
   "metadata": {
    "tags": []
   },
   "outputs": [],
   "source": [
    "from VMToolkit.VM import *"
   ]
  },
  {
   "cell_type": "markdown",
   "id": "2a40c06a",
   "metadata": {},
   "source": [
    "Loading auxiliary modules"
   ]
  },
  {
   "cell_type": "code",
   "execution_count": 2,
   "id": "0f67248e",
   "metadata": {},
   "outputs": [],
   "source": [
    "import numpy as np"
   ]
  },
  {
   "cell_type": "markdown",
   "id": "a97857a8-3d5b-4237-90e0-a8117c7e373b",
   "metadata": {},
   "source": [
    "### Parameters\n",
    "\n",
    "Simulation parameters"
   ]
  },
  {
   "cell_type": "code",
   "execution_count": 3,
   "id": "897945da-1444-4044-bcf2-ac556af0402c",
   "metadata": {
    "tags": []
   },
   "outputs": [],
   "source": [
    "input_file = 'random_normal_sp.json'\n",
    "dt = 0.05\n",
    "rng_seed = 11122023\n",
    "p0 = 3.85\n",
    "v0 = 2.0\n",
    "dumpfreq = 1\n",
    "nrelax = 50\n",
    "nrun = 500\n",
    "eta = 1.0 "
   ]
  },
  {
   "cell_type": "markdown",
   "id": "b71c7fe5-5664-4433-984d-c89bdc7f1cf3",
   "metadata": {},
   "source": [
    "### Simulation initialisation\n",
    "\n",
    "We now set the simulation object that will constrol the execution."
   ]
  },
  {
   "cell_type": "code",
   "execution_count": 4,
   "id": "af7b0c38-7431-4263-95bf-6e4f8f3fa561",
   "metadata": {
    "tags": []
   },
   "outputs": [],
   "source": [
    "tissue  = Tissue()                                               # initialise mesh\n",
    "sim_sys = System(tissue)                                         # base object for the system\n",
    "forces = Force(sim_sys)                                          # handles all types of forces\n",
    "integrators = Integrate(sim_sys, forces, rng_seed)               # handles all integrators\n",
    "topology = Topology(sim_sys, forces)                             # handles all topology changes (T1, division, ingression)\n",
    "dumps = Dump(sim_sys, forces)                                    # handles all data output \n",
    "simulation = Simulation(sim_sys, integrators, forces, topology)  # simulation object"
   ]
  },
  {
   "cell_type": "markdown",
   "id": "b3ebf388-2f97-49bb-affc-43ec3c8796af",
   "metadata": {},
   "source": [
    "We proceed to read in the data."
   ]
  },
  {
   "cell_type": "code",
   "execution_count": 5,
   "id": "e30cda4b-f964-49ed-b039-ea1d428c9a0e",
   "metadata": {
    "tags": []
   },
   "outputs": [
    {
     "name": "stdout",
     "output_type": "stream",
     "text": [
      "Setting periodic simulation box.\n",
      "Finished reading vertices.\n",
      "Finished reading faces.\n",
      "Finished mesh setup.\n",
      "Mesh has 200 vertices 300 edges and 100 faces.\n",
      "Finished reading input configuration.\n"
     ]
    }
   ],
   "source": [
    "sim_sys.read_input(input_file)"
   ]
  },
  {
   "cell_type": "markdown",
   "id": "9c502ba2",
   "metadata": {},
   "source": [
    "We now compute the mean cell area to be able to set the simulation parameters"
   ]
  },
  {
   "cell_type": "code",
   "execution_count": 6,
   "id": "cfed7abf",
   "metadata": {},
   "outputs": [],
   "source": [
    "A0 = 0.0\n",
    "for c in tissue.cells():\n",
    "    A0 += tissue.cell_area(c.id)\n",
    "A0 /= len(tissue.cells())"
   ]
  },
  {
   "cell_type": "markdown",
   "id": "62686e60-626c-43a8-8ab9-9e720dedf471",
   "metadata": {},
   "source": [
    "We now plot it to see how it looks like."
   ]
  },
  {
   "cell_type": "code",
   "execution_count": 8,
   "id": "762f5ab4-e7a2-466c-ac24-41a4cfaa38e2",
   "metadata": {
    "tags": []
   },
   "outputs": [
    {
     "data": {
      "application/vnd.jupyter.widget-view+json": {
       "model_id": "f8a2159e0072477fb045ee42f95bbcd2",
       "version_major": 2,
       "version_minor": 0
      },
      "text/plain": [
       "Widget(value=\"<iframe src='http://localhost:50354/index.html?ui=P_0x309cfc8b0_1&reconnect=auto' style='width: …"
      ]
     },
     "metadata": {},
     "output_type": "display_data"
    },
    {
     "name": "stdout",
     "output_type": "stream",
     "text": [
      " JS Error => Malformed message:  {\"wslink\": \"1.0\", \"id\": \"publish:trame.vtk.delta:0\", \"result\": {\"parent\": \"0x0\", \"id\": 2, \"type\": \"vtkCocoaRenderWindow\", \"properties\": {\"numberOfLayers\": 2}, \"dependencies\": [{\"parent\": \"000000031135cfc0\", \"id\": \"00000003090c7000\", \"type\": \"vtkOpenGLRenderer\", \"properties\": {\"background\": [1.0, 1.0, 1.0], \"background2\": [0.2, 0.2, 0.2], \"viewport\": [0.0, 0.0, 1.0, 1.0], \"twoSidedLighting\": 1, \"lightFollowCamera\": 1, \"layer\": 0, \"preserveColorBuffer\": 0, \"preserveDepthBuffer\": 0, \"nearClippingPlaneTolerance\": 0.001, \"clippingRangeExpansion\": 0.5, \"useShadows\": 0, \"useDepthPeeling\": 0, \"occlusionRatio\": 0.0, \"maximumNumberOfPeels\": 4, \"interactive\": 1}, \"dependencies\": [{\"parent\": \"00000003090c7000\", \"id\": \"00000001739fc2c0\", \"type\": \"vtkOpenGLCamera\", \"properties\": {\"focalPoint\": [0.006682963030616662, -0.10103063231411324, 0.0], \"position\": [0.006682963030616662, -0.10103063231411324, 26.328218053067417], \"viewUp\": [0.0, 1.0, 0.0], \"clippingRange\": [24.66106554420823, 28.49032482761364]}}, {\"parent\": \"00000003090c7000\", \"id\": \"000000031135eaf0\", \"type\": \"vtkOpenGLActor\", \"properties\": {\"visibility\": 1, \"pickable\": 1, \"dragable\": 1, \"useBounds\": true, \"origin\": [0.0, 0.0, 0.0], \"position\": [0.0, 0.0, 0.0], \"scale\": [1.0, 1.0, 1.0], \"forceOpaque\": false, \"forceTranslucent\": false}, \"calls\": [[\"setMapper\", [\"instance:${000000031135a0b0}\"]], [\"setProperty\", [\"instance:${0000000311344420}\"]]], \"dependencies\": [{\"parent\": \"000000031135eaf0\", \"id\": \"000000031135a0b0\", \"type\": \"vtkMapper\", \"properties\": {\"resolveCoincidentTopology\": 0, \"renderTime\": 0.0, \"arrayAccessMode\": 0, \"scalarRange\": [0.0, 1.0], \"useLookupTableScalarRange\": 0, \"scalarVisibility\": 1, \"colorByArrayName\": -1, \"colorMode\": 1, \"scalarMode\": 2, \"interpolateScalarsBeforeMapping\": 1}, \"calls\": [[\"setInputData\", [\"instance:${000000031135a0b0-dataset}\"]], [\"setLookupTable\", [\"instance:${000000031135a540}\"]]], \"dependencies\": [{\"parent\": \"000000031135a0b0\", \"id\": \"000000031135a0b0-dataset\", \"type\": \"vtkPolyData\", \"properties\": {\"points\": {\"hash\": \"901cd18d04609469d95c26f650fb6eab_600d\", \"vtkClass\": \"vtkPoints\", \"name\": \"Points\", \"dataType\": \"Float64Array\", \"numberOfComponents\": 3, \"size\": 600, \"ranges\": [{\"min\": -4.904083966090947, \"max\": 4.986093467894354, \"component\": null}, {\"min\": -4.979448814013456, \"max\": 4.94122292796716, \"component\": null}, {\"min\": 0.0, \"max\": 0.0, \"component\": null}, {\"min\": 0.17366055609102157, \"max\": 6.897334976264351, \"component\": null}]}, \"polys\": {\"hash\": \"8b5681624f35a583c98f7c8cb7e2df71_530L\", \"vtkClass\": \"vtkCellArray\", \"name\": null, \"dataType\": \"Uint32Array\", \"numberOfComponents\": 1, \"size\": 530, \"ranges\": [{\"min\": 0.0, \"max\": 199.0, \"component\": null}]}, \"fields\": [{\"hash\": \"1c2f89b323fae76d6828d3cfe196c554_76ll\", \"vtkClass\": \"vtkDataArray\", \"name\": \"Data\", \"dataType\": \"BigInt64Array\", \"numberOfComponents\": 1, \"size\": 76, \"ranges\": [{\"min\": 0.0, \"max\": 1.0, \"component\": null}], \"location\": \"cellData\", \"registration\": \"setScalars\"}]}}, {\"parent\": \"000000031135a0b0\", \"id\": \"000000031135a540\", \"type\": \"vtkLookupTable\", \"properties\": {\"numberOfColors\": 256, \"valueRange\": [0.0, 1.0], \"hueRange\": [0.5, 0], \"saturationRange\": [1.0, 1.0], \"nanColor\": [0.6627450980392157, 0.6627450980392157, 0.6627450980392157, 1.0], \"belowRangeColor\": [0.0, 0.0, 0.0, 1.0], \"aboveRangeColor\": [1.0, 1.0, 1.0, 1.0], \"useAboveRangeColor\": false, \"useBelowRangeColor\": false, \"alpha\": 1.0, \"vectorSize\": -1, \"vectorComponent\": 0, \"vectorMode\": 1, \"indexedLookup\": 0, \"table\": [[68, 1, 84, 255], [68, 2, 85, 255], [68, 3, 87, 255], [69, 5, 88, 255], [69, 6, 90, 255], [69, 8, 91, 255], [70, 9, 92, 255], [70, 11, 94, 255], [70, 12, 95, 255], [70, 14, 97, 255], [71, 15, 98, 255], [71, 17, 99, 255], [71, 18, 101, 255], [71, 20, 102, 255], [71, 21, 103, 255], [71, 22, 105, 255], [71, 24, 106, 255], [72, 25, 107, 255], [72, 26, 108, 255], [72, 28, 110, 255], [72, 29, 111, 255], [72, 30, 112, 255], [72, 32, 113, 255], [72, 33, 114, 255], [72, 34, 115, 255], [72, 35, 116, 255], [71, 37, 117, 255], [71, 38, 118, 255], [71, 39, 119, 255], [71, 40, 120, 255], [71, 42, 121, 255], [71, 43, 122, 255], [71, 44, 123, 255], [70, 45, 124, 255], [70, 47, 124, 255], [70, 48, 125, 255], [70, 49, 126, 255], [69, 50, 127, 255], [69, 52, 127, 255], [69, 53, 128, 255], [69, 54, 129, 255], [68, 55, 129, 255], [68, 57, 130, 255], [67, 58, 131, 255], [67, 59, 131, 255], [67, 60, 132, 255], [66, 61, 132, 255], [66, 62, 133, 255], [66, 64, 133, 255], [65, 65, 134, 255], [65, 66, 134, 255], [64, 67, 135, 255], [64, 68, 135, 255], [63, 69, 135, 255], [63, 71, 136, 255], [62, 72, 136, 255], [62, 73, 137, 255], [61, 74, 137, 255], [61, 75, 137, 255], [61, 76, 137, 255], [60, 77, 138, 255], [60, 78, 138, 255], [59, 80, 138, 255], [59, 81, 138, 255], [58, 82, 139, 255], [58, 83, 139, 255], [57, 84, 139, 255], [57, 85, 139, 255], [56, 86, 139, 255], [56, 87, 140, 255], [55, 88, 140, 255], [55, 89, 140, 255], [54, 90, 140, 255], [54, 91, 140, 255], [53, 92, 140, 255], [53, 93, 140, 255], [52, 94, 141, 255], [52, 95, 141, 255], [51, 96, 141, 255], [51, 97, 141, 255], [50, 98, 141, 255], [50, 99, 141, 255], [49, 100, 141, 255], [49, 101, 141, 255], [49, 102, 141, 255], [48, 103, 141, 255], [48, 104, 141, 255], [47, 105, 141, 255], [47, 106, 141, 255], [46, 107, 142, 255], [46, 108, 142, 255], [46, 109, 142, 255], [45, 110, 142, 255], [45, 111, 142, 255], [44, 112, 142, 255], [44, 113, 142, 255], [44, 114, 142, 255], [43, 115, 142, 255], [43, 116, 142, 255], [42, 117, 142, 255], [42, 118, 142, 255], [42, 119, 142, 255], [41, 120, 142, 255], [41, 121, 142, 255], [40, 122, 142, 255], [40, 122, 142, 255], [40, 123, 142, 255], [39, 124, 142, 255], [39, 125, 142, 255], [39, 126, 142, 255], [38, 127, 142, 255], [38, 128, 142, 255], [38, 129, 142, 255], [37, 130, 142, 255], [37, 131, 141, 255], [36, 132, 141, 255], [36, 133, 141, 255], [36, 134, 141, 255], [35, 135, 141, 255], [35, 136, 141, 255], [35, 137, 141, 255], [34, 137, 141, 255], [34, 138, 141, 255], [34, 139, 141, 255], [33, 140, 141, 255], [33, 141, 140, 255], [33, 142, 140, 255], [32, 143, 140, 255], [32, 144, 140, 255], [32, 145, 140, 255], [31, 146, 140, 255], [31, 147, 139, 255], [31, 148, 139, 255], [31, 149, 139, 255], [31, 150, 139, 255], [30, 151, 138, 255], [30, 152, 138, 255], [30, 153, 138, 255], [30, 153, 138, 255], [30, 154, 137, 255], [30, 155, 137, 255], [30, 156, 137, 255], [30, 157, 136, 255], [30, 158, 136, 255], [30, 159, 136, 255], [30, 160, 135, 255], [31, 161, 135, 255], [31, 162, 134, 255], [31, 163, 134, 255], [32, 164, 133, 255], [32, 165, 133, 255], [33, 166, 133, 255], [33, 167, 132, 255], [34, 167, 132, 255], [35, 168, 131, 255], [35, 169, 130, 255], [36, 170, 130, 255], [37, 171, 129, 255], [38, 172, 129, 255], [39, 173, 128, 255], [40, 174, 127, 255], [41, 175, 127, 255], [42, 176, 126, 255], [43, 177, 125, 255], [44, 177, 125, 255], [46, 178, 124, 255], [47, 179, 123, 255], [48, 180, 122, 255], [50, 181, 122, 255], [51, 182, 121, 255], [53, 183, 120, 255], [54, 184, 119, 255], [56, 185, 118, 255], [57, 185, 118, 255], [59, 186, 117, 255], [61, 187, 116, 255], [62, 188, 115, 255], [64, 189, 114, 255], [66, 190, 113, 255], [68, 190, 112, 255], [69, 191, 111, 255], [71, 192, 110, 255], [73, 193, 109, 255], [75, 194, 108, 255], [77, 194, 107, 255], [79, 195, 105, 255], [81, 196, 104, 255], [83, 197, 103, 255], [85, 198, 102, 255], [87, 198, 101, 255], [89, 199, 100, 255], [91, 200, 98, 255], [94, 201, 97, 255], [96, 201, 96, 255], [98, 202, 95, 255], [100, 203, 93, 255], [103, 204, 92, 255], [105, 204, 91, 255], [107, 205, 89, 255], [109, 206, 88, 255], [112, 206, 86, 255], [114, 207, 85, 255], [116, 208, 84, 255], [119, 208, 82, 255], [121, 209, 81, 255], [124, 210, 79, 255], [126, 210, 78, 255], [129, 211, 76, 255], [131, 211, 75, 255], [134, 212, 73, 255], [136, 213, 71, 255], [139, 213, 70, 255], [141, 214, 68, 255], [144, 214, 67, 255], [146, 215, 65, 255], [149, 215, 63, 255], [151, 216, 62, 255], [154, 216, 60, 255], [157, 217, 58, 255], [159, 217, 56, 255], [162, 218, 55, 255], [165, 218, 53, 255], [167, 219, 51, 255], [170, 219, 50, 255], [173, 220, 48, 255], [175, 220, 46, 255], [178, 221, 44, 255], [181, 221, 43, 255], [183, 221, 41, 255], [186, 222, 39, 255], [189, 222, 38, 255], [191, 223, 36, 255], [194, 223, 34, 255], [197, 223, 33, 255], [199, 224, 31, 255], [202, 224, 30, 255], [205, 224, 29, 255], [207, 225, 28, 255], [210, 225, 27, 255], [212, 225, 26, 255], [215, 226, 25, 255], [218, 226, 24, 255], [220, 226, 24, 255], [223, 227, 24, 255], [225, 227, 24, 255], [228, 227, 24, 255], [231, 228, 25, 255], [233, 228, 25, 255], [236, 228, 26, 255], [238, 229, 27, 255], [241, 229, 28, 255], [243, 229, 30, 255], [246, 230, 31, 255], [248, 230, 33, 255], [250, 230, 34, 255], [253, 231, 36, 255]]}}]}, {\"parent\": \"000000031135eaf0\", \"id\": \"0000000311344420\", \"type\": \"vtkOpenGLProperty\", \"properties\": {\"representation\": 2, \"diffuseColor\": [0.6784313725490196, 0.8470588235294118, 0.9019607843137255], \"color\": [0.6784313725490196, 0.8470588235294118, 0.9019607843137255], \"ambientColor\": [0.6784313725490196, 0.8470588235294118, 0.9019607843137255], \"specularColor\": [0.6784313725490196, 0.8470588235294118, 0.9019607843137255], \"edgeColor\": [0.0, 0.0, 0.0], \"ambient\": 0.0, \"diffuse\": 1.0, \"specular\": 0.0, \"specularPower\": 100.0, \"opacity\": 1.0, \"interpolation\": 0, \"edgeVisibility\": 1, \"backfaceCulling\": 0, \"frontfaceCulling\": 0, \"pointSize\": 5.0, \"lineWidth\": 1.0, \"lighting\": 0}}]}, {\"parent\": \"00000003090c7000\", \"id\": \"0000000311343fa0\", \"type\": \"vtkScalarBarActor\", \"properties\": {\"visibility\": 1, \"pickable\": 0, \"dragable\": 1, \"useBounds\": true, \"automated\": true, \"axisLabel\": \"type\", \"boxPosition\": [0.88, -0.92], \"boxSize\": [0.6, 0.08], \"axisTitlePixelOffset\": 36.0, \"axisTextStyle\": {\"fontColor\": \"#000000\", \"fontStyle\": \"normal\", \"fontSize\": 18, \"fontFamily\": \"serif\"}, \"tickLabelPixelOffset\": 14.0, \"tickTextStyle\": {\"fontColor\": \"#000000\", \"fontStyle\": \"normal\", \"fontSize\": 14, \"fontFamily\": \"serif\"}, \"drawNanAnnotation\": 0, \"drawBelowRangeSwatch\": false, \"drawAboveRangeSwatch\": false}, \"calls\": [[\"setScalarsToColors\", [\"instance:${000000031135a540}\"]]], \"dependencies\": [{\"parent\": \"0000000311343fa0\", \"id\": \"000000031135a540\", \"type\": \"vtkLookupTable\", \"properties\": {}}]}, {\"parent\": \"00000003090c7000\", \"id\": \"0000000311370480\", \"type\": \"vtkOpenGLLight\", \"properties\": {\"switch\": 1, \"intensity\": 0.25, \"color\": [1.0, 1.0, 1.0], \"position\": [0.0, 0.0, 1.0], \"focalPoint\": [0.0, 0.0, 0.0], \"positional\": 0, \"exponent\": 1.0, \"coneAngle\": 30.0, \"attenuationValues\": [1.0, 0.0, 0.0], \"lightType\": \"HeadLight\", \"shadowAttenuation\": 1.0}}, {\"parent\": \"00000003090c7000\", \"id\": \"0000000311370da0\", \"type\": \"vtkOpenGLLight\", \"properties\": {\"switch\": 1, \"intensity\": 0.75, \"color\": [1.0, 0.9725490196078431, 0.9019607843137255], \"position\": [0.11161889704894966, 0.766044443118978, 0.6330222215594891], \"focalPoint\": [0.0, 0.0, 0.0], \"positional\": 0, \"exponent\": 1.0, \"coneAngle\": 30.0, \"attenuationValues\": [1.0, 0.0, 0.0], \"lightType\": \"CameraLight\", \"shadowAttenuation\": 1.0}}, {\"parent\": \"00000003090c7000\", \"id\": \"0000000311371800\", \"type\": \"vtkOpenGLLight\", \"properties\": {\"switch\": 1, \"intensity\": 0.25, \"color\": [0.9098039215686274, 0.9333333333333333, 1.0], \"position\": [-0.044943455527547777, -0.9659258262890683, 0.25488700224417876], \"focalPoint\": [0.0, 0.0, 0.0], \"positional\": 0, \"exponent\": 1.0, \"coneAngle\": 30.0, \"attenuationValues\": [1.0, 0.0, 0.0], \"lightType\": \"CameraLight\", \"shadowAttenuation\": 1.0}}, {\"parent\": \"00000003090c7000\", \"id\": \"0000000311334740\", \"type\": \"vtkOpenGLLight\", \"properties\": {\"switch\": 1, \"intensity\": 0.21428571428571427, \"color\": [1.0, 1.0, 1.0], \"position\": [0.9396926207859084, 0.0, -0.3420201433256687], \"focalPoint\": [0.0, 0.0, 0.0], \"positional\": 0, \"exponent\": 1.0, \"coneAngle\": 30.0, \"attenuationValues\": [1.0, 0.0, 0.0], \"lightType\": \"CameraLight\", \"shadowAttenuation\": 1.0}}, {\"parent\": \"00000003090c7000\", \"id\": \"0000000311335090\", \"type\": \"vtkOpenGLLight\", \"properties\": {\"switch\": 1, \"intensity\": 0.21428571428571427, \"color\": [1.0, 1.0, 1.0], \"position\": [-0.9396926207859084, 0.0, -0.3420201433256687], \"focalPoint\": [0.0, 0.0, 0.0], \"positional\": 0, \"exponent\": 1.0, \"coneAngle\": 30.0, \"attenuationValues\": [1.0, 0.0, 0.0], \"lightType\": \"CameraLight\", \"shadowAttenuation\": 1.0}}], \"calls\": [[\"setActiveCamera\", [\"instance:${00000001739fc2c0}\"]], [\"addViewProp\", [\"instance:${000000031135eaf0}\"]], [\"addViewProp\", [\"instance:${0000000311343fa0}\"]], [\"addLight\", [\"instance:${0000000311370480}\"]], [\"addLight\", [\"instance:${0000000311370da0}\"]], [\"addLight\", [\"instance:${0000000311371800}\"]], [\"addLight\", [\"instance:${0000000311334740}\"]], [\"addLight\", [\"instance:${0000000311335090}\"]]]}], \"calls\": [[\"addRenderer\", [\"instance:${00000003090c7000}\"]]], \"mtime\": 23374, \"extra\": {\"vtkRefId\": \"000000031135cfc0\", \"centerOfRotation\": [0.006682963030616662, -0.10103063231411324, 0.0], \"camera\": \"00000001739fc2c0\"}}}{\"wslink\": \"1.0\", \"id\": \"publish:trame.vtk.delta:0\", \"result\": {\"parent\": \"0x0\", \"id\": 2, \"type\": \"vtkCocoaRenderWindow\", \"properties\": {\"numberOfLayers\": 2}, \"dependencies\": [{\"parent\": \"000000031135cfc0\", \"id\": \"00000003090c7000\", \"type\": \"vtkOpenGLRenderer\", \"properties\": {\"background\": [1.0, 1.0, 1.0], \"background2\": [0.2, 0.2, 0.2], \"viewport\": [0.0, 0.0, 1.0, 1.0], \"twoSidedLighting\": 1, \"lightFollowCamera\": 1, \"layer\": 0, \"preserveColorBuffer\": 0, \"preserveDepthBuffer\": 0, \"nearClippingPlaneTolerance\": 0.001, \"clippingRangeExpansion\": 0.5, \"useShadows\": 0, \"useDepthPeeling\": 0, \"occlusionRatio\": 0.0, \"maximumNumberOfPeels\": 4, \"interactive\": 1}, \"dependencies\": [{\"parent\": \"00000003090c7000\", \"id\": \"00000001739fc2c0\", \"type\": \"vtkOpenGLCamera\", \"properties\": {\"focalPoint\": [0.006682963030616662, -0.10103063231411324, 0.0], \"position\": [0.006682963030616662, -0.10103063231411324, 26.328218053067417], \"viewUp\": [0.0, 1.0, 0.0], \"clippingRange\": [24.66106554420823, 28.49032482761364]}}, {\"parent\": \"00000003090c7000\", \"id\": \"000000031135eaf0\", \"type\": \"vtkOpenGLActor\", \"properties\": {}, \"calls\": [[\"setMapper\", [\"instance:${000000031135a0b0}\"]], [\"setProperty\", [\"instance:${0000000311344420}\"]]], \"dependencies\": [{\"parent\": \"000000031135eaf0\", \"id\": \"000000031135a0b0\", \"type\": \"vtkMapper\", \"properties\": {}, \"calls\": [[\"setInputData\", [\"instance:${000000031135a0b0-dataset}\"]], [\"setLookupTable\", [\"instance:${000000031135a540}\"]]], \"dependencies\": [{\"parent\": \"000000031135a0b0\", \"id\": \"000000031135a0b0-dataset\", \"type\": \"vtkPolyData\", \"properties\": {\"points\": {\"hash\": \"901cd18d04609469d95c26f650fb6eab_600d\", \"vtkClass\": \"vtkPoints\", \"name\": \"Points\", \"dataType\": \"Float64Array\", \"numberOfComponents\": 3, \"size\": 600, \"ranges\": [{\"min\": -4.904083966090947, \"max\": 4.986093467894354, \"component\": null}, {\"min\": -4.979448814013456, \"max\": 4.94122292796716, \"component\": null}, {\"min\": 0.0, \"max\": 0.0, \"component\": null}, {\"min\": 0.17366055609102157, \"max\": 6.897334976264351, \"component\": null}]}, \"polys\": {\"hash\": \"8b5681624f35a583c98f7c8cb7e2df71_530L\", \"vtkClass\": \"vtkCellArray\", \"name\": null, \"dataType\": \"Uint32Array\", \"numberOfComponents\": 1, \"size\": 530, \"ranges\": [{\"min\": 0.0, \"max\": 199.0, \"component\": null}]}, \"fields\": [{\"hash\": \"1c2f89b323fae76d6828d3cfe196c554_76ll\", \"vtkClass\": \"vtkDataArray\", \"name\": \"Data\", \"dataType\": \"BigInt64Array\", \"numberOfComponents\": 1, \"size\": 76, \"ranges\": [{\"min\": 0.0, \"max\": 1.0, \"component\": null}], \"location\": \"cellData\", \"registration\": \"setScalars\"}]}}, {\"parent\": \"000000031135a0b0\", \"id\": \"000000031135a540\", \"type\": \"vtkLookupTable\", \"properties\": {}}]}, {\"parent\": \"000000031135eaf0\", \"id\": \"0000000311344420\", \"type\": \"vtkOpenGLProperty\", \"properties\": {}}]}, {\"parent\": \"00000003090c7000\", \"id\": \"0000000311343fa0\", \"type\": \"vtkScalarBarActor\", \"properties\": {}, \"calls\": [[\"setScalarsToColors\", [\"instance:${000000031135a540}\"]]], \"dependencies\": [{\"parent\": \"0000000311343fa0\", \"id\": \"000000031135a540\", \"type\": \"vtkLookupTable\", \"properties\": {}}]}, {\"parent\": \"00000003090c7000\", \"id\": \"0000000311370480\", \"type\": \"vtkOpenGLLight\", \"properties\": {\"position\": [0.006682963030616662, -0.10103063231411324, 26.328218053067417], \"focalPoint\": [0.006682963030616662, -0.10103063231411324, 0.0]}}, {\"parent\": \"00000003090c7000\", \"id\": \"0000000311370da0\", \"type\": \"vtkOpenGLLight\", \"properties\": {}}, {\"parent\": \"00000003090c7000\", \"id\": \"0000000311371800\", \"type\": \"vtkOpenGLLight\", \"properties\": {}}, {\"parent\": \"00000003090c7000\", \"id\": \"0000000311334740\", \"type\": \"vtkOpenGLLight\", \"properties\": {}}, {\"parent\": \"00000003090c7000\", \"id\": \"0000000311335090\", \"type\": \"vtkOpenGLLight\", \"properties\": {}}], \"calls\": [[\"setActiveCamera\", [\"instance:${00000001739fc2c0}\"]]]}], \"calls\": [], \"mtime\": 25970, \"extra\": {\"vtkRefId\": \"000000031135cfc0\", \"centerOfRotation\": [0.006682963030616662, -0.10103063231411324, 0.0], \"camera\": \"00000001739fc2c0\"}}}\n",
      " JS Error => Malformed message:  \n"
     ]
    }
   ],
   "source": [
    "from tissue_plot import make_plotter\n",
    "make_plotter(tissue, cmap='viridis', colourby='type').show()"
   ]
  },
  {
   "cell_type": "markdown",
   "id": "5f68a39e",
   "metadata": {},
   "source": [
    "We can not set the values of simulation parameters."
   ]
  },
  {
   "cell_type": "code",
   "execution_count": 9,
   "id": "d9a28306",
   "metadata": {},
   "outputs": [],
   "source": [
    "kappa = 1.0\n",
    "gamma = 1.0\n",
    "lam = p0 * np.sqrt(A0) * gamma"
   ]
  },
  {
   "cell_type": "markdown",
   "id": "847d2e37-b345-4cc9-b996-c9a1e043c43f",
   "metadata": {},
   "source": [
    "### Add model (force) and assign parameter values"
   ]
  },
  {
   "cell_type": "code",
   "execution_count": 10,
   "id": "57cae903-38d8-4086-b244-e9cfacf13c1d",
   "metadata": {
    "tags": []
   },
   "outputs": [],
   "source": [
    "forces.add('area')         # add area force form term E = 0.5*kappa*(A-A0)^2\n",
    "forces.add('perimeter')    # add perimeter force term from E = 0.5*gamma*P^2 - lambda*P "
   ]
  },
  {
   "cell_type": "markdown",
   "id": "28adcbae-233b-467c-97d0-6107fdde7b0f",
   "metadata": {},
   "source": [
    "Assign parameters to cell types 'passive' and 'active' (we use same parameters in both cases)"
   ]
  },
  {
   "cell_type": "code",
   "execution_count": 11,
   "id": "6ad86134-cc58-415f-af0d-d0f94c43bc8c",
   "metadata": {
    "tags": []
   },
   "outputs": [],
   "source": [
    "forces.set_params('area', 'passive', {'kappa' : kappa})\n",
    "forces.set_params('area', 'active', {'kappa' : kappa})\n",
    "\n",
    "forces.set_params('perimeter', 'passive',  {'gamma': gamma, 'lambda': lam})   \n",
    "forces.set_params('perimeter', 'active',  {'gamma': gamma, 'lambda': lam})   "
   ]
  },
  {
   "cell_type": "markdown",
   "id": "f1997513",
   "metadata": {},
   "source": [
    "Set the unit of time and the time step"
   ]
  },
  {
   "cell_type": "code",
   "execution_count": 12,
   "id": "91f7404b",
   "metadata": {},
   "outputs": [],
   "source": [
    "eta = 1.0 # friction coefficient\n",
    "tau = eta/(kappa*A0) # characteristic time scale\n",
    "dt = dt*tau\n",
    "nsteps = int(round(1/dt))   # number of steps to run is set to tau"
   ]
  },
  {
   "cell_type": "markdown",
   "id": "da148219-121d-42ff-b6fe-3f81190d6e67",
   "metadata": {},
   "source": [
    "### Set topology change (i.e. T1 transition) conditions"
   ]
  },
  {
   "cell_type": "code",
   "execution_count": 13,
   "id": "fa2922c1-4abb-42ac-8ad9-4bb877ac6547",
   "metadata": {
    "tags": []
   },
   "outputs": [],
   "source": [
    "topology.set_params({'min_edge_len': 0.01, 'new_edge_len': 0.011}) "
   ]
  },
  {
   "cell_type": "markdown",
   "id": "5014c418-2439-4662-ab8c-88b32cfd58b7",
   "metadata": {},
   "source": [
    "### Add integrator for the equations of motion (Brownian dynamics)"
   ]
  },
  {
   "cell_type": "code",
   "execution_count": 14,
   "id": "8045599a-2632-4ac5-848c-d42f8f4e64df",
   "metadata": {
    "tags": []
   },
   "outputs": [],
   "source": [
    "integrators.add('brownian') "
   ]
  },
  {
   "cell_type": "markdown",
   "id": "5f9d1395-da70-464c-84e3-8327bef3098c",
   "metadata": {},
   "source": [
    "Set the timestep"
   ]
  },
  {
   "cell_type": "code",
   "execution_count": 15,
   "id": "52da6485-79eb-4b4f-b2c5-45592e4e304b",
   "metadata": {
    "tags": []
   },
   "outputs": [],
   "source": [
    "integrators.set_dt(dt)"
   ]
  },
  {
   "cell_type": "markdown",
   "id": "441d4772",
   "metadata": {},
   "source": [
    "### First we do relaxation without self-propulsion"
   ]
  },
  {
   "cell_type": "code",
   "execution_count": 16,
   "id": "b426e273",
   "metadata": {},
   "outputs": [
    {
     "name": "stdout",
     "output_type": "stream",
     "text": [
      "Running relaxation...\n",
      "[========================================] 100%  --> Completed 20 simulation steps \n",
      "[========================================] 100%  --> Completed 40 simulation steps \n",
      "[========================================] 100%  --> Completed 60 simulation steps \n",
      "[========================================] 100%  --> Completed 80 simulation steps \n",
      "[========================================] 100%  --> Completed 100 simulation steps \n",
      "[========================================] 100%  --> Completed 120 simulation steps \n",
      "[========================================] 100%  --> Completed 140 simulation steps \n",
      "[========================================] 100%  --> Completed 160 simulation steps \n",
      "[========================================] 100%  --> Completed 180 simulation steps \n",
      "[========================================] 100%  --> Completed 200 simulation steps \n",
      "[========================================] 100%  --> Completed 220 simulation steps \n",
      "[========================================] 100%  --> Completed 240 simulation steps \n",
      "[========================================] 100%  --> Completed 260 simulation steps \n",
      "[========================================] 100%  --> Completed 280 simulation steps \n",
      "[========================================] 100%  --> Completed 300 simulation steps \n",
      "[========================================] 100%  --> Completed 320 simulation steps \n",
      "[========================================] 100%  --> Completed 340 simulation steps \n",
      "[========================================] 100%  --> Completed 360 simulation steps \n",
      "[========================================] 100%  --> Completed 380 simulation steps \n",
      "[========================================] 100%  --> Completed 400 simulation steps \n",
      "[========================================] 100%  --> Completed 420 simulation steps \n",
      "[========================================] 100%  --> Completed 440 simulation steps \n",
      "[========================================] 100%  --> Completed 460 simulation steps \n",
      "[========================================] 100%  --> Completed 480 simulation steps \n",
      "[========================================] 100%  --> Completed 500 simulation steps \n",
      "[========================================] 100%  --> Completed 520 simulation steps \n",
      "[========================================] 100%  --> Completed 540 simulation steps \n",
      "[========================================] 100%  --> Completed 560 simulation steps \n",
      "[========================================] 100%  --> Completed 580 simulation steps \n",
      "[========================================] 100%  --> Completed 600 simulation steps \n",
      "[========================================] 100%  --> Completed 620 simulation steps \n",
      "[========================================] 100%  --> Completed 640 simulation steps \n",
      "[========================================] 100%  --> Completed 660 simulation steps \n",
      "[========================================] 100%  --> Completed 680 simulation steps \n",
      "[========================================] 100%  --> Completed 700 simulation steps \n",
      "[========================================] 100%  --> Completed 720 simulation steps \n",
      "[========================================] 100%  --> Completed 740 simulation steps \n",
      "[========================================] 100%  --> Completed 760 simulation steps \n",
      "[========================================] 100%  --> Completed 780 simulation steps \n",
      "[========================================] 100%  --> Completed 800 simulation steps \n",
      "[========================================] 100%  --> Completed 820 simulation steps \n",
      "[========================================] 100%  --> Completed 840 simulation steps \n",
      "[========================================] 100%  --> Completed 860 simulation steps \n",
      "[========================================] 100%  --> Completed 880 simulation steps \n",
      "[========================================] 100%  --> Completed 900 simulation steps \n",
      "[========================================] 100%  --> Completed 920 simulation steps \n",
      "[========================================] 100%  --> Completed 940 simulation steps \n",
      "[========================================] 100%  --> Completed 960 simulation steps \n",
      "[========================================] 100%  --> Completed 980 simulation steps \n",
      "Relaxation done...                       ] 0%\n",
      "[========================================] 100%  --> Completed 1000 simulation steps \n"
     ]
    }
   ],
   "source": [
    "print('Running relaxation...')\n",
    "for i in range(0, nrelax):\n",
    "   if i % dumpfreq == 0:\n",
    "      dumps.dump_cells(f'relax_p0_{p0:.3f}_v0_{v0:.2f}_{i:06d}.vtp', draw_periodic=True)\n",
    "   simulation.run(nsteps)\n",
    "\n",
    "print('Relaxation done...')"
   ]
  },
  {
   "cell_type": "markdown",
   "id": "a98ad369",
   "metadata": {},
   "source": [
    "### Add self propulsion in the horizontal direction to the active cell"
   ]
  },
  {
   "cell_type": "code",
   "execution_count": 19,
   "id": "3bad113b",
   "metadata": {},
   "outputs": [],
   "source": [
    "#forces.add('self-propulsion') # add self-propulsion force term\n",
    "\n",
    "#----------- Force parameters --------------------------------------\n",
    "forces.set_params('self-propulsion', 'active', {'v0': v0})\n",
    "forces.set_vec_params('self-propulsion', 'active', {'n': Vec(1.0, 0.0)})  # set the direction of self-propulsion"
   ]
  },
  {
   "cell_type": "markdown",
   "id": "86ed4cb6-ecea-4d10-960a-446fc3b1b29f",
   "metadata": {},
   "source": [
    "### Exectute simulation\n",
    "\n",
    "We also produce output as vtp and json files for detailed visualisation and analysis."
   ]
  },
  {
   "cell_type": "code",
   "execution_count": 20,
   "id": "2a7cd4b6",
   "metadata": {
    "tags": []
   },
   "outputs": [
    {
     "name": "stdout",
     "output_type": "stream",
     "text": [
      "Running self-propulsion simulation...\n",
      "[========================================] 100%  --> Completed 1020 simulation steps \n",
      "[========================================] 100%  --> Completed 1040 simulation steps \n",
      "[========================================] 100%  --> Completed 1060 simulation steps \n",
      "[========================================] 100%  --> Completed 1080 simulation steps \n",
      "[========================================] 100%  --> Completed 1100 simulation steps \n",
      "[========================================] 100%  --> Completed 1120 simulation steps \n",
      "[========================================] 100%  --> Completed 1140 simulation steps \n",
      "[========================================] 100%  --> Completed 1160 simulation steps \n",
      "[========================================] 100%  --> Completed 1180 simulation steps \n",
      "[========================================] 100%  --> Completed 1200 simulation steps \n",
      "[========================================] 100%  --> Completed 1220 simulation steps \n",
      "[========================================] 100%  --> Completed 1240 simulation steps \n",
      "[========================================] 100%  --> Completed 1260 simulation steps \n",
      "[========================================] 100%  --> Completed 1280 simulation steps \n",
      "[========================================] 100%  --> Completed 1300 simulation steps \n",
      "[========================================] 100%  --> Completed 1320 simulation steps \n",
      "[========================================] 100%  --> Completed 1340 simulation steps \n",
      "[========================================] 100%  --> Completed 1360 simulation steps \n",
      "[========================================] 100%  --> Completed 1380 simulation steps \n",
      "[========================================] 100%  --> Completed 1400 simulation steps \n",
      "[========================================] 100%  --> Completed 1420 simulation steps \n",
      "[========================================] 100%  --> Completed 1440 simulation steps \n",
      "[========================================] 100%  --> Completed 1460 simulation steps \n",
      "[========================================] 100%  --> Completed 1480 simulation steps \n",
      "[========================================] 100%  --> Completed 1500 simulation steps \n",
      "[========================================] 100%  --> Completed 1520 simulation steps \n",
      "[========================================] 100%  --> Completed 1540 simulation steps \n",
      "[========================================] 100%  --> Completed 1560 simulation steps \n",
      "[========================================] 100%  --> Completed 1580 simulation steps \n",
      "[========================================] 100%  --> Completed 1600 simulation steps \n",
      "[========================================] 100%  --> Completed 1620 simulation steps \n",
      "[========================================] 100%  --> Completed 1640 simulation steps \n",
      "[========================================] 100%  --> Completed 1660 simulation steps \n",
      "[========================================] 100%  --> Completed 1680 simulation steps \n",
      "[========================================] 100%  --> Completed 1700 simulation steps \n",
      "[========================================] 100%  --> Completed 1720 simulation steps \n",
      "[========================================] 100%  --> Completed 1740 simulation steps \n",
      "[========================================] 100%  --> Completed 1760 simulation steps \n",
      "[========================================] 100%  --> Completed 1780 simulation steps \n",
      "[========================================] 100%  --> Completed 1800 simulation steps \n",
      "[========================================] 100%  --> Completed 1820 simulation steps \n",
      "[========================================] 100%  --> Completed 1840 simulation steps \n",
      "[========================================] 100%  --> Completed 1860 simulation steps \n",
      "[========================================] 100%  --> Completed 1880 simulation steps \n",
      "[========================================] 100%  --> Completed 1900 simulation steps \n",
      "[========================================] 100%  --> Completed 1920 simulation steps \n",
      "[========================================] 100%  --> Completed 1940 simulation steps \n",
      "[========================================] 100%  --> Completed 1960 simulation steps \n",
      "[======================================> ] 95%==============] 100%  --> Completed 1980 simulation steps \n",
      "[========================================] 100%  --> Completed 2000 simulation steps \n",
      "[========================================] 100%  --> Completed 2020 simulation steps \n",
      "[========================================] 100%  --> Completed 2040 simulation steps \n",
      "[========================================] 100%  --> Completed 2060 simulation steps \n",
      "[========================================] 100%  --> Completed 2080 simulation steps \n",
      "[========================================] 100%  --> Completed 2100 simulation steps \n",
      "[========================================] 100%  --> Completed 2120 simulation steps \n",
      "[========================================] 100%  --> Completed 2140 simulation steps \n",
      "[========================================] 100%  --> Completed 2160 simulation steps \n",
      "[========================================] 100%  --> Completed 2180 simulation steps \n",
      "[========================================] 100%  --> Completed 2200 simulation steps \n",
      "[========================================] 100%  --> Completed 2220 simulation steps \n",
      "[========================================] 100%  --> Completed 2240 simulation steps \n",
      "[========================================] 100%  --> Completed 2260 simulation steps \n",
      "[========================================] 100%  --> Completed 2280 simulation steps \n",
      "[========================================] 100%  --> Completed 2300 simulation steps \n",
      "[========================================] 100%  --> Completed 2320 simulation steps \n",
      "[========================================] 100%  --> Completed 2340 simulation steps \n",
      "[========================================] 100%  --> Completed 2360 simulation steps \n",
      "[========================================] 100%  --> Completed 2380 simulation steps \n",
      "[========================================] 100%  --> Completed 2400 simulation steps \n",
      "[========================================] 100%  --> Completed 2420 simulation steps \n",
      "[========================================] 100%  --> Completed 2440 simulation steps \n",
      "[========================================] 100%  --> Completed 2460 simulation steps \n",
      "[========================================] 100%  --> Completed 2480 simulation steps \n",
      "[========================================] 100%  --> Completed 2500 simulation steps \n",
      "[========================================] 100%  --> Completed 2520 simulation steps \n",
      "[========================================] 100%  --> Completed 2540 simulation steps \n",
      "[========================================] 100%  --> Completed 2560 simulation steps \n",
      "[========================================] 100%  --> Completed 2580 simulation steps \n",
      "[========================================] 100%  --> Completed 2600 simulation steps \n",
      "[========================================] 100%  --> Completed 2620 simulation steps \n",
      "[========================================] 100%  --> Completed 2640 simulation steps \n",
      "[========================================] 100%  --> Completed 2660 simulation steps \n",
      "[========================================] 100%  --> Completed 2680 simulation steps \n",
      "[========================================] 100%  --> Completed 2700 simulation steps \n",
      "[========================================] 100%  --> Completed 2720 simulation steps \n",
      "[========================================] 100%  --> Completed 2740 simulation steps \n",
      "[========================================] 100%  --> Completed 2760 simulation steps \n",
      "[========================================] 100%  --> Completed 2780 simulation steps \n",
      "[========================================] 100%  --> Completed 2800 simulation steps \n",
      "[========================================] 100%  --> Completed 2820 simulation steps \n",
      "[========================================] 100%  --> Completed 2840 simulation steps \n",
      "[========================================] 100%  --> Completed 2860 simulation steps \n",
      "[========================================] 100%  --> Completed 2880 simulation steps \n",
      "[========================================] 100%  --> Completed 2900 simulation steps \n",
      "[========================================] 100%  --> Completed 2920 simulation steps \n",
      "[========================================] 100%  --> Completed 2940 simulation steps \n",
      "[========================================] 100%  --> Completed 2960 simulation steps \n",
      "[========================================] 100%  --> Completed 2980 simulation steps \n",
      "[========================================] 100%  --> Completed 3000 simulation steps \n",
      "[========================================] 100%  --> Completed 3020 simulation steps \n",
      "[========================================] 100%  --> Completed 3040 simulation steps \n",
      "[========================================] 100%  --> Completed 3060 simulation steps \n",
      "[========================================] 100%  --> Completed 3080 simulation steps \n",
      "[========================================] 100%  --> Completed 3100 simulation steps \n",
      "[========================================] 100%  --> Completed 3120 simulation steps \n",
      "[========================================] 100%  --> Completed 3140 simulation steps \n",
      "[========================================] 100%  --> Completed 3160 simulation steps \n",
      "[========================================] 100%  --> Completed 3180 simulation steps \n",
      "[========================================] 100%  --> Completed 3200 simulation steps \n",
      "[========================================] 100%  --> Completed 3220 simulation steps \n",
      "[========================================] 100%  --> Completed 3240 simulation steps \n",
      "[========================================] 100%  --> Completed 3260 simulation steps \n",
      "[========================================] 100%  --> Completed 3280 simulation steps \n",
      "[========================================] 100%  --> Completed 3300 simulation steps \n",
      "[========================================] 100%  --> Completed 3320 simulation steps \n",
      "[========================================] 100%  --> Completed 3340 simulation steps \n",
      "[========================================] 100%  --> Completed 3360 simulation steps \n",
      "[========================================] 100%  --> Completed 3380 simulation steps \n",
      "[========================================] 100%  --> Completed 3400 simulation steps \n",
      "[========================================] 100%  --> Completed 3420 simulation steps \n",
      "[========================================] 100%  --> Completed 3440 simulation steps \n",
      "[========================================] 100%  --> Completed 3460 simulation steps \n",
      "[========================================] 100%  --> Completed 3480 simulation steps \n",
      "[========================================] 100%  --> Completed 3500 simulation steps \n",
      "[========================================] 100%  --> Completed 3520 simulation steps \n",
      "[========================================] 100%  --> Completed 3540 simulation steps \n",
      "[========================================] 100%  --> Completed 3560 simulation steps \n",
      "[========================================] 100%  --> Completed 3580 simulation steps \n",
      "[========================================] 100%  --> Completed 3600 simulation steps \n",
      "[========================================] 100%  --> Completed 3620 simulation steps \n",
      "[========================================] 100%  --> Completed 3640 simulation steps \n",
      "[========================================] 100%  --> Completed 3660 simulation steps \n",
      "[========================================] 100%  --> Completed 3680 simulation steps \n",
      "[========================================] 100%  --> Completed 3700 simulation steps \n",
      "[========================================] 100%  --> Completed 3720 simulation steps \n",
      "[========================================] 100%  --> Completed 3740 simulation steps \n",
      "[========================================] 100%  --> Completed 3760 simulation steps \n",
      "[========================================] 100%  --> Completed 3780 simulation steps \n",
      "[========================================] 100%  --> Completed 3800 simulation steps \n",
      "[========================================] 100%  --> Completed 3820 simulation steps \n",
      "[========================================] 100%  --> Completed 3840 simulation steps \n",
      "[========================================] 100%  --> Completed 3860 simulation steps \n",
      "[========================================] 100%  --> Completed 3880 simulation steps \n",
      "[========================================] 100%  --> Completed 3900 simulation steps \n",
      "[========================================] 100%  --> Completed 3920 simulation steps \n",
      "[========================================] 100%  --> Completed 3940 simulation steps \n",
      "[========================================] 100%  --> Completed 3960 simulation steps \n",
      "[========================================] 100%  --> Completed 3980 simulation steps \n",
      "[========================================] 100%  --> Completed 4000 simulation steps \n",
      "[========================================] 100%  --> Completed 4020 simulation steps \n",
      "[========================================] 100%  --> Completed 4040 simulation steps \n",
      "[========================================] 100%  --> Completed 4060 simulation steps \n",
      "[========================================] 100%  --> Completed 4080 simulation steps \n",
      "[========================================] 100%  --> Completed 4100 simulation steps \n",
      "[========================================] 100%  --> Completed 4120 simulation steps \n",
      "[========================================] 100%  --> Completed 4140 simulation steps \n",
      "[========================================] 100%  --> Completed 4160 simulation steps \n",
      "[========================================] 100%  --> Completed 4180 simulation steps \n",
      "[========================================] 100%  --> Completed 4200 simulation steps \n",
      "[========================================] 100%  --> Completed 4220 simulation steps \n",
      "[========================================] 100%  --> Completed 4240 simulation steps \n",
      "[========================================] 100%  --> Completed 4260 simulation steps \n",
      "[========================================] 100%  --> Completed 4280 simulation steps \n",
      "[========================================] 100%  --> Completed 4300 simulation steps \n",
      "[========================================] 100%  --> Completed 4320 simulation steps \n",
      "[========================================] 100%  --> Completed 4340 simulation steps \n",
      "[========================================] 100%  --> Completed 4360 simulation steps \n",
      "[========================================] 100%  --> Completed 4380 simulation steps \n",
      "[========================================] 100%  --> Completed 4400 simulation steps \n",
      "[========================================] 100%  --> Completed 4420 simulation steps \n",
      "[========================================] 100%  --> Completed 4440 simulation steps \n",
      "[========================================] 100%  --> Completed 4460 simulation steps \n",
      "[========================================] 100%  --> Completed 4480 simulation steps \n",
      "[========================================] 100%  --> Completed 4500 simulation steps \n",
      "[========================================] 100%  --> Completed 4520 simulation steps \n",
      "[========================================] 100%  --> Completed 4540 simulation steps \n",
      "[========================================] 100%  --> Completed 4560 simulation steps \n",
      "[========================================] 100%  --> Completed 4580 simulation steps \n",
      "[========================================] 100%  --> Completed 4600 simulation steps \n",
      "[========================================] 100%  --> Completed 4620 simulation steps \n",
      "[========================================] 100%  --> Completed 4640 simulation steps \n",
      "[========================================] 100%  --> Completed 4660 simulation steps \n",
      "[========================================] 100%  --> Completed 4680 simulation steps \n",
      "[========================================] 100%  --> Completed 4700 simulation steps \n",
      "[========================================] 100%  --> Completed 4720 simulation steps \n",
      "[========================================] 100%  --> Completed 4740 simulation steps \n",
      "[========================================] 100%  --> Completed 4760 simulation steps \n",
      "[========================================] 100%  --> Completed 4780 simulation steps \n",
      "[========================================] 100%  --> Completed 4800 simulation steps \n",
      "[========================================] 100%  --> Completed 4820 simulation steps \n",
      "[========================================] 100%  --> Completed 4840 simulation steps \n",
      "[========================================] 100%  --> Completed 4860 simulation steps \n",
      "[========================================] 100%  --> Completed 4880 simulation steps \n",
      "[========================================] 100%  --> Completed 4900 simulation steps \n",
      "[========================================] 100%  --> Completed 4920 simulation steps \n",
      "[========================================] 100%  --> Completed 4940 simulation steps \n",
      "[========================================] 100%  --> Completed 4960 simulation steps \n",
      "[========================================] 100%  --> Completed 4980 simulation steps \n",
      "[========================================] 100%  --> Completed 5000 simulation steps \n",
      "[========================================] 100%  --> Completed 5020 simulation steps \n",
      "[========================================] 100%  --> Completed 5040 simulation steps \n",
      "[========================================] 100%  --> Completed 5060 simulation steps \n",
      "[========================================] 100%  --> Completed 5080 simulation steps \n",
      "[========================================] 100%  --> Completed 5100 simulation steps \n",
      "[========================================] 100%  --> Completed 5120 simulation steps \n",
      "[========================================] 100%  --> Completed 5140 simulation steps \n",
      "[========================================] 100%  --> Completed 5160 simulation steps \n",
      "[========================================] 100%  --> Completed 5180 simulation steps \n",
      "[========================================] 100%  --> Completed 5200 simulation steps \n",
      "[========================================] 100%  --> Completed 5220 simulation steps \n",
      "[========================================] 100%  --> Completed 5240 simulation steps \n",
      "[========================================] 100%  --> Completed 5260 simulation steps \n",
      "[========================================] 100%  --> Completed 5280 simulation steps \n",
      "[========================================] 100%  --> Completed 5300 simulation steps \n",
      "[========================================] 100%  --> Completed 5320 simulation steps \n",
      "[========================================] 100%  --> Completed 5340 simulation steps \n",
      "[========================================] 100%  --> Completed 5360 simulation steps \n",
      "[========================================] 100%  --> Completed 5380 simulation steps \n",
      "[========================================] 100%  --> Completed 5400 simulation steps \n",
      "[========================================] 100%  --> Completed 5420 simulation steps \n",
      "[========================================] 100%  --> Completed 5440 simulation steps \n",
      "[========================================] 100%  --> Completed 5460 simulation steps \n",
      "[========================================] 100%  --> Completed 5480 simulation steps \n",
      "[========================================] 100%  --> Completed 5500 simulation steps \n",
      "[========================================] 100%  --> Completed 5520 simulation steps \n",
      "[========================================] 100%  --> Completed 5540 simulation steps \n",
      "[========================================] 100%  --> Completed 5560 simulation steps \n",
      "[========================================] 100%  --> Completed 5580 simulation steps \n",
      "[======================================> ] 95%=====] 100%  --> Completed 5600 simulation steps \n",
      "[========================================] 100%  --> Completed 5620 simulation steps \n",
      "[========================================] 100%  --> Completed 5640 simulation steps \n",
      "[========================================] 100%  --> Completed 5660 simulation steps \n",
      "[========================================] 100%  --> Completed 5680 simulation steps \n",
      "[========================================] 100%  --> Completed 5700 simulation steps \n",
      "[========================================] 100%  --> Completed 5720 simulation steps \n",
      "[========================================] 100%  --> Completed 5740 simulation steps \n",
      "[========================================] 100%  --> Completed 5760 simulation steps \n",
      "[========================================] 100%  --> Completed 5780 simulation steps \n",
      "[========================================] 100%  --> Completed 5800 simulation steps \n",
      "[========================================] 100%  --> Completed 5820 simulation steps \n",
      "[========================================] 100%  --> Completed 5840 simulation steps \n",
      "[========================================] 100%  --> Completed 5860 simulation steps \n",
      "[========================================] 100%  --> Completed 5880 simulation steps \n",
      "[========================================] 100%  --> Completed 5900 simulation steps \n",
      "[========================================] 100%  --> Completed 5920 simulation steps \n",
      "[========================================] 100%  --> Completed 5940 simulation steps \n",
      "[========================================] 100%  --> Completed 5960 simulation steps \n",
      "[========================================] 100%  --> Completed 5980 simulation steps \n",
      "[========================================] 100%  --> Completed 6000 simulation steps \n",
      "[========================================] 100%  --> Completed 6020 simulation steps \n",
      "[========================================] 100%  --> Completed 6040 simulation steps \n",
      "[========================================] 100%  --> Completed 6060 simulation steps \n",
      "[========================================] 100%  --> Completed 6080 simulation steps \n",
      "[========================================] 100%  --> Completed 6100 simulation steps \n",
      "[========================================] 100%  --> Completed 6120 simulation steps \n",
      "[========================================] 100%  --> Completed 6140 simulation steps \n",
      "[========================================] 100%  --> Completed 6160 simulation steps \n",
      "[========================================] 100%  --> Completed 6180 simulation steps \n",
      "[========================================] 100%  --> Completed 6200 simulation steps \n",
      "[========================================] 100%  --> Completed 6220 simulation steps \n",
      "[========================================] 100%  --> Completed 6240 simulation steps \n",
      "[========================================] 100%  --> Completed 6260 simulation steps \n",
      "[========================================] 100%  --> Completed 6280 simulation steps \n",
      "[========================================] 100%  --> Completed 6300 simulation steps \n",
      "[========================================] 100%  --> Completed 6320 simulation steps \n",
      "[========================================] 100%  --> Completed 6340 simulation steps \n",
      "[========================================] 100%  --> Completed 6360 simulation steps \n",
      "[========================================] 100%  --> Completed 6380 simulation steps \n",
      "[========================================] 100%  --> Completed 6400 simulation steps \n",
      "[========================================] 100%  --> Completed 6420 simulation steps \n",
      "[========================================] 100%  --> Completed 6440 simulation steps \n",
      "[========================================] 100%  --> Completed 6460 simulation steps \n",
      "[========================================] 100%  --> Completed 6480 simulation steps \n",
      "[========================================] 100%  --> Completed 6500 simulation steps \n",
      "[========================================] 100%  --> Completed 6520 simulation steps \n",
      "[========================================] 100%  --> Completed 6540 simulation steps \n",
      "[========================================] 100%  --> Completed 6560 simulation steps \n",
      "[========================================] 100%  --> Completed 6580 simulation steps \n",
      "[========================================] 100%  --> Completed 6600 simulation steps \n",
      "[========================================] 100%  --> Completed 6620 simulation steps \n",
      "[========================================] 100%  --> Completed 6640 simulation steps \n",
      "[========================================] 100%  --> Completed 6660 simulation steps \n",
      "[========================================] 100%  --> Completed 6680 simulation steps \n",
      "[========================================] 100%  --> Completed 6700 simulation steps \n",
      "[========================================] 100%  --> Completed 6720 simulation steps \n",
      "[========================================] 100%  --> Completed 6740 simulation steps \n",
      "[========================================] 100%  --> Completed 6760 simulation steps \n",
      "[========================================] 100%  --> Completed 6780 simulation steps \n",
      "[========================================] 100%  --> Completed 6800 simulation steps \n",
      "[========================================] 100%  --> Completed 6820 simulation steps \n",
      "[========================================] 100%  --> Completed 6840 simulation steps \n",
      "[========================================] 100%  --> Completed 6860 simulation steps \n",
      "[========================================] 100%  --> Completed 6880 simulation steps \n",
      "[========================================] 100%  --> Completed 6900 simulation steps \n",
      "[========================================] 100%  --> Completed 6920 simulation steps \n",
      "[========================================] 100%  --> Completed 6940 simulation steps \n",
      "[========================================] 100%  --> Completed 6960 simulation steps \n",
      "[========================================] 100%  --> Completed 6980 simulation steps \n",
      "[========================================] 100%  --> Completed 7000 simulation steps \n",
      "[========================================] 100%  --> Completed 7020 simulation steps \n",
      "[========================================] 100%  --> Completed 7040 simulation steps \n",
      "[========================================] 100%  --> Completed 7060 simulation steps \n",
      "[========================================] 100%  --> Completed 7080 simulation steps \n",
      "[========================================] 100%  --> Completed 7100 simulation steps \n",
      "[========================================] 100%  --> Completed 7120 simulation steps \n",
      "[========================================] 100%  --> Completed 7140 simulation steps \n",
      "[========================================] 100%  --> Completed 7160 simulation steps \n",
      "[========================================] 100%  --> Completed 7180 simulation steps \n",
      "[========================================] 100%  --> Completed 7200 simulation steps \n",
      "[========================================] 100%  --> Completed 7220 simulation steps \n",
      "[========================================] 100%  --> Completed 7240 simulation steps \n",
      "[========================================] 100%  --> Completed 7260 simulation steps \n",
      "[========================================] 100%  --> Completed 7280 simulation steps \n",
      "[========================================] 100%  --> Completed 7300 simulation steps \n",
      "[========================================] 100%  --> Completed 7320 simulation steps \n",
      "[========================================] 100%  --> Completed 7340 simulation steps \n",
      "[========================================] 100%  --> Completed 7360 simulation steps \n",
      "[========================================] 100%  --> Completed 7380 simulation steps \n",
      "[========================================] 100%  --> Completed 7400 simulation steps \n",
      "[========================================] 100%  --> Completed 7420 simulation steps \n",
      "[========================================] 100%  --> Completed 7440 simulation steps \n",
      "[========================================] 100%  --> Completed 7460 simulation steps \n",
      "[========================================] 100%  --> Completed 7480 simulation steps \n",
      "[========================================] 100%  --> Completed 7500 simulation steps \n",
      "[========================================] 100%  --> Completed 7520 simulation steps \n",
      "[========================================] 100%  --> Completed 7540 simulation steps \n",
      "[========================================] 100%  --> Completed 7560 simulation steps \n",
      "[========================================] 100%  --> Completed 7580 simulation steps \n",
      "[========================================] 100%  --> Completed 7600 simulation steps \n",
      "[========================================] 100%  --> Completed 7620 simulation steps \n",
      "[========================================] 100%  --> Completed 7640 simulation steps \n",
      "[========================================] 100%  --> Completed 7660 simulation steps \n",
      "[========================================] 100%  --> Completed 7680 simulation steps \n",
      "[========================================] 100%  --> Completed 7700 simulation steps \n",
      "[========================================] 100%  --> Completed 7720 simulation steps \n",
      "[========================================] 100%  --> Completed 7740 simulation steps \n",
      "[========================================] 100%  --> Completed 7760 simulation steps \n",
      "[========================================] 100%  --> Completed 7780 simulation steps \n",
      "[========================================] 100%  --> Completed 7800 simulation steps \n",
      "[========================================] 100%  --> Completed 7820 simulation steps \n",
      "[========================================] 100%  --> Completed 7840 simulation steps \n",
      "[========================================] 100%  --> Completed 7860 simulation steps \n",
      "[========================================] 100%  --> Completed 7880 simulation steps \n",
      "[========================================] 100%  --> Completed 7900 simulation steps \n",
      "[========================================] 100%  --> Completed 7920 simulation steps \n",
      "[========================================] 100%  --> Completed 7940 simulation steps \n",
      "[========================================] 100%  --> Completed 7960 simulation steps \n",
      "[========================================] 100%  --> Completed 7980 simulation steps \n",
      "[========================================] 100%  --> Completed 8000 simulation steps \n",
      "[========================================] 100%  --> Completed 8020 simulation steps \n",
      "[========================================] 100%  --> Completed 8040 simulation steps \n",
      "[========================================] 100%  --> Completed 8060 simulation steps \n",
      "[========================================] 100%  --> Completed 8080 simulation steps \n",
      "[========================================] 100%  --> Completed 8100 simulation steps \n",
      "[========================================] 100%  --> Completed 8120 simulation steps \n",
      "[========================================] 100%  --> Completed 8140 simulation steps \n",
      "[========================================] 100%  --> Completed 8160 simulation steps \n",
      "[========================================] 100%  --> Completed 8180 simulation steps \n",
      "[========================================] 100%  --> Completed 8200 simulation steps \n",
      "[========================================] 100%  --> Completed 8220 simulation steps \n",
      "[========================================] 100%  --> Completed 8240 simulation steps \n",
      "[========================================] 100%  --> Completed 8260 simulation steps \n",
      "[========================================] 100%  --> Completed 8280 simulation steps \n",
      "[========================================] 100%  --> Completed 8300 simulation steps \n",
      "[========================================] 100%  --> Completed 8320 simulation steps \n",
      "[========================================] 100%  --> Completed 8340 simulation steps \n",
      "[========================================] 100%  --> Completed 8360 simulation steps \n",
      "[========================================] 100%  --> Completed 8380 simulation steps \n",
      "[========================================] 100%  --> Completed 8400 simulation steps \n",
      "[========================================] 100%  --> Completed 8420 simulation steps \n",
      "[========================================] 100%  --> Completed 8440 simulation steps \n",
      "[========================================] 100%  --> Completed 8460 simulation steps \n",
      "[========================================] 100%  --> Completed 8480 simulation steps \n",
      "[========================================] 100%  --> Completed 8500 simulation steps \n",
      "[========================================] 100%  --> Completed 8520 simulation steps \n",
      "[========================================] 100%  --> Completed 8540 simulation steps \n",
      "[========================================] 100%  --> Completed 8560 simulation steps \n",
      "[========================================] 100%  --> Completed 8580 simulation steps \n",
      "[========================================] 100%  --> Completed 8600 simulation steps \n",
      "[========================================] 100%  --> Completed 8620 simulation steps \n",
      "[========================================] 100%  --> Completed 8640 simulation steps \n",
      "[========================================] 100%  --> Completed 8660 simulation steps \n",
      "[========================================] 100%  --> Completed 8680 simulation steps \n",
      "[========================================] 100%  --> Completed 8700 simulation steps \n",
      "[========================================] 100%  --> Completed 8720 simulation steps \n",
      "[========================================] 100%  --> Completed 8740 simulation steps \n",
      "[========================================] 100%  --> Completed 8760 simulation steps \n",
      "[========================================] 100%  --> Completed 8780 simulation steps \n",
      "[========================================] 100%  --> Completed 8800 simulation steps \n",
      "[========================================] 100%  --> Completed 8820 simulation steps \n",
      "[========================================] 100%  --> Completed 8840 simulation steps \n",
      "[========================================] 100%  --> Completed 8860 simulation steps \n",
      "[========================================] 100%  --> Completed 8880 simulation steps \n",
      "[========================================] 100%  --> Completed 8900 simulation steps \n",
      "[========================================] 100%  --> Completed 8920 simulation steps \n",
      "[========================================] 100%  --> Completed 8940 simulation steps \n",
      "[========================================] 100%  --> Completed 8960 simulation steps \n",
      "[========================================] 100%  --> Completed 8980 simulation steps \n",
      "[========================================] 100%  --> Completed 9000 simulation steps \n",
      "[========================================] 100%  --> Completed 9020 simulation steps \n",
      "[========================================] 100%  --> Completed 9040 simulation steps \n",
      "[========================================] 100%  --> Completed 9060 simulation steps \n",
      "[========================================] 100%  --> Completed 9080 simulation steps \n",
      "[========================================] 100%  --> Completed 9100 simulation steps \n",
      "[========================================] 100%  --> Completed 9120 simulation steps \n",
      "[========================================] 100%  --> Completed 9140 simulation steps \n",
      "[========================================] 100%  --> Completed 9160 simulation steps \n",
      "[========================================] 100%  --> Completed 9180 simulation steps \n",
      "[========================================] 100%  --> Completed 9200 simulation steps \n",
      "[========================================] 100%  --> Completed 9220 simulation steps \n",
      "[========================================] 100%  --> Completed 9240 simulation steps \n",
      "[========================================] 100%  --> Completed 9260 simulation steps \n",
      "[========================================] 100%  --> Completed 9280 simulation steps \n",
      "[========================================] 100%  --> Completed 9300 simulation steps \n",
      "[========================================] 100%  --> Completed 9320 simulation steps \n",
      "[========================================] 100%  --> Completed 9340 simulation steps \n",
      "[========================================] 100%  --> Completed 9360 simulation steps \n",
      "[========================================] 100%  --> Completed 9380 simulation steps \n",
      "[========================================] 100%  --> Completed 9400 simulation steps \n",
      "[========================================] 100%  --> Completed 9420 simulation steps \n",
      "[========================================] 100%  --> Completed 9440 simulation steps \n",
      "[========================================] 100%  --> Completed 9460 simulation steps \n",
      "[========================================] 100%  --> Completed 9480 simulation steps \n",
      "[========================================] 100%  --> Completed 9500 simulation steps \n",
      "[========================================] 100%  --> Completed 9520 simulation steps \n",
      "[========================================] 100%  --> Completed 9540 simulation steps \n",
      "[========================================] 100%  --> Completed 9560 simulation steps \n",
      "[========================================] 100%  --> Completed 9580 simulation steps \n",
      "[========================================] 100%  --> Completed 9600 simulation steps \n",
      "[========================================] 100%  --> Completed 9620 simulation steps \n",
      "[========================================] 100%  --> Completed 9640 simulation steps \n",
      "[========================================] 100%  --> Completed 9660 simulation steps \n",
      "[========================================] 100%  --> Completed 9680 simulation steps \n",
      "[========================================] 100%  --> Completed 9700 simulation steps \n",
      "[========================================] 100%  --> Completed 9720 simulation steps \n",
      "[========================================] 100%  --> Completed 9740 simulation steps \n",
      "[========================================] 100%  --> Completed 9760 simulation steps \n",
      "[========================================] 100%  --> Completed 9780 simulation steps \n",
      "[========================================] 100%  --> Completed 9800 simulation steps \n",
      "[========================================] 100%  --> Completed 9820 simulation steps \n",
      "[========================================] 100%  --> Completed 9840 simulation steps \n",
      "[========================================] 100%  --> Completed 9860 simulation steps \n",
      "[========================================] 100%  --> Completed 9880 simulation steps \n",
      "[========================================] 100%  --> Completed 9900 simulation steps \n",
      "[========================================] 100%  --> Completed 9920 simulation steps \n",
      "[========================================] 100%  --> Completed 9940 simulation steps \n",
      "[========================================] 100%  --> Completed 9960 simulation steps \n",
      "[========================================] 100%  --> Completed 9980 simulation steps \n",
      "[========================================] 100%  --> Completed 10000 simulation steps \n",
      "[========================================] 100%  --> Completed 10020 simulation steps \n",
      "[========================================] 100%  --> Completed 10040 simulation steps \n",
      "[========================================] 100%  --> Completed 10060 simulation steps \n",
      "[========================================] 100%  --> Completed 10080 simulation steps \n",
      "[========================================] 100%  --> Completed 10100 simulation steps \n",
      "[========================================] 100%  --> Completed 10120 simulation steps \n",
      "[========================================] 100%  --> Completed 10140 simulation steps \n",
      "[========================================] 100%  --> Completed 10160 simulation steps \n",
      "[========================================] 100%  --> Completed 10180 simulation steps \n",
      "[========================================] 100%  --> Completed 10200 simulation steps \n",
      "[========================================] 100%  --> Completed 10220 simulation steps \n",
      "[========================================] 100%  --> Completed 10240 simulation steps \n",
      "[========================================] 100%  --> Completed 10260 simulation steps \n",
      "[========================================] 100%  --> Completed 10280 simulation steps \n",
      "[========================================] 100%  --> Completed 10300 simulation steps \n",
      "[========================================] 100%  --> Completed 10320 simulation steps \n",
      "[========================================] 100%  --> Completed 10340 simulation steps \n",
      "[========================================] 100%  --> Completed 10360 simulation steps \n",
      "[========================================] 100%  --> Completed 10380 simulation steps \n",
      "[========================================] 100%  --> Completed 10400 simulation steps \n",
      "[========================================] 100%  --> Completed 10420 simulation steps \n",
      "[========================================] 100%  --> Completed 10440 simulation steps \n",
      "[========================================] 100%  --> Completed 10460 simulation steps \n",
      "[========================================] 100%  --> Completed 10480 simulation steps \n",
      "[========================================] 100%  --> Completed 10500 simulation steps \n",
      "[========================================] 100%  --> Completed 10520 simulation steps \n",
      "[========================================] 100%  --> Completed 10540 simulation steps \n",
      "[========================================] 100%  --> Completed 10560 simulation steps \n",
      "[========================================] 100%  --> Completed 10580 simulation steps \n",
      "[========================================] 100%  --> Completed 10600 simulation steps \n",
      "[========================================] 100%  --> Completed 10620 simulation steps \n",
      "[========================================] 100%  --> Completed 10640 simulation steps \n",
      "[========================================] 100%  --> Completed 10660 simulation steps \n",
      "[========================================] 100%  --> Completed 10680 simulation steps \n",
      "[========================================] 100%  --> Completed 10700 simulation steps \n",
      "[========================================] 100%  --> Completed 10720 simulation steps \n",
      "[========================================] 100%  --> Completed 10740 simulation steps \n",
      "[========================================] 100%  --> Completed 10760 simulation steps \n",
      "[========================================] 100%  --> Completed 10780 simulation steps \n",
      "[========================================] 100%  --> Completed 10800 simulation steps \n",
      "[========================================] 100%  --> Completed 10820 simulation steps \n",
      "[==============>                         ] 35%"
     ]
    },
    {
     "name": "stdout",
     "output_type": "stream",
     "text": [
      "[========================================] 100%  --> Completed 10840 simulation steps \n",
      "[========================================] 100%  --> Completed 10860 simulation steps \n",
      "[========================================] 100%  --> Completed 10880 simulation steps \n",
      "[========================================] 100%  --> Completed 10900 simulation steps \n",
      "[========================================] 100%  --> Completed 10920 simulation steps \n",
      "[========================================] 100%  --> Completed 10940 simulation steps \n",
      "[========================================] 100%  --> Completed 10960 simulation steps \n",
      "[========================================] 100%  --> Completed 10980 simulation steps \n",
      "[========================================] 100%  --> Completed 11000 simulation steps \n"
     ]
    }
   ],
   "source": [
    "print('Running self-propulsion simulation...')\n",
    "for i in range(0, nrun):\n",
    "   if i % dumpfreq == 0:\n",
    "      dumps.dump_cells(f'cells_p0_{p0:.3f}_v0_{v0:.2f}_{i:06d}.vtp', draw_periodic=True)\n",
    "      dumps.dump_cell_directors(f'dir_p0_{p0:.3f}_v0_{i:06d}.vtp', draw_periodic=True)\n",
    "   simulation.run(nsteps)"
   ]
  },
  {
   "cell_type": "markdown",
   "id": "b15e5274-54d4-4ff0-ae98-4b8af389626b",
   "metadata": {},
   "source": [
    "### Visualisation post relaxation\n",
    "\n",
    "We can now take a look into the relaxed configuration"
   ]
  },
  {
   "cell_type": "code",
   "execution_count": 21,
   "id": "3817846a-e854-45e2-9d5d-cf57a04bdc1e",
   "metadata": {},
   "outputs": [
    {
     "data": {
      "application/vnd.jupyter.widget-view+json": {
       "model_id": "2426b55871004711be1eb2e351f42e23",
       "version_major": 2,
       "version_minor": 0
      },
      "text/plain": [
       "Widget(value=\"<iframe src='http://localhost:50354/index.html?ui=P_0x329a7bf10_2&reconnect=auto' style='width: …"
      ]
     },
     "metadata": {},
     "output_type": "display_data"
    },
    {
     "name": "stderr",
     "output_type": "stream",
     "text": [
      "Exception raised\n",
      "ConnectionResetError('Cannot write to closing transport')\n",
      "Traceback (most recent call last):\n",
      "  File \"/Users/RSknepnek/opt/anaconda3/envs/py310/lib/python3.10/site-packages/wslink/protocol.py\", line 340, in onMessage\n",
      "    await self.sendWrappedMessage(\n",
      "  File \"/Users/RSknepnek/opt/anaconda3/envs/py310/lib/python3.10/site-packages/wslink/protocol.py\", line 484, in sendWrappedMessage\n",
      "    await ws.send_str(encMsg)\n",
      "  File \"/Users/RSknepnek/opt/anaconda3/envs/py310/lib/python3.10/site-packages/aiohttp/web_ws.py\", line 336, in send_str\n",
      "    await self._writer.send(data, binary=False, compress=compress)\n",
      "  File \"/Users/RSknepnek/opt/anaconda3/envs/py310/lib/python3.10/site-packages/aiohttp/http_websocket.py\", line 723, in send\n",
      "    await self._send_frame(message, WSMsgType.TEXT, compress)\n",
      "  File \"/Users/RSknepnek/opt/anaconda3/envs/py310/lib/python3.10/site-packages/aiohttp/http_websocket.py\", line 686, in _send_frame\n",
      "    self._write(header + message)\n",
      "  File \"/Users/RSknepnek/opt/anaconda3/envs/py310/lib/python3.10/site-packages/aiohttp/http_websocket.py\", line 696, in _write\n",
      "    raise ConnectionResetError(\"Cannot write to closing transport\")\n",
      "ConnectionResetError: Cannot write to closing transport\n",
      "\n",
      "Error handling request\n",
      "Traceback (most recent call last):\n",
      "  File \"/Users/RSknepnek/opt/anaconda3/envs/py310/lib/python3.10/site-packages/wslink/protocol.py\", line 340, in onMessage\n",
      "    await self.sendWrappedMessage(\n",
      "  File \"/Users/RSknepnek/opt/anaconda3/envs/py310/lib/python3.10/site-packages/wslink/protocol.py\", line 484, in sendWrappedMessage\n",
      "    await ws.send_str(encMsg)\n",
      "  File \"/Users/RSknepnek/opt/anaconda3/envs/py310/lib/python3.10/site-packages/aiohttp/web_ws.py\", line 336, in send_str\n",
      "    await self._writer.send(data, binary=False, compress=compress)\n",
      "  File \"/Users/RSknepnek/opt/anaconda3/envs/py310/lib/python3.10/site-packages/aiohttp/http_websocket.py\", line 723, in send\n",
      "    await self._send_frame(message, WSMsgType.TEXT, compress)\n",
      "  File \"/Users/RSknepnek/opt/anaconda3/envs/py310/lib/python3.10/site-packages/aiohttp/http_websocket.py\", line 686, in _send_frame\n",
      "    self._write(header + message)\n",
      "  File \"/Users/RSknepnek/opt/anaconda3/envs/py310/lib/python3.10/site-packages/aiohttp/http_websocket.py\", line 696, in _write\n",
      "    raise ConnectionResetError(\"Cannot write to closing transport\")\n",
      "ConnectionResetError: Cannot write to closing transport\n",
      "\n",
      "During handling of the above exception, another exception occurred:\n",
      "\n",
      "Traceback (most recent call last):\n",
      "  File \"/Users/RSknepnek/opt/anaconda3/envs/py310/lib/python3.10/site-packages/wslink/protocol.py\", line 348, in onMessage\n",
      "    await self.sendWrappedError(\n",
      "  File \"/Users/RSknepnek/opt/anaconda3/envs/py310/lib/python3.10/site-packages/wslink/protocol.py\", line 508, in sendWrappedError\n",
      "    await ws.send_str(encMsg)\n",
      "  File \"/Users/RSknepnek/opt/anaconda3/envs/py310/lib/python3.10/site-packages/aiohttp/web_ws.py\", line 336, in send_str\n",
      "    await self._writer.send(data, binary=False, compress=compress)\n",
      "  File \"/Users/RSknepnek/opt/anaconda3/envs/py310/lib/python3.10/site-packages/aiohttp/http_websocket.py\", line 723, in send\n",
      "    await self._send_frame(message, WSMsgType.TEXT, compress)\n",
      "  File \"/Users/RSknepnek/opt/anaconda3/envs/py310/lib/python3.10/site-packages/aiohttp/http_websocket.py\", line 686, in _send_frame\n",
      "    self._write(header + message)\n",
      "  File \"/Users/RSknepnek/opt/anaconda3/envs/py310/lib/python3.10/site-packages/aiohttp/http_websocket.py\", line 696, in _write\n",
      "    raise ConnectionResetError(\"Cannot write to closing transport\")\n",
      "ConnectionResetError: Cannot write to closing transport\n",
      "\n",
      "During handling of the above exception, another exception occurred:\n",
      "\n",
      "Traceback (most recent call last):\n",
      "  File \"/Users/RSknepnek/opt/anaconda3/envs/py310/lib/python3.10/site-packages/aiohttp/web_protocol.py\", line 452, in _handle_request\n",
      "    resp = await request_handler(request)\n",
      "  File \"/Users/RSknepnek/opt/anaconda3/envs/py310/lib/python3.10/site-packages/aiohttp/web_app.py\", line 543, in _handle\n",
      "    resp = await handler(request)\n",
      "  File \"/Users/RSknepnek/opt/anaconda3/envs/py310/lib/python3.10/site-packages/wslink/backends/aiohttp/__init__.py\", line 215, in handleWsRequest\n",
      "    await self.onMessage(is_binary(msg), msg, client_id)\n",
      "  File \"/Users/RSknepnek/opt/anaconda3/envs/py310/lib/python3.10/site-packages/wslink/protocol.py\", line 361, in onMessage\n",
      "    await self.sendWrappedError(\n",
      "  File \"/Users/RSknepnek/opt/anaconda3/envs/py310/lib/python3.10/site-packages/wslink/protocol.py\", line 508, in sendWrappedError\n",
      "    await ws.send_str(encMsg)\n",
      "  File \"/Users/RSknepnek/opt/anaconda3/envs/py310/lib/python3.10/site-packages/aiohttp/web_ws.py\", line 336, in send_str\n",
      "    await self._writer.send(data, binary=False, compress=compress)\n",
      "  File \"/Users/RSknepnek/opt/anaconda3/envs/py310/lib/python3.10/site-packages/aiohttp/http_websocket.py\", line 723, in send\n",
      "    await self._send_frame(message, WSMsgType.TEXT, compress)\n",
      "  File \"/Users/RSknepnek/opt/anaconda3/envs/py310/lib/python3.10/site-packages/aiohttp/http_websocket.py\", line 686, in _send_frame\n",
      "    self._write(header + message)\n",
      "  File \"/Users/RSknepnek/opt/anaconda3/envs/py310/lib/python3.10/site-packages/aiohttp/http_websocket.py\", line 696, in _write\n",
      "    raise ConnectionResetError(\"Cannot write to closing transport\")\n",
      "ConnectionResetError: Cannot write to closing transport\n"
     ]
    },
    {
     "name": "stdout",
     "output_type": "stream",
     "text": [
      " JS Error => Malformed message:  {\"wslink\": \"1.0\", \"id\": \"publish:trame.vtk.delta:0\", \"result\": {\"parent\": \"0x0\", \"id\": 3, \"type\": \"vtkCocoaRenderWindow\", \"properties\": {\"numberOfLayers\": 2}, \"dependencies\": [{\"parent\": \"000000012af99d70\", \"id\": \"000000012b924a00\", \"type\": \"vtkOpenGLRenderer\", \"properties\": {\"background\": [1.0, 1.0, 1.0], \"background2\": [0.2, 0.2, 0.2], \"viewport\": [0.0, 0.0, 1.0, 1.0], \"twoSidedLighting\": 1, \"lightFollowCamera\": 1, \"layer\": 0, \"preserveColorBuffer\": 0, \"preserveDepthBuffer\": 0, \"nearClippingPlaneTolerance\": 0.001, \"clippingRangeExpansion\": 0.5, \"useShadows\": 0, \"useDepthPeeling\": 0, \"occlusionRatio\": 0.0, \"maximumNumberOfPeels\": 4, \"interactive\": 1}, \"dependencies\": [{\"parent\": \"000000012b924a00\", \"id\": \"000000012af95630\", \"type\": \"vtkOpenGLCamera\", \"properties\": {\"focalPoint\": [-0.019669904539597827, 0.06619860004419653, 0.0], \"position\": [-0.019669904539597827, 0.06619860004419653, 26.90799819016945], \"viewUp\": [0.0, 1.0, 0.0], \"clippingRange\": [25.204132907653946, 29.117717247462995]}}, {\"parent\": \"000000012b924a00\", \"id\": \"000000012af9cb20\", \"type\": \"vtkOpenGLActor\", \"properties\": {\"visibility\": 1, \"pickable\": 1, \"dragable\": 1, \"useBounds\": true, \"origin\": [0.0, 0.0, 0.0], \"position\": [0.0, 0.0, 0.0], \"scale\": [1.0, 1.0, 1.0], \"forceOpaque\": false, \"forceTranslucent\": false}, \"calls\": [[\"setMapper\", [\"instance:${000000012af9ac80}\"]], [\"setProperty\", [\"instance:${000000012afb2810}\"]]], \"dependencies\": [{\"parent\": \"000000012af9cb20\", \"id\": \"000000012af9ac80\", \"type\": \"vtkMapper\", \"properties\": {\"resolveCoincidentTopology\": 0, \"renderTime\": 0.0, \"arrayAccessMode\": 0, \"scalarRange\": [0.0, 1.0], \"useLookupTableScalarRange\": 0, \"scalarVisibility\": 1, \"colorByArrayName\": -1, \"colorMode\": 1, \"scalarMode\": 2, \"interpolateScalarsBeforeMapping\": 1}, \"calls\": [[\"setInputData\", [\"instance:${000000012af9ac80-dataset}\"]], [\"setLookupTable\", [\"instance:${000000012af9b320}\"]]], \"dependencies\": [{\"parent\": \"000000012af9ac80\", \"id\": \"000000012af9ac80-dataset\", \"type\": \"vtkPolyData\", \"properties\": {\"points\": {\"hash\": \"9c0b5eee874079d6df0af57c9e40d5b0_600d\", \"vtkClass\": \"vtkPoints\", \"name\": \"Points\", \"dataType\": \"Float64Array\", \"numberOfComponents\": 3, \"size\": 600, \"ranges\": [{\"min\": -4.977689333238746, \"max\": 4.93834952415955, \"component\": null}, {\"min\": -4.927018231246306, \"max\": 4.956960424574976, \"component\": null}, {\"min\": 0.0, \"max\": 0.0, \"component\": null}, {\"min\": 0.4571721945319478, \"max\": 6.935295247857854, \"component\": null}]}, \"polys\": {\"hash\": \"0073d19e4f4fdda06e79d0882e473a71_553L\", \"vtkClass\": \"vtkCellArray\", \"name\": null, \"dataType\": \"Uint32Array\", \"numberOfComponents\": 1, \"size\": 553, \"ranges\": [{\"min\": 0.0, \"max\": 199.0, \"component\": null}]}, \"fields\": [{\"hash\": \"b61adadbd804187ca8355a5703d714a0_79ll\", \"vtkClass\": \"vtkDataArray\", \"name\": \"Data\", \"dataType\": \"BigInt64Array\", \"numberOfComponents\": 1, \"size\": 79, \"ranges\": [{\"min\": 0.0, \"max\": 1.0, \"component\": null}], \"location\": \"cellData\", \"registration\": \"setScalars\"}]}}, {\"parent\": \"000000012af9ac80\", \"id\": \"000000012af9b320\", \"type\": \"vtkLookupTable\", \"properties\": {\"numberOfColors\": 256, \"valueRange\": [0.0, 1.0], \"hueRange\": [0.5, 0], \"saturationRange\": [1.0, 1.0], \"nanColor\": [0.6627450980392157, 0.6627450980392157, 0.6627450980392157, 1.0], \"belowRangeColor\": [0.0, 0.0, 0.0, 1.0], \"aboveRangeColor\": [1.0, 1.0, 1.0, 1.0], \"useAboveRangeColor\": false, \"useBelowRangeColor\": false, \"alpha\": 1.0, \"vectorSize\": -1, \"vectorComponent\": 0, \"vectorMode\": 1, \"indexedLookup\": 0, \"table\": [[68, 1, 84, 255], [68, 2, 85, 255], [68, 3, 87, 255], [69, 5, 88, 255], [69, 6, 90, 255], [69, 8, 91, 255], [70, 9, 92, 255], [70, 11, 94, 255], [70, 12, 95, 255], [70, 14, 97, 255], [71, 15, 98, 255], [71, 17, 99, 255], [71, 18, 101, 255], [71, 20, 102, 255], [71, 21, 103, 255], [71, 22, 105, 255], [71, 24, 106, 255], [72, 25, 107, 255], [72, 26, 108, 255], [72, 28, 110, 255], [72, 29, 111, 255], [72, 30, 112, 255], [72, 32, 113, 255], [72, 33, 114, 255], [72, 34, 115, 255], [72, 35, 116, 255], [71, 37, 117, 255], [71, 38, 118, 255], [71, 39, 119, 255], [71, 40, 120, 255], [71, 42, 121, 255], [71, 43, 122, 255], [71, 44, 123, 255], [70, 45, 124, 255], [70, 47, 124, 255], [70, 48, 125, 255], [70, 49, 126, 255], [69, 50, 127, 255], [69, 52, 127, 255], [69, 53, 128, 255], [69, 54, 129, 255], [68, 55, 129, 255], [68, 57, 130, 255], [67, 58, 131, 255], [67, 59, 131, 255], [67, 60, 132, 255], [66, 61, 132, 255], [66, 62, 133, 255], [66, 64, 133, 255], [65, 65, 134, 255], [65, 66, 134, 255], [64, 67, 135, 255], [64, 68, 135, 255], [63, 69, 135, 255], [63, 71, 136, 255], [62, 72, 136, 255], [62, 73, 137, 255], [61, 74, 137, 255], [61, 75, 137, 255], [61, 76, 137, 255], [60, 77, 138, 255], [60, 78, 138, 255], [59, 80, 138, 255], [59, 81, 138, 255], [58, 82, 139, 255], [58, 83, 139, 255], [57, 84, 139, 255], [57, 85, 139, 255], [56, 86, 139, 255], [56, 87, 140, 255], [55, 88, 140, 255], [55, 89, 140, 255], [54, 90, 140, 255], [54, 91, 140, 255], [53, 92, 140, 255], [53, 93, 140, 255], [52, 94, 141, 255], [52, 95, 141, 255], [51, 96, 141, 255], [51, 97, 141, 255], [50, 98, 141, 255], [50, 99, 141, 255], [49, 100, 141, 255], [49, 101, 141, 255], [49, 102, 141, 255], [48, 103, 141, 255], [48, 104, 141, 255], [47, 105, 141, 255], [47, 106, 141, 255], [46, 107, 142, 255], [46, 108, 142, 255], [46, 109, 142, 255], [45, 110, 142, 255], [45, 111, 142, 255], [44, 112, 142, 255], [44, 113, 142, 255], [44, 114, 142, 255], [43, 115, 142, 255], [43, 116, 142, 255], [42, 117, 142, 255], [42, 118, 142, 255], [42, 119, 142, 255], [41, 120, 142, 255], [41, 121, 142, 255], [40, 122, 142, 255], [40, 122, 142, 255], [40, 123, 142, 255], [39, 124, 142, 255], [39, 125, 142, 255], [39, 126, 142, 255], [38, 127, 142, 255], [38, 128, 142, 255], [38, 129, 142, 255], [37, 130, 142, 255], [37, 131, 141, 255], [36, 132, 141, 255], [36, 133, 141, 255], [36, 134, 141, 255], [35, 135, 141, 255], [35, 136, 141, 255], [35, 137, 141, 255], [34, 137, 141, 255], [34, 138, 141, 255], [34, 139, 141, 255], [33, 140, 141, 255], [33, 141, 140, 255], [33, 142, 140, 255], [32, 143, 140, 255], [32, 144, 140, 255], [32, 145, 140, 255], [31, 146, 140, 255], [31, 147, 139, 255], [31, 148, 139, 255], [31, 149, 139, 255], [31, 150, 139, 255], [30, 151, 138, 255], [30, 152, 138, 255], [30, 153, 138, 255], [30, 153, 138, 255], [30, 154, 137, 255], [30, 155, 137, 255], [30, 156, 137, 255], [30, 157, 136, 255], [30, 158, 136, 255], [30, 159, 136, 255], [30, 160, 135, 255], [31, 161, 135, 255], [31, 162, 134, 255], [31, 163, 134, 255], [32, 164, 133, 255], [32, 165, 133, 255], [33, 166, 133, 255], [33, 167, 132, 255], [34, 167, 132, 255], [35, 168, 131, 255], [35, 169, 130, 255], [36, 170, 130, 255], [37, 171, 129, 255], [38, 172, 129, 255], [39, 173, 128, 255], [40, 174, 127, 255], [41, 175, 127, 255], [42, 176, 126, 255], [43, 177, 125, 255], [44, 177, 125, 255], [46, 178, 124, 255], [47, 179, 123, 255], [48, 180, 122, 255], [50, 181, 122, 255], [51, 182, 121, 255], [53, 183, 120, 255], [54, 184, 119, 255], [56, 185, 118, 255], [57, 185, 118, 255], [59, 186, 117, 255], [61, 187, 116, 255], [62, 188, 115, 255], [64, 189, 114, 255], [66, 190, 113, 255], [68, 190, 112, 255], [69, 191, 111, 255], [71, 192, 110, 255], [73, 193, 109, 255], [75, 194, 108, 255], [77, 194, 107, 255], [79, 195, 105, 255], [81, 196, 104, 255], [83, 197, 103, 255], [85, 198, 102, 255], [87, 198, 101, 255], [89, 199, 100, 255], [91, 200, 98, 255], [94, 201, 97, 255], [96, 201, 96, 255], [98, 202, 95, 255], [100, 203, 93, 255], [103, 204, 92, 255], [105, 204, 91, 255], [107, 205, 89, 255], [109, 206, 88, 255], [112, 206, 86, 255], [114, 207, 85, 255], [116, 208, 84, 255], [119, 208, 82, 255], [121, 209, 81, 255], [124, 210, 79, 255], [126, 210, 78, 255], [129, 211, 76, 255], [131, 211, 75, 255], [134, 212, 73, 255], [136, 213, 71, 255], [139, 213, 70, 255], [141, 214, 68, 255], [144, 214, 67, 255], [146, 215, 65, 255], [149, 215, 63, 255], [151, 216, 62, 255], [154, 216, 60, 255], [157, 217, 58, 255], [159, 217, 56, 255], [162, 218, 55, 255], [165, 218, 53, 255], [167, 219, 51, 255], [170, 219, 50, 255], [173, 220, 48, 255], [175, 220, 46, 255], [178, 221, 44, 255], [181, 221, 43, 255], [183, 221, 41, 255], [186, 222, 39, 255], [189, 222, 38, 255], [191, 223, 36, 255], [194, 223, 34, 255], [197, 223, 33, 255], [199, 224, 31, 255], [202, 224, 30, 255], [205, 224, 29, 255], [207, 225, 28, 255], [210, 225, 27, 255], [212, 225, 26, 255], [215, 226, 25, 255], [218, 226, 24, 255], [220, 226, 24, 255], [223, 227, 24, 255], [225, 227, 24, 255], [228, 227, 24, 255], [231, 228, 25, 255], [233, 228, 25, 255], [236, 228, 26, 255], [238, 229, 27, 255], [241, 229, 28, 255], [243, 229, 30, 255], [246, 230, 31, 255], [248, 230, 33, 255], [250, 230, 34, 255], [253, 231, 36, 255]]}}]}, {\"parent\": \"000000012af9cb20\", \"id\": \"000000012afb2810\", \"type\": \"vtkOpenGLProperty\", \"properties\": {\"representation\": 2, \"diffuseColor\": [0.6784313725490196, 0.8470588235294118, 0.9019607843137255], \"color\": [0.6784313725490196, 0.8470588235294118, 0.9019607843137255], \"ambientColor\": [0.6784313725490196, 0.8470588235294118, 0.9019607843137255], \"specularColor\": [0.6784313725490196, 0.8470588235294118, 0.9019607843137255], \"edgeColor\": [0.0, 0.0, 0.0], \"ambient\": 0.0, \"diffuse\": 1.0, \"specular\": 0.0, \"specularPower\": 100.0, \"opacity\": 1.0, \"interpolation\": 0, \"edgeVisibility\": 1, \"backfaceCulling\": 0, \"frontfaceCulling\": 0, \"pointSize\": 5.0, \"lineWidth\": 1.0, \"lighting\": 0}}]}, {\"parent\": \"000000012b924a00\", \"id\": \"000000012afb2390\", \"type\": \"vtkScalarBarActor\", \"properties\": {\"visibility\": 1, \"pickable\": 0, \"dragable\": 1, \"useBounds\": true, \"automated\": true, \"axisLabel\": \"type\", \"boxPosition\": [0.88, -0.92], \"boxSize\": [0.6, 0.08], \"axisTitlePixelOffset\": 36.0, \"axisTextStyle\": {\"fontColor\": \"#000000\", \"fontStyle\": \"normal\", \"fontSize\": 18, \"fontFamily\": \"serif\"}, \"tickLabelPixelOffset\": 14.0, \"tickTextStyle\": {\"fontColor\": \"#000000\", \"fontStyle\": \"normal\", \"fontSize\": 14, \"fontFamily\": \"serif\"}, \"drawNanAnnotation\": 0, \"drawBelowRangeSwatch\": false, \"drawAboveRangeSwatch\": false}, \"calls\": [[\"setScalarsToColors\", [\"instance:${000000012af9b320}\"]]], \"dependencies\": [{\"parent\": \"000000012afb2390\", \"id\": \"000000012af9b320\", \"type\": \"vtkLookupTable\", \"properties\": {}}]}, {\"parent\": \"000000012b924a00\", \"id\": \"000000012af9dd60\", \"type\": \"vtkOpenGLLight\", \"properties\": {\"switch\": 1, \"intensity\": 0.25, \"color\": [1.0, 1.0, 1.0], \"position\": [0.0, 0.0, 1.0], \"focalPoint\": [0.0, 0.0, 0.0], \"positional\": 0, \"exponent\": 1.0, \"coneAngle\": 30.0, \"attenuationValues\": [1.0, 0.0, 0.0], \"lightType\": \"HeadLight\", \"shadowAttenuation\": 1.0}}, {\"parent\": \"000000012b924a00\", \"id\": \"000000012af9e680\", \"type\": \"vtkOpenGLLight\", \"properties\": {\"switch\": 1, \"intensity\": 0.75, \"color\": [1.0, 0.9725490196078431, 0.9019607843137255], \"position\": [0.11161889704894966, 0.766044443118978, 0.6330222215594891], \"focalPoint\": [0.0, 0.0, 0.0], \"positional\": 0, \"exponent\": 1.0, \"coneAngle\": 30.0, \"attenuationValues\": [1.0, 0.0, 0.0], \"lightType\": \"CameraLight\", \"shadowAttenuation\": 1.0}}, {\"parent\": \"000000012b924a00\", \"id\": \"000000012af9f0e0\", \"type\": \"vtkOpenGLLight\", \"properties\": {\"switch\": 1, \"intensity\": 0.25, \"color\": [0.9098039215686274, 0.9333333333333333, 1.0], \"position\": [-0.044943455527547777, -0.9659258262890683, 0.25488700224417876], \"focalPoint\": [0.0, 0.0, 0.0], \"positional\": 0, \"exponent\": 1.0, \"coneAngle\": 30.0, \"attenuationValues\": [1.0, 0.0, 0.0], \"lightType\": \"CameraLight\", \"shadowAttenuation\": 1.0}}, {\"parent\": \"000000012b924a00\", \"id\": \"000000012af9fb40\", \"type\": \"vtkOpenGLLight\", \"properties\": {\"switch\": 1, \"intensity\": 0.21428571428571427, \"color\": [1.0, 1.0, 1.0], \"position\": [0.9396926207859084, 0.0, -0.3420201433256687], \"focalPoint\": [0.0, 0.0, 0.0], \"positional\": 0, \"exponent\": 1.0, \"coneAngle\": 30.0, \"attenuationValues\": [1.0, 0.0, 0.0], \"lightType\": \"CameraLight\", \"shadowAttenuation\": 1.0}}, {\"parent\": \"000000012b924a00\", \"id\": \"000000012afa05a0\", \"type\": \"vtkOpenGLLight\", \"properties\": {\"switch\": 1, \"intensity\": 0.21428571428571427, \"color\": [1.0, 1.0, 1.0], \"position\": [-0.9396926207859084, 0.0, -0.3420201433256687], \"focalPoint\": [0.0, 0.0, 0.0], \"positional\": 0, \"exponent\": 1.0, \"coneAngle\": 30.0, \"attenuationValues\": [1.0, 0.0, 0.0], \"lightType\": \"CameraLight\", \"shadowAttenuation\": 1.0}}], \"calls\": [[\"setActiveCamera\", [\"instance:${000000012af95630}\"]], [\"addViewProp\", [\"instance:${000000012af9cb20}\"]], [\"addViewProp\", [\"instance:${000000012afb2390}\"]], [\"addLight\", [\"instance:${000000012af9dd60}\"]], [\"addLight\", [\"instance:${000000012af9e680}\"]], [\"addLight\", [\"instance:${000000012af9f0e0}\"]], [\"addLight\", [\"instance:${000000012af9fb40}\"]], [\"addLight\", [\"instance:${000000012afa05a0}\"]]]}], \"calls\": [[\"addRenderer\", [\"instance:${000000012b924a00}\"]]], \"mtime\": 87759, \"extra\": {\"vtkRefId\": \"000000012af99d70\", \"centerOfRotation\": [-0.019669904539597827, 0.06619860004419653, 0.0], \"camera\": \"000000012af95630\"}}}{\"wslink\": \"1.0\", \"id\": \"publish:trame.vtk.delta:0\", \"result\": {\"parent\": \"0x0\", \"id\": 3, \"type\": \"vtkCocoaRenderWindow\", \"properties\": {\"numberOfLayers\": 2}, \"dependencies\": [{\"parent\": \"000000012af99d70\", \"id\": \"000000012b924a00\", \"type\": \"vtkOpenGLRenderer\", \"properties\": {\"background\": [1.0, 1.0, 1.0], \"background2\": [0.2, 0.2, 0.2], \"viewport\": [0.0, 0.0, 1.0, 1.0], \"twoSidedLighting\": 1, \"lightFollowCamera\": 1, \"layer\": 0, \"preserveColorBuffer\": 0, \"preserveDepthBuffer\": 0, \"nearClippingPlaneTolerance\": 0.001, \"clippingRangeExpansion\": 0.5, \"useShadows\": 0, \"useDepthPeeling\": 0, \"occlusionRatio\": 0.0, \"maximumNumberOfPeels\": 4, \"interactive\": 1}, \"dependencies\": [{\"parent\": \"000000012b924a00\", \"id\": \"000000012af95630\", \"type\": \"vtkOpenGLCamera\", \"properties\": {\"focalPoint\": [-0.019669904539597827, 0.06619860004419653, 0.0], \"position\": [-0.019669904539597827, 0.06619860004419653, 26.90799819016945], \"viewUp\": [0.0, 1.0, 0.0], \"clippingRange\": [25.204132907653946, 29.117717247462995]}}, {\"parent\": \"000000012b924a00\", \"id\": \"000000012af9cb20\", \"type\": \"vtkOpenGLActor\", \"properties\": {}, \"calls\": [[\"setMapper\", [\"instance:${000000012af9ac80}\"]], [\"setProperty\", [\"instance:${000000012afb2810}\"]]], \"dependencies\": [{\"parent\": \"000000012af9cb20\", \"id\": \"000000012af9ac80\", \"type\": \"vtkMapper\", \"properties\": {}, \"calls\": [[\"setInputData\", [\"instance:${000000012af9ac80-dataset}\"]], [\"setLookupTable\", [\"instance:${000000012af9b320}\"]]], \"dependencies\": [{\"parent\": \"000000012af9ac80\", \"id\": \"000000012af9ac80-dataset\", \"type\": \"vtkPolyData\", \"properties\": {\"points\": {\"hash\": \"9c0b5eee874079d6df0af57c9e40d5b0_600d\", \"vtkClass\": \"vtkPoints\", \"name\": \"Points\", \"dataType\": \"Float64Array\", \"numberOfComponents\": 3, \"size\": 600, \"ranges\": [{\"min\": -4.977689333238746, \"max\": 4.93834952415955, \"component\": null}, {\"min\": -4.927018231246306, \"max\": 4.956960424574976, \"component\": null}, {\"min\": 0.0, \"max\": 0.0, \"component\": null}, {\"min\": 0.4571721945319478, \"max\": 6.935295247857854, \"component\": null}]}, \"polys\": {\"hash\": \"0073d19e4f4fdda06e79d0882e473a71_553L\", \"vtkClass\": \"vtkCellArray\", \"name\": null, \"dataType\": \"Uint32Array\", \"numberOfComponents\": 1, \"size\": 553, \"ranges\": [{\"min\": 0.0, \"max\": 199.0, \"component\": null}]}, \"fields\": [{\"hash\": \"b61adadbd804187ca8355a5703d714a0_79ll\", \"vtkClass\": \"vtkDataArray\", \"name\": \"Data\", \"dataType\": \"BigInt64Array\", \"numberOfComponents\": 1, \"size\": 79, \"ranges\": [{\"min\": 0.0, \"max\": 1.0, \"component\": null}], \"location\": \"cellData\", \"registration\": \"setScalars\"}]}}, {\"parent\": \"000000012af9ac80\", \"id\": \"000000012af9b320\", \"type\": \"vtkLookupTable\", \"properties\": {}}]}, {\"parent\": \"000000012af9cb20\", \"id\": \"000000012afb2810\", \"type\": \"vtkOpenGLProperty\", \"properties\": {}}]}, {\"parent\": \"000000012b924a00\", \"id\": \"000000012afb2390\", \"type\": \"vtkScalarBarActor\", \"properties\": {}, \"calls\": [[\"setScalarsToColors\", [\"instance:${000000012af9b320}\"]]], \"dependencies\": [{\"parent\": \"000000012afb2390\", \"id\": \"000000012af9b320\", \"type\": \"vtkLookupTable\", \"properties\": {}}]}, {\"parent\": \"000000012b924a00\", \"id\": \"000000012af9dd60\", \"type\": \"vtkOpenGLLight\", \"properties\": {\"position\": [-0.019669904539597827, 0.06619860004419653, 26.90799819016945], \"focalPoint\": [-0.019669904539597827, 0.06619860004419653, 0.0]}}, {\"parent\": \"000000012b924a00\", \"id\": \"000000012af9e680\", \"type\": \"vtkOpenGLLight\", \"properties\": {}}, {\"parent\": \"000000012b924a00\", \"id\": \"000000012af9f0e0\", \"type\": \"vtkOpenGLLight\", \"properties\": {}}, {\"parent\": \"000000012b924a00\", \"id\": \"000000012af9fb40\", \"type\": \"vtkOpenGLLight\", \"properties\": {}}, {\"parent\": \"000000012b924a00\", \"id\": \"000000012afa05a0\", \"type\": \"vtkOpenGLLight\", \"properties\": {}}], \"calls\": [[\"setActiveCamera\", [\"instance:${000000012af95630}\"]]]}], \"calls\": [], \"mtime\": 90355, \"extra\": {\"vtkRefId\": \"000000012af99d70\", \"centerOfRotation\": [-0.019669904539597827, 0.06619860004419653, 0.0], \"camera\": \"000000012af95630\"}}}\n",
      " JS Error => Malformed message:  {\"wslink\": \"1.0\", \"id\": \"publish:trame.vtk.delta:0\", \"result\": {\"parent\": \"0x0\", \"id\": 3, \"type\": \"vtkCocoaRenderWindow\", \"properties\": {\"numberOfLayers\": 2}, \"dependencies\": [{\"parent\": \"000000012af99d70\", \"id\": \"000000012b924a00\", \"type\": \"vtkOpenGLRenderer\", \"properties\": {\"background\": [1.0, 1.0, 1.0], \"background2\": [0.2, 0.2, 0.2], \"viewport\": [0.0, 0.0, 1.0, 1.0], \"twoSidedLighting\": 1, \"lightFollowCamera\": 1, \"layer\": 0, \"preserveColorBuffer\": 0, \"preserveDepthBuffer\": 0, \"nearClippingPlaneTolerance\": 0.001, \"clippingRangeExpansion\": 0.5, \"useShadows\": 0, \"useDepthPeeling\": 0, \"occlusionRatio\": 0.0, \"maximumNumberOfPeels\": 4, \"interactive\": 1}, \"dependencies\": [{\"parent\": \"000000012b924a00\", \"id\": \"000000012af95630\", \"type\": \"vtkOpenGLCamera\", \"properties\": {\"focalPoint\": [-0.019669904539597827, 0.06619860004419653, 0.0], \"position\": [-0.019669904539597827, 0.06619860004419653, 26.90799819016945], \"viewUp\": [0.0, 1.0, 0.0], \"clippingRange\": [25.204132907653946, 29.117717247462995]}}, {\"parent\": \"000000012b924a00\", \"id\": \"000000012af9cb20\", \"type\": \"vtkOpenGLActor\", \"properties\": {\"visibility\": 1, \"pickable\": 1, \"dragable\": 1, \"useBounds\": true, \"origin\": [0.0, 0.0, 0.0], \"position\": [0.0, 0.0, 0.0], \"scale\": [1.0, 1.0, 1.0], \"forceOpaque\": false, \"forceTranslucent\": false}, \"calls\": [[\"setMapper\", [\"instance:${000000012af9ac80}\"]], [\"setProperty\", [\"instance:${000000012afb2810}\"]]], \"dependencies\": [{\"parent\": \"000000012af9cb20\", \"id\": \"000000012af9ac80\", \"type\": \"vtkMapper\", \"properties\": {\"resolveCoincidentTopology\": 0, \"renderTime\": 0.0, \"arrayAccessMode\": 0, \"scalarRange\": [0.0, 1.0], \"useLookupTableScalarRange\": 0, \"scalarVisibility\": 1, \"colorByArrayName\": -1, \"colorMode\": 1, \"scalarMode\": 2, \"interpolateScalarsBeforeMapping\": 1}, \"calls\": [[\"setInputData\", [\"instance:${000000012af9ac80-dataset}\"]], [\"setLookupTable\", [\"instance:${000000012af9b320}\"]]], \"dependencies\": [{\"parent\": \"000000012af9ac80\", \"id\": \"000000012af9ac80-dataset\", \"type\": \"vtkPolyData\", \"properties\": {\"points\": {\"hash\": \"9c0b5eee874079d6df0af57c9e40d5b0_600d\", \"vtkClass\": \"vtkPoints\", \"name\": \"Points\", \"dataType\": \"Float64Array\", \"numberOfComponents\": 3, \"size\": 600, \"ranges\": [{\"min\": -4.977689333238746, \"max\": 4.93834952415955, \"component\": null}, {\"min\": -4.927018231246306, \"max\": 4.956960424574976, \"component\": null}, {\"min\": 0.0, \"max\": 0.0, \"component\": null}, {\"min\": 0.4571721945319478, \"max\": 6.935295247857854, \"component\": null}]}, \"polys\": {\"hash\": \"0073d19e4f4fdda06e79d0882e473a71_553L\", \"vtkClass\": \"vtkCellArray\", \"name\": null, \"dataType\": \"Uint32Array\", \"numberOfComponents\": 1, \"size\": 553, \"ranges\": [{\"min\": 0.0, \"max\": 199.0, \"component\": null}]}, \"fields\": [{\"hash\": \"b61adadbd804187ca8355a5703d714a0_79ll\", \"vtkClass\": \"vtkDataArray\", \"name\": \"Data\", \"dataType\": \"BigInt64Array\", \"numberOfComponents\": 1, \"size\": 79, \"ranges\": [{\"min\": 0.0, \"max\": 1.0, \"component\": null}], \"location\": \"cellData\", \"registration\": \"setScalars\"}]}}, {\"parent\": \"000000012af9ac80\", \"id\": \"000000012af9b320\", \"type\": \"vtkLookupTable\", \"properties\": {\"numberOfColors\": 256, \"valueRange\": [0.0, 1.0], \"hueRange\": [0.5, 0], \"saturationRange\": [1.0, 1.0], \"nanColor\": [0.6627450980392157, 0.6627450980392157, 0.6627450980392157, 1.0], \"belowRangeColor\": [0.0, 0.0, 0.0, 1.0], \"aboveRangeColor\": [1.0, 1.0, 1.0, 1.0], \"useAboveRangeColor\": false, \"useBelowRangeColor\": false, \"alpha\": 1.0, \"vectorSize\": -1, \"vectorComponent\": 0, \"vectorMode\": 1, \"indexedLookup\": 0, \"table\": [[68, 1, 84, 255], [68, 2, 85, 255], [68, 3, 87, 255], [69, 5, 88, 255], [69, 6, 90, 255], [69, 8, 91, 255], [70, 9, 92, 255], [70, 11, 94, 255], [70, 12, 95, 255], [70, 14, 97, 255], [71, 15, 98, 255], [71, 17, 99, 255], [71, 18, 101, 255], [71, 20, 102, 255], [71, 21, 103, 255], [71, 22, 105, 255], [71, 24, 106, 255], [72, 25, 107, 255], [72, 26, 108, 255], [72, 28, 110, 255], [72, 29, 111, 255], [72, 30, 112, 255], [72, 32, 113, 255], [72, 33, 114, 255], [72, 34, 115, 255], [72, 35, 116, 255], [71, 37, 117, 255], [71, 38, 118, 255], [71, 39, 119, 255], [71, 40, 120, 255], [71, 42, 121, 255], [71, 43, 122, 255], [71, 44, 123, 255], [70, 45, 124, 255], [70, 47, 124, 255], [70, 48, 125, 255], [70, 49, 126, 255], [69, 50, 127, 255], [69, 52, 127, 255], [69, 53, 128, 255], [69, 54, 129, 255], [68, 55, 129, 255], [68, 57, 130, 255], [67, 58, 131, 255], [67, 59, 131, 255], [67, 60, 132, 255], [66, 61, 132, 255], [66, 62, 133, 255], [66, 64, 133, 255], [65, 65, 134, 255], [65, 66, 134, 255], [64, 67, 135, 255], [64, 68, 135, 255], [63, 69, 135, 255], [63, 71, 136, 255], [62, 72, 136, 255], [62, 73, 137, 255], [61, 74, 137, 255], [61, 75, 137, 255], [61, 76, 137, 255], [60, 77, 138, 255], [60, 78, 138, 255], [59, 80, 138, 255], [59, 81, 138, 255], [58, 82, 139, 255], [58, 83, 139, 255], [57, 84, 139, 255], [57, 85, 139, 255], [56, 86, 139, 255], [56, 87, 140, 255], [55, 88, 140, 255], [55, 89, 140, 255], [54, 90, 140, 255], [54, 91, 140, 255], [53, 92, 140, 255], [53, 93, 140, 255], [52, 94, 141, 255], [52, 95, 141, 255], [51, 96, 141, 255], [51, 97, 141, 255], [50, 98, 141, 255], [50, 99, 141, 255], [49, 100, 141, 255], [49, 101, 141, 255], [49, 102, 141, 255], [48, 103, 141, 255], [48, 104, 141, 255], [47, 105, 141, 255], [47, 106, 141, 255], [46, 107, 142, 255], [46, 108, 142, 255], [46, 109, 142, 255], [45, 110, 142, 255], [45, 111, 142, 255], [44, 112, 142, 255], [44, 113, 142, 255], [44, 114, 142, 255], [43, 115, 142, 255], [43, 116, 142, 255], [42, 117, 142, 255], [42, 118, 142, 255], [42, 119, 142, 255], [41, 120, 142, 255], [41, 121, 142, 255], [40, 122, 142, 255], [40, 122, 142, 255], [40, 123, 142, 255], [39, 124, 142, 255], [39, 125, 142, 255], [39, 126, 142, 255], [38, 127, 142, 255], [38, 128, 142, 255], [38, 129, 142, 255], [37, 130, 142, 255], [37, 131, 141, 255], [36, 132, 141, 255], [36, 133, 141, 255], [36, 134, 141, 255], [35, 135, 141, 255], [35, 136, 141, 255], [35, 137, 141, 255], [34, 137, 141, 255], [34, 138, 141, 255], [34, 139, 141, 255], [33, 140, 141, 255], [33, 141, 140, 255], [33, 142, 140, 255], [32, 143, 140, 255], [32, 144, 140, 255], [32, 145, 140, 255], [31, 146, 140, 255], [31, 147, 139, 255], [31, 148, 139, 255], [31, 149, 139, 255], [31, 150, 139, 255], [30, 151, 138, 255], [30, 152, 138, 255], [30, 153, 138, 255], [30, 153, 138, 255], [30, 154, 137, 255], [30, 155, 137, 255], [30, 156, 137, 255], [30, 157, 136, 255], [30, 158, 136, 255], [30, 159, 136, 255], [30, 160, 135, 255], [31, 161, 135, 255], [31, 162, 134, 255], [31, 163, 134, 255], [32, 164, 133, 255], [32, 165, 133, 255], [33, 166, 133, 255], [33, 167, 132, 255], [34, 167, 132, 255], [35, 168, 131, 255], [35, 169, 130, 255], [36, 170, 130, 255], [37, 171, 129, 255], [38, 172, 129, 255], [39, 173, 128, 255], [40, 174, 127, 255], [41, 175, 127, 255], [42, 176, 126, 255], [43, 177, 125, 255], [44, 177, 125, 255], [46, 178, 124, 255], [47, 179, 123, 255], [48, 180, 122, 255], [50, 181, 122, 255], [51, 182, 121, 255], [53, 183, 120, 255], [54, 184, 119, 255], [56, 185, 118, 255], [57, 185, 118, 255], [59, 186, 117, 255], [61, 187, 116, 255], [62, 188, 115, 255], [64, 189, 114, 255], [66, 190, 113, 255], [68, 190, 112, 255], [69, 191, 111, 255], [71, 192, 110, 255], [73, 193, 109, 255], [75, 194, 108, 255], [77, 194, 107, 255], [79, 195, 105, 255], [81, 196, 104, 255], [83, 197, 103, 255], [85, 198, 102, 255], [87, 198, 101, 255], [89, 199, 100, 255], [91, 200, 98, 255], [94, 201, 97, 255], [96, 201, 96, 255], [98, 202, 95, 255], [100, 203, 93, 255], [103, 204, 92, 255], [105, 204, 91, 255], [107, 205, 89, 255], [109, 206, 88, 255], [112, 206, 86, 255], [114, 207, 85, 255], [116, 208, 84, 255], [119, 208, 82, 255], [121, 209, 81, 255], [124, 210, 79, 255], [126, 210, 78, 255], [129, 211, 76, 255], [131, 211, 75, 255], [134, 212, 73, 255], [136, 213, 71, 255], [139, 213, 70, 255], [141, 214, 68, 255], [144, 214, 67, 255], [146, 215, 65, 255], [149, 215, 63, 255], [151, 216, 62, 255], [154, 216, 60, 255], [157, 217, 58, 255], [159, 217, 56, 255], [162, 218, 55, 255], [165, 218, 53, 255], [167, 219, 51, 255], [170, 219, 50, 255], [173, 220, 48, 255], [175, 220, 46, 255], [178, 221, 44, 255], [181, 221, 43, 255], [183, 221, 41, 255], [186, 222, 39, 255], [189, 222, 38, 255], [191, 223, 36, 255], [194, 223, 34, 255], [197, 223, 33, 255], [199, 224, 31, 255], [202, 224, 30, 255], [205, 224, 29, 255], [207, 225, 28, 255], [210, 225, 27, 255], [212, 225, 26, 255], [215, 226, 25, 255], [218, 226, 24, 255], [220, 226, 24, 255], [223, 227, 24, 255], [225, 227, 24, 255], [228, 227, 24, 255], [231, 228, 25, 255], [233, 228, 25, 255], [236, 228, 26, 255], [238, 229, 27, 255], [241, 229, 28, 255], [243, 229, 30, 255], [246, 230, 31, 255], [248, 230, 33, 255], [250, 230, 34, 255], [253, 231, 36, 255]]}}]}, {\"parent\": \"000000012af9cb20\", \"id\": \"000000012afb2810\", \"type\": \"vtkOpenGLProperty\", \"properties\": {\"representation\": 2, \"diffuseColor\": [0.6784313725490196, 0.8470588235294118, 0.9019607843137255], \"color\": [0.6784313725490196, 0.8470588235294118, 0.9019607843137255], \"ambientColor\": [0.6784313725490196, 0.8470588235294118, 0.9019607843137255], \"specularColor\": [0.6784313725490196, 0.8470588235294118, 0.9019607843137255], \"edgeColor\": [0.0, 0.0, 0.0], \"ambient\": 0.0, \"diffuse\": 1.0, \"specular\": 0.0, \"specularPower\": 100.0, \"opacity\": 1.0, \"interpolation\": 0, \"edgeVisibility\": 1, \"backfaceCulling\": 0, \"frontfaceCulling\": 0, \"pointSize\": 5.0, \"lineWidth\": 1.0, \"lighting\": 0}}]}, {\"parent\": \"000000012b924a00\", \"id\": \"000000012afb2390\", \"type\": \"vtkScalarBarActor\", \"properties\": {\"visibility\": 1, \"pickable\": 0, \"dragable\": 1, \"useBounds\": true, \"automated\": true, \"axisLabel\": \"type\", \"boxPosition\": [0.88, -0.92], \"boxSize\": [0.6, 0.08], \"axisTitlePixelOffset\": 36.0, \"axisTextStyle\": {\"fontColor\": \"#000000\", \"fontStyle\": \"normal\", \"fontSize\": 18, \"fontFamily\": \"serif\"}, \"tickLabelPixelOffset\": 14.0, \"tickTextStyle\": {\"fontColor\": \"#000000\", \"fontStyle\": \"normal\", \"fontSize\": 14, \"fontFamily\": \"serif\"}, \"drawNanAnnotation\": 0, \"drawBelowRangeSwatch\": false, \"drawAboveRangeSwatch\": false}, \"calls\": [[\"setScalarsToColors\", [\"instance:${000000012af9b320}\"]]], \"dependencies\": [{\"parent\": \"000000012afb2390\", \"id\": \"000000012af9b320\", \"type\": \"vtkLookupTable\", \"properties\": {}}]}, {\"parent\": \"000000012b924a00\", \"id\": \"000000012af9dd60\", \"type\": \"vtkOpenGLLight\", \"properties\": {\"switch\": 1, \"intensity\": 0.25, \"color\": [1.0, 1.0, 1.0], \"position\": [0.0, 0.0, 1.0], \"focalPoint\": [0.0, 0.0, 0.0], \"positional\": 0, \"exponent\": 1.0, \"coneAngle\": 30.0, \"attenuationValues\": [1.0, 0.0, 0.0], \"lightType\": \"HeadLight\", \"shadowAttenuation\": 1.0}}, {\"parent\": \"000000012b924a00\", \"id\": \"000000012af9e680\", \"type\": \"vtkOpenGLLight\", \"properties\": {\"switch\": 1, \"intensity\": 0.75, \"color\": [1.0, 0.9725490196078431, 0.9019607843137255], \"position\": [0.11161889704894966, 0.766044443118978, 0.6330222215594891], \"focalPoint\": [0.0, 0.0, 0.0], \"positional\": 0, \"exponent\": 1.0, \"coneAngle\": 30.0, \"attenuationValues\": [1.0, 0.0, 0.0], \"lightType\": \"CameraLight\", \"shadowAttenuation\": 1.0}}, {\"parent\": \"000000012b924a00\", \"id\": \"000000012af9f0e0\", \"type\": \"vtkOpenGLLight\", \"properties\": {\"switch\": 1, \"intensity\": 0.25, \"color\": [0.9098039215686274, 0.9333333333333333, 1.0], \"position\": [-0.044943455527547777, -0.9659258262890683, 0.25488700224417876], \"focalPoint\": [0.0, 0.0, 0.0], \"positional\": 0, \"exponent\": 1.0, \"coneAngle\": 30.0, \"attenuationValues\": [1.0, 0.0, 0.0], \"lightType\": \"CameraLight\", \"shadowAttenuation\": 1.0}}, {\"parent\": \"000000012b924a00\", \"id\": \"000000012af9fb40\", \"type\": \"vtkOpenGLLight\", \"properties\": {\"switch\": 1, \"intensity\": 0.21428571428571427, \"color\": [1.0, 1.0, 1.0], \"position\": [0.9396926207859084, 0.0, -0.3420201433256687], \"focalPoint\": [0.0, 0.0, 0.0], \"positional\": 0, \"exponent\": 1.0, \"coneAngle\": 30.0, \"attenuationValues\": [1.0, 0.0, 0.0], \"lightType\": \"CameraLight\", \"shadowAttenuation\": 1.0}}, {\"parent\": \"000000012b924a00\", \"id\": \"000000012afa05a0\", \"type\": \"vtkOpenGLLight\", \"properties\": {\"switch\": 1, \"intensity\": 0.21428571428571427, \"color\": [1.0, 1.0, 1.0], \"position\": [-0.9396926207859084, 0.0, -0.3420201433256687], \"focalPoint\": [0.0, 0.0, 0.0], \"positional\": 0, \"exponent\": 1.0, \"coneAngle\": 30.0, \"attenuationValues\": [1.0, 0.0, 0.0], \"lightType\": \"CameraLight\", \"shadowAttenuation\": 1.0}}], \"calls\": [[\"setActiveCamera\", [\"instance:${000000012af95630}\"]], [\"addViewProp\", [\"instance:${000000012af9cb20}\"]], [\"addViewProp\", [\"instance:${000000012afb2390}\"]], [\"addLight\", [\"instance:${000000012af9dd60}\"]], [\"addLight\", [\"instance:${000000012af9e680}\"]], [\"addLight\", [\"instance:${000000012af9f0e0}\"]], [\"addLight\", [\"instance:${000000012af9fb40}\"]], [\"addLight\", [\"instance:${000000012afa05a0}\"]]]}], \"calls\": [[\"addRenderer\", [\"instance:${000000012b924a00}\"]]], \"mtime\": 87759, \"extra\": {\"vtkRefId\": \"000000012af99d70\", \"centerOfRotation\": [-0.019669904539597827, 0.06619860004419653, 0.0], \"camera\": \"000000012af95630\"}}}{\"wslink\": \"1.0\", \"id\": \"publish:trame.vtk.delta:0\", \"result\": {\"parent\": \"0x0\", \"id\": 3, \"type\": \"vtkCocoaRenderWindow\", \"properties\": {\"numberOfLayers\": 2}, \"dependencies\": [{\"parent\": \"000000012af99d70\", \"id\": \"000000012b924a00\", \"type\": \"vtkOpenGLRenderer\", \"properties\": {\"background\": [1.0, 1.0, 1.0], \"background2\": [0.2, 0.2, 0.2], \"viewport\": [0.0, 0.0, 1.0, 1.0], \"twoSidedLighting\": 1, \"lightFollowCamera\": 1, \"layer\": 0, \"preserveColorBuffer\": 0, \"preserveDepthBuffer\": 0, \"nearClippingPlaneTolerance\": 0.001, \"clippingRangeExpansion\": 0.5, \"useShadows\": 0, \"useDepthPeeling\": 0, \"occlusionRatio\": 0.0, \"maximumNumberOfPeels\": 4, \"interactive\": 1}, \"dependencies\": [{\"parent\": \"000000012b924a00\", \"id\": \"000000012af95630\", \"type\": \"vtkOpenGLCamera\", \"properties\": {\"focalPoint\": [-0.019669904539597827, 0.06619860004419653, 0.0], \"position\": [-0.019669904539597827, 0.06619860004419653, 26.90799819016945], \"viewUp\": [0.0, 1.0, 0.0], \"clippingRange\": [25.204132907653946, 29.117717247462995]}}, {\"parent\": \"000000012b924a00\", \"id\": \"000000012af9cb20\", \"type\": \"vtkOpenGLActor\", \"properties\": {}, \"calls\": [[\"setMapper\", [\"instance:${000000012af9ac80}\"]], [\"setProperty\", [\"instance:${000000012afb2810}\"]]], \"dependencies\": [{\"parent\": \"000000012af9cb20\", \"id\": \"000000012af9ac80\", \"type\": \"vtkMapper\", \"properties\": {}, \"calls\": [[\"setInputData\", [\"instance:${000000012af9ac80-dataset}\"]], [\"setLookupTable\", [\"instance:${000000012af9b320}\"]]], \"dependencies\": [{\"parent\": \"000000012af9ac80\", \"id\": \"000000012af9ac80-dataset\", \"type\": \"vtkPolyData\", \"properties\": {\"points\": {\"hash\": \"9c0b5eee874079d6df0af57c9e40d5b0_600d\", \"vtkClass\": \"vtkPoints\", \"name\": \"Points\", \"dataType\": \"Float64Array\", \"numberOfComponents\": 3, \"size\": 600, \"ranges\": [{\"min\": -4.977689333238746, \"max\": 4.93834952415955, \"component\": null}, {\"min\": -4.927018231246306, \"max\": 4.956960424574976, \"component\": null}, {\"min\": 0.0, \"max\": 0.0, \"component\": null}, {\"min\": 0.4571721945319478, \"max\": 6.935295247857854, \"component\": null}]}, \"polys\": {\"hash\": \"0073d19e4f4fdda06e79d0882e473a71_553L\", \"vtkClass\": \"vtkCellArray\", \"name\": null, \"dataType\": \"Uint32Array\", \"numberOfComponents\": 1, \"size\": 553, \"ranges\": [{\"min\": 0.0, \"max\": 199.0, \"component\": null}]}, \"fields\": [{\"hash\": \"b61adadbd804187ca8355a5703d714a0_79ll\", \"vtkClass\": \"vtkDataArray\", \"name\": \"Data\", \"dataType\": \"BigInt64Array\", \"numberOfComponents\": 1, \"size\": 79, \"ranges\": [{\"min\": 0.0, \"max\": 1.0, \"component\": null}], \"location\": \"cellData\", \"registration\": \"setScalars\"}]}}, {\"parent\": \"000000012af9ac80\", \"id\": \"000000012af9b320\", \"type\": \"vtkLookupTable\", \"properties\": {}}]}, {\"parent\": \"000000012af9cb20\", \"id\": \"000000012afb2810\", \"type\": \"vtkOpenGLProperty\", \"properties\": {}}]}, {\"parent\": \"000000012b924a00\", \"id\": \"000000012afb2390\", \"type\": \"vtkScalarBarActor\", \"properties\": {}, \"calls\": [[\"setScalarsToColors\", [\"instance:${000000012af9b320}\"]]], \"dependencies\": [{\"parent\": \"000000012afb2390\", \"id\": \"000000012af9b320\", \"type\": \"vtkLookupTable\", \"properties\": {}}]}, {\"parent\": \"000000012b924a00\", \"id\": \"000000012af9dd60\", \"type\": \"vtkOpenGLLight\", \"properties\": {\"position\": [-0.019669904539597827, 0.06619860004419653, 26.90799819016945], \"focalPoint\": [-0.019669904539597827, 0.06619860004419653, 0.0]}}, {\"parent\": \"000000012b924a00\", \"id\": \"000000012af9e680\", \"type\": \"vtkOpenGLLight\", \"properties\": {}}, {\"parent\": \"000000012b924a00\", \"id\": \"000000012af9f0e0\", \"type\": \"vtkOpenGLLight\", \"properties\": {}}, {\"parent\": \"000000012b924a00\", \"id\": \"000000012af9fb40\", \"type\": \"vtkOpenGLLight\", \"properties\": {}}, {\"parent\": \"000000012b924a00\", \"id\": \"000000012afa05a0\", \"type\": \"vtkOpenGLLight\", \"properties\": {}}], \"calls\": [[\"setActiveCamera\", [\"instance:${000000012af95630}\"]]]}], \"calls\": [], \"mtime\": 90355, \"extra\": {\"vtkRefId\": \"000000012af99d70\", \"centerOfRotation\": [-0.019669904539597827, 0.06619860004419653, 0.0], \"camera\": \"000000012af95630\"}}}\n",
      " JS Error => Malformed message:  \n",
      " JS Error => Malformed message:  \n"
     ]
    },
    {
     "name": "stderr",
     "output_type": "stream",
     "text": [
      "Task exception was never retrieved\n",
      "future: <Task finished name='Task-144' coro=<WslinkHandler.sendWrappedMessage() done, defined at /Users/RSknepnek/opt/anaconda3/envs/py310/lib/python3.10/site-packages/wslink/protocol.py:423> exception=ConnectionResetError('Cannot write to closing transport')>\n",
      "Traceback (most recent call last):\n",
      "  File \"/Users/RSknepnek/opt/anaconda3/envs/py310/lib/python3.10/asyncio/tasks.py\", line 232, in __step\n",
      "    result = coro.send(None)\n",
      "  File \"/Users/RSknepnek/opt/anaconda3/envs/py310/lib/python3.10/site-packages/wslink/protocol.py\", line 484, in sendWrappedMessage\n",
      "    await ws.send_str(encMsg)\n",
      "  File \"/Users/RSknepnek/opt/anaconda3/envs/py310/lib/python3.10/site-packages/aiohttp/web_ws.py\", line 336, in send_str\n",
      "    await self._writer.send(data, binary=False, compress=compress)\n",
      "  File \"/Users/RSknepnek/opt/anaconda3/envs/py310/lib/python3.10/site-packages/aiohttp/http_websocket.py\", line 723, in send\n",
      "    await self._send_frame(message, WSMsgType.TEXT, compress)\n",
      "  File \"/Users/RSknepnek/opt/anaconda3/envs/py310/lib/python3.10/site-packages/aiohttp/http_websocket.py\", line 686, in _send_frame\n",
      "    self._write(header + message)\n",
      "  File \"/Users/RSknepnek/opt/anaconda3/envs/py310/lib/python3.10/site-packages/aiohttp/http_websocket.py\", line 696, in _write\n",
      "    raise ConnectionResetError(\"Cannot write to closing transport\")\n",
      "ConnectionResetError: Cannot write to closing transport\n"
     ]
    }
   ],
   "source": [
    "make_plotter(tissue, cmap='viridis', colourby='type').show()"
   ]
  },
  {
   "cell_type": "markdown",
   "id": "8c8e5707-0294-4a7e-a99c-5eff9a2174e0",
   "metadata": {},
   "source": [
    "## Basic analysis"
   ]
  },
  {
   "cell_type": "markdown",
   "id": "95c122c1-e0dc-44d5-b60c-5f1578bffea8",
   "metadata": {},
   "source": [
    "Then we save the final configuration to 'final.json'"
   ]
  },
  {
   "cell_type": "code",
   "execution_count": 22,
   "id": "697f0a91-1800-4325-9c62-332e9c5c45ef",
   "metadata": {},
   "outputs": [],
   "source": [
    "dumps.dump_mesh('final.json')"
   ]
  },
  {
   "cell_type": "markdown",
   "id": "4a5f9a2f-8f49-4388-9940-23d7133e196b",
   "metadata": {},
   "source": [
    "We now import VMAnalysis module and plot the histogram of cell areas."
   ]
  },
  {
   "cell_type": "code",
   "execution_count": 23,
   "id": "b9935033-8f67-4522-b9f2-3e366c3082c3",
   "metadata": {},
   "outputs": [],
   "source": [
    "from VMToolkit.VMAnalysis import *\n",
    "import numpy as np\n",
    "import matplotlib.pyplot as plt"
   ]
  },
  {
   "cell_type": "markdown",
   "id": "35271a3a-0b78-40dc-8b4e-d5b63d1e1be0",
   "metadata": {},
   "source": [
    "We read in the final configuration from the JSON file."
   ]
  },
  {
   "cell_type": "code",
   "execution_count": 31,
   "id": "67ce5efe-09a9-486b-a3d7-022345f565e4",
   "metadata": {},
   "outputs": [],
   "source": [
    "m = utils.HalfEdge.Mesh()\n",
    "m.read_json('final.json')"
   ]
  },
  {
   "cell_type": "markdown",
   "id": "b3f796f9-8d96-4fc5-affe-0b32a3f92e92",
   "metadata": {},
   "source": [
    "Compute and collect all cell areas."
   ]
  },
  {
   "cell_type": "code",
   "execution_count": 32,
   "id": "0628b591-ec73-49a5-9c14-9b595809e3c5",
   "metadata": {},
   "outputs": [],
   "source": [
    "areas = []\n",
    "for f in m.faces:\n",
    "    areas.append(f.area())\n",
    "areas = np.array(areas)"
   ]
  },
  {
   "cell_type": "markdown",
   "id": "36a26742-bf19-4c9d-b0be-3dedd6dd4bca",
   "metadata": {},
   "source": [
    "Plot a histogram"
   ]
  },
  {
   "cell_type": "code",
   "execution_count": 34,
   "id": "37a0e7d9-dd49-46da-9e31-6a10dc02fb27",
   "metadata": {},
   "outputs": [
    {
     "data": {
      "text/plain": [
       "(array([ 0.,  0.,  2., 17., 63., 18.,  0.,  0.,  0.]),\n",
       " array([0.        , 0.22222222, 0.44444444, 0.66666667, 0.88888889,\n",
       "        1.11111111, 1.33333333, 1.55555556, 1.77777778, 2.        ]),\n",
       " <BarContainer object of 9 artists>)"
      ]
     },
     "execution_count": 34,
     "metadata": {},
     "output_type": "execute_result"
    },
    {
     "data": {
      "image/png": "[encoded data removed]",
      "text/plain": [
       "<Figure size 640x480 with 1 Axes>"
      ]
     },
     "metadata": {},
     "output_type": "display_data"
    }
   ],
   "source": [
    "plt.hist(areas, bins=np.linspace(0,2,10),width=0.1,edgecolor='k', facecolor='red')"
   ]
  },
  {
   "cell_type": "markdown",
   "id": "3b5d1adb",
   "metadata": {},
   "source": [
    "Calculate texture tensor"
   ]
  },
  {
   "cell_type": "code",
   "execution_count": 27,
   "id": "9ff6a6a7",
   "metadata": {},
   "outputs": [],
   "source": [
    "M = MTensor('final.json')"
   ]
  },
  {
   "cell_type": "markdown",
   "id": "b9592682",
   "metadata": {},
   "source": [
    "Save $\\hat{M}$ into a VTK file and visualise it as ellipses."
   ]
  },
  {
   "cell_type": "code",
   "execution_count": 28,
   "id": "1ebf16d2",
   "metadata": {},
   "outputs": [],
   "source": [
    "M.plot_vtk_ellipse('M_ellipses.vtp', scale = 0.25)"
   ]
  },
  {
   "cell_type": "markdown",
   "id": "46f48015",
   "metadata": {},
   "source": [
    "Plot the configuration and the M tensor."
   ]
  },
  {
   "cell_type": "code",
   "execution_count": 30,
   "id": "be1de573",
   "metadata": {},
   "outputs": [
    {
     "name": "stderr",
     "output_type": "stream",
     "text": [
      "/var/folders/m1/0dcyjgv515j5kwn3zj48yl9h0000gq/T/ipykernel_69299/2748919267.py:3: MatplotlibDeprecationWarning: The get_cmap function was deprecated in Matplotlib 3.7 and will be removed two minor releases later. Use ``matplotlib.colormaps[name]`` or ``matplotlib.colormaps.get_cmap(obj)`` instead.\n",
      "  cmap = plt.cm.get_cmap(\"winter\", 20)\n"
     ]
    },
    {
     "data": {
      "application/vnd.jupyter.widget-view+json": {
       "model_id": "09e46ff4e3e94cc7a0da08aa62d1d0b4",
       "version_major": 2,
       "version_minor": 0
      },
      "text/plain": [
       "Widget(value=\"<iframe src='http://localhost:50354/index.html?ui=P_0x335d27790_4&reconnect=auto' style='width: …"
      ]
     },
     "metadata": {},
     "output_type": "display_data"
    }
   ],
   "source": [
    "import matplotlib.pyplot as plt\n",
    "import pyvista as pv\n",
    "cmap = plt.cm.get_cmap(\"winter\", 20)\n",
    "p = pv.Plotter()\n",
    "p.add_mesh(pv.read('cells_p0_3.850_v0_2.00_000499.vtp'), \n",
    "        scalars='Area',\n",
    "        show_edges=True,\n",
    "        line_width = 1,\n",
    "        cmap=cmap,\n",
    "        )\n",
    "p.add_mesh(pv.read('M_ellipses.vtp'))\n",
    "p.camera_position = 'xy'\n",
    "p.show()"
   ]
  },
  {
   "cell_type": "code",
   "execution_count": null,
   "id": "24530f07",
   "metadata": {},
   "outputs": [],
   "source": []
  }
 ],
 "metadata": {
  "kernelspec": {
   "display_name": "Python 3 (ipykernel)",
   "language": "python",
   "name": "python3"
  },
  "language_info": {
   "codemirror_mode": {
    "name": "ipython",
    "version": 3
   },
   "file_extension": ".py",
   "mimetype": "text/x-python",
   "name": "python",
   "nbconvert_exporter": "python",
   "pygments_lexer": "ipython3",
   "version": "3.10.14"
  }
 },
 "nbformat": 4,
 "nbformat_minor": 5
}
