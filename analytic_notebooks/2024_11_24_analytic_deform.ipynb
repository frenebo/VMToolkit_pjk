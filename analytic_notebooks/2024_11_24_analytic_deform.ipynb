{
 "cells": [
  {
   "cell_type": "markdown",
   "id": "1c9f85ea-7f3e-4073-8300-067e2f672036",
   "metadata": {},
   "source": [
    "## What is poisson ratio for vertex model?\n",
    "\n",
    "Here is the model:\n",
    "\n",
    "$$ E = k_A \\left(A-A_r\\right)^2 + k_P \\left(P - P_r\\right)^2 $$"
   ]
  },
  {
   "cell_type": "markdown",
   "id": "38d73d61-ed3c-4554-98f6-693dbf263bd0",
   "metadata": {
    "jp-MarkdownHeadingCollapsed": true,
    "tags": []
   },
   "source": [
    "### What does the cell look like?\n",
    "![title](2024_11_22_analytic_deform_img/diagram-20241122.png)\n",
    "\n"
   ]
  },
  {
   "cell_type": "markdown",
   "id": "edded8c3-30f9-4054-8a30-2edc71c3103d",
   "metadata": {},
   "source": [
    "### Finding the area and the perimeter:\n",
    "We can set $l_i$ to one, since we can just replace it with alpha and beta - which can directly represent dimenions of the hexagon.\n",
    "$$ A = 6 \\cdot A_{triangle} = 6 \\cdot \\frac{1}{2} \\left[\\alpha \\cdot \\beta \\frac{\\sqrt{3}}{2}\\right] $$\n",
    "$$ A\\left(\\alpha, \\beta\\right) = \\frac{3\\sqrt{3}}{2}\\alpha  \\beta $$"
   ]
  },
  {
   "cell_type": "markdown",
   "id": "a74e47ff-22ff-4ffd-af71-8227ba9de848",
   "metadata": {},
   "source": [
    "$$ P = 2 \\cdot \\left[\\alpha\\right] + 4 \\left[\\frac{1}{2} \\sqrt{\\alpha^2 + 3 \\beta^2} \\right] $$\n",
    "$$ P\\left(\\alpha, \\beta\\right) = 2 \\alpha + 2 \\sqrt{\\alpha^2 + 3 \\beta^2}  $$"
   ]
  },
  {
   "cell_type": "markdown",
   "id": "894213c8-32d0-47f3-a9ed-bacc09424626",
   "metadata": {},
   "source": [
    "## Using sympy to define stuff"
   ]
  },
  {
   "cell_type": "code",
   "execution_count": 98,
   "id": "4dcbcea5-6354-40bb-b029-e858fc400857",
   "metadata": {},
   "outputs": [
    {
     "data": {
      "image/png": "[encoded data removed]",
      "text/latex": [
       "$\\displaystyle E{\\left(\\alpha,\\beta,A_{r},P_{r},k_{A},k_{P} \\right)} = k_{A} \\left(- A_{r} + \\frac{3 \\sqrt{3} \\alpha \\beta}{2}\\right)^{2} + k_{P} \\left(- P_{r} + 2 \\alpha + 2 \\sqrt{\\alpha^{2} + 3 \\beta^{2}}\\right)^{2}$"
      ],
      "text/plain": [
       "                                                                               ↪\n",
       "                                                2       ⎛                 ____ ↪\n",
       "                                ⎛      3⋅√3⋅α⋅β⎞        ⎜                ╱  2  ↪\n",
       "E(α, β, Aᵣ, Pᵣ, k_A, k_P) = k_A⋅⎜-Aᵣ + ────────⎟  + k_P⋅⎝-Pᵣ + 2⋅α + 2⋅╲╱  α   ↪\n",
       "                                ⎝         2    ⎠                               ↪\n",
       "\n",
       "↪         2\n",
       "↪ _______⎞ \n",
       "↪      2 ⎟ \n",
       "↪ + 3⋅β  ⎠ \n",
       "↪          "
      ]
     },
     "execution_count": 98,
     "metadata": {},
     "output_type": "execute_result"
    }
   ],
   "source": [
    "import sympy\n",
    "sympy.init_printing()\n",
    "\n",
    "def create_area_symexp(\n",
    "    s_alpha,\n",
    "    s_beta,\n",
    "):\n",
    "    s_A = (sympy.sqrt(3)*3/2)*s_alpha*s_beta\n",
    "    return s_A\n",
    "\n",
    "def create_perim_symexp(\n",
    "    s_alpha,\n",
    "    s_beta,\n",
    "):\n",
    "    s_P = 2*s_alpha + 2*sympy.sqrt(s_alpha**2 + 3 * s_beta**2)\n",
    "    return s_P\n",
    "\n",
    "def area_energy_symexp(\n",
    "    s_alpha,\n",
    "    s_beta,\n",
    "    s_Area_rest,\n",
    "    s_k_A,\n",
    "):\n",
    "    s_Area = create_area_symexp(s_alpha, s_beta)\n",
    "    return s_k_A * (s_Area - s_Area_rest)**2\n",
    "    pass\n",
    "\n",
    "def perimeter_energy_symexp(\n",
    "    s_alpha,\n",
    "    s_beta,\n",
    "    s_P_r,\n",
    "    s_k_P,\n",
    "):\n",
    "    s_Perimeter = create_perim_symexp(s_alpha, s_beta)\n",
    "    return s_k_P * (s_Perimeter - s_P_r)**2\n",
    "    \n",
    "\n",
    "def create_energy_symexp(\n",
    "    s_alpha,\n",
    "    s_beta,\n",
    "    s_Area_rest,\n",
    "    s_Perimeter_rest,\n",
    "    s_k_A,\n",
    "    s_k_P,\n",
    "):\n",
    "    s_E_area = area_energy_symexp(s_alpha, s_beta, s_Area_rest, s_k_A)\n",
    "    s_E_perim = perimeter_energy_symexp(s_alpha, s_beta, s_Perimeter_rest, s_k_P)\n",
    "    \n",
    "    \n",
    "    s_E = s_E_area + s_E_perim\n",
    "    \n",
    "    return s_E\n",
    "    \n",
    "\n",
    "alpha, beta = sympy.symbols(\"alpha beta\", real=True, positive=True)\n",
    "A_r, P_r = sympy.symbols(\"A_r P_r\", real=True, positive=True)\n",
    "k_A, k_P = sympy.symbols(\"k_A k_P\", real=True)\n",
    "\n",
    "energy_basic = create_energy_symexp(\n",
    "    alpha,beta, A_r, P_r, k_A, k_P,\n",
    ")\n",
    "\n",
    "sympy.Eq(\n",
    "    sympy.Function('E')(alpha, beta, A_r, P_r, k_A, k_P),\n",
    "    energy_basic,\n",
    ")\n"
   ]
  },
  {
   "cell_type": "markdown",
   "id": "fb2dd314-a3c4-4605-bcbf-870be748cb4f",
   "metadata": {},
   "source": [
    "## Holding the x and y stretching equal:\n",
    "$$ \\alpha = \\beta = \\gamma $$"
   ]
  },
  {
   "cell_type": "code",
   "execution_count": 99,
   "id": "daedbab5-b35d-4300-bad8-7ebcea764f98",
   "metadata": {
    "tags": []
   },
   "outputs": [
    {
     "data": {
      "image/png": "[encoded data removed]",
      "text/latex": [
       "$\\displaystyle E{\\left(\\gamma,A_{r},P_{r},k_{A},k_{P} \\right)} = k_{A} \\left(- A_{r} + \\frac{3 \\sqrt{3} \\gamma^{2}}{2}\\right)^{2} + k_{P} \\left(- P_{r} + 6 \\gamma\\right)^{2}$"
      ],
      "text/plain": [
       "                                            2                   \n",
       "                             ⎛            2⎞                    \n",
       "                             ⎜      3⋅√3⋅γ ⎟                   2\n",
       "E(γ, Aᵣ, Pᵣ, k_A, k_P) = k_A⋅⎜-Aᵣ + ───────⎟  + k_P⋅(-Pᵣ + 6⋅γ) \n",
       "                             ⎝         2   ⎠                    "
      ]
     },
     "execution_count": 99,
     "metadata": {},
     "output_type": "execute_result"
    }
   ],
   "source": [
    "gamma = sympy.symbols(\"gamma\" , real=True ,positive=True)\n",
    "energy_iso = energy_basic.subs([\n",
    "    (alpha, gamma),\n",
    "    (beta, gamma),\n",
    "])\n",
    "\n",
    "sympy.Eq(\n",
    "    sympy.Function('E')(gamma, A_r, P_r, k_A, k_P),\n",
    "    energy_iso,\n",
    ")"
   ]
  },
  {
   "cell_type": "markdown",
   "id": "6bf381e5-38df-4a81-b00a-960dc747b3e7",
   "metadata": {},
   "source": [
    "### Expanding the energy::"
   ]
  },
  {
   "cell_type": "code",
   "execution_count": 100,
   "id": "983e290a-7b9e-48d8-b0dc-bed02befb5a5",
   "metadata": {
    "tags": []
   },
   "outputs": [
    {
     "data": {
      "image/png": "[encoded data removed]",
      "text/latex": [
       "$\\displaystyle E{\\left(\\gamma,A_{r},P_{r},k_{A},k_{P} \\right)} = A_{r}^{2} k_{A} - 3 \\sqrt{3} A_{r} \\gamma^{2} k_{A} + P_{r}^{2} k_{P} - 12 P_{r} \\gamma k_{P} + \\frac{27 \\gamma^{4} k_{A}}{4} + 36 \\gamma^{2} k_{P}$"
      ],
      "text/plain": [
       "                                                                               ↪\n",
       "                           2                2         2                     27 ↪\n",
       "E(γ, Aᵣ, Pᵣ, k_A, k_P) = Aᵣ ⋅k_A - 3⋅√3⋅Aᵣ⋅γ ⋅k_A + Pᵣ ⋅k_P - 12⋅Pᵣ⋅γ⋅k_P + ── ↪\n",
       "                                                                               ↪\n",
       "\n",
       "↪   4                \n",
       "↪ ⋅γ ⋅k_A       2    \n",
       "↪ ─────── + 36⋅γ ⋅k_P\n",
       "↪   4                "
      ]
     },
     "execution_count": 100,
     "metadata": {},
     "output_type": "execute_result"
    }
   ],
   "source": [
    "\n",
    "sympy.Eq(\n",
    "    sympy.Function('E')(gamma, A_r, P_r, k_A, k_P),\n",
    "    energy_iso.expand(),\n",
    ")"
   ]
  },
  {
   "cell_type": "markdown",
   "id": "eb224b02-36d0-4db4-84a2-03d76d177cff",
   "metadata": {},
   "source": [
    "### Conditions for equilibrium:\n",
    "$$ \\left.\\frac{\\partial E}{\\partial \\gamma} \\right|_{\\gamma = \\gamma_{equilibrium}} = 0 $$"
   ]
  },
  {
   "cell_type": "code",
   "execution_count": 101,
   "id": "f1d50a16-c435-4c12-9fde-7a60e4e3909e",
   "metadata": {
    "tags": []
   },
   "outputs": [
    {
     "data": {
      "image/png": "[encoded data removed]",
      "text/latex": [
       "$\\displaystyle - 6 \\sqrt{3} A_{r} \\gamma_{eq} k_{A} - 12 P_{r} k_{P} + 27 \\gamma_{eq}^{3} k_{A} + 72 \\gamma_{eq} k_{P} = 0$"
      ],
      "text/plain": [
       "                                                     3                         ↪\n",
       "-6⋅√3⋅Aᵣ⋅\\gamma_{eq}⋅k_A - 12⋅Pᵣ⋅k_P + 27⋅\\gamma_{eq} ⋅k_A + 72⋅\\gamma_{eq}⋅k_ ↪\n",
       "\n",
       "↪      \n",
       "↪ P = 0"
      ]
     },
     "execution_count": 101,
     "metadata": {},
     "output_type": "execute_result"
    }
   ],
   "source": [
    "denergy_iso_dgamma = energy_iso.diff(gamma).expand()\n",
    "sympy.Eq(\n",
    "    denergy_iso_dgamma.subs([\n",
    "        (gamma, sympy.symbols(r\"\\gamma_{eq}\")),\n",
    "    ]),\n",
    "    0,\n",
    ")"
   ]
  },
  {
   "cell_type": "markdown",
   "id": "7712b084-3844-4337-9d07-84fc1e710812",
   "metadata": {},
   "source": [
    "# What is the Poisson ratio?\n",
    "When the cell is at equilibrium, $\\partial E/\\partial \\alpha = \\partial E / \\partial \\beta = 0$. We will look at an equilibrium where $\\alpha_{rest} = \\beta_{rest} = \\gamma_{rest}$\n",
    "\n",
    "So we can describe the behavior of energy in the neighborhood of equillibrium with just the second order derivatives:\n",
    "\n",
    "$$ E(\\delta \\alpha ,\\delta \\beta) \\approx \\left(\\delta \\alpha\\right)^2\\frac{1}{2} \\left.\\frac{\\partial^2 E}{\\partial \\alpha^2}\\right|_{\\alpha=\\beta=\\gamma_{rest}} + \\left(\\delta \\beta\\right)^2\\frac{1}{2} \\left.\\frac{\\partial^2 E}{\\partial \\beta^2}\\right|_{\\alpha=\\beta=\\gamma_{rest}} + \\left(\\delta \\alpha\\right)\\left(\\delta \\beta\\right) \\left.\\frac{\\partial^2 E}{\\partial \\alpha \\partial \\beta}\\right|_{\\alpha=\\beta=\\gamma_{rest}}$$"
   ]
  },
  {
   "cell_type": "markdown",
   "id": "37b009a5-7375-437b-9cc8-4d6946a0a301",
   "metadata": {
    "tags": []
   },
   "source": [
    "The poisson ratio is defined as the negative ratio of the strain rates in x and y. Strain in x is $\\delta \\alpha / \\alpha_{rest}$, and strain in y is $\\delta \\beta / \\beta_{rest}$. So, the negative ratio is: $-(\\delta \\beta)/(\\delta\\alpha)$. \n",
    "$$ \\nu = \\frac{- d\\varepsilon_{transverse}}{d\\varepsilon_{axial}} = - \\frac{\\delta \\beta / \\beta_{rest}}{\\delta \\alpha / \\alpha_{rest}} = - \\frac{\\delta \\beta / \\gamma_{rest}}{\\delta \\alpha / \\gamma_{rest}}  $$\n",
    "$$ \\nu = \\frac{- \\delta \\beta}{\\delta \\alpha} $$\n",
    "\n",
    "We probe the system by holding $\\delta \\alpha$ to a constant, infinitesimal value - then finding the value of $\\delta\\beta$ that will give the minimum energy in beta space.\n",
    "\n",
    "At the equilibrium value of $\\delta\\beta$, we should have\n",
    "$$ \\frac{\\partial E}{\\partial \\beta} = 0 $$\n",
    "Plugging in the second order approximation of energy around equilibrium:\n",
    "$$ \\left(\\delta \\beta\\right) \\left.\\frac{\\partial^2 E}{\\partial \\beta^2}\\right|_{\\alpha=\\beta=\\gamma} + \\left(\\delta \\alpha\\right) \\left.\\frac{\\partial^2 E}{\\partial \\alpha \\partial \\beta}\\right|_{\\alpha=\\beta=\\gamma}  = 0 $$\n",
    "Moving this into form of poisson ratio:\n",
    "$$ - \\frac{\\delta \\beta}{\\delta \\alpha}  = \\frac{  \\left.\\frac{\\partial^2 E}{\\partial \\alpha \\partial \\beta}\\right|_{\\alpha=\\beta=\\gamma}  }{  \\left.\\frac{\\partial^2 E}{\\partial \\beta^2}\\right|_{\\alpha=\\beta=\\gamma}  } $$\n",
    "$$ \\nu  =  \\left.\\frac{ \\partial^2 E / \\left(\\partial  \\alpha \\partial \\beta\\right)   }{ \\partial^2 E  / \\partial \\beta^2  }\\right|_{\\alpha=\\beta=\\gamma} $$"
   ]
  },
  {
   "cell_type": "code",
   "execution_count": 102,
   "id": "f81e7d86-3d7f-49f3-9919-5b15667c5954",
   "metadata": {
    "tags": []
   },
   "outputs": [],
   "source": [
    "# poisson_ratio_step1 = energy_basic.diff(alpha).diff(beta) / energy_basic.diff(beta).diff(beta)\n",
    "\n",
    "\n",
    "# # poisson_ratio_step1.subs([(\"alpha\"), ()])\n",
    "# sympy.Eq(\n",
    "#     sympy.Function('nu')(*sympy.symbols(r\"\\alpha_{rest} \\beta_{rest}\"), k_A, k_P, A_r, P_r),\n",
    "#     poisson_ratio_step1,\n",
    "# )"
   ]
  },
  {
   "cell_type": "code",
   "execution_count": 103,
   "id": "b93e8c4f-a3b2-4674-9826-d8b6e5bdea34",
   "metadata": {
    "tags": []
   },
   "outputs": [],
   "source": [
    "# poisson_ratio_step2 = poisson_ratio_step1.subs([\n",
    "#     (alpha, gamma),\n",
    "#     (beta, gamma),\n",
    "# ]).simplify()\n",
    "\n",
    "# sympy.Eq(\n",
    "#     sympy.Function('nu')(gamma, k_A, k_P, A_r, P_r),\n",
    "#     poisson_ratio_step2\n",
    "# )"
   ]
  },
  {
   "cell_type": "markdown",
   "id": "2d709100-7ba2-4c39-bf10-bbe8b13c06a4",
   "metadata": {},
   "source": [
    "# Simplifying the system...\n"
   ]
  },
  {
   "cell_type": "markdown",
   "id": "b27f3eeb-ace5-4abf-9cc0-41e47c7fb518",
   "metadata": {
    "tags": []
   },
   "source": [
    "### We can do a change of variables, basically changing length scale:\n",
    "$$ \\begin{align}\n",
    " \\alpha &= \\mu \\tilde{\\alpha} \\\\\n",
    " \\beta &= \\mu \\tilde{\\beta} \\\\\n",
    " \\gamma &= \\mu \\tilde{\\gamma} \\\\\n",
    "P_r &= \\mu \\tilde{P_r} \\\\\n",
    "k_P &= \\frac{1}{\\mu^2} \\tilde{k_P}\\\\\n",
    "A_r &= \\mu^2 \\tilde{A_r} \\\\\n",
    "k_A &= \\frac{1}{\\mu^4} \\tilde{k_A} \\\\\n",
    " \\end{align}\n",
    " $$\n"
   ]
  },
  {
   "cell_type": "code",
   "execution_count": 104,
   "id": "ed825d70-cbe0-491e-a026-b4262d0311ad",
   "metadata": {
    "tags": []
   },
   "outputs": [
    {
     "data": {
      "image/png": "[encoded data removed]",
      "text/latex": [
       "$\\displaystyle \\left[ \\left( \\alpha, \\  \\tilde{\\alpha} \\mu\\right), \\  \\left( \\beta, \\  \\tilde{\\beta} \\mu\\right), \\  \\left( P_{r}, \\  \\tilde{P_r} \\mu\\right), \\  \\left( k_{P}, \\  \\frac{\\tilde{k_P}}{\\mu^{2}}\\right), \\  \\left( A_{r}, \\  \\tilde{A_r} \\mu^{2}\\right), \\  \\left( k_{A}, \\  \\frac{\\tilde{k_A}}{\\mu^{4}}\\right)\\right]$"
      ],
      "text/plain": [
       "⎡                                                                  ⎛     \\tild ↪\n",
       "⎢(α, \\tilde{\\alpha}⋅μ), (β, \\tilde{\\beta}⋅μ), (Pᵣ, \\tilde{P_r}⋅μ), ⎜k_P, ───── ↪\n",
       "⎢                                                                  ⎜           ↪\n",
       "⎣                                                                  ⎝         μ ↪\n",
       "\n",
       "↪ e{k_P}⎞  ⎛                 2⎞  ⎛     \\tilde{k_A}⎞⎤\n",
       "↪ ──────⎟, ⎝Aᵣ, \\tilde{A_r}⋅μ ⎠, ⎜k_A, ───────────⎟⎥\n",
       "↪ 2     ⎟                        ⎜          4     ⎟⎥\n",
       "↪       ⎠                        ⎝         μ      ⎠⎦"
      ]
     },
     "execution_count": 104,
     "metadata": {},
     "output_type": "execute_result"
    }
   ],
   "source": [
    "mu = sympy.symbols(\"mu\", real=True, positive=True)\n",
    "# mu = 1 / P_r\n",
    "\n",
    "k_A_til, k_P_til, alpha_til, beta_til, P_r_til, A_r_til =  sympy.symbols(r\"\\tilde{k_A} \\tilde{k_P} \\tilde{\\alpha} \\tilde{\\beta}  \\tilde{P_r} \\tilde{A_r}\", real=True, positive=True)\n",
    "\n",
    "tilde_mu_substitutions = [\n",
    "    (alpha, alpha_til *mu),\n",
    "    (beta, beta_til*mu),\n",
    "    (P_r, P_r_til*mu),\n",
    "    (k_P, k_P_til/mu**2),\n",
    "    (A_r,  A_r_til*mu**2),\n",
    "    (k_A, k_A_til / mu**4),\n",
    "]\n",
    "# display(tilde_mu_substitutions)\n",
    "tilde_mu_substitutions"
   ]
  },
  {
   "cell_type": "markdown",
   "id": "dd8c83be-714d-455e-95d9-10ad8e48312b",
   "metadata": {},
   "source": [
    "## Picking mu to make $\\tilde{P_r}$ equal one:\n",
    "We only want to explore the landscape of derivatives of E with respect to alpha and beta, so we can pick a mu that depends on $P_r$, without affecting stuff\n",
    "$$ \\mu = P_r $$\n",
    "$$ P_r = \\mu \\tilde{P_r} $$\n",
    "$$ P_r = P_r \\tilde{P_r} $$\n",
    "$$  \\tilde{P_r} = 1 $$\n",
    "\n",
    "We can do change of variables to the energy equation:"
   ]
  },
  {
   "cell_type": "code",
   "execution_count": 105,
   "id": "590c1106-6562-4fc2-b566-ee93c3a0535b",
   "metadata": {
    "tags": []
   },
   "outputs": [
    {
     "data": {
      "image/png": "[encoded data removed]",
      "text/latex": [
       "$\\displaystyle E{\\left(\\tilde{\\alpha},\\tilde{\\beta},\\tilde{k_A},\\tilde{k_P},\\tilde{A_r} \\right)} = \\frac{\\tilde{k_A} \\left(2 \\tilde{A_r} - 3 \\sqrt{3} \\tilde{\\alpha} \\tilde{\\beta}\\right)^{2}}{4} + \\tilde{k_P} \\left(2 \\tilde{\\alpha} + 2 \\sqrt{\\tilde{\\alpha}^{2} + 3 \\tilde{\\beta}^{2}} - 1\\right)^{2}$"
      ],
      "text/plain": [
       "                                                                               ↪\n",
       "                                                                               ↪\n",
       "                                                                          \\til ↪\n",
       "E(\\tilde{\\alpha}, \\tilde{\\beta}, \\tilde{k_A}, \\tilde{k_P}, \\tilde{A_r}) = ──── ↪\n",
       "                                                                               ↪\n",
       "\n",
       "↪                                                                              ↪\n",
       "↪                                                            2               ⎛ ↪\n",
       "↪ de{k_A}⋅(2⋅\\tilde{A_r} - 3⋅√3⋅\\tilde{\\alpha}⋅\\tilde{\\beta})                ⎜ ↪\n",
       "↪ ──────────────────────────────────────────────────────────── + \\tilde{k_P}⋅⎝ ↪\n",
       "↪                            4                                                 ↪\n",
       "\n",
       "↪                                                                  2\n",
       "↪                         ____________________________________    ⎞ \n",
       "↪                        ╱               2                  2     ⎟ \n",
       "↪ 2⋅\\tilde{\\alpha} + 2⋅╲╱  \\tilde{\\alpha}  + 3⋅\\tilde{\\beta}   - 1⎠ \n",
       "↪                                                                   "
      ]
     },
     "execution_count": 105,
     "metadata": {},
     "output_type": "execute_result"
    }
   ],
   "source": [
    "E_mu_subbed = energy_basic.subs(\n",
    "    tilde_mu_substitutions\n",
    ").simplify().subs([\n",
    "    (P_r_til, 1)\n",
    "])\n",
    "\n",
    "# sympy.Eq(\n",
    "#     sympy.Function(\"E\")(alpha_til, beta_til, A_r),\n",
    "#     E_tilded,\n",
    "# )\n",
    "\n",
    "sympy.Eq(\n",
    "    sympy.Function(\"E\")(alpha_til, beta_til, k_A_til, k_P_til ,A_r_til),\n",
    "    E_mu_subbed,\n",
    ")"
   ]
  },
  {
   "cell_type": "markdown",
   "id": "69052dc9-a9d5-4400-87f1-7ade33867369",
   "metadata": {},
   "source": [
    "### We can factor out one of the energy coefficients:\n",
    "$$ \\tilde{X} = \\tilde{k_A} / \\tilde{k_P} $$\n",
    "$$ \\tilde{k_A} = \\tilde{X} \\tilde{k_P} $$\n",
    "\n",
    "Note:\n",
    "$$\n",
    "\\begin{align}\n",
    "k_P &= \\frac{1}{\\mu^2} \\tilde{k_P}\\\\\n",
    "k_A &= \\frac{1}{\\mu^4} \\tilde{k_A} \\\\\n",
    "\\end{align}\n",
    "$$\n",
    "\n",
    "So,\n",
    "$$ \\tilde{X} = \\tilde{k_A} / \\tilde{k_P} = \\frac{\\mu^4 k_A}{\\mu^2 k_P} = \\mu^2 \\frac{k_A}{k_P} = P_r^2 \\frac{k_A}{k_P}$$"
   ]
  },
  {
   "cell_type": "code",
   "execution_count": 106,
   "id": "ce4b7e9a-3836-4ea5-8876-476a680a5112",
   "metadata": {
    "tags": []
   },
   "outputs": [
    {
     "data": {
      "image/png": "[encoded data removed]",
      "text/latex": [
       "$\\displaystyle E{\\left(\\tilde{\\alpha},\\tilde{\\beta},\\tilde{X},\\tilde{k_P},\\tilde{A_r} \\right)} = \\frac{\\tilde{X} \\tilde{k_P} \\left(2 \\tilde{A_r} - 3 \\sqrt{3} \\tilde{\\alpha} \\tilde{\\beta}\\right)^{2}}{4} + \\tilde{k_P} \\left(2 \\tilde{\\alpha} + 2 \\sqrt{\\tilde{\\alpha}^{2} + 3 \\tilde{\\beta}^{2}} - 1\\right)^{2}$"
      ],
      "text/plain": [
       "                                                                               ↪\n",
       "                                                                               ↪\n",
       "                                                                        \\tilde ↪\n",
       "E(\\tilde{\\alpha}, \\tilde{\\beta}, \\tilde{X}, \\tilde{k_P}, \\tilde{A_r}) = ────── ↪\n",
       "                                                                               ↪\n",
       "\n",
       "↪                                                                              ↪\n",
       "↪                                                                    2         ↪\n",
       "↪ {X}⋅\\tilde{k_P}⋅(2⋅\\tilde{A_r} - 3⋅√3⋅\\tilde{\\alpha}⋅\\tilde{\\beta})          ↪\n",
       "↪ ──────────────────────────────────────────────────────────────────── + \\tild ↪\n",
       "↪                               4                                              ↪\n",
       "\n",
       "↪                                                                          2\n",
       "↪        ⎛                        ____________________________________    ⎞ \n",
       "↪        ⎜                       ╱               2                  2     ⎟ \n",
       "↪ e{k_P}⋅⎝2⋅\\tilde{\\alpha} + 2⋅╲╱  \\tilde{\\alpha}  + 3⋅\\tilde{\\beta}   - 1⎠ \n",
       "↪                                                                           "
      ]
     },
     "execution_count": 106,
     "metadata": {},
     "output_type": "execute_result"
    }
   ],
   "source": [
    "X_til = sympy.symbols(r\"\\tilde{X}\" ,real=True, positive=True)\n",
    "\n",
    "E_tilde_FIRST_step = E_mu_subbed.subs([\n",
    "    (k_A_til, X_til * k_P_til),\n",
    "])\n",
    "\n",
    "sympy.Eq(\n",
    "    sympy.Function(\"E\")(alpha_til, beta_til, X_til, k_P_til ,A_r_til),\n",
    "    E_tilde_FIRST_step\n",
    ")"
   ]
  },
  {
   "cell_type": "markdown",
   "id": "34e73320-00c0-44b4-a7b4-6dd0cd668e3a",
   "metadata": {},
   "source": [
    "### Defining $\\tilde{E} = E/\\tilde{k_P}$"
   ]
  },
  {
   "cell_type": "code",
   "execution_count": 107,
   "id": "00c3c4dd-cbf4-43bd-8247-c040a39027fd",
   "metadata": {
    "tags": []
   },
   "outputs": [
    {
     "data": {
      "image/png": "[encoded data removed]",
      "text/latex": [
       "$\\displaystyle \\tilde{E}{\\left(\\tilde{\\alpha},\\tilde{\\beta},\\tilde{X},\\tilde{A_r} \\right)} = \\frac{\\tilde{X} \\left(2 \\tilde{A_r} - 3 \\sqrt{3} \\tilde{\\alpha} \\tilde{\\beta}\\right)^{2}}{4} + \\left(2 \\tilde{\\alpha} + 2 \\sqrt{\\tilde{\\alpha}^{2} + 3 \\tilde{\\beta}^{2}} - 1\\right)^{2}$"
      ],
      "text/plain": [
       "                                                                               ↪\n",
       "                                                                               ↪\n",
       "                                                                   \\tilde{X}⋅( ↪\n",
       "\\tilde{E}(\\tilde{\\alpha}, \\tilde{\\beta}, \\tilde{X}, \\tilde{A_r}) = ─────────── ↪\n",
       "                                                                               ↪\n",
       "\n",
       "↪                                                                              ↪\n",
       "↪                                                   2   ⎛                      ↪\n",
       "↪ 2⋅\\tilde{A_r} - 3⋅√3⋅\\tilde{\\alpha}⋅\\tilde{\\beta})    ⎜                      ↪\n",
       "↪ ─────────────────────────────────────────────────── + ⎝2⋅\\tilde{\\alpha} + 2⋅ ↪\n",
       "↪                    4                                                         ↪\n",
       "\n",
       "↪                                             2\n",
       "↪    ____________________________________    ⎞ \n",
       "↪   ╱               2                  2     ⎟ \n",
       "↪ ╲╱  \\tilde{\\alpha}  + 3⋅\\tilde{\\beta}   - 1⎠ \n",
       "↪                                              "
      ]
     },
     "execution_count": 107,
     "metadata": {},
     "output_type": "execute_result"
    }
   ],
   "source": [
    "E_tilded = (E_tilde_FIRST_step / k_P_til).simplify()\n",
    "sympy.Eq(\n",
    "    sympy.Function(r\"\\tilde{E}\")(alpha_til, beta_til, X_til ,A_r_til),\n",
    "    E_tilded,\n",
    ")"
   ]
  },
  {
   "cell_type": "markdown",
   "id": "2a6ed302-746e-420e-b295-cfade8f225ab",
   "metadata": {},
   "source": [
    "### What is the poisson ratio?\n",
    "\n",
    "$$\n",
    "\\begin{align}\n",
    "\\frac{\\partial E}{\\partial \\alpha} &= \\frac{\\partial}{\\partial \\alpha} E \\\\\n",
    " &= \\tilde{k_P} \\frac{\\partial}{\\partial \\alpha} \\tilde{E} \\left(  \\tilde{\\alpha}\\left(\\alpha\\right), \\tilde{\\beta}, \\tilde{k_A}, \\tilde{k_P}, \\tilde{A_r}  \\right) \\\\\n",
    " &= \\tilde{k_P} \\frac{\\partial \\tilde{\\alpha}}{\\partial \\alpha} \\frac{\\partial}{\\partial \\tilde{\\alpha}} \\tilde{E} \\left(  \\tilde{\\alpha}\\left(\\alpha\\right), \\tilde{\\beta}, \\tilde{k_A}, \\tilde{k_P}, \\tilde{A_r}  \\right) \\\\\n",
    "\\frac{\\partial E}{\\partial \\alpha} &= \\frac{\\tilde{k_P} }{\\mu}  \\frac{\\partial \\tilde{E}}{\\partial \\tilde{\\alpha}}  \\\\\n",
    "\\end{align}\n",
    "$$\n",
    "Following similar for other derivatives,\n",
    "$$ \\frac{\\partial E}{\\partial \\alpha} = \\frac{ \\tilde{k_P}}{\\mu} \\frac{\\partial \\tilde{E}}{\\partial \\tilde{\\alpha}},\\ \\frac{\\partial E}{\\partial \\beta} = \\frac{ \\tilde{k_P}}{\\mu} \\frac{\\partial \\tilde{E}}{\\partial \\tilde{\\beta}} $$\n",
    "\n",
    "$$ \\frac{\\partial^2 E}{\\partial \\alpha^2} = \\frac{ \\tilde{k_P}}{\\mu^2} \\frac{\\partial^2 \\tilde{E}}{\\partial \\tilde{\\alpha}^2},\\ \\frac{\\partial^2 E}{\\partial \\beta^2} = \\frac{ \\tilde{k_P}}{\\mu^2} \\frac{\\partial^2 \\tilde{E}}{\\partial \\tilde{\\beta}^2},\\ \\frac{\\partial^2 E}{\\partial \\alpha \\partial \\beta} = \\frac{ \\tilde{k_P}}{\\mu^2} \\frac{\\partial^2 \\tilde{E}}{\\partial \\tilde{\\alpha} \\partial \\tilde{\\beta}} $$\n"
   ]
  },
  {
   "cell_type": "markdown",
   "id": "245e0944-9a3c-44e5-b1a0-a8bb8accfebb",
   "metadata": {},
   "source": [
    "\n",
    "So poisson's ratio is the 'same':\n",
    "$$\n",
    "\\begin{align}\n",
    "    \\nu  &=  \\left.\\frac{ \\partial^2 E / \\left(\\partial  \\alpha \\partial \\beta\\right)   }{ \\partial^2 E  / \\partial \\beta^2  }\\right|_{\\alpha=\\beta=\\gamma} \\\\\n",
    "      &=  \\left.\\frac{ \\left( \\tilde{k_P}/\\mu^2 \\right) \\partial^2 \\tilde{E} / \\left(\\partial  \\tilde{\\alpha} \\partial \\tilde{\\beta}\\right)   }{ \\left( \\tilde{k_P}/\\mu^2 \\right) \\partial^2 \\tilde{E}  / \\partial \\tilde{\\beta}^2  }\\right|_{\\tilde{\\alpha}=\\tilde{\\beta}=\\tilde{\\gamma}} \\\\\n",
    "      &=  \\left.\\frac{ \\partial^2 \\tilde{E} / \\left(\\partial  \\tilde{\\alpha} \\partial \\tilde{\\beta}\\right)   }{  \\partial^2 \\tilde{E}  / \\partial \\tilde{\\beta}^2  }\\right|_{\\tilde{\\alpha}=\\tilde{\\beta}=\\tilde{\\gamma}} \\\\\n",
    "     \\nu &= \\tilde{\\nu} \\\\\n",
    "    \\end{align}\n",
    "$$"
   ]
  },
  {
   "cell_type": "markdown",
   "id": "43a15f61-e3ec-4257-ac56-ff6636e1d4f9",
   "metadata": {},
   "source": [
    "### Finding relevant second order derivatives in $\\tilde{E}, $"
   ]
  },
  {
   "cell_type": "code",
   "execution_count": 108,
   "id": "0af9b5cb-1932-4df2-be60-f7940aeb5d0f",
   "metadata": {
    "tags": []
   },
   "outputs": [
    {
     "data": {
      "image/png": "[encoded data removed]",
      "text/latex": [
       "$\\displaystyle \\frac{d^{2}}{d \\tilde{\\beta}d \\tilde{\\alpha}} \\tilde{E} = \\frac{27 \\tilde{X} \\tilde{\\alpha} \\tilde{\\beta}}{2} - \\frac{3 \\sqrt{3} \\tilde{X} \\left(2 \\tilde{A_r} - 3 \\sqrt{3} \\tilde{\\alpha} \\tilde{\\beta}\\right)}{2} - \\frac{12 \\tilde{\\alpha} \\tilde{\\beta} \\left(2 \\tilde{\\alpha} + 2 \\sqrt{\\tilde{\\alpha}^{2} + 3 \\tilde{\\beta}^{2}} - 1\\right)}{\\left(\\tilde{\\alpha}^{2} + 3 \\tilde{\\beta}^{2}\\right)^{\\frac{3}{2}}} + \\frac{6 \\tilde{\\beta} \\left(\\frac{4 \\tilde{\\alpha}}{\\sqrt{\\tilde{\\alpha}^{2} + 3 \\tilde{\\beta}^{2}}} + 4\\right)}{\\sqrt{\\tilde{\\alpha}^{2} + 3 \\tilde{\\beta}^{2}}}$"
      ],
      "text/plain": [
       "                                                                               ↪\n",
       "                                                                               ↪\n",
       "                                                                               ↪\n",
       "               2                                                               ↪\n",
       "              d                             27⋅\\tilde{X}⋅\\tilde{\\alpha}⋅\\tilde ↪\n",
       "──────────────────────────────(\\tilde{E}) = ────────────────────────────────── ↪\n",
       "d\\tilde{\\beta} d\\tilde{\\alpha}                                  2              ↪\n",
       "                                                                               ↪\n",
       "                                                                               ↪\n",
       "\n",
       "↪                                                                              ↪\n",
       "↪                                                                              ↪\n",
       "↪                                                                              ↪\n",
       "↪                                                                              ↪\n",
       "↪ {\\beta}   3⋅√3⋅\\tilde{X}⋅(2⋅\\tilde{A_r} - 3⋅√3⋅\\tilde{\\alpha}⋅\\tilde{\\beta}) ↪\n",
       "↪ ─────── - ────────────────────────────────────────────────────────────────── ↪\n",
       "↪                                           2                                  ↪\n",
       "↪                                                                              ↪\n",
       "↪                                                                              ↪\n",
       "\n",
       "↪                                                                              ↪\n",
       "↪                                                                              ↪\n",
       "↪                                    ⎛                        ________________ ↪\n",
       "↪                                    ⎜                       ╱               2 ↪\n",
       "↪    12⋅\\tilde{\\alpha}⋅\\tilde{\\beta}⋅⎝2⋅\\tilde{\\alpha} + 2⋅╲╱  \\tilde{\\alpha}  ↪\n",
       "↪  - ───────────────────────────────────────────────────────────────────────── ↪\n",
       "↪                                                                     3/2      ↪\n",
       "↪                                 ⎛              2                  2⎞         ↪\n",
       "↪                                 ⎝\\tilde{\\alpha}  + 3⋅\\tilde{\\beta} ⎠         ↪\n",
       "\n",
       "↪                                             ⎛           4⋅\\tilde{\\alpha}     ↪\n",
       "↪                             6⋅\\tilde{\\beta}⋅⎜─────────────────────────────── ↪\n",
       "↪ ____________________    ⎞                   ⎜   ____________________________ ↪\n",
       "↪                   2     ⎟                   ⎜  ╱               2             ↪\n",
       "↪  + 3⋅\\tilde{\\beta}   - 1⎠                   ⎝╲╱  \\tilde{\\alpha}  + 3⋅\\tilde{ ↪\n",
       "↪ ───────────────────────── + ──────────────────────────────────────────────── ↪\n",
       "↪                                           __________________________________ ↪\n",
       "↪                                          ╱               2                   ↪\n",
       "↪                                        ╲╱  \\tilde{\\alpha}  + 3⋅\\tilde{\\beta} ↪\n",
       "\n",
       "↪             ⎞\n",
       "↪ ──────── + 4⎟\n",
       "↪ ________    ⎟\n",
       "↪       2     ⎟\n",
       "↪ \\beta}      ⎠\n",
       "↪ ─────────────\n",
       "↪ __           \n",
       "↪ 2            \n",
       "↪              "
      ]
     },
     "execution_count": 108,
     "metadata": {},
     "output_type": "execute_result"
    }
   ],
   "source": [
    "d2E_til_dalpha_til_dbeta_til = E_tilded.diff(alpha_til).diff(beta_til)\n",
    "\n",
    "sympy.Eq(\n",
    "    sympy.Derivative(sympy.symbols(r\"\\tilde{E}\"), alpha_til, beta_til),\n",
    "    d2E_til_dalpha_til_dbeta_til,\n",
    ")"
   ]
  },
  {
   "cell_type": "code",
   "execution_count": 37,
   "id": "4bc5cb6c-c516-40b2-b464-7a39556b6cc1",
   "metadata": {
    "tags": []
   },
   "outputs": [
    {
     "data": {
      "image/png": "[encoded data removed]",
      "text/latex": [
       "$\\displaystyle \\frac{d^{2}}{d \\tilde{\\beta}^{2}} \\tilde{E} = \\frac{27 \\tilde{X} \\tilde{\\alpha}^{2}}{2} + \\frac{72 \\tilde{\\beta}^{2}}{\\tilde{\\alpha}^{2} + 3 \\tilde{\\beta}^{2}} - \\frac{36 \\tilde{\\beta}^{2} \\left(2 \\tilde{\\alpha} + 2 \\sqrt{\\tilde{\\alpha}^{2} + 3 \\tilde{\\beta}^{2}} - 1\\right)}{\\left(\\tilde{\\alpha}^{2} + 3 \\tilde{\\beta}^{2}\\right)^{\\frac{3}{2}}} + \\frac{12 \\left(2 \\tilde{\\alpha} + 2 \\sqrt{\\tilde{\\alpha}^{2} + 3 \\tilde{\\beta}^{2}} - 1\\right)}{\\sqrt{\\tilde{\\alpha}^{2} + 3 \\tilde{\\beta}^{2}}}$"
      ],
      "text/plain": [
       "                                                                               ↪\n",
       "       2                                                2                      ↪\n",
       "      d                      27⋅\\tilde{X}⋅\\tilde{\\alpha}            72⋅\\tilde{ ↪\n",
       "───────────────(\\tilde{E}) = ──────────────────────────── + ────────────────── ↪\n",
       "              2                           2                               2    ↪\n",
       "d\\tilde{\\beta}                                              \\tilde{\\alpha}  +  ↪\n",
       "                                                                               ↪\n",
       "\n",
       "↪                                      ⎛                        ______________ ↪\n",
       "↪       2                            2 ⎜                       ╱               ↪\n",
       "↪ \\beta}             36⋅\\tilde{\\beta} ⋅⎝2⋅\\tilde{\\alpha} + 2⋅╲╱  \\tilde{\\alpha ↪\n",
       "↪ ──────────────── - ───────────────────────────────────────────────────────── ↪\n",
       "↪                2                                                             ↪\n",
       "↪ 3⋅\\tilde{\\beta}                          ⎛              2                  2 ↪\n",
       "↪                                          ⎝\\tilde{\\alpha}  + 3⋅\\tilde{\\beta}  ↪\n",
       "\n",
       "↪ ______________________    ⎞      ⎛                        __________________ ↪\n",
       "↪  2                  2     ⎟      ⎜                       ╱               2   ↪\n",
       "↪ }  + 3⋅\\tilde{\\beta}   - 1⎠   12⋅⎝2⋅\\tilde{\\alpha} + 2⋅╲╱  \\tilde{\\alpha}  + ↪\n",
       "↪ ─────────────────────────── + ────────────────────────────────────────────── ↪\n",
       "↪  3/2                                            ____________________________ ↪\n",
       "↪ ⎞                                              ╱               2             ↪\n",
       "↪ ⎠                                            ╲╱  \\tilde{\\alpha}  + 3⋅\\tilde{ ↪\n",
       "\n",
       "↪ __________________    ⎞\n",
       "↪                 2     ⎟\n",
       "↪  3⋅\\tilde{\\beta}   - 1⎠\n",
       "↪ ───────────────────────\n",
       "↪ ________               \n",
       "↪       2                \n",
       "↪ \\beta}                 "
      ]
     },
     "execution_count": 37,
     "metadata": {},
     "output_type": "execute_result"
    }
   ],
   "source": [
    "d2E_til_d2beta_til = E_tilded.diff(beta_til).diff(beta_til)\n",
    "\n",
    "sympy.Eq(\n",
    "    sympy.Derivative(sympy.symbols(r\"\\tilde{E}\"), beta_til, beta_til),\n",
    "    d2E_til_d2beta_til,\n",
    ")"
   ]
  },
  {
   "cell_type": "markdown",
   "id": "09b2235a-670c-4f8e-af6f-3665ccca716e",
   "metadata": {},
   "source": [
    "### So poisson ratio should be given at $\\tilde{\\alpha}_{eq}, \\tilde{\\beta}_{eq}$ by:"
   ]
  },
  {
   "cell_type": "code",
   "execution_count": 39,
   "id": "ea8d6d25-daf7-4d59-8c51-2589ec5d341e",
   "metadata": {
    "tags": []
   },
   "outputs": [
    {
     "data": {
      "image/png": "[encoded data removed]",
      "text/latex": [
       "$\\displaystyle \\tilde{\\nu} = \\frac{2 \\left(- \\sqrt{3} \\tilde{A_r} \\tilde{X} \\tilde{\\alpha}^{4} - 6 \\sqrt{3} \\tilde{A_r} \\tilde{X} \\tilde{\\alpha}^{2} \\tilde{\\beta}^{2} - 9 \\sqrt{3} \\tilde{A_r} \\tilde{X} \\tilde{\\beta}^{4} + 9 \\tilde{X} \\tilde{\\alpha}^{5} \\tilde{\\beta} + 54 \\tilde{X} \\tilde{\\alpha}^{3} \\tilde{\\beta}^{3} + 81 \\tilde{X} \\tilde{\\alpha} \\tilde{\\beta}^{5} + 4 \\tilde{\\alpha} \\tilde{\\beta} \\sqrt{\\tilde{\\alpha}^{2} + 3 \\tilde{\\beta}^{2}} + 24 \\tilde{\\beta}^{3} \\sqrt{\\tilde{\\alpha}^{2} + 3 \\tilde{\\beta}^{2}}\\right)}{9 \\tilde{X} \\tilde{\\alpha}^{6} + 54 \\tilde{X} \\tilde{\\alpha}^{4} \\tilde{\\beta}^{2} + 81 \\tilde{X} \\tilde{\\alpha}^{2} \\tilde{\\beta}^{4} + 16 \\tilde{\\alpha}^{4} + 16 \\tilde{\\alpha}^{3} \\sqrt{\\tilde{\\alpha}^{2} + 3 \\tilde{\\beta}^{2}} + 96 \\tilde{\\alpha}^{2} \\tilde{\\beta}^{2} - 8 \\tilde{\\alpha}^{2} \\sqrt{\\tilde{\\alpha}^{2} + 3 \\tilde{\\beta}^{2}} + 144 \\tilde{\\beta}^{4}}$"
      ],
      "text/plain": [
       "                ⎛                                                              ↪\n",
       "                ⎜                                         4                    ↪\n",
       "              2⋅⎝- √3⋅\\tilde{A_r}⋅\\tilde{X}⋅\\tilde{\\alpha}  - 6⋅√3⋅\\tilde{A_r} ↪\n",
       "\\tilde{\\nu} = ──────────────────────────────────────────────────────────────── ↪\n",
       "                                                                               ↪\n",
       "                                                                               ↪\n",
       "                                                                9⋅\\tilde{X}⋅\\t ↪\n",
       "\n",
       "↪                                                                              ↪\n",
       "↪                          2              2                                    ↪\n",
       "↪ ⋅\\tilde{X}⋅\\tilde{\\alpha} ⋅\\tilde{\\beta}  - 9⋅√3⋅\\tilde{A_r}⋅\\tilde{X}⋅\\tild ↪\n",
       "↪ ──────────────────────────────────────────────────────────────────────────── ↪\n",
       "↪                                                                              ↪\n",
       "↪             6                              4              2                  ↪\n",
       "↪ ilde{\\alpha}  + 54⋅\\tilde{X}⋅\\tilde{\\alpha} ⋅\\tilde{\\beta}  + 81⋅\\tilde{X}⋅\\ ↪\n",
       "\n",
       "↪                                                                              ↪\n",
       "↪         4                             5                                      ↪\n",
       "↪ e{\\beta}  + 9⋅\\tilde{X}⋅\\tilde{\\alpha} ⋅\\tilde{\\beta} + 54⋅\\tilde{X}⋅\\tilde{ ↪\n",
       "↪ ──────────────────────────────────────────────────────────────────────────── ↪\n",
       "↪                                                                            _ ↪\n",
       "↪              2              4                    4                    3   ╱  ↪\n",
       "↪ tilde{\\alpha} ⋅\\tilde{\\beta}  + 16⋅\\tilde{\\alpha}  + 16⋅\\tilde{\\alpha} ⋅╲╱   ↪\n",
       "\n",
       "↪                                                                              ↪\n",
       "↪        3              3                                            5         ↪\n",
       "↪ \\alpha} ⋅\\tilde{\\beta}  + 81⋅\\tilde{X}⋅\\tilde{\\alpha}⋅\\tilde{\\beta}  + 4⋅\\ti ↪\n",
       "↪ ──────────────────────────────────────────────────────────────────────────── ↪\n",
       "↪ ___________________________________                                          ↪\n",
       "↪               2                  2                     2              2      ↪\n",
       "↪ \\tilde{\\alpha}  + 3⋅\\tilde{\\beta}   + 96⋅\\tilde{\\alpha} ⋅\\tilde{\\beta}  - 8⋅ ↪\n",
       "\n",
       "↪                              ____________________________________            ↪\n",
       "↪                             ╱               2                  2             ↪\n",
       "↪ lde{\\alpha}⋅\\tilde{\\beta}⋅╲╱  \\tilde{\\alpha}  + 3⋅\\tilde{\\beta}   + 24⋅\\tild ↪\n",
       "↪ ──────────────────────────────────────────────────────────────────────────── ↪\n",
       "↪                    ____________________________________                      ↪\n",
       "↪               2   ╱               2                  2                     4 ↪\n",
       "↪ \\tilde{\\alpha} ⋅╲╱  \\tilde{\\alpha}  + 3⋅\\tilde{\\beta}   + 144⋅\\tilde{\\beta}  ↪\n",
       "\n",
       "↪              ____________________________________⎞\n",
       "↪         3   ╱               2                  2 ⎟\n",
       "↪ e{\\beta} ⋅╲╱  \\tilde{\\alpha}  + 3⋅\\tilde{\\beta}  ⎠\n",
       "↪ ──────────────────────────────────────────────────\n",
       "↪                                                   \n",
       "↪                                                   \n",
       "↪                                                   "
      ]
     },
     "execution_count": 39,
     "metadata": {},
     "output_type": "execute_result"
    }
   ],
   "source": [
    "poisson_tilde_NOT_gam_subbed = (d2E_til_dalpha_til_dbeta_til / d2E_til_d2beta_til).simplify()\n",
    "\n",
    "sympy.Eq(\n",
    "    sympy.symbols(r\"\\tilde{\\nu}\"),\n",
    "    poisson_tilde_NOT_gam_subbed,\n",
    ")"
   ]
  },
  {
   "cell_type": "markdown",
   "id": "7aa7447e-2cb5-459b-b6b9-e6e08db1ee4e",
   "metadata": {},
   "source": [
    "### We are evaluating poisson ratio at $\\tilde{\\alpha}_{eq} = \\tilde{\\beta}_{eq} = \\tilde{\\gamma}_{eq}$:"
   ]
  },
  {
   "cell_type": "code",
   "execution_count": 40,
   "id": "735b7b09-4077-4ed7-819f-3f07873af385",
   "metadata": {
    "tags": []
   },
   "outputs": [
    {
     "data": {
      "image/png": "[encoded data removed]",
      "text/latex": [
       "$\\displaystyle \\tilde{\\nu}{\\left(\\tilde{\\gamma}_{eq}{\\left(\\tilde{A_r},\\tilde{X} \\right)},\\tilde{A_r},\\tilde{X} \\right)} = \\frac{- 2 \\sqrt{3} \\tilde{A_r} \\tilde{X} \\tilde{\\gamma}_{eq} + 18 \\tilde{X} \\tilde{\\gamma}_{eq}^{3} + 6 \\tilde{\\gamma}_{eq} + 1}{9 \\tilde{X} \\tilde{\\gamma}_{eq}^{3} + 18 \\tilde{\\gamma}_{eq} - 1}$"
      ],
      "text/plain": [
       "                                                                               ↪\n",
       "                                                                               ↪\n",
       "\\tilde{\\nu}(\\tilde{\\gamma}_{eq}(\\tilde{A_r}, \\tilde{X}), \\tilde{A_r}, \\tilde{X ↪\n",
       "                                                                               ↪\n",
       "                                                                               ↪\n",
       "\n",
       "↪                                                                              ↪\n",
       "↪      -2⋅√3⋅\\tilde{A_r}⋅\\tilde{X}⋅\\tilde{\\gamma}_{eq} + 18⋅\\tilde{X}⋅\\tilde{\\ ↪\n",
       "↪ }) = ─────────────────────────────────────────────────────────────────────── ↪\n",
       "↪                                                              3               ↪\n",
       "↪                               9⋅\\tilde{X}⋅\\tilde{\\gamma}_{eq}  + 18⋅\\tilde{\\ ↪\n",
       "\n",
       "↪            3                            \n",
       "↪ gamma}_{eq}  + 6⋅\\tilde{\\gamma}_{eq} + 1\n",
       "↪ ────────────────────────────────────────\n",
       "↪                                         \n",
       "↪ gamma}_{eq} - 1                         "
      ]
     },
     "execution_count": 40,
     "metadata": {},
     "output_type": "execute_result"
    }
   ],
   "source": [
    "gamma_til = sympy.symbols(r\"\\tilde{\\gamma}\", real=True, positive=True)\n",
    "\n",
    "poisson_tilde_of_gamma = poisson_tilde_NOT_gam_subbed.subs([\n",
    "    (alpha_til, gamma_til),\n",
    "    (beta_til, gamma_til),\n",
    "]).simplify()\n",
    "\n",
    "sympy.Eq(\n",
    "    sympy.Function(r\"\\tilde{\\nu}\")(\n",
    "        sympy.Function(r\"\\tilde{\\gamma}_{eq}\")(A_r_til, X_til),\n",
    "        A_r_til,\n",
    "        X_til,\n",
    "    ),\n",
    "    poisson_tilde_of_gamma.subs([\n",
    "        (gamma_til , sympy.symbols(r\"\\tilde{\\gamma}_{eq}\")),\n",
    "    ]),\n",
    ")"
   ]
  },
  {
   "cell_type": "markdown",
   "id": "d00666f9-1499-457c-a2da-0ce73247f044",
   "metadata": {},
   "source": [
    "### We find the equilibrium gamma like this:\n",
    "$$ \\tilde{E}(\\gamma) = \\tilde{E}(\\alpha=\\gamma ,\\beta=\\gamma) $$\n",
    "The energy minimum in gamma will satisfy:\n",
    "$$ d\\tilde{E}/d\\tilde{\\gamma} = 0 $$"
   ]
  },
  {
   "cell_type": "code",
   "execution_count": 15,
   "id": "3a2cd4f1-6e3d-486b-bdea-dac6291e57af",
   "metadata": {
    "tags": []
   },
   "outputs": [
    {
     "data": {
      "image/png": "[encoded data removed]",
      "text/latex": [
       "$\\displaystyle \\frac{d}{d \\tilde{\\gamma}} \\tilde{E}{\\left(\\tilde{\\gamma} \\right)} = - 6 \\sqrt{3} \\tilde{A_r} \\tilde{X} \\tilde{\\gamma} + 27 \\tilde{X} \\tilde{\\gamma}^{3} + 72 \\tilde{\\gamma} - 12$"
      ],
      "text/plain": [
       "       d                                                                       ↪\n",
       "───────────────(\\tilde{E}(\\tilde{\\gamma})) = -6⋅√3⋅\\tilde{A_r}⋅\\tilde{X}⋅\\tild ↪\n",
       "d\\tilde{\\gamma}                                                                ↪\n",
       "\n",
       "↪                                        3                         \n",
       "↪ e{\\gamma} + 27⋅\\tilde{X}⋅\\tilde{\\gamma}  + 72⋅\\tilde{\\gamma} - 12\n",
       "↪                                                                  "
      ]
     },
     "execution_count": 15,
     "metadata": {},
     "output_type": "execute_result"
    }
   ],
   "source": [
    "dE_til_iso_dgamma = E_tilded.subs([\n",
    "    (alpha_til, gamma_til),\n",
    "    (beta_til, gamma_til),\n",
    "]).diff(gamma_til).expand()\n",
    "\n",
    "sympy.Eq(\n",
    "    sympy.Derivative(sympy.Function(r\"\\tilde{E}\")(gamma_til), gamma_til),\n",
    "    dE_til_iso_dgamma\n",
    ")"
   ]
  },
  {
   "cell_type": "code",
   "execution_count": 16,
   "id": "178d410e-9ee9-4906-bf11-e83fcd2b713f",
   "metadata": {
    "tags": []
   },
   "outputs": [
    {
     "data": {
      "image/png": "[encoded data removed]",
      "text/latex": [
       "$\\displaystyle - 6 \\sqrt{3} \\tilde{A_r} \\tilde{X} \\tilde{\\gamma}_{eq} + 27 \\tilde{X} \\tilde{\\gamma}_{eq}^{3} + 72 \\tilde{\\gamma}_{eq} - 12 = 0$"
      ],
      "text/plain": [
       "                                                                               ↪\n",
       "-6⋅√3⋅\\tilde{A_r}⋅\\tilde{X}⋅\\tilde{\\gamma}_{eq} + 27⋅\\tilde{X}⋅\\tilde{\\gamma}_ ↪\n",
       "\n",
       "↪     3                                  \n",
       "↪ {eq}  + 72⋅\\tilde{\\gamma}_{eq} - 12 = 0"
      ]
     },
     "execution_count": 16,
     "metadata": {},
     "output_type": "execute_result"
    }
   ],
   "source": [
    "sympy.Eq(\n",
    "    dE_til_iso_dgamma.subs([\n",
    "        (gamma_til , sympy.symbols(r\"\\tilde{\\gamma}_{eq}\")),\n",
    "    ]),\n",
    "    0\n",
    ")"
   ]
  },
  {
   "cell_type": "markdown",
   "id": "d1805f13-f2d9-4a0a-8dbf-b773ab615b19",
   "metadata": {},
   "source": [
    "# Making code to find $\\tilde{\\gamma}_{eq}$"
   ]
  },
  {
   "cell_type": "code",
   "execution_count": 17,
   "id": "8c66ce86-e727-46a7-ac54-f514318ad6a7",
   "metadata": {
    "tags": []
   },
   "outputs": [],
   "source": [
    "lambdified_dE_dgam_tilde = sympy.lambdify((gamma_til, X_til, A_r_til), dE_til_iso_dgamma)"
   ]
  },
  {
   "cell_type": "code",
   "execution_count": 18,
   "id": "20cdd3be-378e-4d10-9f9f-788133055f92",
   "metadata": {
    "tags": []
   },
   "outputs": [],
   "source": [
    "# lambdified_dE_dgam_tilde(0,0,0)\n",
    "from matplotlib import pyplot as plt\n",
    "import scipy.optimize"
   ]
  },
  {
   "cell_type": "markdown",
   "id": "adfb292f-669b-4623-bc6a-77b54ac2c5f9",
   "metadata": {},
   "source": [
    "#### getting the coefficients of the cubic function of $\\tilde{gamma}_{eq}$"
   ]
  },
  {
   "cell_type": "code",
   "execution_count": 19,
   "id": "dd403d68-cbfc-432e-9a52-b953a99c9efb",
   "metadata": {
    "tags": []
   },
   "outputs": [
    {
     "data": {
      "image/png": "[encoded data removed]",
      "text/latex": [
       "$\\displaystyle \\operatorname{Poly}{\\left( 27 \\tilde{X} \\tilde{\\gamma}^{3} + \\left(- 6 \\sqrt{3} \\tilde{A_r} \\tilde{X} + 72\\right) \\tilde{\\gamma} - 12, \\tilde{\\gamma}, domain=\\mathtt{\\text{EX}} \\right)}$"
      ],
      "text/plain": [
       "Poly(27*\\tilde{X}*\\tilde{\\gamma}**3 + (-6*sqrt(3)*\\tilde{A_r}*\\tilde{X} + 72)* ↪\n",
       "\n",
       "↪ \\tilde{\\gamma} - 12, \\tilde{\\gamma}, domain='EX')"
      ]
     },
     "execution_count": 19,
     "metadata": {},
     "output_type": "execute_result"
    }
   ],
   "source": [
    "dE_dgam_polynomial = sympy.Poly(dE_til_iso_dgamma, gamma_til)\n",
    "\n",
    "assert dE_dgam_polynomial.degree() == 3, \"should be a cubic polynomial\"\n",
    "\n",
    "dE_dgam_polynomial\n",
    "# assert dE_dgam_polynomial.degree() == 3, dE_dgam_polynomial.degree()"
   ]
  },
  {
   "cell_type": "code",
   "execution_count": 97,
   "id": "c6ee6c8f-0017-4408-a0ee-4164bf56f13b",
   "metadata": {
    "tags": []
   },
   "outputs": [
    {
     "data": {
      "text/plain": [
       "[<function _lambdifygenerated(Dummy_190, Dummy_191)>,\n",
       " <function _lambdifygenerated(Dummy_192, Dummy_193)>,\n",
       " <function _lambdifygenerated(Dummy_194, Dummy_195)>,\n",
       " <function _lambdifygenerated(Dummy_196, Dummy_197)>]"
      ]
     },
     "execution_count": 97,
     "metadata": {},
     "output_type": "execute_result"
    }
   ],
   "source": [
    "\n",
    "dE_dgam_coeff_functions = []\n",
    "for coeff_sym in dE_dgam_polynomial.all_coeffs():\n",
    "    dE_dgam_coeff_functions.append(\n",
    "        sympy.lambdify((X_til, A_r_til), coeff_sym)\n",
    "    )\n",
    "\n",
    "dE_dgam_coeff_functions"
   ]
  },
  {
   "cell_type": "code",
   "execution_count": 60,
   "id": "d145da21-ef5f-4b63-b607-801a099894d4",
   "metadata": {
    "tags": []
   },
   "outputs": [],
   "source": [
    "import numpy as np\n",
    "\n",
    "def find_gamma_eq_tilde_numeric(X_value, A_r_til_value):\n",
    "    cubic_coeffs = [coeff_f(X_value, A_r_til_value) for coeff_f in dE_dgam_coeff_functions]\n",
    "    np_roots = np.roots(cubic_coeffs)\n",
    "    ### We need to find the roots of \n",
    "    # pass\n",
    "    roots_imaginary_proportion = np.abs(np_roots.imag / np_roots.real)\n",
    "    real_pos_roots_mask = (roots_imaginary_proportion < 0.000001) * (np_roots.real > 0)\n",
    "    \n",
    "    \n",
    "    \n",
    "    if real_pos_roots_mask.sum() != 1:\n",
    "        print(np_roots)\n",
    "        raise ValueError(\"Failed to find real root\")\n",
    "    return np_roots[real_pos_roots_mask][0].real\n",
    "    # return np_roots\n",
    "\n"
   ]
  },
  {
   "cell_type": "markdown",
   "id": "e239b875-6599-4797-be29-b11561132fea",
   "metadata": {},
   "source": [
    "## Finding first derivatives, and eigenvalues ofhessian to determine which situations are stable and which are not"
   ]
  },
  {
   "cell_type": "markdown",
   "id": "81629898-0c16-4ebc-9aa7-ad7aed821359",
   "metadata": {},
   "source": [
    "$$ \\frac{\\partial E}{\\partial \\alpha} = 0, \\ \\frac{\\partial E}{\\partial \\beta} = 0 $$\n",
    "\n",
    "$$\n",
    "\\textrm{Hess}(E) = \\begin{bmatrix}\n",
    "    \\frac{\\partial^2 E}{\\partial \\alpha^2} & \\frac{\\partial^2 E}{\\partial \\alpha \\beta} \\\\\n",
    "    \\frac{\\partial^2 E}{\\partial \\beta \\alpha} & \\frac{\\partial^2 E}{\\partial \\beta^2} \\\\\n",
    "\\end{bmatrix} \\rightarrow \\lambda_1 > 0, \\ \\lambda_2 > 0\n",
    "$$"
   ]
  },
  {
   "cell_type": "code",
   "execution_count": 111,
   "id": "f3c45f79-4222-47f8-b89d-ee412d861123",
   "metadata": {},
   "outputs": [],
   "source": [
    "E_tilded_hessian_symbolic = [[E_tilded.diff(var_i, var_j) for var_i in [alpha_til, beta_til]] for var_j in [alpha_til, beta_til]]\n",
    "\n",
    "E_tilded_hessian_num_funcs = [\n",
    "    [\n",
    "        sympy.lambdify((alpha_til, beta_til, X_til, A_r_til), el_sym) for el_sym in vec\n",
    "    ] for vec in E_tilded_hessian_symbolic\n",
    "]\n",
    "\n",
    "E_tilded_grad_funcs = [\n",
    "    sympy.lambdify(\n",
    "        (alpha_til, beta_til, X_til, A_r_til),\n",
    "        E_tilded.diff(var_i),\n",
    "    ) for var_i in [alpha_til, beta_til]\n",
    "]\n",
    "def find_hessian_numeric(\n",
    "    alpha_til_value,\n",
    "    beta_til_value,\n",
    "    X_value,\n",
    "    A_r_til_value,\n",
    "):\n",
    "    hessian_vals = [\n",
    "        [\n",
    "            lam_f(alpha_til_value, beta_til_value, X_value, A_r_til_value) for lam_f in lam_vec\n",
    "        ] for lam_vec in E_tilded_hessian_num_funcs\n",
    "    ]\n",
    "\n",
    "    hessian_vals = np.array(hessian_vals)\n",
    "    # print(np.linalg.eig(hessian_vals))\n",
    "    # E_tilded_hessian_num_funcs\n",
    "    return hessian_vals\n",
    "\n",
    "def energy_tilde_gradient_in_alpha_beta(\n",
    "    alpha_til_value,\n",
    "    beta_til_value,\n",
    "    X_value,\n",
    "    A_r_til_value,\n",
    "):\n",
    "    grad_vals = [diff_func(alpha_til_value, beta_til_value, X_value, A_r_til_value)for diff_func in E_tilded_grad_funcs]\n",
    "\n",
    "    # print(grad_vals)\n",
    "\n",
    "    # return (np.array(grad_vals) < 1e-9).all()\n",
    "    return np.array(grad_vals)\n",
    "    \n",
    "\n",
    "def get_equilibrium_hessian_eigenmodes(\n",
    "    gamma_til_value,\n",
    "    X_value,\n",
    "    A_r_til_value,\n",
    "):\n",
    "    hessian_num = find_hessian_numeric(\n",
    "        gamma_til_value,\n",
    "        gamma_til_value,\n",
    "        X_value,\n",
    "        A_r_til_value,\n",
    "    )\n",
    "\n",
    "    eig_res = np.linalg.eig(hessian_num)\n",
    "\n",
    "    return eig_res\n",
    "    # return eig_res.eigenvalues.min() > 0\n",
    "\n",
    "    \n",
    "# find_hessian_numeric(\n",
    "#     find_gamma_eq_tilde_numeric(0.1,100),\n",
    "#     find_gamma_eq_tilde_numeric(0.1,100),\n",
    "#     1,\n",
    "#     0.01,\n",
    "# )\n",
    "    # E_tilded_hessian_symbolic\n",
    "# E_tilded_hessian\n",
    "# check_if_equilibrium_stable(\n",
    "#     find_gamma_eq_tilde_numeric(0.1,100),\n",
    "#     1,\n",
    "#     0.01,\n",
    "# )"
   ]
  },
  {
   "cell_type": "code",
   "execution_count": 112,
   "id": "95c3aa17-3993-4cc9-a7f3-f1dec01efb3d",
   "metadata": {},
   "outputs": [],
   "source": [
    "\n",
    "poisson_ratio_tilde_numeric_f = sympy.lambdify((gamma_til, X_til, A_r_til), poisson_tilde_of_gamma)\n",
    "# def get_poisson_ratio_tilde_at_equilibrium(\n",
    "#     gamma_til_value,\n",
    "#     X_value,\n",
    "#     A_r_til_value,\n",
    "# ):\n",
    "# num_poisson_til_func(\n",
    "#     find_gamma_eq_tilde_numeric(0.1,100),\n",
    "#     1,\n",
    "#     0.01,\n",
    "# ) "
   ]
  },
  {
   "cell_type": "code",
   "execution_count": 113,
   "id": "5cac1a04-e3f5-4e0a-b524-d5ba328cb4ca",
   "metadata": {
    "tags": []
   },
   "outputs": [
    {
     "data": {
      "application/vnd.jupyter.widget-view+json": {
       "model_id": "34833050b39c499eaf6f70cbc329b052",
       "version_major": 2,
       "version_minor": 0
      },
      "image/png": "[encoded data removed]",
      "text/html": [
       "\n",
       "            <div style=\"display: inline-block;\">\n",
       "                <div class=\"jupyter-widgets widget-label\" style=\"text-align: center;\">\n",
       "                    Figure\n",
       "                </div>\n",
       "                <img src='data:image/png;base64,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' width=1000.0/>\n",
       "            </div>\n",
       "        "
      ],
      "text/plain": [
       "Canvas(toolbar=Toolbar(toolitems=[('Home', 'Reset original view', 'home', 'home'), ('Back', 'Back to previous …"
      ]
     },
     "metadata": {},
     "output_type": "display_data"
    }
   ],
   "source": [
    "%matplotlib widget\n",
    "from matplotlib.colors import LogNorm\n",
    "from matplotlib.ticker import LogFormatterMathtext\n",
    "\n",
    "def plot_gamma_eq_2d():\n",
    "    Xratio_range = (0.1, 1000)\n",
    "    \n",
    "    ## A_r_tilde = A_r/(P_r)^2\n",
    "    A_r_til_range = ((np.sqrt(3)/24)*0.05 ,(np.sqrt(3)/24)*1000)\n",
    "    \n",
    "    A_r_til_vals, Xratio_vals = np.meshgrid(\n",
    "        np.logspace(\n",
    "            np.log10(A_r_til_range[0]),\n",
    "            np.log10(A_r_til_range[1]),\n",
    "            100,\n",
    "        ),\n",
    "        np.logspace(\n",
    "            np.log10(Xratio_range[0]),\n",
    "            np.log10(Xratio_range[1]),\n",
    "            100,\n",
    "        ),\n",
    "    )\n",
    "    \n",
    "    poisson_ratio_Z = np.zeros_like(Xratio_vals,dtype=float)\n",
    "    gamma_til_eq_Z = np.zeros_like(Xratio_vals,dtype=float)\n",
    "    \n",
    "    \n",
    "    for i in range(Xratio_vals.shape[0]):\n",
    "        for j in range(Xratio_vals.shape[1]):\n",
    "            X_num = Xratio_vals[i][j]\n",
    "            A_r_til_num = A_r_til_vals[i][j]\n",
    "            gamma_til_eq_num = find_gamma_eq_tilde_numeric(\n",
    "                X_num,\n",
    "                A_r_til_num,\n",
    "            )\n",
    "            \n",
    "            energy_gradient_at_pt = energy_tilde_gradient_in_alpha_beta(gamma_til_eq_num, gamma_til_eq_num, X_num, A_r_til_num)\n",
    "            is_an_equilibrium = np.abs(energy_gradient_at_pt).min() < 1e-5\n",
    "\n",
    "            hessian_eigen_res = get_equilibrium_hessian_eigenmodes(gamma_til_eq_num, X_num, A_r_til_num)\n",
    "            is_stable = hessian_eigen_res.eigenvalues.min() > 0\n",
    "\n",
    "\n",
    "            if is_an_equilibrium: #and is_stable:\n",
    "                gamma_til_eq_Z[i][j] = gamma_til_eq_num\n",
    "                \n",
    "                poisson_ratio_Z[i][j] = poisson_ratio_tilde_numeric_f(\n",
    "                    gamma_til_eq_num,\n",
    "                    X_num,\n",
    "                    A_r_til_num,\n",
    "                )\n",
    "            else:\n",
    "                # gamma_til_eq_Z[i][j] = 0\n",
    "                # poisson_ratio_Z[i][j] = 0\n",
    "\n",
    "                if is_stable:\n",
    "                    print(\"hmmm\")\n",
    "                    print(\"X:\",X_num)\n",
    "                    print(\"A_r_til\",A_r_til_num)\n",
    "                    print(\"gamma_til_eq;\",gamma_til_eq_num)\n",
    "                    # print(\"stable: \",is_stable)\n",
    "                    print(\"is an equilibrium: \",is_an_equilibrium)\n",
    "                    print(\"energy gradient: \", energy_gradient_at_pt)\n",
    "                    \n",
    "                    print(\"hessian eigenvas & vecs:\",hessian_eigen_res)\n",
    "            \n",
    "            \n",
    "#     # Z1 = np.exp(-X**2 - Y**2)\n",
    "    plt.close('all')\n",
    "    fig, ax = plt.subplots(1,2,figsize=(10,4.5))\n",
    "\n",
    "    p_ratio_max_magnitude = np.abs(poisson_ratio_Z).max()\n",
    "\n",
    "    im_poisson_ratio = ax[0].pcolormesh(\n",
    "        Xratio_vals,\n",
    "        A_r_til_vals,\n",
    "        poisson_ratio_Z,\n",
    "        cmap='bwr' ,\n",
    "        vmin= -p_ratio_max_magnitude,\n",
    "        vmax=  p_ratio_max_magnitude,\n",
    "    )\n",
    "\n",
    "    \n",
    "    im_gamma_til_eq = ax[1].pcolormesh(\n",
    "        Xratio_vals,\n",
    "        A_r_til_vals,\n",
    "        gamma_til_eq_Z,\n",
    "        cmap='viridis' ,\n",
    "        norm=LogNorm(),\n",
    "        # vmin= -p_ratio_max_magnitude,\n",
    "        # vmax=  p_ratio_max_magnitude,\n",
    "    )\n",
    "    \n",
    "    ax[0].set_xscale('log')\n",
    "    ax[0].set_yscale('log')\n",
    "    ax[1].set_xscale('log')\n",
    "    ax[1].set_yscale('log')\n",
    "\n",
    "    \n",
    "    ax[0].set_ylabel(r\"$A_r/P_r^2$\")\n",
    "    ax[0].set_xlabel(r\"$P_r^2 k_A/k_P$\")\n",
    "    # ax[1].set_ylabel(r\"$A_r/P_r^2$\")\n",
    "    ax[1].set_xlabel(r\"$P_r^2 k_A/k_P$\")\n",
    "    cbar_poisson  =fig.colorbar(im_poisson_ratio, orientation='vertical', label=r\"$\\nu$\")#, format=LogFormatterMathtext())\n",
    "    \n",
    "    cbar_gamma  =fig.colorbar(im_gamma_til_eq, orientation='vertical', label=r\"$\\gamma_{eq}/P_r$\", format=LogFormatterMathtext())\n",
    "    \n",
    "    cbar_gamma.ax.axhline(1/6, c='w', label=r\"\\gamma_{eq}/P_r=1/6\")\n",
    "    ax[1].axhline(np.sqrt(3)/24, c='black', linestyle='--', label=r\"$A_r/P_r^2 = \\sqrt{3}/24$\")\n",
    "    ax[0].axhline(np.sqrt(3)/24, c='black', linestyle='--')\n",
    "    \n",
    "    ax[1].sharex(ax[0])\n",
    "    ax[1].sharey(ax[0])\n",
    "\n",
    "    plt.legend(loc='upper center', bbox_to_anchor=(0.8,1.11))\n",
    "    plt.show()\n",
    "\n",
    "\n",
    "plot_gamma_eq_2d()"
   ]
  },
  {
   "cell_type": "code",
   "execution_count": 121,
   "id": "58f6a82b-7c76-4bdf-9911-2361c90cac3b",
   "metadata": {},
   "outputs": [
    {
     "name": "stdout",
     "output_type": "stream",
     "text": [
      "Using X_test=0.53, A_r_test=11\n",
      "0.671609588818242\n",
      "hessian:  [[ 27.99388987 -12.60546762]\n",
      " [-12.60546762  27.99388987]]\n",
      "eigenmodes: \n",
      "    eigenvalues: [40.5993575  15.38842225]\n",
      "    eigenvectors [[ 0.70710678  0.70710678]\n",
      " [-0.70710678  0.70710678]]\n",
      "poisson ratio: -0.45029353478395334\n",
      "\n",
      "Using X_test=0.1, A_r_test=11\n",
      "0.19777803537320546\n",
      "hessian:  [[19.46854702 10.97410573]\n",
      " [10.97410573 19.46854702]]\n",
      "eigenmodes: \n",
      "    eigenvalues: [30.44265275  8.49444129]\n",
      "    eigenvectors [[ 0.70710678 -0.70710678]\n",
      " [ 0.70710678  0.70710678]]\n",
      "poisson ratio: 0.5636838597835585\n",
      "\n"
     ]
    }
   ],
   "source": [
    "def test_some_neg_pt(X_test=0.53):\n",
    "    # X_test = 0.53\n",
    "    A_r_t_test = 11\n",
    "    print(\"Using X_test={}, A_r_test={}\".format(X_test,A_r_t_test))\n",
    "    gamm_val = find_gamma_eq_tilde_numeric(X_test,A_r_t_test)\n",
    "\n",
    "    print(gamm_val)\n",
    "    hessian = find_hessian_numeric(gamm_val,gamm_val, X_test, A_r_t_test)\n",
    "    print(\"hessian: \", hessian)\n",
    "    # print\n",
    "    eigenmodes = get_equilibrium_hessian_eigenmodes(gamm_val, X_test, A_r_t_test)\n",
    "    print(\"eigenmodes: \")\n",
    "    print(\"    eigenvalues:\", eigenmodes.eigenvalues)\n",
    "    print(\"    eigenvectors\", eigenmodes.eigenvectors)\n",
    "    print(\"poisson ratio:\", hessian[0][1]/hessian[1][1])\n",
    "    # print(\"hessian eigen\n",
    "    # print(\"from numeric function:\", poisson_ratio_tilde_numeric_f(gamm_val, X_test, A_r_t_test))\n",
    "    print(\"\")\n",
    "    \n",
    "\n",
    "test_some_neg_pt()\n",
    "test_some_neg_pt(0.1)\n",
    "# test_some_neg_pt(0.01)\n",
    "# test_some_neg_pt(0.001)"
   ]
  },
  {
   "cell_type": "markdown",
   "id": "aa8f95f3-3f8c-4be9-a62b-8118522a2806",
   "metadata": {
    "tags": []
   },
   "source": [
    "### note:\n",
    "$$ P = 6\\gamma $$\n",
    "$$ A = \\frac{3\\sqrt{3}}{2}\\gamma^2 $$\n",
    "\n",
    "So, showing line where $A_{rest}$ and $P_{rest}$ correspond to the same gamma:\n",
    "$$ A \\cdot  \\frac{2}{3\\sqrt{3}} = \\gamma_{eq}^2 $$\n",
    "$$ \\frac{1}{36} P_{rest}^2 = \\gamma_{eq}^2 $$\n",
    "$$ A \\cdot  \\frac{2}{3\\sqrt{3}} = \\frac{1}{36} P_{rest}^2  $$\n",
    "$$ \\frac{A}{P_{rest}^2} =  \\frac{\\sqrt{3}}{24}  $$"
   ]
  },
  {
   "cell_type": "markdown",
   "id": "4210ec69-f5a0-47a5-ae4e-ec2f6bdc5713",
   "metadata": {},
   "source": [
    "### Where does negative poisson ratio come from?\n",
    "\n",
    "The on-diagonal terms of the hessian are positive at equilibrium so it's the sign of the off-diagonal terms that determine the sign of the poisson ratio. When $\\frac{\\partial^2 \\tilde{E}}{\\partial \\tilde{\\alpha} \\partial \\tilde{\\beta}} > 0$, we have the positive poisson ratio - but when it's negative, we have negative poisson ratio.\n",
    "\n",
    "Looking at the off diagonal term at some gamma:"
   ]
  },
  {
   "cell_type": "code",
   "execution_count": 130,
   "id": "21080e8b-91bd-45f0-915b-2c4eaa8ffd4b",
   "metadata": {},
   "outputs": [
    {
     "data": {
      "image/png": "[encoded data removed]",
      "text/latex": [
       "$\\displaystyle \\frac{d^{2}}{d \\tilde{\\beta}d \\tilde{\\alpha}} \\tilde{E} = 3 \\left(\\frac{9 \\tilde{X} \\tilde{\\alpha} \\tilde{\\beta}}{2} - \\frac{\\sqrt{3} \\tilde{X} \\left(2 \\tilde{A_r} - 3 \\sqrt{3} \\tilde{\\alpha} \\tilde{\\beta}\\right)}{2} - \\frac{4 \\tilde{\\alpha} \\tilde{\\beta} \\left(2 \\tilde{\\alpha} + 2 \\sqrt{\\tilde{\\alpha}^{2} + 3 \\tilde{\\beta}^{2}} - 1\\right)}{\\left(\\tilde{\\alpha}^{2} + 3 \\tilde{\\beta}^{2}\\right)^{\\frac{3}{2}}} + \\frac{8 \\tilde{\\beta} \\left(\\frac{\\tilde{\\alpha}}{\\sqrt{\\tilde{\\alpha}^{2} + 3 \\tilde{\\beta}^{2}}} + 1\\right)}{\\sqrt{\\tilde{\\alpha}^{2} + 3 \\tilde{\\beta}^{2}}}\\right)$"
      ],
      "text/plain": [
       "                                              ⎛                                ↪\n",
       "                                              ⎜                                ↪\n",
       "                                              ⎜                                ↪\n",
       "               2                              ⎜                                ↪\n",
       "              d                               ⎜9⋅\\tilde{X}⋅\\tilde{\\alpha}⋅\\til ↪\n",
       "──────────────────────────────(\\tilde{E}) = 3⋅⎜─────────────────────────────── ↪\n",
       "d\\tilde{\\beta} d\\tilde{\\alpha}                ⎜                   2            ↪\n",
       "                                              ⎜                                ↪\n",
       "                                              ⎝                                ↪\n",
       "\n",
       "↪                                                                              ↪\n",
       "↪                                                                              ↪\n",
       "↪                                                                              ↪\n",
       "↪                                                                              ↪\n",
       "↪ de{\\beta}   √3⋅\\tilde{X}⋅(2⋅\\tilde{A_r} - 3⋅√3⋅\\tilde{\\alpha}⋅\\tilde{\\beta}) ↪\n",
       "↪ ───────── - ──────────────────────────────────────────────────────────────── ↪\n",
       "↪                                            2                                 ↪\n",
       "↪                                                                              ↪\n",
       "↪                                                                              ↪\n",
       "\n",
       "↪                                                                              ↪\n",
       "↪                                                                              ↪\n",
       "↪                                   ⎛                        _________________ ↪\n",
       "↪                                   ⎜                       ╱               2  ↪\n",
       "↪    4⋅\\tilde{\\alpha}⋅\\tilde{\\beta}⋅⎝2⋅\\tilde{\\alpha} + 2⋅╲╱  \\tilde{\\alpha}   ↪\n",
       "↪  - ───────────────────────────────────────────────────────────────────────── ↪\n",
       "↪                                                                     3/2      ↪\n",
       "↪                                 ⎛              2                  2⎞         ↪\n",
       "↪                                 ⎝\\tilde{\\alpha}  + 3⋅\\tilde{\\beta} ⎠         ↪\n",
       "\n",
       "↪                                            ⎛            \\tilde{\\alpha}       ↪\n",
       "↪                            8⋅\\tilde{\\beta}⋅⎜──────────────────────────────── ↪\n",
       "↪ ___________________    ⎞                   ⎜   _____________________________ ↪\n",
       "↪                  2     ⎟                   ⎜  ╱               2              ↪\n",
       "↪ + 3⋅\\tilde{\\beta}   - 1⎠                   ⎝╲╱  \\tilde{\\alpha}  + 3⋅\\tilde{\\ ↪\n",
       "↪ ──────────────────────── + ───────────────────────────────────────────────── ↪\n",
       "↪                                          ___________________________________ ↪\n",
       "↪                                         ╱               2                  2 ↪\n",
       "↪                                       ╲╱  \\tilde{\\alpha}  + 3⋅\\tilde{\\beta}  ↪\n",
       "\n",
       "↪            ⎞⎞\n",
       "↪ ─────── + 1⎟⎟\n",
       "↪ _______    ⎟⎟\n",
       "↪      2     ⎟⎟\n",
       "↪ beta}      ⎠⎟\n",
       "↪ ────────────⎟\n",
       "↪ _           ⎟\n",
       "↪             ⎟\n",
       "↪             ⎠"
      ]
     },
     "execution_count": 130,
     "metadata": {},
     "output_type": "execute_result"
    }
   ],
   "source": [
    "dE_dalpha_dbeta_example = E_tilded.diff(alpha_til, beta_til)\n",
    "\n",
    "sympy.Eq(\n",
    "    sympy.Derivative(sympy.symbols(r\"\\tilde{E}\"), alpha_til, beta_til),\n",
    "    dE_dalpha_dbeta_example,\n",
    ")"
   ]
  },
  {
   "cell_type": "markdown",
   "id": "46c38eab-5769-448b-b372-e8bca27c61d8",
   "metadata": {},
   "source": [
    "# Substituting in gamma for alpha and beta, and expressing that we want this to be positive:"
   ]
  },
  {
   "cell_type": "code",
   "execution_count": 139,
   "id": "7bc56bb7-71b6-4586-9190-d4cf4d082c7c",
   "metadata": {},
   "outputs": [
    {
     "data": {
      "image/png": "[encoded data removed]",
      "text/latex": [
       "$\\displaystyle \\frac{27 \\tilde{X} \\tilde{\\gamma}^{2}}{2} - \\frac{3 \\sqrt{3} \\tilde{X} \\left(2 \\tilde{A_r} - 3 \\sqrt{3} \\tilde{\\gamma}^{2}\\right)}{2} + 18 - \\frac{3 \\left(6 \\tilde{\\gamma} - 1\\right)}{2 \\tilde{\\gamma}} > 0$"
      ],
      "text/plain": [
       "                           2                  ⎛                                ↪\n",
       "27⋅\\tilde{X}⋅\\tilde{\\gamma}    3⋅√3⋅\\tilde{X}⋅⎝2⋅\\tilde{A_r} - 3⋅√3⋅\\tilde{\\ga ↪\n",
       "──────────────────────────── - ─────────────────────────────────────────────── ↪\n",
       "             2                                           2                     ↪\n",
       "\n",
       "↪     2⎞                                    \n",
       "↪ mma} ⎠        3⋅(6⋅\\tilde{\\gamma} - 1)    \n",
       "↪ ────── + 18 - ──────────────────────── > 0\n",
       "↪                   2⋅\\tilde{\\gamma}        "
      ]
     },
     "execution_count": 139,
     "metadata": {},
     "output_type": "execute_result"
    }
   ],
   "source": [
    "dE_dalpha_dbeta_at_GAM = dE_dalpha_dbeta_example.subs([\n",
    "    (alpha_til, gamma_til),\n",
    "    (beta_til, gamma_til),\n",
    "])\n",
    "\n",
    "dE_dalpha_dbeta_at_GAM > 0"
   ]
  },
  {
   "cell_type": "code",
   "execution_count": 140,
   "id": "ff2f570b-d568-44fa-b025-e0c950c441f4",
   "metadata": {},
   "outputs": [
    {
     "data": {
      "image/png": "[encoded data removed]",
      "text/latex": [
       "$\\displaystyle 3 \\tilde{X} \\left(- \\sqrt{3} \\tilde{A_r} + 9 \\tilde{\\gamma}^{2}\\right) > -9 - \\frac{3}{2 \\tilde{\\gamma}}$"
      ],
      "text/plain": [
       "            ⎛                                  2⎞               3        \n",
       "3⋅\\tilde{X}⋅⎝-√3⋅\\tilde{A_r} + 9⋅\\tilde{\\gamma} ⎠ > -9 - ────────────────\n",
       "                                                         2⋅\\tilde{\\gamma}"
      ]
     },
     "execution_count": 140,
     "metadata": {},
     "output_type": "execute_result"
    }
   ],
   "source": [
    "sympy.solve(dE_dalpha_dbeta_at_GAM.expand() > 0, X_til)"
   ]
  },
  {
   "cell_type": "markdown",
   "id": "afb5b726-202c-421b-9454-cda9f8a201b8",
   "metadata": {},
   "source": [
    "### this is inequality:\n",
    "\n",
    "$$ 3 \\tilde{X} \\left(-\\sqrt{3}\\tilde{A_r} + 9 \\tilde{\\gamma_{eq}}^2 \\right) > -9 - \\frac{3}{2\\tilde{\\gamma_{eq}}} $$\n",
    "$$ 3 \\tilde{X} \\left(\\sqrt{3}\\tilde{A_r} - 9 \\tilde{\\gamma_{eq}}^2 \\right) < 9 + \\frac{3}{2\\tilde{\\gamma_{eq}}} $$\n",
    "$$ 3 \\tilde{k_A} \\left(\\sqrt{3}\\tilde{A_r} - 9 \\tilde{\\gamma_{eq}}^2 \\right) < \\tilde{k_P}\\left( 9 + \\frac{3}{2\\tilde{\\gamma_{eq}}}\\right) $$\n",
    "\n",
    "When this is satisfied, $\\frac{\\partial^2 \\tilde{E}}{\\partial \\tilde{\\alpha} \\partial \\tilde{\\beta}} > 0$, and changes in $\\tilde{\\alpha}$ and $\\tilde{\\beta}$ together are specifically punished."
   ]
  },
  {
   "cell_type": "code",
   "execution_count": null,
   "id": "abfb52d6-c5cb-4041-9ea9-64368a2cbe34",
   "metadata": {},
   "outputs": [],
   "source": []
  },
  {
   "cell_type": "markdown",
   "id": "1547e2af-9e4d-449f-9474-59f75bf64b0e",
   "metadata": {},
   "source": []
  },
  {
   "cell_type": "code",
   "execution_count": null,
   "id": "af088d01-ee40-4fe9-9c5f-080fef940013",
   "metadata": {},
   "outputs": [],
   "source": []
  }
 ],
 "metadata": {
  "kernelspec": {
   "display_name": "Python 3 (ipykernel)",
   "language": "python",
   "name": "python3"
  },
  "language_info": {
   "codemirror_mode": {
    "name": "ipython",
    "version": 3
   },
   "file_extension": ".py",
   "mimetype": "text/x-python",
   "name": "python",
   "nbconvert_exporter": "python",
   "pygments_lexer": "ipython3",
   "version": "3.9.0"
  }
 },
 "nbformat": 4,
 "nbformat_minor": 5
}
