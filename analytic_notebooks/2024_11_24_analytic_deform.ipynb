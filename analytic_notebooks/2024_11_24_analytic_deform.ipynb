{
 "cells": [
  {
   "cell_type": "code",
   "execution_count": null,
   "id": "37ac6b34-cca2-4883-a1b4-8ac7469ffc83",
   "metadata": {},
   "outputs": [],
   "source": []
  },
  {
   "cell_type": "markdown",
   "id": "1c9f85ea-7f3e-4073-8300-067e2f672036",
   "metadata": {},
   "source": [
    "## What is poisson ratio for vertex model?\n",
    "\n",
    "Here is the model:\n",
    "\n",
    "$$ E = k_A \\left(A-A_r\\right)^2 + k_P \\left(P - P_r\\right)^2 $$"
   ]
  },
  {
   "cell_type": "markdown",
   "id": "38d73d61-ed3c-4554-98f6-693dbf263bd0",
   "metadata": {
    "jp-MarkdownHeadingCollapsed": true,
    "tags": []
   },
   "source": [
    "### What does the cell look like?\n",
    "![title](2024_11_22_analytic_deform_img/diagram-20241122.png)\n",
    "\n"
   ]
  },
  {
   "cell_type": "markdown",
   "id": "edded8c3-30f9-4054-8a30-2edc71c3103d",
   "metadata": {},
   "source": [
    "### Finding the area and the perimeter:\n",
    "We can set $l_i$ to one, since we can just replace it with alpha and beta - which can directly represent dimenions of the hexagon.\n",
    "$$ A = 6 \\cdot A_{triangle} = 6 \\cdot \\frac{1}{2} \\left[\\alpha \\cdot \\beta \\frac{\\sqrt{3}}{2}\\right] $$\n",
    "$$ A\\left(\\alpha, \\beta\\right) = \\frac{3\\sqrt{3}}{2}\\alpha  \\beta $$"
   ]
  },
  {
   "cell_type": "markdown",
   "id": "a74e47ff-22ff-4ffd-af71-8227ba9de848",
   "metadata": {},
   "source": [
    "$$ P = 2 \\cdot \\left[\\alpha\\right] + 4 \\left[\\frac{1}{2} \\sqrt{\\alpha^2 + 3 \\beta^2} \\right] $$\n",
    "$$ P\\left(\\alpha, \\beta\\right) = 2 \\alpha + 2 \\sqrt{\\alpha^2 + 3 \\beta^2}  $$"
   ]
  },
  {
   "cell_type": "markdown",
   "id": "894213c8-32d0-47f3-a9ed-bacc09424626",
   "metadata": {},
   "source": [
    "## Using sympy to define stuff"
   ]
  },
  {
   "cell_type": "code",
   "execution_count": 30,
   "id": "4dcbcea5-6354-40bb-b029-e858fc400857",
   "metadata": {},
   "outputs": [
    {
     "data": {
      "image/png": "[encoded data removed]",
      "text/latex": [
       "$\\displaystyle E{\\left(\\alpha,\\beta,A_{r},P_{r},k_{A},k_{P} \\right)} = k_{A} \\left(- A_{r} + \\frac{3 \\sqrt{3} \\alpha \\beta}{2}\\right)^{2} + k_{P} \\left(- P_{r} + 2 \\alpha + 2 \\sqrt{\\alpha^{2} + 3 \\beta^{2}}\\right)^{2}$"
      ],
      "text/plain": [
       "                                                                              \n",
       "                                                2       ⎛                 ____\n",
       "                                ⎛      3⋅√3⋅α⋅β⎞        ⎜                ╱  2 \n",
       "E(α, β, Aᵣ, Pᵣ, k_A, k_P) = k_A⋅⎜-Aᵣ + ────────⎟  + k_P⋅⎝-Pᵣ + 2⋅α + 2⋅╲╱  α  \n",
       "                                ⎝         2    ⎠                              \n",
       "\n",
       "        2\n",
       "_______⎞ \n",
       "     2 ⎟ \n",
       "+ 3⋅β  ⎠ \n",
       "         "
      ]
     },
     "execution_count": 30,
     "metadata": {},
     "output_type": "execute_result"
    }
   ],
   "source": [
    "import sympy\n",
    "sympy.init_printing()\n",
    "\n",
    "def create_area_symexp(\n",
    "    s_alpha,\n",
    "    s_beta,\n",
    "):\n",
    "    s_A = (sympy.sqrt(3)*3/2)*s_alpha*s_beta\n",
    "    return s_A\n",
    "\n",
    "def create_perim_symexp(\n",
    "    s_alpha,\n",
    "    s_beta,\n",
    "):\n",
    "    s_P = 2*s_alpha + 2*sympy.sqrt(s_alpha**2 + 3 * s_beta**2)\n",
    "    return s_P\n",
    "\n",
    "def area_energy_symexp(\n",
    "    s_alpha,\n",
    "    s_beta,\n",
    "    s_Area_rest,\n",
    "    s_k_A,\n",
    "):\n",
    "    s_Area = create_area_symexp(s_alpha, s_beta)\n",
    "    return s_k_A * (s_Area - s_Area_rest)**2\n",
    "    pass\n",
    "\n",
    "def perimeter_energy_symexp(\n",
    "    s_alpha,\n",
    "    s_beta,\n",
    "    s_P_r,\n",
    "    s_k_P,\n",
    "):\n",
    "    s_Perimeter = create_perim_symexp(s_alpha, s_beta)\n",
    "    return s_k_P * (s_Perimeter - s_P_r)**2\n",
    "    \n",
    "\n",
    "def create_energy_symexp(\n",
    "    s_alpha,\n",
    "    s_beta,\n",
    "    s_Area_rest,\n",
    "    s_Perimeter_rest,\n",
    "    s_k_A,\n",
    "    s_k_P,\n",
    "):\n",
    "    s_E_area = area_energy_symexp(s_alpha, s_beta, s_Area_rest, s_k_A)\n",
    "    s_E_perim = perimeter_energy_symexp(s_alpha, s_beta, s_Perimeter_rest, s_k_P)\n",
    "    \n",
    "    \n",
    "    s_E = s_E_area + s_E_perim\n",
    "    \n",
    "    return s_E\n",
    "    \n",
    "\n",
    "alpha, beta = sympy.symbols(\"alpha beta\", real=True, positive=True)\n",
    "A_r, P_r = sympy.symbols(\"A_r P_r\", real=True, positive=True)\n",
    "k_A, k_P = sympy.symbols(\"k_A k_P\", real=True)\n",
    "\n",
    "energy_basic = create_energy_symexp(\n",
    "    alpha,beta, A_r, P_r, k_A, k_P,\n",
    ")\n",
    "\n",
    "sympy.Eq(\n",
    "    sympy.Function('E')(alpha, beta, A_r, P_r, k_A, k_P),\n",
    "    energy_basic,\n",
    ")\n",
    "\n",
    "# A_r.is_real"
   ]
  },
  {
   "cell_type": "markdown",
   "id": "fb2dd314-a3c4-4605-bcbf-870be748cb4f",
   "metadata": {},
   "source": [
    "## Holding the x and y stretching equal:\n",
    "$$ \\alpha = \\beta = \\gamma $$"
   ]
  },
  {
   "cell_type": "code",
   "execution_count": 31,
   "id": "daedbab5-b35d-4300-bad8-7ebcea764f98",
   "metadata": {
    "tags": []
   },
   "outputs": [
    {
     "data": {
      "image/png": "[encoded data removed]",
      "text/latex": [
       "$\\displaystyle E{\\left(\\gamma,A_{r},P_{r},k_{A},k_{P} \\right)} = k_{A} \\left(- A_{r} + \\frac{3 \\sqrt{3} \\gamma^{2}}{2}\\right)^{2} + k_{P} \\left(- P_{r} + 6 \\gamma\\right)^{2}$"
      ],
      "text/plain": [
       "                                            2                   \n",
       "                             ⎛            2⎞                    \n",
       "                             ⎜      3⋅√3⋅γ ⎟                   2\n",
       "E(γ, Aᵣ, Pᵣ, k_A, k_P) = k_A⋅⎜-Aᵣ + ───────⎟  + k_P⋅(-Pᵣ + 6⋅γ) \n",
       "                             ⎝         2   ⎠                    "
      ]
     },
     "execution_count": 31,
     "metadata": {},
     "output_type": "execute_result"
    }
   ],
   "source": [
    "gamma = sympy.symbols(\"gamma\" , real=True ,positive=True)\n",
    "energy_iso = energy_basic.subs([\n",
    "    (alpha, gamma),\n",
    "    (beta, gamma),\n",
    "])\n",
    "\n",
    "sympy.Eq(\n",
    "    sympy.Function('E')(gamma, A_r, P_r, k_A, k_P),\n",
    "    energy_iso,\n",
    ")"
   ]
  },
  {
   "cell_type": "markdown",
   "id": "6bf381e5-38df-4a81-b00a-960dc747b3e7",
   "metadata": {},
   "source": [
    "### Expanding the energy::"
   ]
  },
  {
   "cell_type": "code",
   "execution_count": 32,
   "id": "983e290a-7b9e-48d8-b0dc-bed02befb5a5",
   "metadata": {
    "tags": []
   },
   "outputs": [
    {
     "data": {
      "image/png": "[encoded data removed]",
      "text/latex": [
       "$\\displaystyle E{\\left(\\gamma,A_{r},P_{r},k_{A},k_{P} \\right)} = A_{r}^{2} k_{A} - 3 \\sqrt{3} A_{r} \\gamma^{2} k_{A} + P_{r}^{2} k_{P} - 12 P_{r} \\gamma k_{P} + \\frac{27 \\gamma^{4} k_{A}}{4} + 36 \\gamma^{2} k_{P}$"
      ],
      "text/plain": [
       "                                                                              \n",
       "                           2                2         2                     27\n",
       "E(γ, Aᵣ, Pᵣ, k_A, k_P) = Aᵣ ⋅k_A - 3⋅√3⋅Aᵣ⋅γ ⋅k_A + Pᵣ ⋅k_P - 12⋅Pᵣ⋅γ⋅k_P + ──\n",
       "                                                                              \n",
       "\n",
       "  4                \n",
       "⋅γ ⋅k_A       2    \n",
       "─────── + 36⋅γ ⋅k_P\n",
       "  4                "
      ]
     },
     "execution_count": 32,
     "metadata": {},
     "output_type": "execute_result"
    }
   ],
   "source": [
    "\n",
    "sympy.Eq(\n",
    "    sympy.Function('E')(gamma, A_r, P_r, k_A, k_P),\n",
    "    energy_iso.expand(),\n",
    ")"
   ]
  },
  {
   "cell_type": "markdown",
   "id": "eb224b02-36d0-4db4-84a2-03d76d177cff",
   "metadata": {},
   "source": [
    "### Conditions for equilibrium:\n",
    "$$ \\left.\\frac{\\partial E}{\\partial \\gamma} \\right|_{\\gamma = \\gamma_{equilibrium}} = 0 $$"
   ]
  },
  {
   "cell_type": "code",
   "execution_count": 33,
   "id": "f1d50a16-c435-4c12-9fde-7a60e4e3909e",
   "metadata": {
    "tags": []
   },
   "outputs": [
    {
     "data": {
      "image/png": "[encoded data removed]",
      "text/latex": [
       "$\\displaystyle - 6 \\sqrt{3} A_{r} \\gamma_{eq} k_{A} - 12 P_{r} k_{P} + 27 \\gamma_{eq}^{3} k_{A} + 72 \\gamma_{eq} k_{P} = 0$"
      ],
      "text/plain": [
       "                                                     3                        \n",
       "-6⋅√3⋅Aᵣ⋅\\gamma_{eq}⋅k_A - 12⋅Pᵣ⋅k_P + 27⋅\\gamma_{eq} ⋅k_A + 72⋅\\gamma_{eq}⋅k_\n",
       "\n",
       "     \n",
       "P = 0"
      ]
     },
     "execution_count": 33,
     "metadata": {},
     "output_type": "execute_result"
    }
   ],
   "source": [
    "denergy_iso_dgamma = energy_iso.diff(gamma).expand()\n",
    "sympy.Eq(\n",
    "    denergy_iso_dgamma.subs([\n",
    "        (gamma, sympy.symbols(r\"\\gamma_{eq}\")),\n",
    "    ]),\n",
    "    0,\n",
    ")"
   ]
  },
  {
   "cell_type": "code",
   "execution_count": 34,
   "id": "3a244392-50e1-467f-b2f4-9e978e4d8653",
   "metadata": {
    "tags": []
   },
   "outputs": [],
   "source": [
    "# mu = sympy.symbols(\"mu\", real=True, positive=True)\n",
    "\n",
    "# k_A_til, k_P_til, gamma_til, P_r_til, A_r_til =  sympy.symbols(r\"\\tilde{k_A} \\tilde{k_P} \\tilde{\\gamma} \\tilde{P_r} \\tilde{A_r}\", real=True, positive=True)\n",
    "\n",
    "# denergy_iso_dgamma.subs([\n",
    "#     (gamma, gamma_til * mu),\n",
    "#     (k_A, k_A_til / mu**4),\n",
    "#     (A_r ,A_r_til * mu**2),\n",
    "#     (k_P, k_P_til / mu**2),\n",
    "#     (P_r, P_r_til * mu),\n",
    "#     # (\n",
    "# ])"
   ]
  },
  {
   "cell_type": "markdown",
   "id": "7712b084-3844-4337-9d07-84fc1e710812",
   "metadata": {},
   "source": [
    "# What is the Poisson ratio?\n",
    "When the cell is at equilibrium, $\\partial E/\\partial \\alpha = \\partial E / \\partial \\beta = 0$. We will look at an equilibrium where $\\alpha_{rest} = \\beta_{rest} = \\gamma$\n",
    "\n",
    "So we can describe the behavior of energy in the neighborhood of equillibrium with just the second order derivatives:\n",
    "\n",
    "$$ E(\\delta \\alpha ,\\delta \\beta) \\approx \\left(\\delta \\alpha\\right)^2\\frac{1}{2} \\left.\\frac{\\partial^2 E}{\\partial \\alpha^2}\\right|_{\\alpha=\\beta=\\gamma} + \\left(\\delta \\beta\\right)^2\\frac{1}{2} \\left.\\frac{\\partial^2 E}{\\partial \\beta^2}\\right|_{\\alpha=\\beta=\\gamma} + \\left(\\delta \\alpha\\right)\\left(\\delta \\beta\\right) \\left.\\frac{\\partial^2 E}{\\partial \\alpha \\partial \\beta}\\right|_{\\alpha=\\beta=\\gamma}$$"
   ]
  },
  {
   "cell_type": "markdown",
   "id": "37b009a5-7375-437b-9cc8-4d6946a0a301",
   "metadata": {
    "tags": []
   },
   "source": [
    "The poisson ratio is defined as the negative ratio of the strain rates in x and y. Strain in x is $\\delta \\alpha / \\alpha_{rest}$, and strain in y is $\\delta \\beta / \\beta_{rest}$. So, the negative ratio is: $-(\\delta \\beta)/(\\delta\\alpha)$. \n",
    "$$ \\nu = \\frac{- \\delta \\beta}{\\delta \\alpha} $$\n",
    "\n",
    "We probe the system by holding $\\delta \\alpha$ to a constant, infinitesimal value - then finding the value of $\\delta\\beta$ that will give the minimum energy in beta space.\n",
    "\n",
    "At the equilibrium value of $\\delta\\beta$, we should have\n",
    "$$ \\frac{\\partial E}{\\partial \\beta} = 0 $$\n",
    "Plugging in the second order approximation of energy around equilibrium:\n",
    "$$ \\left(\\delta \\beta\\right) \\left.\\frac{\\partial^2 E}{\\partial \\beta^2}\\right|_{\\alpha=\\beta=\\gamma} + \\left(\\delta \\alpha\\right) \\left.\\frac{\\partial^2 E}{\\partial \\alpha \\partial \\beta}\\right|_{\\alpha=\\beta=\\gamma}  = 0 $$\n",
    "Moving this into form of poisson ratio:\n",
    "$$ - \\frac{\\delta \\beta}{\\delta \\alpha}  = \\frac{  \\left.\\frac{\\partial^2 E}{\\partial \\alpha \\partial \\beta}\\right|_{\\alpha=\\beta=\\gamma}  }{  \\left.\\frac{\\partial^2 E}{\\partial \\beta^2}\\right|_{\\alpha=\\beta=\\gamma}  } $$\n",
    "$$ \\nu  =  \\left.\\frac{ \\partial^2 E / \\left(\\partial  \\alpha \\partial \\beta\\right)   }{ \\partial^2 E  / \\partial \\beta^2  }\\right|_{\\alpha=\\beta=\\gamma} $$"
   ]
  },
  {
   "cell_type": "markdown",
   "id": "1dff7bfa-4def-479e-b786-8ec6a75db3ae",
   "metadata": {},
   "source": [
    "### Finding the formulas for these derivatives:"
   ]
  },
  {
   "cell_type": "code",
   "execution_count": 35,
   "id": "f81e7d86-3d7f-49f3-9919-5b15667c5954",
   "metadata": {
    "tags": []
   },
   "outputs": [
    {
     "data": {
      "image/png": "[encoded data removed]",
      "text/latex": [
       "$\\displaystyle \\nu{\\left(\\alpha_{rest},\\beta_{rest},k_{A},k_{P},A_{r},P_{r} \\right)} = \\frac{\\frac{27 \\alpha \\beta k_{A}}{2} - \\frac{12 \\alpha \\beta k_{P} \\left(- P_{r} + 2 \\alpha + 2 \\sqrt{\\alpha^{2} + 3 \\beta^{2}}\\right)}{\\left(\\alpha^{2} + 3 \\beta^{2}\\right)^{\\frac{3}{2}}} + \\frac{6 \\beta k_{P} \\left(\\frac{4 \\alpha}{\\sqrt{\\alpha^{2} + 3 \\beta^{2}}} + 4\\right)}{\\sqrt{\\alpha^{2} + 3 \\beta^{2}}} + 3 \\sqrt{3} k_{A} \\left(- A_{r} + \\frac{3 \\sqrt{3} \\alpha \\beta}{2}\\right)}{\\frac{27 \\alpha^{2} k_{A}}{2} + \\frac{72 \\beta^{2} k_{P}}{\\alpha^{2} + 3 \\beta^{2}} - \\frac{36 \\beta^{2} k_{P} \\left(- P_{r} + 2 \\alpha + 2 \\sqrt{\\alpha^{2} + 3 \\beta^{2}}\\right)}{\\left(\\alpha^{2} + 3 \\beta^{2}\\right)^{\\frac{3}{2}}} + \\frac{12 k_{P} \\left(- P_{r} + 2 \\alpha + 2 \\sqrt{\\alpha^{2} + 3 \\beta^{2}}\\right)}{\\sqrt{\\alpha^{2} + 3 \\beta^{2}}}}$"
      ],
      "text/plain": [
       "                                                                              \n",
       "                                                                              \n",
       "                                                                           ⎛  \n",
       "                                                                           ⎜  \n",
       "                                                   27⋅α⋅β⋅k_A   12⋅α⋅β⋅k_P⋅⎝-P\n",
       "                                                   ────────── - ──────────────\n",
       "                                                       2                      \n",
       "                                                                              \n",
       "                                                                              \n",
       "ν(\\alpha_{rest}, \\beta_{rest}, k_A, k_P, Aᵣ, Pᵣ) = ───────────────────────────\n",
       "                                                                              \n",
       "                                                            2           2     \n",
       "                                                        27⋅α ⋅k_A   72⋅β ⋅k_P \n",
       "                                                        ───────── + ───────── \n",
       "                                                            2        2      2 \n",
       "                                                                    α  + 3⋅β  \n",
       "                                                                              \n",
       "\n",
       "                                      ⎛     4⋅α          ⎞                    \n",
       "                              6⋅β⋅k_P⋅⎜────────────── + 4⎟                    \n",
       "               ___________⎞           ⎜   ___________    ⎟                    \n",
       "              ╱  2      2 ⎟           ⎜  ╱  2      2     ⎟                    \n",
       "ᵣ + 2⋅α + 2⋅╲╱  α  + 3⋅β  ⎠           ⎝╲╱  α  + 3⋅β      ⎠            ⎛      3\n",
       "─────────────────────────── + ──────────────────────────── + 3⋅√3⋅k_A⋅⎜-Aᵣ + ─\n",
       "           3/2                          ___________                   ⎝       \n",
       "⎛ 2      2⎞                            ╱  2      2                            \n",
       "⎝α  + 3⋅β ⎠                          ╲╱  α  + 3⋅β                             \n",
       "──────────────────────────────────────────────────────────────────────────────\n",
       "            ⎛                 ___________⎞          ⎛                 ________\n",
       "      2     ⎜                ╱  2      2 ⎟          ⎜                ╱  2     \n",
       "  36⋅β ⋅k_P⋅⎝-Pᵣ + 2⋅α + 2⋅╲╱  α  + 3⋅β  ⎠   12⋅k_P⋅⎝-Pᵣ + 2⋅α + 2⋅╲╱  α  + 3⋅\n",
       "- ──────────────────────────────────────── + ─────────────────────────────────\n",
       "                          3/2                               ___________       \n",
       "               ⎛ 2      2⎞                                 ╱  2      2        \n",
       "               ⎝α  + 3⋅β ⎠                               ╲╱  α  + 3⋅β         \n",
       "\n",
       "        \n",
       "        \n",
       "        \n",
       "        \n",
       "⋅√3⋅α⋅β⎞\n",
       "───────⎟\n",
       "  2    ⎠\n",
       "        \n",
       "        \n",
       "────────\n",
       "___⎞    \n",
       " 2 ⎟    \n",
       "β  ⎠    \n",
       "────    \n",
       "        \n",
       "        \n",
       "        "
      ]
     },
     "execution_count": 35,
     "metadata": {},
     "output_type": "execute_result"
    }
   ],
   "source": [
    "poisson_ratio_step1 = energy_basic.diff(alpha).diff(beta) / energy_basic.diff(beta).diff(beta)\n",
    "\n",
    "\n",
    "# poisson_ratio_step1.subs([(\"alpha\"), ()])\n",
    "sympy.Eq(\n",
    "    sympy.Function('nu')(*sympy.symbols(r\"\\alpha_{rest} \\beta_{rest}\"), k_A, k_P, A_r, P_r),\n",
    "    poisson_ratio_step1,\n",
    ")"
   ]
  },
  {
   "cell_type": "markdown",
   "id": "4374f1e5-28c5-4f47-9db6-04e811b5cd88",
   "metadata": {},
   "source": [
    "### Set $\\alpha = \\beta = \\gamma$ - where gamma is the 'rest' size of the cell, which is a ultimately function of the other parameters."
   ]
  },
  {
   "cell_type": "code",
   "execution_count": 36,
   "id": "b93e8c4f-a3b2-4674-9826-d8b6e5bdea34",
   "metadata": {
    "tags": []
   },
   "outputs": [
    {
     "data": {
      "image/png": "[encoded data removed]",
      "text/latex": [
       "$\\displaystyle \\nu{\\left(\\gamma,k_{A},k_{P},A_{r},P_{r} \\right)} = \\frac{2 \\sqrt{3} A_{r} \\gamma k_{A} - P_{r} k_{P} - 18 \\gamma^{3} k_{A} - 6 \\gamma k_{P}}{P_{r} k_{P} - 9 \\gamma^{3} k_{A} - 18 \\gamma k_{P}}$"
      ],
      "text/plain": [
       "                                                      3              \n",
       "                         2⋅√3⋅Aᵣ⋅γ⋅k_A - Pᵣ⋅k_P - 18⋅γ ⋅k_A - 6⋅γ⋅k_P\n",
       "ν(γ, k_A, k_P, Aᵣ, Pᵣ) = ────────────────────────────────────────────\n",
       "                                             3                       \n",
       "                                 Pᵣ⋅k_P - 9⋅γ ⋅k_A - 18⋅γ⋅k_P        "
      ]
     },
     "execution_count": 36,
     "metadata": {},
     "output_type": "execute_result"
    }
   ],
   "source": [
    "poisson_ratio_step2 = poisson_ratio_step1.subs([\n",
    "    (alpha, gamma),\n",
    "    (beta, gamma),\n",
    "]).simplify()\n",
    "\n",
    "sympy.Eq(\n",
    "    sympy.Function('nu')(gamma, k_A, k_P, A_r, P_r),\n",
    "    poisson_ratio_step2\n",
    ")"
   ]
  },
  {
   "cell_type": "markdown",
   "id": "2d709100-7ba2-4c39-bf10-bbe8b13c06a4",
   "metadata": {},
   "source": [
    "# Simplifying the system...\n"
   ]
  },
  {
   "cell_type": "markdown",
   "id": "b27f3eeb-ace5-4abf-9cc0-41e47c7fb518",
   "metadata": {
    "tags": []
   },
   "source": [
    "### We can do a change of variables, basically changing length scale:\n",
    "$$ \\begin{align}\n",
    " \\alpha &= \\mu \\tilde{\\alpha} \\\\\n",
    " \\beta &= \\mu \\tilde{\\beta} \\\\\n",
    " \\gamma &= \\mu \\tilde{\\gamma} \\\\\n",
    "P_r &= \\mu \\tilde{P_r} \\\\\n",
    "k_P &= \\frac{1}{\\mu^2} \\tilde{k_P}\\\\\n",
    "A_r &= \\mu^2 \\tilde{A_r} \\\\\n",
    "k_A &= \\frac{1}{\\mu^4} \\tilde{k_P} \\\\\n",
    " \\end{align}\n",
    " $$\n"
   ]
  },
  {
   "cell_type": "code",
   "execution_count": 240,
   "id": "ed825d70-cbe0-491e-a026-b4262d0311ad",
   "metadata": {
    "tags": []
   },
   "outputs": [
    {
     "data": {
      "image/png": "[encoded data removed]",
      "text/latex": [
       "$\\displaystyle \\left[ \\left( \\alpha, \\  \\tilde{\\alpha} \\mu\\right), \\  \\left( \\beta, \\  \\tilde{\\beta} \\mu\\right), \\  \\left( P_{r}, \\  \\tilde{P_r} \\mu\\right), \\  \\left( k_{P}, \\  \\frac{\\tilde{k_P}}{\\mu^{2}}\\right), \\  \\left( A_{r}, \\  \\tilde{A_r} \\mu^{2}\\right), \\  \\left( k_{A}, \\  \\frac{\\tilde{k_A}}{\\mu^{4}}\\right)\\right]$"
      ],
      "text/plain": [
       "⎡                                                                  ⎛     \\tild\n",
       "⎢(α, \\tilde{\\alpha}⋅μ), (β, \\tilde{\\beta}⋅μ), (Pᵣ, \\tilde{P_r}⋅μ), ⎜k_P, ─────\n",
       "⎢                                                                  ⎜          \n",
       "⎣                                                                  ⎝          \n",
       "\n",
       "e{k_P}⎞  ⎛                 2⎞  ⎛     \\tilde{k_A}⎞⎤\n",
       "──────⎟, ⎝Aᵣ, \\tilde{A_r}⋅μ ⎠, ⎜k_A, ───────────⎟⎥\n",
       " 2    ⎟                        ⎜           4    ⎟⎥\n",
       "μ     ⎠                        ⎝          μ     ⎠⎦"
      ]
     },
     "execution_count": 240,
     "metadata": {},
     "output_type": "execute_result"
    }
   ],
   "source": [
    "mu = sympy.symbols(\"mu\", real=True, positive=True)\n",
    "# mu = 1 / P_r\n",
    "\n",
    "k_A_til, k_P_til, alpha_til, beta_til, P_r_til, A_r_til =  sympy.symbols(r\"\\tilde{k_A} \\tilde{k_P} \\tilde{\\alpha} \\tilde{\\beta}  \\tilde{P_r} \\tilde{A_r}\", real=True, positive=True)\n",
    "\n",
    "tilde_mu_substitutions = [\n",
    "    (alpha, alpha_til *mu),\n",
    "    (beta, beta_til*mu),\n",
    "    (P_r, P_r_til*mu),\n",
    "    (k_P, k_P_til/mu**2),\n",
    "    (A_r,  A_r_til*mu**2),\n",
    "    (k_A, k_A_til / mu**4),\n",
    "]\n",
    "# display(tilde_mu_substitutions)\n",
    "tilde_mu_substitutions"
   ]
  },
  {
   "cell_type": "markdown",
   "id": "dd8c83be-714d-455e-95d9-10ad8e48312b",
   "metadata": {},
   "source": [
    "## Picking mu to make $\\tilde{P_r}$ equal one:\n",
    "We only want to explore the landscape of derivatives of E with respect to alpha and beta, so we can pick a mu that depends on $P_r$, without affecting stuff\n",
    "$$ \\mu = P_r $$\n",
    "$$ P_r = \\mu \\tilde{P_r} $$\n",
    "$$ P_r = P_r \\tilde{P_r} $$\n",
    "$$  \\tilde{P_r} = 1 $$\n",
    "\n",
    "We can do change of variables to the energy equation:"
   ]
  },
  {
   "cell_type": "code",
   "execution_count": 242,
   "id": "590c1106-6562-4fc2-b566-ee93c3a0535b",
   "metadata": {
    "tags": []
   },
   "outputs": [
    {
     "data": {
      "image/png": "[encoded data removed]",
      "text/latex": [
       "$\\displaystyle E{\\left(\\tilde{\\alpha},\\tilde{\\beta},\\tilde{k_A},\\tilde{k_P},\\tilde{A_r} \\right)} = \\frac{\\tilde{k_A} \\left(2 \\tilde{A_r} - 3 \\sqrt{3} \\tilde{\\alpha} \\tilde{\\beta}\\right)^{2}}{4} + \\tilde{k_P} \\left(2 \\tilde{\\alpha} + 2 \\sqrt{\\tilde{\\alpha}^{2} + 3 \\tilde{\\beta}^{2}} - 1\\right)^{2}$"
      ],
      "text/plain": [
       "                                                                              \n",
       "                                                                              \n",
       "                                                                          \\til\n",
       "E(\\tilde{\\alpha}, \\tilde{\\beta}, \\tilde{k_A}, \\tilde{k_P}, \\tilde{A_r}) = ────\n",
       "                                                                              \n",
       "\n",
       "                                                                              \n",
       "                                                           2               ⎛  \n",
       "de{k_A}⋅(2⋅\\tilde{A_r} - 3⋅√3⋅\\tilde{\\alpha}⋅\\tilde{\\beta})                ⎜  \n",
       "──────────────────────────────────────────────────────────── + \\tilde{k_P}⋅⎝2⋅\n",
       "                           4                                                  \n",
       "\n",
       "                                                               2\n",
       "                      ____________________________________    ⎞ \n",
       "                     ╱               2                  2     ⎟ \n",
       "\\tilde{\\alpha} + 2⋅╲╱  \\tilde{\\alpha}  + 3⋅\\tilde{\\beta}   - 1⎠ \n",
       "                                                                "
      ]
     },
     "execution_count": 242,
     "metadata": {},
     "output_type": "execute_result"
    }
   ],
   "source": [
    "E_mu_subbed = energy_basic.subs(\n",
    "    tilde_mu_substitutions\n",
    ").simplify().subs([\n",
    "    (P_r_til, 1)\n",
    "])\n",
    "\n",
    "# sympy.Eq(\n",
    "#     sympy.Function(\"E\")(alpha_til, beta_til, A_r),\n",
    "#     E_tilded,\n",
    "# )\n",
    "\n",
    "sympy.Eq(\n",
    "    sympy.Function(\"E\")(alpha_til, beta_til, k_A_til, k_P_til ,A_r_til),\n",
    "    E_mu_subbed,\n",
    ")"
   ]
  },
  {
   "cell_type": "markdown",
   "id": "69052dc9-a9d5-4400-87f1-7ade33867369",
   "metadata": {},
   "source": [
    "### We can factor out one of the energy coefficients:\n",
    "$$ X = \\tilde{k_A} / \\tilde{k_P} $$\n",
    "$$ \\tilde{k_A} = X \\tilde{k_P} $$"
   ]
  },
  {
   "cell_type": "code",
   "execution_count": 243,
   "id": "ce4b7e9a-3836-4ea5-8876-476a680a5112",
   "metadata": {
    "tags": []
   },
   "outputs": [
    {
     "data": {
      "image/png": "[encoded data removed]",
      "text/latex": [
       "$\\displaystyle E{\\left(\\tilde{\\alpha},\\tilde{\\beta},\\tilde{k_A},\\tilde{k_P},\\tilde{A_r} \\right)} = \\frac{X \\tilde{k_P} \\left(2 \\tilde{A_r} - 3 \\sqrt{3} \\tilde{\\alpha} \\tilde{\\beta}\\right)^{2}}{4} + \\tilde{k_P} \\left(2 \\tilde{\\alpha} + 2 \\sqrt{\\tilde{\\alpha}^{2} + 3 \\tilde{\\beta}^{2}} - 1\\right)^{2}$"
      ],
      "text/plain": [
       "                                                                              \n",
       "                                                                              \n",
       "                                                                          X⋅\\t\n",
       "E(\\tilde{\\alpha}, \\tilde{\\beta}, \\tilde{k_A}, \\tilde{k_P}, \\tilde{A_r}) = ────\n",
       "                                                                              \n",
       "\n",
       "                                                                              \n",
       "                                                             2               ⎛\n",
       "ilde{k_P}⋅(2⋅\\tilde{A_r} - 3⋅√3⋅\\tilde{\\alpha}⋅\\tilde{\\beta})                ⎜\n",
       "────────────────────────────────────────────────────────────── + \\tilde{k_P}⋅⎝\n",
       "                            4                                                 \n",
       "\n",
       "                                                                 2\n",
       "                        ____________________________________    ⎞ \n",
       "                       ╱               2                  2     ⎟ \n",
       "2⋅\\tilde{\\alpha} + 2⋅╲╱  \\tilde{\\alpha}  + 3⋅\\tilde{\\beta}   - 1⎠ \n",
       "                                                                  "
      ]
     },
     "execution_count": 243,
     "metadata": {},
     "output_type": "execute_result"
    }
   ],
   "source": [
    "X_sym = sympy.symbols(\"X\" ,real=True, positive=True)\n",
    "\n",
    "E_tilde_FIRST_step = E_mu_subbed.subs([\n",
    "    (k_A_til, X_sym * k_P_til),\n",
    "])\n",
    "\n",
    "sympy.Eq(\n",
    "    sympy.Function(\"E\")(alpha_til, beta_til, k_A_til, k_P_til ,A_r_til),\n",
    "    E_tilde_FIRST_step\n",
    ")"
   ]
  },
  {
   "cell_type": "markdown",
   "id": "34e73320-00c0-44b4-a7b4-6dd0cd668e3a",
   "metadata": {},
   "source": [
    "### Defining $\\tilde{E} = E/\\tilde{k_P}$"
   ]
  },
  {
   "cell_type": "code",
   "execution_count": 244,
   "id": "00c3c4dd-cbf4-43bd-8247-c040a39027fd",
   "metadata": {
    "tags": []
   },
   "outputs": [
    {
     "data": {
      "image/png": "[encoded data removed]",
      "text/latex": [
       "$\\displaystyle \\tilde{E}{\\left(\\tilde{\\alpha},\\tilde{\\beta},\\tilde{k_A},\\tilde{k_P},\\tilde{A_r} \\right)} = \\frac{X \\left(2 \\tilde{A_r} - 3 \\sqrt{3} \\tilde{\\alpha} \\tilde{\\beta}\\right)^{2}}{4} + \\left(2 \\tilde{\\alpha} + 2 \\sqrt{\\tilde{\\alpha}^{2} + 3 \\tilde{\\beta}^{2}} - 1\\right)^{2}$"
      ],
      "text/plain": [
       "                                                                              \n",
       "                                                                              \n",
       "                                                                              \n",
       "\\tilde{E}(\\tilde{\\alpha}, \\tilde{\\beta}, \\tilde{k_A}, \\tilde{k_P}, \\tilde{A_r}\n",
       "                                                                              \n",
       "\n",
       "                                                                              \n",
       "                                                         2   ⎛                \n",
       "    X⋅(2⋅\\tilde{A_r} - 3⋅√3⋅\\tilde{\\alpha}⋅\\tilde{\\beta})    ⎜                \n",
       ") = ────────────────────────────────────────────────────── + ⎝2⋅\\tilde{\\alpha}\n",
       "                              4                                               \n",
       "\n",
       "                                                 2\n",
       "        ____________________________________    ⎞ \n",
       "       ╱               2                  2     ⎟ \n",
       " + 2⋅╲╱  \\tilde{\\alpha}  + 3⋅\\tilde{\\beta}   - 1⎠ \n",
       "                                                  "
      ]
     },
     "execution_count": 244,
     "metadata": {},
     "output_type": "execute_result"
    }
   ],
   "source": [
    "E_tilded = (E_tilde_FIRST_step / k_P_til).simplify()\n",
    "sympy.Eq(\n",
    "    sympy.Function(r\"\\tilde{E}\")(alpha_til, beta_til, k_A_til, k_P_til ,A_r_til),\n",
    "    E_tilded,\n",
    ")"
   ]
  },
  {
   "cell_type": "markdown",
   "id": "2a6ed302-746e-420e-b295-cfade8f225ab",
   "metadata": {},
   "source": [
    "### What is the poisson ratio?\n",
    "\n",
    "$$\n",
    "\\begin{align}\n",
    "\\frac{\\partial E}{\\partial \\alpha} &= \\frac{\\partial}{\\partial \\alpha} E \\\\\n",
    " &= \\tilde{k_P} \\frac{\\partial}{\\partial \\alpha} \\tilde{E} \\left(  \\tilde{\\alpha}\\left(\\alpha\\right), \\tilde{\\beta}, \\tilde{k_A}, \\tilde{k_P}, \\tilde{A_r}  \\right) \\\\\n",
    " &= \\tilde{k_P} \\frac{\\partial \\tilde{\\alpha}}{\\partial \\alpha} \\frac{\\partial}{\\partial \\tilde{\\alpha}} \\tilde{E} \\left(  \\tilde{\\alpha}\\left(\\alpha\\right), \\tilde{\\beta}, \\tilde{k_A}, \\tilde{k_P}, \\tilde{A_r}  \\right) \\\\\n",
    "\\frac{\\partial E}{\\partial \\alpha} &= \\frac{\\tilde{k_P} }{\\mu}  \\frac{\\partial \\tilde{E}}{\\partial \\tilde{\\alpha}}  \\\\\n",
    "\\end{align}\n",
    "$$\n",
    "Following similar for other derivatives,\n",
    "$$ \\frac{\\partial E}{\\partial \\alpha} = \\frac{ \\tilde{k_P}}{\\mu} \\frac{\\partial \\tilde{E}}{\\partial \\tilde{\\alpha}},\\ \\frac{\\partial E}{\\partial \\beta} = \\frac{ \\tilde{k_P}}{\\mu} \\frac{\\partial \\tilde{E}}{\\partial \\tilde{\\beta}} $$\n",
    "\n",
    "$$ \\frac{\\partial^2 E}{\\partial \\alpha^2} = \\frac{ \\tilde{k_P}}{\\mu^2} \\frac{\\partial^2 \\tilde{E}}{\\partial \\tilde{\\alpha}^2},\\ \\frac{\\partial^2 E}{\\partial \\beta^2} = \\frac{ \\tilde{k_P}}{\\mu^2} \\frac{\\partial^2 \\tilde{E}}{\\partial \\tilde{\\beta}^2},\\ \\frac{\\partial^2 E}{\\partial \\alpha \\partial \\beta} = \\frac{ \\tilde{k_P}}{\\mu^2} \\frac{\\partial^2 \\tilde{E}}{\\partial \\tilde{\\alpha} \\partial \\tilde{\\beta}} $$\n"
   ]
  },
  {
   "cell_type": "markdown",
   "id": "245e0944-9a3c-44e5-b1a0-a8bb8accfebb",
   "metadata": {},
   "source": [
    "\n",
    "So poisson's ratio is the 'same':\n",
    "$$\n",
    "\\begin{align}\n",
    "    \\nu  &=  \\left.\\frac{ \\partial^2 E / \\left(\\partial  \\alpha \\partial \\beta\\right)   }{ \\partial^2 E  / \\partial \\beta^2  }\\right|_{\\alpha=\\beta=\\gamma} \\\\\n",
    "      &=  \\left.\\frac{ \\left( \\tilde{k_P}/\\mu^2 \\right) \\partial^2 \\tilde{E} / \\left(\\partial  \\tilde{\\alpha} \\partial \\tilde{\\beta}\\right)   }{ \\left( \\tilde{k_P}/\\mu^2 \\right) \\partial^2 \\tilde{E}  / \\partial \\tilde{\\beta}^2  }\\right|_{\\tilde{\\alpha}=\\tilde{\\beta}=\\tilde{\\gamma}} \\\\\n",
    "      &=  \\left.\\frac{ \\partial^2 \\tilde{E} / \\left(\\partial  \\tilde{\\alpha} \\partial \\tilde{\\beta}\\right)   }{  \\partial^2 \\tilde{E}  / \\partial \\tilde{\\beta}^2  }\\right|_{\\tilde{\\alpha}=\\tilde{\\beta}=\\tilde{\\gamma}} \\\\\n",
    "     \\nu &= \\tilde{\\nu} \\\\\n",
    "    \\end{align}\n",
    "$$"
   ]
  },
  {
   "cell_type": "markdown",
   "id": "43a15f61-e3ec-4257-ac56-ff6636e1d4f9",
   "metadata": {},
   "source": [
    "### Finding relevant second order derivatives in $\\tilde{E}, $"
   ]
  },
  {
   "cell_type": "code",
   "execution_count": 246,
   "id": "0af9b5cb-1932-4df2-be60-f7940aeb5d0f",
   "metadata": {
    "tags": []
   },
   "outputs": [
    {
     "data": {
      "image/png": "[encoded data removed]",
      "text/latex": [
       "$\\displaystyle \\frac{d^{2}}{d \\tilde{\\beta}d \\tilde{\\alpha}} \\tilde{E} = \\frac{27 X \\tilde{\\alpha} \\tilde{\\beta}}{2} - \\frac{3 \\sqrt{3} X \\left(2 \\tilde{A_r} - 3 \\sqrt{3} \\tilde{\\alpha} \\tilde{\\beta}\\right)}{2} - \\frac{12 \\tilde{\\alpha} \\tilde{\\beta} \\left(2 \\tilde{\\alpha} + 2 \\sqrt{\\tilde{\\alpha}^{2} + 3 \\tilde{\\beta}^{2}} - 1\\right)}{\\left(\\tilde{\\alpha}^{2} + 3 \\tilde{\\beta}^{2}\\right)^{\\frac{3}{2}}} + \\frac{6 \\tilde{\\beta} \\left(\\frac{4 \\tilde{\\alpha}}{\\sqrt{\\tilde{\\alpha}^{2} + 3 \\tilde{\\beta}^{2}}} + 4\\right)}{\\sqrt{\\tilde{\\alpha}^{2} + 3 \\tilde{\\beta}^{2}}}$"
      ],
      "text/plain": [
       "                                                                              \n",
       "                                                                              \n",
       "                                                                              \n",
       "               2                                                              \n",
       "              d                             27⋅X⋅\\tilde{\\alpha}⋅\\tilde{\\beta} \n",
       "──────────────────────────────(\\tilde{E}) = ───────────────────────────────── \n",
       "d\\tilde{\\beta} d\\tilde{\\alpha}                              2                 \n",
       "                                                                              \n",
       "                                                                              \n",
       "\n",
       "                                                                              \n",
       "                                                                              \n",
       "                                                                              \n",
       "                                                                              \n",
       "  3⋅√3⋅X⋅(2⋅\\tilde{A_r} - 3⋅√3⋅\\tilde{\\alpha}⋅\\tilde{\\beta})   12⋅\\tilde{\\alph\n",
       "- ────────────────────────────────────────────────────────── - ───────────────\n",
       "                              2                                               \n",
       "                                                                              \n",
       "                                                                              \n",
       "\n",
       "                                                                              \n",
       "                                                                              \n",
       "                 ⎛                        ____________________________________\n",
       "                 ⎜                       ╱               2                  2 \n",
       "a}⋅\\tilde{\\beta}⋅⎝2⋅\\tilde{\\alpha} + 2⋅╲╱  \\tilde{\\alpha}  + 3⋅\\tilde{\\beta}  \n",
       "──────────────────────────────────────────────────────────────────────────────\n",
       "                                                  3/2                         \n",
       "              ⎛              2                  2⎞                            \n",
       "              ⎝\\tilde{\\alpha}  + 3⋅\\tilde{\\beta} ⎠                            \n",
       "\n",
       "                        ⎛            4⋅\\tilde{\\alpha}               ⎞\n",
       "        6⋅\\tilde{\\beta}⋅⎜─────────────────────────────────────── + 4⎟\n",
       "    ⎞                   ⎜   ____________________________________    ⎟\n",
       "    ⎟                   ⎜  ╱               2                  2     ⎟\n",
       " - 1⎠                   ⎝╲╱  \\tilde{\\alpha}  + 3⋅\\tilde{\\beta}      ⎠\n",
       "───── + ─────────────────────────────────────────────────────────────\n",
       "                      ____________________________________           \n",
       "                     ╱               2                  2            \n",
       "                   ╲╱  \\tilde{\\alpha}  + 3⋅\\tilde{\\beta}             "
      ]
     },
     "execution_count": 246,
     "metadata": {},
     "output_type": "execute_result"
    }
   ],
   "source": [
    "d2E_til_dalpha_til_dbeta_til = E_tilded.diff(alpha_til).diff(beta_til)\n",
    "\n",
    "sympy.Eq(\n",
    "    sympy.Derivative(sympy.symbols(r\"\\tilde{E}\"), alpha_til, beta_til),\n",
    "    d2E_til_dalpha_til_dbeta_til,\n",
    ")"
   ]
  },
  {
   "cell_type": "code",
   "execution_count": 247,
   "id": "4bc5cb6c-c516-40b2-b464-7a39556b6cc1",
   "metadata": {
    "tags": []
   },
   "outputs": [
    {
     "data": {
      "image/png": "[encoded data removed]",
      "text/latex": [
       "$\\displaystyle \\frac{d^{2}}{d \\tilde{\\beta}^{2}} \\tilde{E} = \\frac{27 X \\tilde{\\alpha}^{2}}{2} + \\frac{72 \\tilde{\\beta}^{2}}{\\tilde{\\alpha}^{2} + 3 \\tilde{\\beta}^{2}} - \\frac{36 \\tilde{\\beta}^{2} \\cdot \\left(2 \\tilde{\\alpha} + 2 \\sqrt{\\tilde{\\alpha}^{2} + 3 \\tilde{\\beta}^{2}} - 1\\right)}{\\left(\\tilde{\\alpha}^{2} + 3 \\tilde{\\beta}^{2}\\right)^{\\frac{3}{2}}} + \\frac{12 \\cdot \\left(2 \\tilde{\\alpha} + 2 \\sqrt{\\tilde{\\alpha}^{2} + 3 \\tilde{\\beta}^{2}} - 1\\right)}{\\sqrt{\\tilde{\\alpha}^{2} + 3 \\tilde{\\beta}^{2}}}$"
      ],
      "text/plain": [
       "                                                                              \n",
       "        2                                       2                           2 \n",
       "       d                     27⋅X⋅\\tilde{\\alpha}            72⋅\\tilde{\\beta}  \n",
       "───────────────(\\tilde{E}) = ──────────────────── + ──────────────────────────\n",
       "              2                       2                           2           \n",
       "d\\tilde{\\beta}                                      \\tilde{\\alpha}  + 3⋅\\tilde\n",
       "                                                                              \n",
       "\n",
       "                             ⎛                        ________________________\n",
       "                           2 ⎜                       ╱               2        \n",
       "           36⋅\\tilde{\\beta} ⋅⎝2⋅\\tilde{\\alpha} + 2⋅╲╱  \\tilde{\\alpha}  + 3⋅\\ti\n",
       "──────── - ───────────────────────────────────────────────────────────────────\n",
       "       2                                                             3/2      \n",
       "{\\beta}                          ⎛              2                  2⎞         \n",
       "                                 ⎝\\tilde{\\alpha}  + 3⋅\\tilde{\\beta} ⎠         \n",
       "\n",
       "____________    ⎞      ⎛                        ______________________________\n",
       "          2     ⎟      ⎜                       ╱               2              \n",
       "lde{\\beta}   - 1⎠   12⋅⎝2⋅\\tilde{\\alpha} + 2⋅╲╱  \\tilde{\\alpha}  + 3⋅\\tilde{\\b\n",
       "───────────────── + ──────────────────────────────────────────────────────────\n",
       "                                      ____________________________________    \n",
       "                                     ╱               2                  2     \n",
       "                                   ╲╱  \\tilde{\\alpha}  + 3⋅\\tilde{\\beta}      \n",
       "\n",
       "______    ⎞\n",
       "    2     ⎟\n",
       "eta}   - 1⎠\n",
       "───────────\n",
       "           \n",
       "           \n",
       "           "
      ]
     },
     "execution_count": 247,
     "metadata": {},
     "output_type": "execute_result"
    }
   ],
   "source": [
    "d2E_til_d2beta_til = E_tilded.diff(beta_til).diff(beta_til)\n",
    "\n",
    "sympy.Eq(\n",
    "    sympy.Derivative(sympy.symbols(r\"\\tilde{E}\"), beta_til, beta_til),\n",
    "    d2E_til_d2beta_til,\n",
    ")"
   ]
  },
  {
   "cell_type": "markdown",
   "id": "09b2235a-670c-4f8e-af6f-3665ccca716e",
   "metadata": {},
   "source": [
    "### So poisson ratio should be given at $\\tilde{\\alpha}_{eq}, \\tilde{\\beta}_{eq}$ by:"
   ]
  },
  {
   "cell_type": "code",
   "execution_count": 248,
   "id": "ea8d6d25-daf7-4d59-8c51-2589ec5d341e",
   "metadata": {
    "tags": []
   },
   "outputs": [
    {
     "data": {
      "image/png": "[encoded data removed]",
      "text/latex": [
       "$\\displaystyle \\tilde{\\nu} = \\frac{2 \\left(- \\sqrt{3} X \\tilde{A_r} \\tilde{\\alpha}^{4} - 6 \\sqrt{3} X \\tilde{A_r} \\tilde{\\alpha}^{2} \\tilde{\\beta}^{2} - 9 \\sqrt{3} X \\tilde{A_r} \\tilde{\\beta}^{4} + 9 X \\tilde{\\alpha}^{5} \\tilde{\\beta} + 54 X \\tilde{\\alpha}^{3} \\tilde{\\beta}^{3} + 81 X \\tilde{\\alpha} \\tilde{\\beta}^{5} + 4 \\tilde{\\alpha} \\tilde{\\beta} \\sqrt{\\tilde{\\alpha}^{2} + 3 \\tilde{\\beta}^{2}} + 24 \\tilde{\\beta}^{3} \\sqrt{\\tilde{\\alpha}^{2} + 3 \\tilde{\\beta}^{2}}\\right)}{9 X \\tilde{\\alpha}^{6} + 54 X \\tilde{\\alpha}^{4} \\tilde{\\beta}^{2} + 81 X \\tilde{\\alpha}^{2} \\tilde{\\beta}^{4} + 16 \\tilde{\\alpha}^{4} + 16 \\tilde{\\alpha}^{3} \\sqrt{\\tilde{\\alpha}^{2} + 3 \\tilde{\\beta}^{2}} + 96 \\tilde{\\alpha}^{2} \\tilde{\\beta}^{2} - 8 \\tilde{\\alpha}^{2} \\sqrt{\\tilde{\\alpha}^{2} + 3 \\tilde{\\beta}^{2}} + 144 \\tilde{\\beta}^{4}}$"
      ],
      "text/plain": [
       "                ⎛                                                             \n",
       "                ⎜                                 4                           \n",
       "              2⋅⎝- √3⋅X⋅\\tilde{A_r}⋅\\tilde{\\alpha}  - 6⋅√3⋅X⋅\\tilde{A_r}⋅\\tild\n",
       "\\tilde{\\nu} = ────────────────────────────────────────────────────────────────\n",
       "                                                                              \n",
       "                                                                      6       \n",
       "                                                    9⋅X⋅\\tilde{\\alpha}  + 54⋅X\n",
       "\n",
       "                                                                              \n",
       "         2              2                                   4                 \n",
       "e{\\alpha} ⋅\\tilde{\\beta}  - 9⋅√3⋅X⋅\\tilde{A_r}⋅\\tilde{\\beta}  + 9⋅X⋅\\tilde{\\al\n",
       "──────────────────────────────────────────────────────────────────────────────\n",
       "                                                                              \n",
       "               4              2                      2              4         \n",
       "⋅\\tilde{\\alpha} ⋅\\tilde{\\beta}  + 81⋅X⋅\\tilde{\\alpha} ⋅\\tilde{\\beta}  + 16⋅\\ti\n",
       "\n",
       "                                                                              \n",
       "    5                                    3              3                     \n",
       "pha} ⋅\\tilde{\\beta} + 54⋅X⋅\\tilde{\\alpha} ⋅\\tilde{\\beta}  + 81⋅X⋅\\tilde{\\alpha\n",
       "──────────────────────────────────────────────────────────────────────────────\n",
       "                                     ____________________________________     \n",
       "           4                    3   ╱               2                  2      \n",
       "lde{\\alpha}  + 16⋅\\tilde{\\alpha} ⋅╲╱  \\tilde{\\alpha}  + 3⋅\\tilde{\\beta}   + 96\n",
       "\n",
       "                                                     _________________________\n",
       "               5                                    ╱               2         \n",
       "}⋅\\tilde{\\beta}  + 4⋅\\tilde{\\alpha}⋅\\tilde{\\beta}⋅╲╱  \\tilde{\\alpha}  + 3⋅\\til\n",
       "──────────────────────────────────────────────────────────────────────────────\n",
       "                                                       _______________________\n",
       "               2              2                   2   ╱               2       \n",
       "⋅\\tilde{\\alpha} ⋅\\tilde{\\beta}  - 8⋅\\tilde{\\alpha} ⋅╲╱  \\tilde{\\alpha}  + 3⋅\\t\n",
       "\n",
       "___________                        ____________________________________⎞\n",
       "         2                    3   ╱               2                  2 ⎟\n",
       "de{\\beta}   + 24⋅\\tilde{\\beta} ⋅╲╱  \\tilde{\\alpha}  + 3⋅\\tilde{\\beta}  ⎠\n",
       "────────────────────────────────────────────────────────────────────────\n",
       "_____________                                                           \n",
       "           2                     4                                      \n",
       "ilde{\\beta}   + 144⋅\\tilde{\\beta}                                       "
      ]
     },
     "execution_count": 248,
     "metadata": {},
     "output_type": "execute_result"
    }
   ],
   "source": [
    "poisson_tilde_NOT_gam_subbed = (d2E_til_dalpha_til_dbeta_til / d2E_til_d2beta_til).simplify()\n",
    "\n",
    "sympy.Eq(\n",
    "    sympy.symbols(r\"\\tilde{\\nu}\"),\n",
    "    poisson_tilde_NOT_gam_subbed,\n",
    ")"
   ]
  },
  {
   "cell_type": "markdown",
   "id": "7aa7447e-2cb5-459b-b6b9-e6e08db1ee4e",
   "metadata": {},
   "source": [
    "### We are evaluating poisson ratio at $\\tilde{\\alpha}_{eq} = \\tilde{\\beta}_{eq} = \\tilde{\\gamma}_{eq}$:"
   ]
  },
  {
   "cell_type": "code",
   "execution_count": 249,
   "id": "735b7b09-4077-4ed7-819f-3f07873af385",
   "metadata": {
    "tags": []
   },
   "outputs": [
    {
     "data": {
      "image/png": "[encoded data removed]",
      "text/latex": [
       "$\\displaystyle \\tilde{\\nu}{\\left(\\tilde{\\gamma}_{eq}{\\left(\\tilde{A_r},X \\right)},\\tilde{A_r},X \\right)} = \\frac{- 2 \\sqrt{3} X \\tilde{A_r} \\tilde{\\gamma}_{eq} + 18 X \\tilde{\\gamma}_{eq}^{3} + 6 \\tilde{\\gamma}_{eq} + 1}{9 X \\tilde{\\gamma}_{eq}^{3} + 18 \\tilde{\\gamma}_{eq} - 1}$"
      ],
      "text/plain": [
       "                                                                              \n",
       "                                                                   -2⋅√3⋅X⋅\\ti\n",
       "\\tilde{\\nu}(\\tilde{\\gamma}_{eq}(\\tilde{A_r}, X), \\tilde{A_r}, X) = ───────────\n",
       "                                                                              \n",
       "                                                                              \n",
       "\n",
       "                                                       3                      \n",
       "lde{A_r}⋅\\tilde{\\gamma}_{eq} + 18⋅X⋅\\tilde{\\gamma}_{eq}  + 6⋅\\tilde{\\gamma}_{e\n",
       "──────────────────────────────────────────────────────────────────────────────\n",
       "                                 3                                            \n",
       "          9⋅X⋅\\tilde{\\gamma}_{eq}  + 18⋅\\tilde{\\gamma}_{eq} - 1               \n",
       "\n",
       "      \n",
       "q} + 1\n",
       "──────\n",
       "      \n",
       "      "
      ]
     },
     "execution_count": 249,
     "metadata": {},
     "output_type": "execute_result"
    }
   ],
   "source": [
    "gamma_til = sympy.symbols(r\"\\tilde{\\gamma}\", real=True, positive=True)\n",
    "\n",
    "poisson_tilde_of_gamma = poisson_tilde_NOT_gam_subbed.subs([\n",
    "    (alpha_til, gamma_til),\n",
    "    (beta_til, gamma_til),\n",
    "]).simplify()\n",
    "\n",
    "sympy.Eq(\n",
    "    sympy.Function(r\"\\tilde{\\nu}\")(\n",
    "        sympy.Function(r\"\\tilde{\\gamma}_{eq}\")(A_r_til, X_sym),\n",
    "        A_r_til,\n",
    "        X_sym,\n",
    "    ),\n",
    "    poisson_tilde_of_gamma.subs([\n",
    "        (gamma_til , sympy.symbols(r\"\\tilde{\\gamma}_{eq}\")),\n",
    "    ]),\n",
    ")"
   ]
  },
  {
   "cell_type": "markdown",
   "id": "d00666f9-1499-457c-a2da-0ce73247f044",
   "metadata": {},
   "source": [
    "### We find the equilibrium gamma like this:\n",
    "$$ \\tilde{E}(\\gamma) = \\tilde{E}(\\alpha=\\gamma ,\\beta=\\gamma) $$\n",
    "The energy minimum in gamma will satisfy:\n",
    "$$ d\\tilde{E}/d\\tilde{\\gamma} = 0 $$"
   ]
  },
  {
   "cell_type": "code",
   "execution_count": 250,
   "id": "3a2cd4f1-6e3d-486b-bdea-dac6291e57af",
   "metadata": {
    "tags": []
   },
   "outputs": [
    {
     "data": {
      "image/png": "[encoded data removed]",
      "text/latex": [
       "$\\displaystyle \\frac{d}{d \\tilde{\\gamma}} \\tilde{E}{\\left(\\tilde{\\gamma} \\right)} = - 6 \\sqrt{3} X \\tilde{A_r} \\tilde{\\gamma} + 27 X \\tilde{\\gamma}^{3} + 72 \\tilde{\\gamma} - 12$"
      ],
      "text/plain": [
       "       d                                                                      \n",
       "───────────────(\\tilde{E}(\\tilde{\\gamma})) = -6⋅√3⋅X⋅\\tilde{A_r}⋅\\tilde{\\gamma\n",
       "d\\tilde{\\gamma}                                                               \n",
       "\n",
       "                       3                         \n",
       "} + 27⋅X⋅\\tilde{\\gamma}  + 72⋅\\tilde{\\gamma} - 12\n",
       "                                                 "
      ]
     },
     "execution_count": 250,
     "metadata": {},
     "output_type": "execute_result"
    }
   ],
   "source": [
    "dE_til_iso_dgamma = E_tilded.subs([\n",
    "    (alpha_til, gamma_til),\n",
    "    (beta_til, gamma_til),\n",
    "]).diff(gamma_til).expand()\n",
    "\n",
    "sympy.Eq(\n",
    "    sympy.Derivative(sympy.Function(r\"\\tilde{E}\")(gamma_til), gamma_til),\n",
    "    dE_til_iso_dgamma\n",
    ")"
   ]
  },
  {
   "cell_type": "code",
   "execution_count": 251,
   "id": "178d410e-9ee9-4906-bf11-e83fcd2b713f",
   "metadata": {
    "tags": []
   },
   "outputs": [
    {
     "data": {
      "image/png": "[encoded data removed]",
      "text/latex": [
       "$\\displaystyle - 6 \\sqrt{3} X \\tilde{A_r} \\tilde{\\gamma}_{eq} + 27 X \\tilde{\\gamma}_{eq}^{3} + 72 \\tilde{\\gamma}_{eq} - 12 = 0$"
      ],
      "text/plain": [
       "                                                                  3           \n",
       "-6⋅√3⋅X⋅\\tilde{A_r}⋅\\tilde{\\gamma}_{eq} + 27⋅X⋅\\tilde{\\gamma}_{eq}  + 72⋅\\tild\n",
       "\n",
       "                       \n",
       "e{\\gamma}_{eq} - 12 = 0"
      ]
     },
     "execution_count": 251,
     "metadata": {},
     "output_type": "execute_result"
    }
   ],
   "source": [
    "sympy.Eq(\n",
    "    dE_til_iso_dgamma.subs([\n",
    "        (gamma_til , sympy.symbols(r\"\\tilde{\\gamma}_{eq}\")),\n",
    "    ]),\n",
    "    0\n",
    ")"
   ]
  },
  {
   "cell_type": "markdown",
   "id": "d1805f13-f2d9-4a0a-8dbf-b773ab615b19",
   "metadata": {},
   "source": [
    "# Making code to find $\\tilde{\\gamma}_{eq}$"
   ]
  },
  {
   "cell_type": "code",
   "execution_count": 252,
   "id": "8c66ce86-e727-46a7-ac54-f514318ad6a7",
   "metadata": {
    "tags": []
   },
   "outputs": [],
   "source": [
    "lambdified_dE_dgam_tilde = sympy.lambdify((gamma_til, X_sym, A_r_til), dE_til_iso_dgamma)"
   ]
  },
  {
   "cell_type": "code",
   "execution_count": 253,
   "id": "20cdd3be-378e-4d10-9f9f-788133055f92",
   "metadata": {
    "tags": []
   },
   "outputs": [],
   "source": [
    "# lambdified_dE_dgam_tilde(0,0,0)\n",
    "from matplotlib import pyplot as plt\n",
    "import scipy.optimize"
   ]
  },
  {
   "cell_type": "markdown",
   "id": "adfb292f-669b-4623-bc6a-77b54ac2c5f9",
   "metadata": {},
   "source": [
    "#### getting the coefficients of the cubic function of $\\tilde{gamma}_{eq}$"
   ]
  },
  {
   "cell_type": "code",
   "execution_count": 254,
   "id": "dd403d68-cbfc-432e-9a52-b953a99c9efb",
   "metadata": {
    "tags": []
   },
   "outputs": [
    {
     "data": {
      "text/latex": [
       "$\\displaystyle \\operatorname{Poly}{\\left( 27 X \\tilde{\\gamma}^{3} + \\left(- 6 \\sqrt{3} X \\tilde{A_r} + 72\\right) \\tilde{\\gamma} - 12, \\tilde{\\gamma}, domain=\\mathtt{\\text{EX}} \\right)}$"
      ],
      "text/plain": [
       "Poly(27*X*\\tilde{\\gamma}**3 + (-6*sqrt(3)*X*\\tilde{A_r} + 72)*\\tilde{\\gamma} -\n",
       " 12, \\tilde{\\gamma}, domain='EX')"
      ]
     },
     "execution_count": 254,
     "metadata": {},
     "output_type": "execute_result"
    }
   ],
   "source": [
    "dE_dgam_polynomial = sympy.Poly(dE_til_iso_dgamma, gamma_til)\n",
    "\n",
    "assert dE_dgam_polynomial.degree() == 3, \"should be a cubic polynomial\"\n",
    "\n",
    "dE_dgam_polynomial\n",
    "# assert dE_dgam_polynomial.degree() == 3, dE_dgam_polynomial.degree()"
   ]
  },
  {
   "cell_type": "code",
   "execution_count": 255,
   "id": "c6ee6c8f-0017-4408-a0ee-4164bf56f13b",
   "metadata": {
    "tags": []
   },
   "outputs": [],
   "source": [
    "# \n",
    "dE_dgam_coeff_functions = []\n",
    "for coeff_sym in dE_dgam_polynomial.all_coeffs():\n",
    "    dE_dgam_coeff_functions.append(\n",
    "        sympy.lambdify((X_sym, A_r_til), coeff_sym)\n",
    "    )\n",
    "# dE_dgam_polynomial\n",
    "# .degree()\n",
    "# dE_dgam_coeff_functions"
   ]
  },
  {
   "cell_type": "code",
   "execution_count": 256,
   "id": "d145da21-ef5f-4b63-b607-801a099894d4",
   "metadata": {
    "tags": []
   },
   "outputs": [],
   "source": [
    "import numpy as np\n",
    "\n",
    "def find_gamma_eq_tilde_numeric(X_value, A_r_til_value):\n",
    "    cubic_coeffs = [coeff_f(X_value, A_r_til_value) for coeff_f in dE_dgam_coeff_functions]\n",
    "    np_roots = np.roots(cubic_coeffs)\n",
    "    ### We need to find the roots of \n",
    "    # pass\n",
    "    roots_imaginary_proportion = np.abs(np_roots.imag / np_roots.real)\n",
    "    real_pos_roots_mask = (roots_imaginary_proportion < 0.000001) * (np_roots.real > 0)\n",
    "    \n",
    "    \n",
    "    \n",
    "    if real_pos_roots_mask.sum() != 1:\n",
    "        print(np_roots)\n",
    "        raise ValueError(\"Failed to find real root\")\n",
    "    return np_roots[real_pos_roots_mask][0].real\n",
    "    # return np_roots\n",
    "\n",
    "\n",
    "# find_gamma_eq_tilde_numeric(1, 100)"
   ]
  },
  {
   "cell_type": "code",
   "execution_count": 273,
   "id": "5cac1a04-e3f5-4e0a-b524-d5ba328cb4ca",
   "metadata": {
    "tags": []
   },
   "outputs": [
    {
     "data": {
      "image/png": "[encoded data removed]",
      "text/plain": [
       "<Figure size 640x480 with 2 Axes>"
      ]
     },
     "metadata": {},
     "output_type": "display_data"
    }
   ],
   "source": [
    "\n",
    "from matplotlib.colors import LogNorm\n",
    "from matplotlib.ticker import LogFormatterMathtext\n",
    "\n",
    "def plot_gamma_eq_2d():\n",
    "    Xratio_range = (0.001, 1000)\n",
    "    \n",
    "    ## A_r_tilde = A_r/(P_r)^2\n",
    "    A_r_til_range = (0.07222222222*0.1 ,0.07222222222*20)\n",
    "    \n",
    "    Xratio_vals, A_r_til_vals = np.meshgrid(\n",
    "        np.logspace(\n",
    "            np.log10(Xratio_range[0]),\n",
    "            np.log10(Xratio_range[1]),\n",
    "            20,\n",
    "        ),\n",
    "        np.logspace(\n",
    "            np.log10(A_r_til_range[0]),\n",
    "            np.log10(A_r_til_range[1]),\n",
    "            20,\n",
    "        ),\n",
    "    )\n",
    "#     delta = 0.3\n",
    "#     x = y = np.arange(0, 10, delta)\n",
    "#     X, Y = np.meshgrid(x, y)\n",
    "    \n",
    "    res_Z = np.zeros_like(Xratio_vals,dtype=float)\n",
    "    \n",
    "    for i in range(Xratio_vals.shape[0]):\n",
    "        for j in range(Xratio_vals.shape[1]):\n",
    "            res_Z[i][j] = find_gamma_eq_tilde_numeric(\n",
    "                Xratio_vals[i][j],\n",
    "                A_r_til_vals[i][j],\n",
    "            )\n",
    "            \n",
    "#     # Z1 = np.exp(-X**2 - Y**2)\n",
    "    fig, ax = plt.subplots()\n",
    "\n",
    "    im = ax.pcolormesh(Xratio_vals, A_r_til_vals,res_Z, cmap='viridis' , norm=LogNorm())\n",
    "    # plt.axvline(100, color='red')\n",
    "\n",
    "    ax.set_xscale('log')\n",
    "    ax.set_yscale('log')\n",
    "\n",
    "    # plt.colorbar(im, orientation='horizontal',format=LogFormatterMathtext())\n",
    "    # plt.show()\n",
    "#     # Z2 = np.exp(-(X - 1)**2 - (Y - 1)**2)\n",
    "#     # Z = (Z1 - Z2) * 2\n",
    "\n",
    "#     fig, ax = plt.subplots()\n",
    "#     im = ax.imshow(res_Z, interpolation='bilinear',\n",
    "#                    origin='lower')\n",
    "    \n",
    "    ax.set_xlabel(r\"$A_r/P_r^2$\")\n",
    "    ax.set_ylabel(r\"$k_A/k_P$\")\n",
    "    ax.axvline(np.sqrt(3)/24, c='w')\n",
    "    cbar  =fig.colorbar(im, orientation='vertical', label=r\"$\\gamma_{eq}/P_r$\", format=LogFormatterMathtext())\n",
    "    # cbar.set_\n",
    "    cbar.ax.axhline(1/6, c='w')\n",
    "\n",
    "    plt.show()\n",
    "    # return res_Z\n",
    "\n",
    "\n",
    "plot_gamma_eq_2d()"
   ]
  },
  {
   "cell_type": "markdown",
   "id": "aa8f95f3-3f8c-4be9-a62b-8118522a2806",
   "metadata": {
    "tags": []
   },
   "source": [
    "### note:\n",
    "$$ P = 6\\gamma $$\n",
    "$$ A = \\frac{3\\sqrt{3}}{2}\\gamma^2 $$\n",
    "\n",
    "So, showing line where $A_{rest}$ and $P_{rest}$ correspond to the same gamma:\n",
    "$$ A \\cdot  \\frac{2}{3\\sqrt{3}} = \\gamma_{eq}^2 $$\n",
    "$$ \\frac{1}{36} P_{rest}^2 = \\gamma_{eq}^2 $$\n",
    "$$ A \\cdot  \\frac{2}{3\\sqrt{3}} = \\frac{1}{36} P_{rest}^2  $$\n",
    "$$ \\frac{A}{P_{rest}^2} =  \\frac{\\sqrt{3}}{24}  $$"
   ]
  },
  {
   "cell_type": "code",
   "execution_count": null,
   "id": "c1570c9d-50c0-4218-a999-3adb2dc3c302",
   "metadata": {},
   "outputs": [],
   "source": []
  }
 ],
 "metadata": {
  "kernelspec": {
   "display_name": "Python 3 (ipykernel)",
   "language": "python",
   "name": "python3"
  },
  "language_info": {
   "codemirror_mode": {
    "name": "ipython",
    "version": 3
   },
   "file_extension": ".py",
   "mimetype": "text/x-python",
   "name": "python",
   "nbconvert_exporter": "python",
   "pygments_lexer": "ipython3",
   "version": "3.11.5"
  }
 },
 "nbformat": 4,
 "nbformat_minor": 5
}
