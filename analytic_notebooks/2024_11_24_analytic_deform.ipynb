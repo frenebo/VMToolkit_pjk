{
 "cells": [
  {
   "cell_type": "code",
   "execution_count": null,
   "id": "37ac6b34-cca2-4883-a1b4-8ac7469ffc83",
   "metadata": {},
   "outputs": [],
   "source": []
  },
  {
   "cell_type": "markdown",
   "id": "1c9f85ea-7f3e-4073-8300-067e2f672036",
   "metadata": {},
   "source": [
    "## What is poisson ratio for vertex model?\n",
    "\n",
    "Here is the model:\n",
    "\n",
    "$$ E = k_A \\left(A-A_r\\right)^2 + k_P \\left(P - P_r\\right)^2 $$"
   ]
  },
  {
   "cell_type": "markdown",
   "id": "38d73d61-ed3c-4554-98f6-693dbf263bd0",
   "metadata": {
    "jp-MarkdownHeadingCollapsed": true,
    "tags": []
   },
   "source": [
    "### What does the cell look like?\n",
    "![title](2024_11_22_analytic_deform_img/diagram-20241122.png)\n",
    "\n"
   ]
  },
  {
   "cell_type": "markdown",
   "id": "edded8c3-30f9-4054-8a30-2edc71c3103d",
   "metadata": {},
   "source": [
    "### Finding the area and the perimeter:\n",
    "We can set $l_i$ to one, since we can just replace it with alpha and beta - which can directly represent dimenions of the hexagon.\n",
    "$$ A = 6 \\cdot A_{triangle} = 6 \\cdot \\frac{1}{2} \\left[\\alpha \\cdot \\beta \\frac{\\sqrt{3}}{2}\\right] $$\n",
    "$$ A\\left(\\alpha, \\beta\\right) = \\frac{3\\sqrt{3}}{2}\\alpha  \\beta $$"
   ]
  },
  {
   "cell_type": "markdown",
   "id": "a74e47ff-22ff-4ffd-af71-8227ba9de848",
   "metadata": {},
   "source": [
    "$$ P = 2 \\cdot \\left[\\alpha\\right] + 4 \\left[\\frac{1}{2} \\sqrt{\\alpha^2 + 3 \\beta^2} \\right] $$\n",
    "$$ P\\left(\\alpha, \\beta\\right) = 2 \\alpha + 2 \\sqrt{\\alpha^2 + 3 \\beta^2}  $$"
   ]
  },
  {
   "cell_type": "markdown",
   "id": "894213c8-32d0-47f3-a9ed-bacc09424626",
   "metadata": {},
   "source": [
    "## Using sympy to define stuff"
   ]
  },
  {
   "cell_type": "code",
   "execution_count": 1,
   "id": "4dcbcea5-6354-40bb-b029-e858fc400857",
   "metadata": {},
   "outputs": [
    {
     "data": {
      "image/png": "[encoded data removed]",
      "text/latex": [
       "$\\displaystyle E{\\left(\\alpha,\\beta,A_{r},P_{r},k_{A},k_{P} \\right)} = k_{A} \\left(- A_{r} + \\frac{3 \\sqrt{3} \\alpha \\beta}{2}\\right)^{2} + k_{P} \\left(- P_{r} + 2 \\alpha + 2 \\sqrt{\\alpha^{2} + 3 \\beta^{2}}\\right)^{2}$"
      ],
      "text/plain": [
       "                                                                               ↪\n",
       "                                                2       ⎛                 ____ ↪\n",
       "                                ⎛      3⋅√3⋅α⋅β⎞        ⎜                ╱  2  ↪\n",
       "E(α, β, Aᵣ, Pᵣ, k_A, k_P) = k_A⋅⎜-Aᵣ + ────────⎟  + k_P⋅⎝-Pᵣ + 2⋅α + 2⋅╲╱  α   ↪\n",
       "                                ⎝         2    ⎠                               ↪\n",
       "\n",
       "↪         2\n",
       "↪ _______⎞ \n",
       "↪      2 ⎟ \n",
       "↪ + 3⋅β  ⎠ \n",
       "↪          "
      ]
     },
     "execution_count": 1,
     "metadata": {},
     "output_type": "execute_result"
    }
   ],
   "source": [
    "import sympy\n",
    "sympy.init_printing()\n",
    "\n",
    "def create_area_symexp(\n",
    "    s_alpha,\n",
    "    s_beta,\n",
    "):\n",
    "    s_A = (sympy.sqrt(3)*3/2)*s_alpha*s_beta\n",
    "    return s_A\n",
    "\n",
    "def create_perim_symexp(\n",
    "    s_alpha,\n",
    "    s_beta,\n",
    "):\n",
    "    s_P = 2*s_alpha + 2*sympy.sqrt(s_alpha**2 + 3 * s_beta**2)\n",
    "    return s_P\n",
    "\n",
    "def area_energy_symexp(\n",
    "    s_alpha,\n",
    "    s_beta,\n",
    "    s_Area_rest,\n",
    "    s_k_A,\n",
    "):\n",
    "    s_Area = create_area_symexp(s_alpha, s_beta)\n",
    "    return s_k_A * (s_Area - s_Area_rest)**2\n",
    "    pass\n",
    "\n",
    "def perimeter_energy_symexp(\n",
    "    s_alpha,\n",
    "    s_beta,\n",
    "    s_P_r,\n",
    "    s_k_P,\n",
    "):\n",
    "    s_Perimeter = create_perim_symexp(s_alpha, s_beta)\n",
    "    return s_k_P * (s_Perimeter - s_P_r)**2\n",
    "    \n",
    "\n",
    "def create_energy_symexp(\n",
    "    s_alpha,\n",
    "    s_beta,\n",
    "    s_Area_rest,\n",
    "    s_Perimeter_rest,\n",
    "    s_k_A,\n",
    "    s_k_P,\n",
    "):\n",
    "    s_E_area = area_energy_symexp(s_alpha, s_beta, s_Area_rest, s_k_A)\n",
    "    s_E_perim = perimeter_energy_symexp(s_alpha, s_beta, s_Perimeter_rest, s_k_P)\n",
    "    \n",
    "    \n",
    "    s_E = s_E_area + s_E_perim\n",
    "    \n",
    "    return s_E\n",
    "    \n",
    "\n",
    "alpha, beta = sympy.symbols(\"alpha beta\", real=True, positive=True)\n",
    "A_r, P_r = sympy.symbols(\"A_r P_r\", real=True, positive=True)\n",
    "k_A, k_P = sympy.symbols(\"k_A k_P\", real=True)\n",
    "\n",
    "energy_basic = create_energy_symexp(\n",
    "    alpha,beta, A_r, P_r, k_A, k_P,\n",
    ")\n",
    "\n",
    "sympy.Eq(\n",
    "    sympy.Function('E')(alpha, beta, A_r, P_r, k_A, k_P),\n",
    "    energy_basic,\n",
    ")\n",
    "\n",
    "# A_r.is_real"
   ]
  },
  {
   "cell_type": "markdown",
   "id": "fb2dd314-a3c4-4605-bcbf-870be748cb4f",
   "metadata": {},
   "source": [
    "## Holding the x and y stretching equal:\n",
    "$$ \\alpha = \\beta = \\gamma $$"
   ]
  },
  {
   "cell_type": "code",
   "execution_count": 2,
   "id": "daedbab5-b35d-4300-bad8-7ebcea764f98",
   "metadata": {
    "tags": []
   },
   "outputs": [
    {
     "data": {
      "image/png": "[encoded data removed]",
      "text/latex": [
       "$\\displaystyle E{\\left(\\gamma,A_{r},P_{r},k_{A},k_{P} \\right)} = k_{A} \\left(- A_{r} + \\frac{3 \\sqrt{3} \\gamma^{2}}{2}\\right)^{2} + k_{P} \\left(- P_{r} + 6 \\gamma\\right)^{2}$"
      ],
      "text/plain": [
       "                                            2                   \n",
       "                             ⎛            2⎞                    \n",
       "                             ⎜      3⋅√3⋅γ ⎟                   2\n",
       "E(γ, Aᵣ, Pᵣ, k_A, k_P) = k_A⋅⎜-Aᵣ + ───────⎟  + k_P⋅(-Pᵣ + 6⋅γ) \n",
       "                             ⎝         2   ⎠                    "
      ]
     },
     "execution_count": 2,
     "metadata": {},
     "output_type": "execute_result"
    }
   ],
   "source": [
    "gamma = sympy.symbols(\"gamma\" , real=True ,positive=True)\n",
    "energy_iso = energy_basic.subs([\n",
    "    (alpha, gamma),\n",
    "    (beta, gamma),\n",
    "])\n",
    "\n",
    "sympy.Eq(\n",
    "    sympy.Function('E')(gamma, A_r, P_r, k_A, k_P),\n",
    "    energy_iso,\n",
    ")"
   ]
  },
  {
   "cell_type": "markdown",
   "id": "6bf381e5-38df-4a81-b00a-960dc747b3e7",
   "metadata": {},
   "source": [
    "### Expanding the energy::"
   ]
  },
  {
   "cell_type": "code",
   "execution_count": 3,
   "id": "983e290a-7b9e-48d8-b0dc-bed02befb5a5",
   "metadata": {
    "tags": []
   },
   "outputs": [
    {
     "data": {
      "image/png": "[encoded data removed]",
      "text/latex": [
       "$\\displaystyle E{\\left(\\gamma,A_{r},P_{r},k_{A},k_{P} \\right)} = A_{r}^{2} k_{A} - 3 \\sqrt{3} A_{r} \\gamma^{2} k_{A} + P_{r}^{2} k_{P} - 12 P_{r} \\gamma k_{P} + \\frac{27 \\gamma^{4} k_{A}}{4} + 36 \\gamma^{2} k_{P}$"
      ],
      "text/plain": [
       "                                                                               ↪\n",
       "                           2                2         2                     27 ↪\n",
       "E(γ, Aᵣ, Pᵣ, k_A, k_P) = Aᵣ ⋅k_A - 3⋅√3⋅Aᵣ⋅γ ⋅k_A + Pᵣ ⋅k_P - 12⋅Pᵣ⋅γ⋅k_P + ── ↪\n",
       "                                                                               ↪\n",
       "\n",
       "↪   4                \n",
       "↪ ⋅γ ⋅k_A       2    \n",
       "↪ ─────── + 36⋅γ ⋅k_P\n",
       "↪   4                "
      ]
     },
     "execution_count": 3,
     "metadata": {},
     "output_type": "execute_result"
    }
   ],
   "source": [
    "\n",
    "sympy.Eq(\n",
    "    sympy.Function('E')(gamma, A_r, P_r, k_A, k_P),\n",
    "    energy_iso.expand(),\n",
    ")"
   ]
  },
  {
   "cell_type": "markdown",
   "id": "eb224b02-36d0-4db4-84a2-03d76d177cff",
   "metadata": {},
   "source": [
    "### Conditions for equilibrium:\n",
    "$$ \\left.\\frac{\\partial E}{\\partial \\gamma} \\right|_{\\gamma = \\gamma_{equilibrium}} = 0 $$"
   ]
  },
  {
   "cell_type": "code",
   "execution_count": 4,
   "id": "f1d50a16-c435-4c12-9fde-7a60e4e3909e",
   "metadata": {
    "tags": []
   },
   "outputs": [
    {
     "data": {
      "image/png": "[encoded data removed]",
      "text/latex": [
       "$\\displaystyle - 6 \\sqrt{3} A_{r} \\gamma_{eq} k_{A} - 12 P_{r} k_{P} + 27 \\gamma_{eq}^{3} k_{A} + 72 \\gamma_{eq} k_{P} = 0$"
      ],
      "text/plain": [
       "                                                     3                         ↪\n",
       "-6⋅√3⋅Aᵣ⋅\\gamma_{eq}⋅k_A - 12⋅Pᵣ⋅k_P + 27⋅\\gamma_{eq} ⋅k_A + 72⋅\\gamma_{eq}⋅k_ ↪\n",
       "\n",
       "↪      \n",
       "↪ P = 0"
      ]
     },
     "execution_count": 4,
     "metadata": {},
     "output_type": "execute_result"
    }
   ],
   "source": [
    "denergy_iso_dgamma = energy_iso.diff(gamma).expand()\n",
    "sympy.Eq(\n",
    "    denergy_iso_dgamma.subs([\n",
    "        (gamma, sympy.symbols(r\"\\gamma_{eq}\")),\n",
    "    ]),\n",
    "    0,\n",
    ")"
   ]
  },
  {
   "cell_type": "code",
   "execution_count": 5,
   "id": "3a244392-50e1-467f-b2f4-9e978e4d8653",
   "metadata": {
    "tags": []
   },
   "outputs": [],
   "source": [
    "# mu = sympy.symbols(\"mu\", real=True, positive=True)\n",
    "\n",
    "# k_A_til, k_P_til, gamma_til, P_r_til, A_r_til =  sympy.symbols(r\"\\tilde{k_A} \\tilde{k_P} \\tilde{\\gamma} \\tilde{P_r} \\tilde{A_r}\", real=True, positive=True)\n",
    "\n",
    "# denergy_iso_dgamma.subs([\n",
    "#     (gamma, gamma_til * mu),\n",
    "#     (k_A, k_A_til / mu**4),\n",
    "#     (A_r ,A_r_til * mu**2),\n",
    "#     (k_P, k_P_til / mu**2),\n",
    "#     (P_r, P_r_til * mu),\n",
    "#     # (\n",
    "# ])"
   ]
  },
  {
   "cell_type": "markdown",
   "id": "7712b084-3844-4337-9d07-84fc1e710812",
   "metadata": {},
   "source": [
    "# What is the Poisson ratio?\n",
    "When the cell is at equilibrium, $\\partial E/\\partial \\alpha = \\partial E / \\partial \\beta = 0$. We will look at an equilibrium where $\\alpha_{rest} = \\beta_{rest} = \\gamma$\n",
    "\n",
    "So we can describe the behavior of energy in the neighborhood of equillibrium with just the second order derivatives:\n",
    "\n",
    "$$ E(\\delta \\alpha ,\\delta \\beta) \\approx \\left(\\delta \\alpha\\right)^2\\frac{1}{2} \\left.\\frac{\\partial^2 E}{\\partial \\alpha^2}\\right|_{\\alpha=\\beta=\\gamma} + \\left(\\delta \\beta\\right)^2\\frac{1}{2} \\left.\\frac{\\partial^2 E}{\\partial \\beta^2}\\right|_{\\alpha=\\beta=\\gamma} + \\left(\\delta \\alpha\\right)\\left(\\delta \\beta\\right) \\left.\\frac{\\partial^2 E}{\\partial \\alpha \\partial \\beta}\\right|_{\\alpha=\\beta=\\gamma}$$"
   ]
  },
  {
   "cell_type": "markdown",
   "id": "37b009a5-7375-437b-9cc8-4d6946a0a301",
   "metadata": {
    "tags": []
   },
   "source": [
    "The poisson ratio is defined as the negative ratio of the strain rates in x and y. Strain in x is $\\delta \\alpha / \\alpha_{rest}$, and strain in y is $\\delta \\beta / \\beta_{rest}$. So, the negative ratio is: $-(\\delta \\beta)/(\\delta\\alpha)$. \n",
    "$$ \\nu = \\frac{- \\delta \\beta}{\\delta \\alpha} $$\n",
    "\n",
    "We probe the system by holding $\\delta \\alpha$ to a constant, infinitesimal value - then finding the value of $\\delta\\beta$ that will give the minimum energy in beta space.\n",
    "\n",
    "At the equilibrium value of $\\delta\\beta$, we should have\n",
    "$$ \\frac{\\partial E}{\\partial \\beta} = 0 $$\n",
    "Plugging in the second order approximation of energy around equilibrium:\n",
    "$$ \\left(\\delta \\beta\\right) \\left.\\frac{\\partial^2 E}{\\partial \\beta^2}\\right|_{\\alpha=\\beta=\\gamma} + \\left(\\delta \\alpha\\right) \\left.\\frac{\\partial^2 E}{\\partial \\alpha \\partial \\beta}\\right|_{\\alpha=\\beta=\\gamma}  = 0 $$\n",
    "Moving this into form of poisson ratio:\n",
    "$$ - \\frac{\\delta \\beta}{\\delta \\alpha}  = \\frac{  \\left.\\frac{\\partial^2 E}{\\partial \\alpha \\partial \\beta}\\right|_{\\alpha=\\beta=\\gamma}  }{  \\left.\\frac{\\partial^2 E}{\\partial \\beta^2}\\right|_{\\alpha=\\beta=\\gamma}  } $$\n",
    "$$ \\nu  =  \\left.\\frac{ \\partial^2 E / \\left(\\partial  \\alpha \\partial \\beta\\right)   }{ \\partial^2 E  / \\partial \\beta^2  }\\right|_{\\alpha=\\beta=\\gamma} $$"
   ]
  },
  {
   "cell_type": "markdown",
   "id": "1dff7bfa-4def-479e-b786-8ec6a75db3ae",
   "metadata": {},
   "source": [
    "### Finding the formulas for these derivatives:"
   ]
  },
  {
   "cell_type": "code",
   "execution_count": 6,
   "id": "f81e7d86-3d7f-49f3-9919-5b15667c5954",
   "metadata": {
    "tags": []
   },
   "outputs": [
    {
     "data": {
      "image/png": "[encoded data removed]",
      "text/latex": [
       "$\\displaystyle \\nu{\\left(\\alpha_{rest},\\beta_{rest},k_{A},k_{P},A_{r},P_{r} \\right)} = \\frac{\\frac{27 \\alpha \\beta k_{A}}{2} - \\frac{12 \\alpha \\beta k_{P} \\left(- P_{r} + 2 \\alpha + 2 \\sqrt{\\alpha^{2} + 3 \\beta^{2}}\\right)}{\\left(\\alpha^{2} + 3 \\beta^{2}\\right)^{\\frac{3}{2}}} + \\frac{6 \\beta k_{P} \\left(\\frac{4 \\alpha}{\\sqrt{\\alpha^{2} + 3 \\beta^{2}}} + 4\\right)}{\\sqrt{\\alpha^{2} + 3 \\beta^{2}}} + 3 \\sqrt{3} k_{A} \\left(- A_{r} + \\frac{3 \\sqrt{3} \\alpha \\beta}{2}\\right)}{\\frac{27 \\alpha^{2} k_{A}}{2} + \\frac{72 \\beta^{2} k_{P}}{\\alpha^{2} + 3 \\beta^{2}} - \\frac{36 \\beta^{2} k_{P} \\left(- P_{r} + 2 \\alpha + 2 \\sqrt{\\alpha^{2} + 3 \\beta^{2}}\\right)}{\\left(\\alpha^{2} + 3 \\beta^{2}\\right)^{\\frac{3}{2}}} + \\frac{12 k_{P} \\left(- P_{r} + 2 \\alpha + 2 \\sqrt{\\alpha^{2} + 3 \\beta^{2}}\\right)}{\\sqrt{\\alpha^{2} + 3 \\beta^{2}}}}$"
      ],
      "text/plain": [
       "                                                                               ↪\n",
       "                                                                               ↪\n",
       "                                                                           ⎛   ↪\n",
       "                                                                           ⎜   ↪\n",
       "                                                   27⋅α⋅β⋅k_A   12⋅α⋅β⋅k_P⋅⎝-P ↪\n",
       "                                                   ────────── - ────────────── ↪\n",
       "                                                       2                       ↪\n",
       "                                                                             ⎛ ↪\n",
       "                                                                             ⎝ ↪\n",
       "ν(\\alpha_{rest}, \\beta_{rest}, k_A, k_P, Aᵣ, Pᵣ) = ─────────────────────────── ↪\n",
       "                                                                               ↪\n",
       "                                                           2           2       ↪\n",
       "                                                       27⋅α ⋅k_A   72⋅β ⋅k_P   ↪\n",
       "                                                       ───────── + ───────── - ↪\n",
       "                                                           2        2      2   ↪\n",
       "                                                                   α  + 3⋅β    ↪\n",
       "                                                                               ↪\n",
       "\n",
       "↪                                       ⎛     4⋅α          ⎞                   ↪\n",
       "↪                               6⋅β⋅k_P⋅⎜────────────── + 4⎟                   ↪\n",
       "↪                ___________⎞           ⎜   ___________    ⎟                   ↪\n",
       "↪               ╱  2      2 ⎟           ⎜  ╱  2      2     ⎟                   ↪\n",
       "↪ ᵣ + 2⋅α + 2⋅╲╱  α  + 3⋅β  ⎠           ⎝╲╱  α  + 3⋅β      ⎠            ⎛      ↪\n",
       "↪ ─────────────────────────── + ──────────────────────────── + 3⋅√3⋅k_A⋅⎜-Aᵣ + ↪\n",
       "↪           3/2                           ___________                   ⎝      ↪\n",
       "↪  2      2⎞                             ╱  2      2                           ↪\n",
       "↪ α  + 3⋅β ⎠                           ╲╱  α  + 3⋅β                            ↪\n",
       "↪ ──────────────────────────────────────────────────────────────────────────── ↪\n",
       "↪            ⎛                 ___________⎞          ⎛                 _______ ↪\n",
       "↪      2     ⎜                ╱  2      2 ⎟          ⎜                ╱  2     ↪\n",
       "↪  36⋅β ⋅k_P⋅⎝-Pᵣ + 2⋅α + 2⋅╲╱  α  + 3⋅β  ⎠   12⋅k_P⋅⎝-Pᵣ + 2⋅α + 2⋅╲╱  α  + 3 ↪\n",
       "↪  ──────────────────────────────────────── + ──────────────────────────────── ↪\n",
       "↪                          3/2                              ___________        ↪\n",
       "↪               ⎛ 2      2⎞                                ╱  2      2         ↪\n",
       "↪               ⎝α  + 3⋅β ⎠                              ╲╱  α  + 3⋅β          ↪\n",
       "\n",
       "↪           \n",
       "↪           \n",
       "↪           \n",
       "↪           \n",
       "↪  3⋅√3⋅α⋅β⎞\n",
       "↪  ────────⎟\n",
       "↪     2    ⎠\n",
       "↪           \n",
       "↪           \n",
       "↪ ──────────\n",
       "↪ ____⎞     \n",
       "↪   2 ⎟     \n",
       "↪ ⋅β  ⎠     \n",
       "↪ ─────     \n",
       "↪           \n",
       "↪           \n",
       "↪           "
      ]
     },
     "execution_count": 6,
     "metadata": {},
     "output_type": "execute_result"
    }
   ],
   "source": [
    "poisson_ratio_step1 = energy_basic.diff(alpha).diff(beta) / energy_basic.diff(beta).diff(beta)\n",
    "\n",
    "\n",
    "# poisson_ratio_step1.subs([(\"alpha\"), ()])\n",
    "sympy.Eq(\n",
    "    sympy.Function('nu')(*sympy.symbols(r\"\\alpha_{rest} \\beta_{rest}\"), k_A, k_P, A_r, P_r),\n",
    "    poisson_ratio_step1,\n",
    ")"
   ]
  },
  {
   "cell_type": "markdown",
   "id": "4374f1e5-28c5-4f47-9db6-04e811b5cd88",
   "metadata": {},
   "source": [
    "### Set $\\alpha = \\beta = \\gamma$ - where gamma is the 'rest' size of the cell, which is a ultimately function of the other parameters."
   ]
  },
  {
   "cell_type": "code",
   "execution_count": 7,
   "id": "b93e8c4f-a3b2-4674-9826-d8b6e5bdea34",
   "metadata": {
    "tags": []
   },
   "outputs": [
    {
     "data": {
      "image/png": "[encoded data removed]",
      "text/latex": [
       "$\\displaystyle \\nu{\\left(\\gamma,k_{A},k_{P},A_{r},P_{r} \\right)} = \\frac{2 \\sqrt{3} A_{r} \\gamma k_{A} - P_{r} k_{P} - 18 \\gamma^{3} k_{A} - 6 \\gamma k_{P}}{P_{r} k_{P} - 9 \\gamma^{3} k_{A} - 18 \\gamma k_{P}}$"
      ],
      "text/plain": [
       "                                                      3              \n",
       "                         2⋅√3⋅Aᵣ⋅γ⋅k_A - Pᵣ⋅k_P - 18⋅γ ⋅k_A - 6⋅γ⋅k_P\n",
       "ν(γ, k_A, k_P, Aᵣ, Pᵣ) = ────────────────────────────────────────────\n",
       "                                             3                       \n",
       "                                 Pᵣ⋅k_P - 9⋅γ ⋅k_A - 18⋅γ⋅k_P        "
      ]
     },
     "execution_count": 7,
     "metadata": {},
     "output_type": "execute_result"
    }
   ],
   "source": [
    "poisson_ratio_step2 = poisson_ratio_step1.subs([\n",
    "    (alpha, gamma),\n",
    "    (beta, gamma),\n",
    "]).simplify()\n",
    "\n",
    "sympy.Eq(\n",
    "    sympy.Function('nu')(gamma, k_A, k_P, A_r, P_r),\n",
    "    poisson_ratio_step2\n",
    ")"
   ]
  },
  {
   "cell_type": "markdown",
   "id": "2d709100-7ba2-4c39-bf10-bbe8b13c06a4",
   "metadata": {},
   "source": [
    "# Simplifying the system...\n"
   ]
  },
  {
   "cell_type": "markdown",
   "id": "b27f3eeb-ace5-4abf-9cc0-41e47c7fb518",
   "metadata": {
    "tags": []
   },
   "source": [
    "### We can do a change of variables, basically changing length scale:\n",
    "$$ \\begin{align}\n",
    " \\alpha &= \\mu \\tilde{\\alpha} \\\\\n",
    " \\beta &= \\mu \\tilde{\\beta} \\\\\n",
    " \\gamma &= \\mu \\tilde{\\gamma} \\\\\n",
    "P_r &= \\mu \\tilde{P_r} \\\\\n",
    "k_P &= \\frac{1}{\\mu^2} \\tilde{k_P}\\\\\n",
    "A_r &= \\mu^2 \\tilde{A_r} \\\\\n",
    "k_A &= \\frac{1}{\\mu^4} \\tilde{k_A} \\\\\n",
    " \\end{align}\n",
    " $$\n"
   ]
  },
  {
   "cell_type": "code",
   "execution_count": 8,
   "id": "ed825d70-cbe0-491e-a026-b4262d0311ad",
   "metadata": {
    "tags": []
   },
   "outputs": [
    {
     "data": {
      "image/png": "[encoded data removed]",
      "text/latex": [
       "$\\displaystyle \\left[ \\left( \\alpha, \\  \\tilde{\\alpha} \\mu\\right), \\  \\left( \\beta, \\  \\tilde{\\beta} \\mu\\right), \\  \\left( P_{r}, \\  \\tilde{P_r} \\mu\\right), \\  \\left( k_{P}, \\  \\frac{\\tilde{k_P}}{\\mu^{2}}\\right), \\  \\left( A_{r}, \\  \\tilde{A_r} \\mu^{2}\\right), \\  \\left( k_{A}, \\  \\frac{\\tilde{k_A}}{\\mu^{4}}\\right)\\right]$"
      ],
      "text/plain": [
       "⎡                                                                  ⎛     \\tild ↪\n",
       "⎢(α, \\tilde{\\alpha}⋅μ), (β, \\tilde{\\beta}⋅μ), (Pᵣ, \\tilde{P_r}⋅μ), ⎜k_P, ───── ↪\n",
       "⎢                                                                  ⎜           ↪\n",
       "⎣                                                                  ⎝         μ ↪\n",
       "\n",
       "↪ e{k_P}⎞  ⎛                 2⎞  ⎛     \\tilde{k_A}⎞⎤\n",
       "↪ ──────⎟, ⎝Aᵣ, \\tilde{A_r}⋅μ ⎠, ⎜k_A, ───────────⎟⎥\n",
       "↪ 2     ⎟                        ⎜          4     ⎟⎥\n",
       "↪       ⎠                        ⎝         μ      ⎠⎦"
      ]
     },
     "execution_count": 8,
     "metadata": {},
     "output_type": "execute_result"
    }
   ],
   "source": [
    "mu = sympy.symbols(\"mu\", real=True, positive=True)\n",
    "# mu = 1 / P_r\n",
    "\n",
    "k_A_til, k_P_til, alpha_til, beta_til, P_r_til, A_r_til =  sympy.symbols(r\"\\tilde{k_A} \\tilde{k_P} \\tilde{\\alpha} \\tilde{\\beta}  \\tilde{P_r} \\tilde{A_r}\", real=True, positive=True)\n",
    "\n",
    "tilde_mu_substitutions = [\n",
    "    (alpha, alpha_til *mu),\n",
    "    (beta, beta_til*mu),\n",
    "    (P_r, P_r_til*mu),\n",
    "    (k_P, k_P_til/mu**2),\n",
    "    (A_r,  A_r_til*mu**2),\n",
    "    (k_A, k_A_til / mu**4),\n",
    "]\n",
    "# display(tilde_mu_substitutions)\n",
    "tilde_mu_substitutions"
   ]
  },
  {
   "cell_type": "markdown",
   "id": "dd8c83be-714d-455e-95d9-10ad8e48312b",
   "metadata": {},
   "source": [
    "## Picking mu to make $\\tilde{P_r}$ equal one:\n",
    "We only want to explore the landscape of derivatives of E with respect to alpha and beta, so we can pick a mu that depends on $P_r$, without affecting stuff\n",
    "$$ \\mu = P_r $$\n",
    "$$ P_r = \\mu \\tilde{P_r} $$\n",
    "$$ P_r = P_r \\tilde{P_r} $$\n",
    "$$  \\tilde{P_r} = 1 $$\n",
    "\n",
    "We can do change of variables to the energy equation:"
   ]
  },
  {
   "cell_type": "code",
   "execution_count": 9,
   "id": "590c1106-6562-4fc2-b566-ee93c3a0535b",
   "metadata": {
    "tags": []
   },
   "outputs": [
    {
     "data": {
      "image/png": "[encoded data removed]",
      "text/latex": [
       "$\\displaystyle E{\\left(\\tilde{\\alpha},\\tilde{\\beta},\\tilde{k_A},\\tilde{k_P},\\tilde{A_r} \\right)} = \\frac{\\tilde{k_A} \\left(2 \\tilde{A_r} - 3 \\sqrt{3} \\tilde{\\alpha} \\tilde{\\beta}\\right)^{2}}{4} + \\tilde{k_P} \\left(2 \\tilde{\\alpha} + 2 \\sqrt{\\tilde{\\alpha}^{2} + 3 \\tilde{\\beta}^{2}} - 1\\right)^{2}$"
      ],
      "text/plain": [
       "                                                                               ↪\n",
       "                                                                               ↪\n",
       "                                                                          \\til ↪\n",
       "E(\\tilde{\\alpha}, \\tilde{\\beta}, \\tilde{k_A}, \\tilde{k_P}, \\tilde{A_r}) = ──── ↪\n",
       "                                                                               ↪\n",
       "\n",
       "↪                                                                              ↪\n",
       "↪                                                            2               ⎛ ↪\n",
       "↪ de{k_A}⋅(2⋅\\tilde{A_r} - 3⋅√3⋅\\tilde{\\alpha}⋅\\tilde{\\beta})                ⎜ ↪\n",
       "↪ ──────────────────────────────────────────────────────────── + \\tilde{k_P}⋅⎝ ↪\n",
       "↪                            4                                                 ↪\n",
       "\n",
       "↪                                                                  2\n",
       "↪                         ____________________________________    ⎞ \n",
       "↪                        ╱               2                  2     ⎟ \n",
       "↪ 2⋅\\tilde{\\alpha} + 2⋅╲╱  \\tilde{\\alpha}  + 3⋅\\tilde{\\beta}   - 1⎠ \n",
       "↪                                                                   "
      ]
     },
     "execution_count": 9,
     "metadata": {},
     "output_type": "execute_result"
    }
   ],
   "source": [
    "E_mu_subbed = energy_basic.subs(\n",
    "    tilde_mu_substitutions\n",
    ").simplify().subs([\n",
    "    (P_r_til, 1)\n",
    "])\n",
    "\n",
    "# sympy.Eq(\n",
    "#     sympy.Function(\"E\")(alpha_til, beta_til, A_r),\n",
    "#     E_tilded,\n",
    "# )\n",
    "\n",
    "sympy.Eq(\n",
    "    sympy.Function(\"E\")(alpha_til, beta_til, k_A_til, k_P_til ,A_r_til),\n",
    "    E_mu_subbed,\n",
    ")"
   ]
  },
  {
   "cell_type": "markdown",
   "id": "69052dc9-a9d5-4400-87f1-7ade33867369",
   "metadata": {},
   "source": [
    "### We can factor out one of the energy coefficients:\n",
    "$$ \\tilde{X} = \\tilde{k_A} / \\tilde{k_P} $$\n",
    "$$ \\tilde{k_A} = \\tilde{X} \\tilde{k_P} $$\n",
    "\n",
    "Note:\n",
    "$$\n",
    "\\begin{align}\n",
    "k_P &= \\frac{1}{\\mu^2} \\tilde{k_P}\\\\\n",
    "k_A &= \\frac{1}{\\mu^4} \\tilde{k_A} \\\\\n",
    "\\end{align}\n",
    "$$\n",
    "\n",
    "So,\n",
    "$$ \\tilde{X} = \\tilde{k_A} / \\tilde{k_P} = \\frac{\\mu^4 k_A}{\\mu^2 k_P} = \\mu^2 \\frac{k_A}{k_P} = P_r^2 \\frac{k_A}{k_P}$$"
   ]
  },
  {
   "cell_type": "code",
   "execution_count": 10,
   "id": "ce4b7e9a-3836-4ea5-8876-476a680a5112",
   "metadata": {
    "tags": []
   },
   "outputs": [
    {
     "data": {
      "image/png": "[encoded data removed]",
      "text/latex": [
       "$\\displaystyle E{\\left(\\tilde{\\alpha},\\tilde{\\beta},\\tilde{X},\\tilde{k_P},\\tilde{A_r} \\right)} = \\frac{\\tilde{X} \\tilde{k_P} \\left(2 \\tilde{A_r} - 3 \\sqrt{3} \\tilde{\\alpha} \\tilde{\\beta}\\right)^{2}}{4} + \\tilde{k_P} \\left(2 \\tilde{\\alpha} + 2 \\sqrt{\\tilde{\\alpha}^{2} + 3 \\tilde{\\beta}^{2}} - 1\\right)^{2}$"
      ],
      "text/plain": [
       "                                                                               ↪\n",
       "                                                                               ↪\n",
       "                                                                        \\tilde ↪\n",
       "E(\\tilde{\\alpha}, \\tilde{\\beta}, \\tilde{X}, \\tilde{k_P}, \\tilde{A_r}) = ────── ↪\n",
       "                                                                               ↪\n",
       "\n",
       "↪                                                                              ↪\n",
       "↪                                                                    2         ↪\n",
       "↪ {X}⋅\\tilde{k_P}⋅(2⋅\\tilde{A_r} - 3⋅√3⋅\\tilde{\\alpha}⋅\\tilde{\\beta})          ↪\n",
       "↪ ──────────────────────────────────────────────────────────────────── + \\tild ↪\n",
       "↪                               4                                              ↪\n",
       "\n",
       "↪                                                                          2\n",
       "↪        ⎛                        ____________________________________    ⎞ \n",
       "↪        ⎜                       ╱               2                  2     ⎟ \n",
       "↪ e{k_P}⋅⎝2⋅\\tilde{\\alpha} + 2⋅╲╱  \\tilde{\\alpha}  + 3⋅\\tilde{\\beta}   - 1⎠ \n",
       "↪                                                                           "
      ]
     },
     "execution_count": 10,
     "metadata": {},
     "output_type": "execute_result"
    }
   ],
   "source": [
    "X_til = sympy.symbols(r\"\\tilde{X}\" ,real=True, positive=True)\n",
    "\n",
    "E_tilde_FIRST_step = E_mu_subbed.subs([\n",
    "    (k_A_til, X_til * k_P_til),\n",
    "])\n",
    "\n",
    "sympy.Eq(\n",
    "    sympy.Function(\"E\")(alpha_til, beta_til, X_til, k_P_til ,A_r_til),\n",
    "    E_tilde_FIRST_step\n",
    ")"
   ]
  },
  {
   "cell_type": "markdown",
   "id": "34e73320-00c0-44b4-a7b4-6dd0cd668e3a",
   "metadata": {},
   "source": [
    "### Defining $\\tilde{E} = E/\\tilde{k_P}$"
   ]
  },
  {
   "cell_type": "code",
   "execution_count": 11,
   "id": "00c3c4dd-cbf4-43bd-8247-c040a39027fd",
   "metadata": {
    "tags": []
   },
   "outputs": [
    {
     "data": {
      "image/png": "[encoded data removed]",
      "text/latex": [
       "$\\displaystyle \\tilde{E}{\\left(\\tilde{\\alpha},\\tilde{\\beta},\\tilde{X},\\tilde{A_r} \\right)} = \\frac{\\tilde{X} \\left(2 \\tilde{A_r} - 3 \\sqrt{3} \\tilde{\\alpha} \\tilde{\\beta}\\right)^{2}}{4} + \\left(2 \\tilde{\\alpha} + 2 \\sqrt{\\tilde{\\alpha}^{2} + 3 \\tilde{\\beta}^{2}} - 1\\right)^{2}$"
      ],
      "text/plain": [
       "                                                                               ↪\n",
       "                                                                               ↪\n",
       "                                                                   \\tilde{X}⋅( ↪\n",
       "\\tilde{E}(\\tilde{\\alpha}, \\tilde{\\beta}, \\tilde{X}, \\tilde{A_r}) = ─────────── ↪\n",
       "                                                                               ↪\n",
       "\n",
       "↪                                                                              ↪\n",
       "↪                                                   2   ⎛                      ↪\n",
       "↪ 2⋅\\tilde{A_r} - 3⋅√3⋅\\tilde{\\alpha}⋅\\tilde{\\beta})    ⎜                      ↪\n",
       "↪ ─────────────────────────────────────────────────── + ⎝2⋅\\tilde{\\alpha} + 2⋅ ↪\n",
       "↪                    4                                                         ↪\n",
       "\n",
       "↪                                             2\n",
       "↪    ____________________________________    ⎞ \n",
       "↪   ╱               2                  2     ⎟ \n",
       "↪ ╲╱  \\tilde{\\alpha}  + 3⋅\\tilde{\\beta}   - 1⎠ \n",
       "↪                                              "
      ]
     },
     "execution_count": 11,
     "metadata": {},
     "output_type": "execute_result"
    }
   ],
   "source": [
    "E_tilded = (E_tilde_FIRST_step / k_P_til).simplify()\n",
    "sympy.Eq(\n",
    "    sympy.Function(r\"\\tilde{E}\")(alpha_til, beta_til, X_til ,A_r_til),\n",
    "    E_tilded,\n",
    ")"
   ]
  },
  {
   "cell_type": "markdown",
   "id": "2a6ed302-746e-420e-b295-cfade8f225ab",
   "metadata": {},
   "source": [
    "### What is the poisson ratio?\n",
    "\n",
    "$$\n",
    "\\begin{align}\n",
    "\\frac{\\partial E}{\\partial \\alpha} &= \\frac{\\partial}{\\partial \\alpha} E \\\\\n",
    " &= \\tilde{k_P} \\frac{\\partial}{\\partial \\alpha} \\tilde{E} \\left(  \\tilde{\\alpha}\\left(\\alpha\\right), \\tilde{\\beta}, \\tilde{k_A}, \\tilde{k_P}, \\tilde{A_r}  \\right) \\\\\n",
    " &= \\tilde{k_P} \\frac{\\partial \\tilde{\\alpha}}{\\partial \\alpha} \\frac{\\partial}{\\partial \\tilde{\\alpha}} \\tilde{E} \\left(  \\tilde{\\alpha}\\left(\\alpha\\right), \\tilde{\\beta}, \\tilde{k_A}, \\tilde{k_P}, \\tilde{A_r}  \\right) \\\\\n",
    "\\frac{\\partial E}{\\partial \\alpha} &= \\frac{\\tilde{k_P} }{\\mu}  \\frac{\\partial \\tilde{E}}{\\partial \\tilde{\\alpha}}  \\\\\n",
    "\\end{align}\n",
    "$$\n",
    "Following similar for other derivatives,\n",
    "$$ \\frac{\\partial E}{\\partial \\alpha} = \\frac{ \\tilde{k_P}}{\\mu} \\frac{\\partial \\tilde{E}}{\\partial \\tilde{\\alpha}},\\ \\frac{\\partial E}{\\partial \\beta} = \\frac{ \\tilde{k_P}}{\\mu} \\frac{\\partial \\tilde{E}}{\\partial \\tilde{\\beta}} $$\n",
    "\n",
    "$$ \\frac{\\partial^2 E}{\\partial \\alpha^2} = \\frac{ \\tilde{k_P}}{\\mu^2} \\frac{\\partial^2 \\tilde{E}}{\\partial \\tilde{\\alpha}^2},\\ \\frac{\\partial^2 E}{\\partial \\beta^2} = \\frac{ \\tilde{k_P}}{\\mu^2} \\frac{\\partial^2 \\tilde{E}}{\\partial \\tilde{\\beta}^2},\\ \\frac{\\partial^2 E}{\\partial \\alpha \\partial \\beta} = \\frac{ \\tilde{k_P}}{\\mu^2} \\frac{\\partial^2 \\tilde{E}}{\\partial \\tilde{\\alpha} \\partial \\tilde{\\beta}} $$\n"
   ]
  },
  {
   "cell_type": "markdown",
   "id": "245e0944-9a3c-44e5-b1a0-a8bb8accfebb",
   "metadata": {},
   "source": [
    "\n",
    "So poisson's ratio is the 'same':\n",
    "$$\n",
    "\\begin{align}\n",
    "    \\nu  &=  \\left.\\frac{ \\partial^2 E / \\left(\\partial  \\alpha \\partial \\beta\\right)   }{ \\partial^2 E  / \\partial \\beta^2  }\\right|_{\\alpha=\\beta=\\gamma} \\\\\n",
    "      &=  \\left.\\frac{ \\left( \\tilde{k_P}/\\mu^2 \\right) \\partial^2 \\tilde{E} / \\left(\\partial  \\tilde{\\alpha} \\partial \\tilde{\\beta}\\right)   }{ \\left( \\tilde{k_P}/\\mu^2 \\right) \\partial^2 \\tilde{E}  / \\partial \\tilde{\\beta}^2  }\\right|_{\\tilde{\\alpha}=\\tilde{\\beta}=\\tilde{\\gamma}} \\\\\n",
    "      &=  \\left.\\frac{ \\partial^2 \\tilde{E} / \\left(\\partial  \\tilde{\\alpha} \\partial \\tilde{\\beta}\\right)   }{  \\partial^2 \\tilde{E}  / \\partial \\tilde{\\beta}^2  }\\right|_{\\tilde{\\alpha}=\\tilde{\\beta}=\\tilde{\\gamma}} \\\\\n",
    "     \\nu &= \\tilde{\\nu} \\\\\n",
    "    \\end{align}\n",
    "$$"
   ]
  },
  {
   "cell_type": "markdown",
   "id": "43a15f61-e3ec-4257-ac56-ff6636e1d4f9",
   "metadata": {},
   "source": [
    "### Finding relevant second order derivatives in $\\tilde{E}, $"
   ]
  },
  {
   "cell_type": "code",
   "execution_count": 12,
   "id": "0af9b5cb-1932-4df2-be60-f7940aeb5d0f",
   "metadata": {
    "tags": []
   },
   "outputs": [
    {
     "data": {
      "image/png": "[encoded data removed]",
      "text/latex": [
       "$\\displaystyle \\frac{d^{2}}{d \\tilde{\\beta}d \\tilde{\\alpha}} \\tilde{E} = \\frac{27 \\tilde{X} \\tilde{\\alpha} \\tilde{\\beta}}{2} - \\frac{3 \\sqrt{3} \\tilde{X} \\left(2 \\tilde{A_r} - 3 \\sqrt{3} \\tilde{\\alpha} \\tilde{\\beta}\\right)}{2} - \\frac{12 \\tilde{\\alpha} \\tilde{\\beta} \\left(2 \\tilde{\\alpha} + 2 \\sqrt{\\tilde{\\alpha}^{2} + 3 \\tilde{\\beta}^{2}} - 1\\right)}{\\left(\\tilde{\\alpha}^{2} + 3 \\tilde{\\beta}^{2}\\right)^{\\frac{3}{2}}} + \\frac{6 \\tilde{\\beta} \\left(\\frac{4 \\tilde{\\alpha}}{\\sqrt{\\tilde{\\alpha}^{2} + 3 \\tilde{\\beta}^{2}}} + 4\\right)}{\\sqrt{\\tilde{\\alpha}^{2} + 3 \\tilde{\\beta}^{2}}}$"
      ],
      "text/plain": [
       "                                                                               ↪\n",
       "                                                                               ↪\n",
       "                                                                               ↪\n",
       "               2                                                               ↪\n",
       "              d                             27⋅\\tilde{X}⋅\\tilde{\\alpha}⋅\\tilde ↪\n",
       "──────────────────────────────(\\tilde{E}) = ────────────────────────────────── ↪\n",
       "d\\tilde{\\beta} d\\tilde{\\alpha}                                  2              ↪\n",
       "                                                                               ↪\n",
       "                                                                               ↪\n",
       "\n",
       "↪                                                                              ↪\n",
       "↪                                                                              ↪\n",
       "↪                                                                              ↪\n",
       "↪                                                                              ↪\n",
       "↪ {\\beta}   3⋅√3⋅\\tilde{X}⋅(2⋅\\tilde{A_r} - 3⋅√3⋅\\tilde{\\alpha}⋅\\tilde{\\beta}) ↪\n",
       "↪ ─────── - ────────────────────────────────────────────────────────────────── ↪\n",
       "↪                                           2                                  ↪\n",
       "↪                                                                              ↪\n",
       "↪                                                                              ↪\n",
       "\n",
       "↪                                                                              ↪\n",
       "↪                                                                              ↪\n",
       "↪                                    ⎛                        ________________ ↪\n",
       "↪                                    ⎜                       ╱               2 ↪\n",
       "↪    12⋅\\tilde{\\alpha}⋅\\tilde{\\beta}⋅⎝2⋅\\tilde{\\alpha} + 2⋅╲╱  \\tilde{\\alpha}  ↪\n",
       "↪  - ───────────────────────────────────────────────────────────────────────── ↪\n",
       "↪                                                                     3/2      ↪\n",
       "↪                                 ⎛              2                  2⎞         ↪\n",
       "↪                                 ⎝\\tilde{\\alpha}  + 3⋅\\tilde{\\beta} ⎠         ↪\n",
       "\n",
       "↪                                             ⎛           4⋅\\tilde{\\alpha}     ↪\n",
       "↪                             6⋅\\tilde{\\beta}⋅⎜─────────────────────────────── ↪\n",
       "↪ ____________________    ⎞                   ⎜   ____________________________ ↪\n",
       "↪                   2     ⎟                   ⎜  ╱               2             ↪\n",
       "↪  + 3⋅\\tilde{\\beta}   - 1⎠                   ⎝╲╱  \\tilde{\\alpha}  + 3⋅\\tilde{ ↪\n",
       "↪ ───────────────────────── + ──────────────────────────────────────────────── ↪\n",
       "↪                                           __________________________________ ↪\n",
       "↪                                          ╱               2                   ↪\n",
       "↪                                        ╲╱  \\tilde{\\alpha}  + 3⋅\\tilde{\\beta} ↪\n",
       "\n",
       "↪             ⎞\n",
       "↪ ──────── + 4⎟\n",
       "↪ ________    ⎟\n",
       "↪       2     ⎟\n",
       "↪ \\beta}      ⎠\n",
       "↪ ─────────────\n",
       "↪ __           \n",
       "↪ 2            \n",
       "↪              "
      ]
     },
     "execution_count": 12,
     "metadata": {},
     "output_type": "execute_result"
    }
   ],
   "source": [
    "d2E_til_dalpha_til_dbeta_til = E_tilded.diff(alpha_til).diff(beta_til)\n",
    "\n",
    "sympy.Eq(\n",
    "    sympy.Derivative(sympy.symbols(r\"\\tilde{E}\"), alpha_til, beta_til),\n",
    "    d2E_til_dalpha_til_dbeta_til,\n",
    ")"
   ]
  },
  {
   "cell_type": "code",
   "execution_count": 13,
   "id": "4bc5cb6c-c516-40b2-b464-7a39556b6cc1",
   "metadata": {
    "tags": []
   },
   "outputs": [
    {
     "data": {
      "image/png": "[encoded data removed]",
      "text/latex": [
       "$\\displaystyle \\frac{d^{2}}{d \\tilde{\\beta}^{2}} \\tilde{E} = \\frac{27 \\tilde{X} \\tilde{\\alpha}^{2}}{2} + \\frac{72 \\tilde{\\beta}^{2}}{\\tilde{\\alpha}^{2} + 3 \\tilde{\\beta}^{2}} - \\frac{36 \\tilde{\\beta}^{2} \\left(2 \\tilde{\\alpha} + 2 \\sqrt{\\tilde{\\alpha}^{2} + 3 \\tilde{\\beta}^{2}} - 1\\right)}{\\left(\\tilde{\\alpha}^{2} + 3 \\tilde{\\beta}^{2}\\right)^{\\frac{3}{2}}} + \\frac{12 \\left(2 \\tilde{\\alpha} + 2 \\sqrt{\\tilde{\\alpha}^{2} + 3 \\tilde{\\beta}^{2}} - 1\\right)}{\\sqrt{\\tilde{\\alpha}^{2} + 3 \\tilde{\\beta}^{2}}}$"
      ],
      "text/plain": [
       "                                                                               ↪\n",
       "       2                                                2                      ↪\n",
       "      d                      27⋅\\tilde{X}⋅\\tilde{\\alpha}            72⋅\\tilde{ ↪\n",
       "───────────────(\\tilde{E}) = ──────────────────────────── + ────────────────── ↪\n",
       "              2                           2                               2    ↪\n",
       "d\\tilde{\\beta}                                              \\tilde{\\alpha}  +  ↪\n",
       "                                                                               ↪\n",
       "\n",
       "↪                                      ⎛                        ______________ ↪\n",
       "↪       2                            2 ⎜                       ╱               ↪\n",
       "↪ \\beta}             36⋅\\tilde{\\beta} ⋅⎝2⋅\\tilde{\\alpha} + 2⋅╲╱  \\tilde{\\alpha ↪\n",
       "↪ ──────────────── - ───────────────────────────────────────────────────────── ↪\n",
       "↪                2                                                             ↪\n",
       "↪ 3⋅\\tilde{\\beta}                          ⎛              2                  2 ↪\n",
       "↪                                          ⎝\\tilde{\\alpha}  + 3⋅\\tilde{\\beta}  ↪\n",
       "\n",
       "↪ ______________________    ⎞      ⎛                        __________________ ↪\n",
       "↪  2                  2     ⎟      ⎜                       ╱               2   ↪\n",
       "↪ }  + 3⋅\\tilde{\\beta}   - 1⎠   12⋅⎝2⋅\\tilde{\\alpha} + 2⋅╲╱  \\tilde{\\alpha}  + ↪\n",
       "↪ ─────────────────────────── + ────────────────────────────────────────────── ↪\n",
       "↪  3/2                                            ____________________________ ↪\n",
       "↪ ⎞                                              ╱               2             ↪\n",
       "↪ ⎠                                            ╲╱  \\tilde{\\alpha}  + 3⋅\\tilde{ ↪\n",
       "\n",
       "↪ __________________    ⎞\n",
       "↪                 2     ⎟\n",
       "↪  3⋅\\tilde{\\beta}   - 1⎠\n",
       "↪ ───────────────────────\n",
       "↪ ________               \n",
       "↪       2                \n",
       "↪ \\beta}                 "
      ]
     },
     "execution_count": 13,
     "metadata": {},
     "output_type": "execute_result"
    }
   ],
   "source": [
    "d2E_til_d2beta_til = E_tilded.diff(beta_til).diff(beta_til)\n",
    "\n",
    "sympy.Eq(\n",
    "    sympy.Derivative(sympy.symbols(r\"\\tilde{E}\"), beta_til, beta_til),\n",
    "    d2E_til_d2beta_til,\n",
    ")"
   ]
  },
  {
   "cell_type": "markdown",
   "id": "09b2235a-670c-4f8e-af6f-3665ccca716e",
   "metadata": {},
   "source": [
    "### So poisson ratio should be given at $\\tilde{\\alpha}_{eq}, \\tilde{\\beta}_{eq}$ by:"
   ]
  },
  {
   "cell_type": "code",
   "execution_count": 14,
   "id": "ea8d6d25-daf7-4d59-8c51-2589ec5d341e",
   "metadata": {
    "tags": []
   },
   "outputs": [
    {
     "data": {
      "image/png": "[encoded data removed]",
      "text/latex": [
       "$\\displaystyle \\tilde{\\nu} = \\frac{2 \\left(- \\sqrt{3} \\tilde{A_r} \\tilde{X} \\tilde{\\alpha}^{4} - 6 \\sqrt{3} \\tilde{A_r} \\tilde{X} \\tilde{\\alpha}^{2} \\tilde{\\beta}^{2} - 9 \\sqrt{3} \\tilde{A_r} \\tilde{X} \\tilde{\\beta}^{4} + 9 \\tilde{X} \\tilde{\\alpha}^{5} \\tilde{\\beta} + 54 \\tilde{X} \\tilde{\\alpha}^{3} \\tilde{\\beta}^{3} + 81 \\tilde{X} \\tilde{\\alpha} \\tilde{\\beta}^{5} + 4 \\tilde{\\alpha} \\tilde{\\beta} \\sqrt{\\tilde{\\alpha}^{2} + 3 \\tilde{\\beta}^{2}} + 24 \\tilde{\\beta}^{3} \\sqrt{\\tilde{\\alpha}^{2} + 3 \\tilde{\\beta}^{2}}\\right)}{9 \\tilde{X} \\tilde{\\alpha}^{6} + 54 \\tilde{X} \\tilde{\\alpha}^{4} \\tilde{\\beta}^{2} + 81 \\tilde{X} \\tilde{\\alpha}^{2} \\tilde{\\beta}^{4} + 16 \\tilde{\\alpha}^{4} + 16 \\tilde{\\alpha}^{3} \\sqrt{\\tilde{\\alpha}^{2} + 3 \\tilde{\\beta}^{2}} + 96 \\tilde{\\alpha}^{2} \\tilde{\\beta}^{2} - 8 \\tilde{\\alpha}^{2} \\sqrt{\\tilde{\\alpha}^{2} + 3 \\tilde{\\beta}^{2}} + 144 \\tilde{\\beta}^{4}}$"
      ],
      "text/plain": [
       "                ⎛                                                              ↪\n",
       "                ⎜                                         4                    ↪\n",
       "              2⋅⎝- √3⋅\\tilde{A_r}⋅\\tilde{X}⋅\\tilde{\\alpha}  - 6⋅√3⋅\\tilde{A_r} ↪\n",
       "\\tilde{\\nu} = ──────────────────────────────────────────────────────────────── ↪\n",
       "                                                                               ↪\n",
       "                                                                               ↪\n",
       "                                                                9⋅\\tilde{X}⋅\\t ↪\n",
       "\n",
       "↪                                                                              ↪\n",
       "↪                          2              2                                    ↪\n",
       "↪ ⋅\\tilde{X}⋅\\tilde{\\alpha} ⋅\\tilde{\\beta}  - 9⋅√3⋅\\tilde{A_r}⋅\\tilde{X}⋅\\tild ↪\n",
       "↪ ──────────────────────────────────────────────────────────────────────────── ↪\n",
       "↪                                                                              ↪\n",
       "↪             6                              4              2                  ↪\n",
       "↪ ilde{\\alpha}  + 54⋅\\tilde{X}⋅\\tilde{\\alpha} ⋅\\tilde{\\beta}  + 81⋅\\tilde{X}⋅\\ ↪\n",
       "\n",
       "↪                                                                              ↪\n",
       "↪         4                             5                                      ↪\n",
       "↪ e{\\beta}  + 9⋅\\tilde{X}⋅\\tilde{\\alpha} ⋅\\tilde{\\beta} + 54⋅\\tilde{X}⋅\\tilde{ ↪\n",
       "↪ ──────────────────────────────────────────────────────────────────────────── ↪\n",
       "↪                                                                            _ ↪\n",
       "↪              2              4                    4                    3   ╱  ↪\n",
       "↪ tilde{\\alpha} ⋅\\tilde{\\beta}  + 16⋅\\tilde{\\alpha}  + 16⋅\\tilde{\\alpha} ⋅╲╱   ↪\n",
       "\n",
       "↪                                                                              ↪\n",
       "↪        3              3                                            5         ↪\n",
       "↪ \\alpha} ⋅\\tilde{\\beta}  + 81⋅\\tilde{X}⋅\\tilde{\\alpha}⋅\\tilde{\\beta}  + 4⋅\\ti ↪\n",
       "↪ ──────────────────────────────────────────────────────────────────────────── ↪\n",
       "↪ ___________________________________                                          ↪\n",
       "↪               2                  2                     2              2      ↪\n",
       "↪ \\tilde{\\alpha}  + 3⋅\\tilde{\\beta}   + 96⋅\\tilde{\\alpha} ⋅\\tilde{\\beta}  - 8⋅ ↪\n",
       "\n",
       "↪                              ____________________________________            ↪\n",
       "↪                             ╱               2                  2             ↪\n",
       "↪ lde{\\alpha}⋅\\tilde{\\beta}⋅╲╱  \\tilde{\\alpha}  + 3⋅\\tilde{\\beta}   + 24⋅\\tild ↪\n",
       "↪ ──────────────────────────────────────────────────────────────────────────── ↪\n",
       "↪                    ____________________________________                      ↪\n",
       "↪               2   ╱               2                  2                     4 ↪\n",
       "↪ \\tilde{\\alpha} ⋅╲╱  \\tilde{\\alpha}  + 3⋅\\tilde{\\beta}   + 144⋅\\tilde{\\beta}  ↪\n",
       "\n",
       "↪              ____________________________________⎞\n",
       "↪         3   ╱               2                  2 ⎟\n",
       "↪ e{\\beta} ⋅╲╱  \\tilde{\\alpha}  + 3⋅\\tilde{\\beta}  ⎠\n",
       "↪ ──────────────────────────────────────────────────\n",
       "↪                                                   \n",
       "↪                                                   \n",
       "↪                                                   "
      ]
     },
     "execution_count": 14,
     "metadata": {},
     "output_type": "execute_result"
    }
   ],
   "source": [
    "poisson_tilde_NOT_gam_subbed = (d2E_til_dalpha_til_dbeta_til / d2E_til_d2beta_til).simplify()\n",
    "\n",
    "sympy.Eq(\n",
    "    sympy.symbols(r\"\\tilde{\\nu}\"),\n",
    "    poisson_tilde_NOT_gam_subbed,\n",
    ")"
   ]
  },
  {
   "cell_type": "markdown",
   "id": "7aa7447e-2cb5-459b-b6b9-e6e08db1ee4e",
   "metadata": {},
   "source": [
    "### We are evaluating poisson ratio at $\\tilde{\\alpha}_{eq} = \\tilde{\\beta}_{eq} = \\tilde{\\gamma}_{eq}$:"
   ]
  },
  {
   "cell_type": "code",
   "execution_count": 15,
   "id": "735b7b09-4077-4ed7-819f-3f07873af385",
   "metadata": {
    "tags": []
   },
   "outputs": [
    {
     "data": {
      "image/png": "[encoded data removed]",
      "text/latex": [
       "$\\displaystyle \\tilde{\\nu}{\\left(\\tilde{\\gamma}_{eq}{\\left(\\tilde{A_r},\\tilde{X} \\right)},\\tilde{A_r},\\tilde{X} \\right)} = \\frac{- 2 \\sqrt{3} \\tilde{A_r} \\tilde{X} \\tilde{\\gamma}_{eq} + 18 \\tilde{X} \\tilde{\\gamma}_{eq}^{3} + 6 \\tilde{\\gamma}_{eq} + 1}{9 \\tilde{X} \\tilde{\\gamma}_{eq}^{3} + 18 \\tilde{\\gamma}_{eq} - 1}$"
      ],
      "text/plain": [
       "                                                                               ↪\n",
       "                                                                               ↪\n",
       "\\tilde{\\nu}(\\tilde{\\gamma}_{eq}(\\tilde{A_r}, \\tilde{X}), \\tilde{A_r}, \\tilde{X ↪\n",
       "                                                                               ↪\n",
       "                                                                               ↪\n",
       "\n",
       "↪                                                                              ↪\n",
       "↪      -2⋅√3⋅\\tilde{A_r}⋅\\tilde{X}⋅\\tilde{\\gamma}_{eq} + 18⋅\\tilde{X}⋅\\tilde{\\ ↪\n",
       "↪ }) = ─────────────────────────────────────────────────────────────────────── ↪\n",
       "↪                                                              3               ↪\n",
       "↪                               9⋅\\tilde{X}⋅\\tilde{\\gamma}_{eq}  + 18⋅\\tilde{\\ ↪\n",
       "\n",
       "↪            3                            \n",
       "↪ gamma}_{eq}  + 6⋅\\tilde{\\gamma}_{eq} + 1\n",
       "↪ ────────────────────────────────────────\n",
       "↪                                         \n",
       "↪ gamma}_{eq} - 1                         "
      ]
     },
     "execution_count": 15,
     "metadata": {},
     "output_type": "execute_result"
    }
   ],
   "source": [
    "gamma_til = sympy.symbols(r\"\\tilde{\\gamma}\", real=True, positive=True)\n",
    "\n",
    "poisson_tilde_of_gamma = poisson_tilde_NOT_gam_subbed.subs([\n",
    "    (alpha_til, gamma_til),\n",
    "    (beta_til, gamma_til),\n",
    "]).simplify()\n",
    "\n",
    "sympy.Eq(\n",
    "    sympy.Function(r\"\\tilde{\\nu}\")(\n",
    "        sympy.Function(r\"\\tilde{\\gamma}_{eq}\")(A_r_til, X_til),\n",
    "        A_r_til,\n",
    "        X_til,\n",
    "    ),\n",
    "    poisson_tilde_of_gamma.subs([\n",
    "        (gamma_til , sympy.symbols(r\"\\tilde{\\gamma}_{eq}\")),\n",
    "    ]),\n",
    ")"
   ]
  },
  {
   "cell_type": "markdown",
   "id": "d00666f9-1499-457c-a2da-0ce73247f044",
   "metadata": {},
   "source": [
    "### We find the equilibrium gamma like this:\n",
    "$$ \\tilde{E}(\\gamma) = \\tilde{E}(\\alpha=\\gamma ,\\beta=\\gamma) $$\n",
    "The energy minimum in gamma will satisfy:\n",
    "$$ d\\tilde{E}/d\\tilde{\\gamma} = 0 $$"
   ]
  },
  {
   "cell_type": "code",
   "execution_count": 16,
   "id": "3a2cd4f1-6e3d-486b-bdea-dac6291e57af",
   "metadata": {
    "tags": []
   },
   "outputs": [
    {
     "data": {
      "image/png": "[encoded data removed]",
      "text/latex": [
       "$\\displaystyle \\frac{d}{d \\tilde{\\gamma}} \\tilde{E}{\\left(\\tilde{\\gamma} \\right)} = - 6 \\sqrt{3} \\tilde{A_r} \\tilde{X} \\tilde{\\gamma} + 27 \\tilde{X} \\tilde{\\gamma}^{3} + 72 \\tilde{\\gamma} - 12$"
      ],
      "text/plain": [
       "       d                                                                       ↪\n",
       "───────────────(\\tilde{E}(\\tilde{\\gamma})) = -6⋅√3⋅\\tilde{A_r}⋅\\tilde{X}⋅\\tild ↪\n",
       "d\\tilde{\\gamma}                                                                ↪\n",
       "\n",
       "↪                                        3                         \n",
       "↪ e{\\gamma} + 27⋅\\tilde{X}⋅\\tilde{\\gamma}  + 72⋅\\tilde{\\gamma} - 12\n",
       "↪                                                                  "
      ]
     },
     "execution_count": 16,
     "metadata": {},
     "output_type": "execute_result"
    }
   ],
   "source": [
    "dE_til_iso_dgamma = E_tilded.subs([\n",
    "    (alpha_til, gamma_til),\n",
    "    (beta_til, gamma_til),\n",
    "]).diff(gamma_til).expand()\n",
    "\n",
    "sympy.Eq(\n",
    "    sympy.Derivative(sympy.Function(r\"\\tilde{E}\")(gamma_til), gamma_til),\n",
    "    dE_til_iso_dgamma\n",
    ")"
   ]
  },
  {
   "cell_type": "code",
   "execution_count": 17,
   "id": "178d410e-9ee9-4906-bf11-e83fcd2b713f",
   "metadata": {
    "tags": []
   },
   "outputs": [
    {
     "data": {
      "image/png": "[encoded data removed]",
      "text/latex": [
       "$\\displaystyle - 6 \\sqrt{3} \\tilde{A_r} \\tilde{X} \\tilde{\\gamma}_{eq} + 27 \\tilde{X} \\tilde{\\gamma}_{eq}^{3} + 72 \\tilde{\\gamma}_{eq} - 12 = 0$"
      ],
      "text/plain": [
       "                                                                               ↪\n",
       "-6⋅√3⋅\\tilde{A_r}⋅\\tilde{X}⋅\\tilde{\\gamma}_{eq} + 27⋅\\tilde{X}⋅\\tilde{\\gamma}_ ↪\n",
       "\n",
       "↪     3                                  \n",
       "↪ {eq}  + 72⋅\\tilde{\\gamma}_{eq} - 12 = 0"
      ]
     },
     "execution_count": 17,
     "metadata": {},
     "output_type": "execute_result"
    }
   ],
   "source": [
    "sympy.Eq(\n",
    "    dE_til_iso_dgamma.subs([\n",
    "        (gamma_til , sympy.symbols(r\"\\tilde{\\gamma}_{eq}\")),\n",
    "    ]),\n",
    "    0\n",
    ")"
   ]
  },
  {
   "cell_type": "markdown",
   "id": "d1805f13-f2d9-4a0a-8dbf-b773ab615b19",
   "metadata": {},
   "source": [
    "# Making code to find $\\tilde{\\gamma}_{eq}$"
   ]
  },
  {
   "cell_type": "code",
   "execution_count": 18,
   "id": "8c66ce86-e727-46a7-ac54-f514318ad6a7",
   "metadata": {
    "tags": []
   },
   "outputs": [],
   "source": [
    "lambdified_dE_dgam_tilde = sympy.lambdify((gamma_til, X_til, A_r_til), dE_til_iso_dgamma)"
   ]
  },
  {
   "cell_type": "code",
   "execution_count": 19,
   "id": "20cdd3be-378e-4d10-9f9f-788133055f92",
   "metadata": {
    "tags": []
   },
   "outputs": [],
   "source": [
    "# lambdified_dE_dgam_tilde(0,0,0)\n",
    "from matplotlib import pyplot as plt\n",
    "import scipy.optimize"
   ]
  },
  {
   "cell_type": "markdown",
   "id": "adfb292f-669b-4623-bc6a-77b54ac2c5f9",
   "metadata": {},
   "source": [
    "#### getting the coefficients of the cubic function of $\\tilde{gamma}_{eq}$"
   ]
  },
  {
   "cell_type": "code",
   "execution_count": 20,
   "id": "dd403d68-cbfc-432e-9a52-b953a99c9efb",
   "metadata": {
    "tags": []
   },
   "outputs": [
    {
     "data": {
      "image/png": "[encoded data removed]",
      "text/latex": [
       "$\\displaystyle \\operatorname{Poly}{\\left( 27 \\tilde{X} \\tilde{\\gamma}^{3} + \\left(- 6 \\sqrt{3} \\tilde{A_r} \\tilde{X} + 72\\right) \\tilde{\\gamma} - 12, \\tilde{\\gamma}, domain=\\mathtt{\\text{EX}} \\right)}$"
      ],
      "text/plain": [
       "Poly(27*\\tilde{X}*\\tilde{\\gamma}**3 + (-6*sqrt(3)*\\tilde{A_r}*\\tilde{X} + 72)* ↪\n",
       "\n",
       "↪ \\tilde{\\gamma} - 12, \\tilde{\\gamma}, domain='EX')"
      ]
     },
     "execution_count": 20,
     "metadata": {},
     "output_type": "execute_result"
    }
   ],
   "source": [
    "dE_dgam_polynomial = sympy.Poly(dE_til_iso_dgamma, gamma_til)\n",
    "\n",
    "assert dE_dgam_polynomial.degree() == 3, \"should be a cubic polynomial\"\n",
    "\n",
    "dE_dgam_polynomial\n",
    "# assert dE_dgam_polynomial.degree() == 3, dE_dgam_polynomial.degree()"
   ]
  },
  {
   "cell_type": "code",
   "execution_count": 21,
   "id": "c6ee6c8f-0017-4408-a0ee-4164bf56f13b",
   "metadata": {
    "tags": []
   },
   "outputs": [],
   "source": [
    "# \n",
    "dE_dgam_coeff_functions = []\n",
    "for coeff_sym in dE_dgam_polynomial.all_coeffs():\n",
    "    dE_dgam_coeff_functions.append(\n",
    "        sympy.lambdify((X_til, A_r_til), coeff_sym)\n",
    "    )\n",
    "# dE_dgam_polynomial\n",
    "# .degree()\n",
    "# dE_dgam_coeff_functions"
   ]
  },
  {
   "cell_type": "code",
   "execution_count": 22,
   "id": "d145da21-ef5f-4b63-b607-801a099894d4",
   "metadata": {
    "tags": []
   },
   "outputs": [],
   "source": [
    "import numpy as np\n",
    "\n",
    "def find_gamma_eq_tilde_numeric(X_value, A_r_til_value):\n",
    "    cubic_coeffs = [coeff_f(X_value, A_r_til_value) for coeff_f in dE_dgam_coeff_functions]\n",
    "    np_roots = np.roots(cubic_coeffs)\n",
    "    ### We need to find the roots of \n",
    "    # pass\n",
    "    roots_imaginary_proportion = np.abs(np_roots.imag / np_roots.real)\n",
    "    real_pos_roots_mask = (roots_imaginary_proportion < 0.000001) * (np_roots.real > 0)\n",
    "    \n",
    "    \n",
    "    \n",
    "    if real_pos_roots_mask.sum() != 1:\n",
    "        print(np_roots)\n",
    "        raise ValueError(\"Failed to find real root\")\n",
    "    return np_roots[real_pos_roots_mask][0].real\n",
    "    # return np_roots\n",
    "\n"
   ]
  },
  {
   "cell_type": "markdown",
   "id": "e239b875-6599-4797-be29-b11561132fea",
   "metadata": {},
   "source": [
    "### Finding hessian to determine which situations are stable and which are not"
   ]
  },
  {
   "cell_type": "code",
   "execution_count": 106,
   "id": "f3c45f79-4222-47f8-b89d-ee412d861123",
   "metadata": {},
   "outputs": [],
   "source": [
    "E_tilded_hessian_symbolic = [[E_tilded.diff(var_i, var_j) for var_i in [alpha_til, beta_til]] for var_j in [alpha_til, beta_til]]\n",
    "\n",
    "E_tilded_hessian_num_funcs = [\n",
    "    [\n",
    "        sympy.lambdify((alpha_til, beta_til, X_til, A_r_til), el_sym) for el_sym in vec\n",
    "    ] for vec in E_tilded_hessian_symbolic\n",
    "]\n",
    "\n",
    "E_tilded_grad_funcs = [\n",
    "    sympy.lambdify(\n",
    "        (alpha_til, beta_til, X_til, A_r_til),\n",
    "        E_tilded.diff(var_i),\n",
    "    ) for var_i in [alpha_til, beta_til]\n",
    "]\n",
    "def find_hessian_numeric(\n",
    "    alpha_til_value,\n",
    "    beta_til_value,\n",
    "    X_value,\n",
    "    A_r_til_value,\n",
    "):\n",
    "    hessian_vals = [\n",
    "        [\n",
    "            lam_f(alpha_til_value, beta_til_value, X_value, A_r_til_value) for lam_f in lam_vec\n",
    "        ] for lam_vec in E_tilded_hessian_num_funcs\n",
    "    ]\n",
    "\n",
    "    hessian_vals = np.array(hessian_vals)\n",
    "    # print(np.linalg.eig(hessian_vals))\n",
    "    # E_tilded_hessian_num_funcs\n",
    "    return hessian_vals\n",
    "\n",
    "def check_if_is_equilibrium(\n",
    "    alpha_til_value,\n",
    "    beta_til_value,\n",
    "    X_value,\n",
    "    A_r_til_value,\n",
    "):\n",
    "    grad_vals = [diff_func(alpha_til_value, beta_til_value, X_value, A_r_til_value)for diff_func in E_tilded_grad_funcs]\n",
    "\n",
    "    # print(grad_vals)\n",
    "\n",
    "    return (np.array(grad_vals) < 1e-9).all()\n",
    "    \n",
    "\n",
    "def check_if_equilibrium_stable(\n",
    "    gamma_til_value,\n",
    "    X_value,\n",
    "    A_r_til_value,\n",
    "):\n",
    "    hessian_num = find_hessian_numeric(\n",
    "        gamma_til_value,\n",
    "        gamma_til_value,\n",
    "        X_value,\n",
    "        A_r_til_value,\n",
    "    )\n",
    "\n",
    "    eig_res = np.linalg.eig(hessian_num)\n",
    "    return eig_res.eigenvalues.min() > 0\n",
    "\n",
    "    \n",
    "# find_hessian_numeric(\n",
    "#     find_gamma_eq_tilde_numeric(0.1,100),\n",
    "#     find_gamma_eq_tilde_numeric(0.1,100),\n",
    "#     1,\n",
    "#     0.01,\n",
    "# )\n",
    "    # E_tilded_hessian_symbolic\n",
    "# E_tilded_hessian\n",
    "# check_if_equilibrium_stable(\n",
    "#     find_gamma_eq_tilde_numeric(0.1,100),\n",
    "#     1,\n",
    "#     0.01,\n",
    "# )"
   ]
  },
  {
   "cell_type": "code",
   "execution_count": 107,
   "id": "95c3aa17-3993-4cc9-a7f3-f1dec01efb3d",
   "metadata": {},
   "outputs": [],
   "source": [
    "\n",
    "poisson_ratio_tilde_numeric_f = sympy.lambdify((gamma_til, X_til, A_r_til), poisson_tilde_of_gamma)\n",
    "# def get_poisson_ratio_tilde_at_equilibrium(\n",
    "#     gamma_til_value,\n",
    "#     X_value,\n",
    "#     A_r_til_value,\n",
    "# ):\n",
    "# num_poisson_til_func(\n",
    "#     find_gamma_eq_tilde_numeric(0.1,100),\n",
    "#     1,\n",
    "#     0.01,\n",
    "# ) "
   ]
  },
  {
   "cell_type": "code",
   "execution_count": 130,
   "id": "5cac1a04-e3f5-4e0a-b524-d5ba328cb4ca",
   "metadata": {
    "tags": []
   },
   "outputs": [
    {
     "data": {
      "application/vnd.jupyter.widget-view+json": {
       "model_id": "48db4b62521447df918280cac95f9cc0",
       "version_major": 2,
       "version_minor": 0
      },
      "image/png": "[encoded data removed]",
      "text/html": [
       "\n",
       "            <div style=\"display: inline-block;\">\n",
       "                <div class=\"jupyter-widgets widget-label\" style=\"text-align: center;\">\n",
       "                    Figure\n",
       "                </div>\n",
       "                <img src='data:image/png;base64,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' width=800.0/>\n",
       "            </div>\n",
       "        "
      ],
      "text/plain": [
       "Canvas(toolbar=Toolbar(toolitems=[('Home', 'Reset original view', 'home', 'home'), ('Back', 'Back to previous …"
      ]
     },
     "metadata": {},
     "output_type": "display_data"
    }
   ],
   "source": [
    "%matplotlib widget\n",
    "from matplotlib.colors import LogNorm\n",
    "from matplotlib.ticker import LogFormatterMathtext\n",
    "\n",
    "def plot_gamma_eq_2d():\n",
    "    Xratio_range = (0.1, 1000)\n",
    "    \n",
    "    ## A_r_tilde = A_r/(P_r)^2\n",
    "    A_r_til_range = ((np.sqrt(3)/24)*0.05 ,(np.sqrt(3)/24)*1000)\n",
    "    \n",
    "    A_r_til_vals, Xratio_vals = np.meshgrid(\n",
    "        np.logspace(\n",
    "            np.log10(A_r_til_range[0]),\n",
    "            np.log10(A_r_til_range[1]),\n",
    "            100,\n",
    "        ),\n",
    "        np.logspace(\n",
    "            np.log10(Xratio_range[0]),\n",
    "            np.log10(Xratio_range[1]),\n",
    "            100,\n",
    "        ),\n",
    "    )\n",
    "    \n",
    "    poisson_ratio_Z = np.zeros_like(Xratio_vals,dtype=float)\n",
    "    gamma_til_eq_Z = np.zeros_like(Xratio_vals,dtype=float)\n",
    "    \n",
    "    \n",
    "    for i in range(Xratio_vals.shape[0]):\n",
    "        for j in range(Xratio_vals.shape[1]):\n",
    "            X_num = Xratio_vals[i][j]\n",
    "            A_r_til_num = A_r_til_vals[i][j]\n",
    "            gamma_til_eq_num = find_gamma_eq_tilde_numeric(\n",
    "                X_num,\n",
    "                A_r_til_num,\n",
    "            )\n",
    "            is_stable = check_if_equilibrium_stable(gamma_til_eq_num, X_num, A_r_til_num)\n",
    "\n",
    "            is_an_equilibrium = check_if_is_equilibrium(gamma_til_eq_num,gamma_til_eq_num, X_num, A_r_til_num)\n",
    "\n",
    "\n",
    "            if is_an_equilibrium:# and is_stable:\n",
    "                gamma_til_eq_Z[i][j] = gamma_til_eq_num\n",
    "                \n",
    "                poisson_ratio_Z[i][j] = poisson_ratio_tilde_numeric_f(\n",
    "                    gamma_til_eq_num,\n",
    "                    X_num,\n",
    "                    A_r_til_num,\n",
    "                )\n",
    "            else:\n",
    "                gamma_til_eq_Z[i][j] = 0\n",
    "                \n",
    "                poisson_ratio_Z[i][j] = 0\n",
    "            \n",
    "            \n",
    "#     # Z1 = np.exp(-X**2 - Y**2)\n",
    "    fig, ax = plt.subplots(1,2,figsize=(8,4))\n",
    "\n",
    "    p_ratio_max_magnitude = np.abs(poisson_ratio_Z).max()\n",
    "\n",
    "    im_poisson_ratio = ax[0].pcolormesh(\n",
    "        Xratio_vals,\n",
    "        A_r_til_vals,\n",
    "        poisson_ratio_Z,\n",
    "        cmap='bwr' ,\n",
    "        vmin= -p_ratio_max_magnitude,\n",
    "        vmax=  p_ratio_max_magnitude,\n",
    "    )\n",
    "\n",
    "    \n",
    "    im_gamma_til_eq = ax[1].pcolormesh(\n",
    "        Xratio_vals,\n",
    "        A_r_til_vals,\n",
    "        gamma_til_eq_Z,\n",
    "        cmap='viridis' ,\n",
    "        norm=LogNorm(),\n",
    "        # vmin= -p_ratio_max_magnitude,\n",
    "        # vmax=  p_ratio_max_magnitude,\n",
    "    )\n",
    "    \n",
    "    ax[0].set_xscale('log')\n",
    "    ax[0].set_yscale('log')\n",
    "    ax[1].set_xscale('log')\n",
    "    ax[1].set_yscale('log')\n",
    "\n",
    "    \n",
    "    ax[0].set_ylabel(r\"$A_r/P_r^2$\")\n",
    "    ax[0].set_xlabel(r\"$P_r^2 k_A/k_P$\")\n",
    "    cbar_poisson  =fig.colorbar(im_poisson_ratio, orientation='vertical', label=r\"$\\nu$\")#, format=LogFormatterMathtext())\n",
    "    \n",
    "    cbar_gamma  =fig.colorbar(im_gamma_til_eq, orientation='vertical', label=r\"$\\gamma_{eq}/P_r$\", format=LogFormatterMathtext())\n",
    "    \n",
    "    cbar_gamma.ax.axhline(1/6, c='w')\n",
    "    ax[1].axhline(np.sqrt(3)/24, c='black', linestyle='--', label=r\"$A_r/P_r^2 = \\sqrt{3}/24$\")\n",
    "    ax[0].axhline(np.sqrt(3)/24, c='black', linestyle='--')\n",
    "    \n",
    "    ax[1].sharex(ax[0])\n",
    "    ax[1].sharey(ax[0])\n",
    "\n",
    "    plt.legend(loc='upper center', bbox_to_anchor=(0.8,1.11))\n",
    "    plt.show()\n",
    "\n",
    "\n",
    "plot_gamma_eq_2d()"
   ]
  },
  {
   "cell_type": "markdown",
   "id": "aa8f95f3-3f8c-4be9-a62b-8118522a2806",
   "metadata": {
    "tags": []
   },
   "source": [
    "### note:\n",
    "$$ P = 6\\gamma $$\n",
    "$$ A = \\frac{3\\sqrt{3}}{2}\\gamma^2 $$\n",
    "\n",
    "So, showing line where $A_{rest}$ and $P_{rest}$ correspond to the same gamma:\n",
    "$$ A \\cdot  \\frac{2}{3\\sqrt{3}} = \\gamma_{eq}^2 $$\n",
    "$$ \\frac{1}{36} P_{rest}^2 = \\gamma_{eq}^2 $$\n",
    "$$ A \\cdot  \\frac{2}{3\\sqrt{3}} = \\frac{1}{36} P_{rest}^2  $$\n",
    "$$ \\frac{A}{P_{rest}^2} =  \\frac{\\sqrt{3}}{24}  $$"
   ]
  },
  {
   "cell_type": "markdown",
   "id": "4210ec69-f5a0-47a5-ae4e-ec2f6bdc5713",
   "metadata": {},
   "source": []
  }
 ],
 "metadata": {
  "kernelspec": {
   "display_name": "Python 3 (ipykernel)",
   "language": "python",
   "name": "python3"
  },
  "language_info": {
   "codemirror_mode": {
    "name": "ipython",
    "version": 3
   },
   "file_extension": ".py",
   "mimetype": "text/x-python",
   "name": "python",
   "nbconvert_exporter": "python",
   "pygments_lexer": "ipython3",
   "version": "3.9.0"
  }
 },
 "nbformat": 4,
 "nbformat_minor": 5
}
