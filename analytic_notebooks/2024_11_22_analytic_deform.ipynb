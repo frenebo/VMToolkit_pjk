{
 "cells": [
  {
   "cell_type": "markdown",
   "id": "0a3fb659-46fe-474e-8c43-0e4e4c636978",
   "metadata": {},
   "source": [
    "## What is poisson ratio for vertex model?\n",
    "\n",
    "Here is the model:\n",
    "\n",
    "$$ E = k_A \\left(A-A_r\\right)^2 + k_P \\left(P - P_r\\right)^2 $$"
   ]
  },
  {
   "cell_type": "markdown",
   "id": "79e7ea08-e48b-4f16-836a-f8c7fcdb35c6",
   "metadata": {
    "jp-MarkdownHeadingCollapsed": true,
    "tags": []
   },
   "source": [
    "### What does the cell look like?\n",
    "![title](2024_11_22_analytic_deform_img/diagram-20241122.png)\n",
    "\n"
   ]
  },
  {
   "cell_type": "markdown",
   "id": "a7578ef5-1353-46fa-a8ad-3d2881a11de0",
   "metadata": {},
   "source": [
    "### Finding the area and the perimeter:\n",
    "$$ A = 6 \\cdot A_{triangle} = 6 \\cdot \\frac{1}{2} \\left[\\alpha l_i \\cdot \\beta l_i \\frac{\\sqrt{3}}{2}\\right] $$\n",
    "$$ A = \\frac{3\\sqrt{3}}{2}\\alpha  \\beta l_i^2  $$"
   ]
  },
  {
   "cell_type": "markdown",
   "id": "c2daa78f-de41-48f0-94e7-9e9f319c7f0c",
   "metadata": {},
   "source": [
    "$$ P = 2 \\cdot \\left[\\alpha l_i\\right] + 4 \\left[\\frac{l_i}{2} \\sqrt{\\alpha^2 + 3 \\beta^2} \\right] $$\n",
    "$$ P = 2 \\alpha l_i + 2 l_i \\sqrt{\\alpha^2 + 3 \\beta^2}  $$"
   ]
  },
  {
   "cell_type": "markdown",
   "id": "b9af8092-9b5c-42f6-8456-e837f27a878e",
   "metadata": {},
   "source": [
    "## Using sympy to define stuff"
   ]
  },
  {
   "cell_type": "code",
   "execution_count": 2,
   "id": "00222bfb-2dfd-4969-b9a1-1c204b123b3f",
   "metadata": {},
   "outputs": [
    {
     "data": {
      "text/latex": [
       "$\\displaystyle k_{A} \\left(- A_{r} + \\frac{3 \\sqrt{3} \\alpha \\beta l_{i}^{2}}{2}\\right)^{2} + k_{P} \\left(- P_{r} + 2 \\alpha l_{i} + 2 l_{i} \\sqrt{\\alpha^{2} + 3 \\beta^{2}}\\right)^{2}$"
      ],
      "text/plain": [
       "k_A*(-A_r + 3*sqrt(3)*alpha*beta*l_i**2/2)**2 + k_P*(-P_r + 2*alpha*l_i + 2*l_i*sqrt(alpha**2 + 3*beta**2))**2"
      ]
     },
     "execution_count": 2,
     "metadata": {},
     "output_type": "execute_result"
    }
   ],
   "source": [
    "import sympy\n",
    "def create_area_symexp(\n",
    "    s_alpha,\n",
    "    s_beta,\n",
    "    s_l_i,\n",
    "):\n",
    "    s_A = (sympy.sqrt(3)*3/2)*s_alpha*s_beta* (s_l_i**2)\n",
    "    return s_A\n",
    "\n",
    "def create_perim_symexp(\n",
    "    s_alpha,\n",
    "    s_beta,\n",
    "    s_l_i,\n",
    "):\n",
    "    s_P = 2*s_alpha*s_l_i + 2*s_l_i*sympy.sqrt(s_alpha**2 + 3 * s_beta**2)\n",
    "    return s_P\n",
    "\n",
    "def area_energy_symexp(\n",
    "    s_alpha,\n",
    "    s_beta,\n",
    "    s_l_i,\n",
    "    s_Area_rest,\n",
    "    s_k_A,\n",
    "):\n",
    "    s_Area = create_area_symexp(s_alpha, s_beta, s_l_i)\n",
    "    return s_k_A * (s_Area - s_Area_rest)**2\n",
    "    pass\n",
    "\n",
    "def perimeter_energy_symexp(\n",
    "    s_alpha,\n",
    "    s_beta,\n",
    "    s_l_i,\n",
    "    s_P_r,\n",
    "    s_k_P,\n",
    "):\n",
    "    s_Perimeter = create_perim_symexp(s_alpha, s_beta, s_l_i)\n",
    "    return s_k_P * (s_Perimeter - s_P_r)**2\n",
    "    \n",
    "\n",
    "def create_energy_symexp(\n",
    "    s_alpha,\n",
    "    s_beta,\n",
    "    s_l_i,\n",
    "    s_Area_rest,\n",
    "    s_Perimeter_rest,\n",
    "    s_k_A,\n",
    "    s_k_P,\n",
    "):\n",
    "    s_E_area = area_energy_symexp(s_alpha, s_beta, s_l_i, s_Area_rest, s_k_A)\n",
    "    s_E_perim = perimeter_energy_symexp(s_alpha, s_beta, s_l_i, s_Perimeter_rest, s_k_P)\n",
    "    \n",
    "    \n",
    "    s_E = s_E_area + s_E_perim\n",
    "    \n",
    "    return s_E\n",
    "    \n",
    "\n",
    "alpha, beta, l_i = sympy.symbols(\"alpha beta l_i\", real=True, positive=True)\n",
    "A_r, P_r = sympy.symbols(\"A_r P_r\", real=True, positive=True)\n",
    "k_A, k_P = sympy.symbols(\"k_A k_P\", real=True)\n",
    "\n",
    "energy_basic = create_energy_symexp(\n",
    "    alpha,beta,l_i, A_r, P_r, k_A, k_P,\n",
    ")\n",
    "\n",
    "energy_basic\n",
    "\n",
    "# A_r.is_real"
   ]
  },
  {
   "cell_type": "markdown",
   "id": "d989ad87-f28a-4df5-a7a5-d32bfa787f07",
   "metadata": {},
   "source": [
    "## What are the conditions for the hexagonal packing to be stable?\n",
    "Maybe this is a wrong way to think about it? But I think that if the perimeter term wants the cell to be smaller than the area term does, then it will be stable (like a balloon). But if the area terms wants the cell to be smaller, then the stable situation will be a deflated cell - not good.\n",
    "\n",
    "So assuming that $\\alpha=\\beta$, we want to find the stable $\\alpha$ for the area term and for the perimeter term - depending on which one is bigger, that should tell us the stability of the system."
   ]
  },
  {
   "cell_type": "markdown",
   "id": "3784a80f-5cd3-4ef2-bfaf-f28b1692b058",
   "metadata": {},
   "source": [
    "### Find the rest alpha for just area energy term"
   ]
  },
  {
   "cell_type": "code",
   "execution_count": 3,
   "id": "ce6ee066-32f7-454a-ad65-4f6f8a8e4f94",
   "metadata": {},
   "outputs": [
    {
     "name": "stdout",
     "output_type": "stream",
     "text": [
      "Alpha that minimizes the area energy term:\n"
     ]
    },
    {
     "data": {
      "text/latex": [
       "$\\displaystyle \\frac{\\sqrt{2} \\cdot \\sqrt[4]{3} \\sqrt{A_{r}}}{3 l_{i}}$"
      ],
      "text/plain": [
       "sqrt(2)*3**(1/4)*sqrt(A_r)/(3*l_i)"
      ]
     },
     "execution_count": 3,
     "metadata": {},
     "output_type": "execute_result"
    }
   ],
   "source": [
    "area_energy_isotropic = area_energy_symexp(\n",
    "    alpha,\n",
    "    beta,\n",
    "    l_i,\n",
    "    A_r,\n",
    "    k_A\n",
    ").subs([\n",
    "    (beta,alpha),\n",
    "    (k_A, 1),\n",
    "])\n",
    "\n",
    "sols_for_area_en_iso = sympy.solve(area_energy_isotropic.diff(alpha), alpha)\n",
    "\n",
    "if len(sols_for_area_en_iso) != 1:\n",
    "    print(sols_for_area_en_iso)\n",
    "    raise Exception(\"Expected exactly one minimum for the area energy...\")\n",
    "\n",
    "alpha_rest_for_area = sols_for_area_en_iso[0]\n",
    "# len(da_sol)\n",
    "\n",
    "print(\"Alpha that minimizes the area energy term:\")\n",
    "alpha_rest_for_area"
   ]
  },
  {
   "cell_type": "markdown",
   "id": "d4efef06-a3d0-4b16-99c5-82cf41e666c2",
   "metadata": {},
   "source": [
    "### Find the rest alpha for the perimeter term"
   ]
  },
  {
   "cell_type": "code",
   "execution_count": 4,
   "id": "e03fb0d7-1b51-4c70-a79f-1a5a39a2238e",
   "metadata": {},
   "outputs": [
    {
     "name": "stdout",
     "output_type": "stream",
     "text": [
      "Alpha that minimizes the perimeter energy term:\n"
     ]
    },
    {
     "data": {
      "text/latex": [
       "$\\displaystyle \\frac{P_{r}}{6 l_{i}}$"
      ],
      "text/plain": [
       "P_r/(6*l_i)"
      ]
     },
     "execution_count": 4,
     "metadata": {},
     "output_type": "execute_result"
    }
   ],
   "source": [
    "perimeter_energy_isotropic = perimeter_energy_symexp(\n",
    "    alpha,\n",
    "    beta,\n",
    "    l_i,\n",
    "    P_r,\n",
    "    k_P\n",
    ").subs([\n",
    "    (beta,alpha),\n",
    "    (k_P, 1),\n",
    "])\n",
    "\n",
    "perimeter_energy_isotropic\n",
    "\n",
    "sols_for_p_en_iso = sympy.solve(perimeter_energy_isotropic.diff(alpha), alpha)\n",
    "\n",
    "if len(sols_for_p_en_iso) != 1:\n",
    "    raise Exception(\"Expected exactly one energy minimum for the perimeter energy term...\")\n",
    "# sols_for_p_en_iso\n",
    "alpha_rest_for_perimeter = sols_for_p_en_iso[0]\n",
    "\n",
    "print(\"Alpha that minimizes the perimeter energy term:\")\n",
    "alpha_rest_for_perimeter"
   ]
  },
  {
   "cell_type": "markdown",
   "id": "1d374d76-c3f8-4047-91bd-e4c193f9df38",
   "metadata": {},
   "source": [
    "## This is the inequality if we want to stay in the easy to deal with case:\n",
    "\n",
    "$$ \\alpha_{perim,rest} < \\alpha_{area,rest} $$"
   ]
  },
  {
   "cell_type": "code",
   "execution_count": 4,
   "id": "1338345e-cbef-4102-870b-482e8fa21c58",
   "metadata": {},
   "outputs": [
    {
     "name": "stdout",
     "output_type": "stream",
     "text": [
      "The P_r 'rest perimeter' has to be less than this value:\n"
     ]
    },
    {
     "data": {
      "text/latex": [
       "$\\displaystyle \\left(-\\infty, 2 \\sqrt{2} \\sqrt[4]{3} \\sqrt{A_{r}}\\right)$"
      ],
      "text/plain": [
       "Interval.open(-oo, 2*sqrt(2)*3**(1/4)*sqrt(A_r))"
      ]
     },
     "execution_count": 4,
     "metadata": {},
     "output_type": "execute_result"
    }
   ],
   "source": [
    "# x_test = sympy.symbols(\"x\")\n",
    "# sympy.solveset((10000 / x_test) - 1 < 0, x_test, sympy.Reals)\n",
    "print(\"The P_r 'rest perimeter' has to be less than this value:\")\n",
    "\n",
    "sympy.solveset(alpha_rest_for_perimeter < alpha_rest_for_area, P_r, sympy.Reals)"
   ]
  },
  {
   "cell_type": "markdown",
   "id": "837c8114-91ac-40bd-b853-4684f6db1fe7",
   "metadata": {},
   "source": [
    "## Now that we can assume $\\alpha_{equilibrium} = \\beta_{equilibrium}$, how do we find the equilibrium alpha for a given system?\n",
    "Here is the energy, substituting $\\beta = \\alpha$ since our equilibrium cell should be stretched isotropically. \n",
    "$$\\beta=\\alpha$$"
   ]
  },
  {
   "cell_type": "code",
   "execution_count": 50,
   "id": "1d451116-a31a-43a6-a5d2-64263e67eea0",
   "metadata": {},
   "outputs": [
    {
     "data": {
      "text/latex": [
       "$\\displaystyle E{\\left(\\alpha,\\beta,A_{r},P_{r},k_{A},k_{P},l_{i} \\right)} = k_{A} \\left(- A_{r} + \\frac{3 \\sqrt{3} \\alpha^{2} l_{i}^{2}}{2}\\right)^{2} + k_{P} \\left(- P_{r} + 6 \\alpha l_{i}\\right)^{2}$"
      ],
      "text/plain": [
       "Eq(E(alpha, beta, A_r, P_r, k_A, k_P, l_i), k_A*(-A_r + 3*sqrt(3)*alpha**2*l_i**2/2)**2 + k_P*(-P_r + 6*alpha*l_i)**2)"
      ]
     },
     "execution_count": 50,
     "metadata": {},
     "output_type": "execute_result"
    }
   ],
   "source": [
    "energy_expression_whittle_step_1 = energy_basic.subs([\n",
    "    (beta, alpha),\n",
    "])\n",
    "\n",
    "sympy.Eq(\n",
    "    sympy.Function('E')(alpha, beta, A_r, P_r, k_A, k_P, l_i),\n",
    "    energy_expression_whittle_step_1,\n",
    ")"
   ]
  },
  {
   "cell_type": "markdown",
   "id": "c304d551-b559-4260-aecf-3b0ef26337e8",
   "metadata": {},
   "source": [
    "Any scaling of $l_i$ can be factored into $\\alpha$, so we can say $\\tilde{\\alpha}=\\alpha l_i$.\n",
    "\n",
    "Also, the equilibrium condition $dE/d\\alpha = 0$ shouldn't depend on the scaling of the entire energy, just the ratio of $k_A$ and $k_P$ - so we can also set $\\tilde{k_P} = k_P/k_A$.\n",
    "$$\\tilde{\\alpha}=\\alpha l_i$$\n",
    "$$\\tilde{k_P} = k_P/k_A$$"
   ]
  },
  {
   "cell_type": "code",
   "execution_count": 59,
   "id": "fb79d9f5-cd9c-4b72-a8cc-d42b5120e7da",
   "metadata": {},
   "outputs": [
    {
     "data": {
      "text/latex": [
       "$\\displaystyle E{\\left(\\tilde{\\alpha},A_{r},P_{r},k_{A},\\tilde{k_P} \\right)} = \\tilde{k_P} k_{A} \\left(- P_{r} + 6 \\tilde{\\alpha}\\right)^{2} + k_{A} \\left(- A_{r} + \\frac{3 \\sqrt{3} \\tilde{\\alpha}^{2}}{2}\\right)^{2}$"
      ],
      "text/plain": [
       "Eq(E(\\tilde{\\alpha}, A_r, P_r, k_A, \\tilde{k_P}), \\tilde{k_P}*k_A*(-P_r + 6*\\tilde{\\alpha})**2 + k_A*(-A_r + 3*sqrt(3)*\\tilde{\\alpha}**2/2)**2)"
      ]
     },
     "execution_count": 59,
     "metadata": {},
     "output_type": "execute_result"
    }
   ],
   "source": [
    "alpha_til = sympy.symbols(r\"\\tilde{\\alpha}\")\n",
    "k_P_til = sympy.symbols(r\"\\tilde{k_P}\")\n",
    "energy_expression_whittle_step_2 = energy_expression_whittle_step_1.subs([\n",
    "    (alpha*l_i, alpha_til),\n",
    "    (k_P, k_A * k_P_til),\n",
    "])\n",
    "\n",
    "sympy.Eq(\n",
    "    sympy.Function('E')(alpha_til, A_r, P_r, k_A, k_P_til),\n",
    "    \n",
    "    energy_expression_whittle_step_2,\n",
    ")"
   ]
  },
  {
   "cell_type": "markdown",
   "id": "19c8d763-acdc-4176-9f9a-edcd12228982",
   "metadata": {},
   "source": [
    "### Assuming $k_A > 0$, we can divide through by $k_A$ without changing the values of the energy minimums:"
   ]
  },
  {
   "cell_type": "code",
   "execution_count": 60,
   "id": "b371ebaf-6221-4bc4-ab90-86900814e628",
   "metadata": {},
   "outputs": [
    {
     "data": {
      "text/latex": [
       "$\\displaystyle \\tilde{E}{\\left(\\tilde{\\alpha},A_{r},P_{r},\\tilde{k_P} \\right)} = \\tilde{k_P} \\left(P_{r} - 6 \\tilde{\\alpha}\\right)^{2} + \\frac{\\left(2 A_{r} - 3 \\sqrt{3} \\tilde{\\alpha}^{2}\\right)^{2}}{4}$"
      ],
      "text/plain": [
       "Eq(\\tilde{E}(\\tilde{\\alpha}, A_r, P_r, \\tilde{k_P}), \\tilde{k_P}*(P_r - 6*\\tilde{\\alpha})**2 + (2*A_r - 3*sqrt(3)*\\tilde{\\alpha}**2)**2/4)"
      ]
     },
     "execution_count": 60,
     "metadata": {},
     "output_type": "execute_result"
    }
   ],
   "source": [
    "energy_expression_whittle_step_3 = (energy_expression_whittle_step_2 / k_A).simplify()\n",
    "\n",
    "sympy.Eq(\n",
    "    sympy.Function(r'\\tilde{E}')(alpha_til, A_r, P_r, k_P_til),\n",
    "    \n",
    "    energy_expression_whittle_step_3,\n",
    ")"
   ]
  },
  {
   "cell_type": "markdown",
   "id": "67e93191-69dd-4959-8844-681a182d532f",
   "metadata": {},
   "source": [
    "The condition for equilibrium is that $d\\tilde{E}/d\\tilde{\\alpha}$ = 0, so we take the derivative with respect to $\\tilde{\\alpha}$:"
   ]
  },
  {
   "cell_type": "code",
   "execution_count": 61,
   "id": "d44a9ae2-e285-4947-8f48-8249c7ac150c",
   "metadata": {},
   "outputs": [
    {
     "name": "stdout",
     "output_type": "stream",
     "text": [
      "Derivative of E with respect to alpha, holding other variables constant:\n"
     ]
    },
    {
     "data": {
      "text/latex": [
       "$\\displaystyle \\frac{\\partial}{\\partial \\tilde{\\alpha}} \\tilde{E}{\\left(\\tilde{\\alpha},A_{r},P_{r},\\tilde{k_P} \\right)} = - 6 \\sqrt{3} A_{r} \\tilde{\\alpha} k_{A} - 12 P_{r} \\tilde{k_P} k_{A} + 27 \\tilde{\\alpha}^{3} k_{A} + 72 \\tilde{\\alpha} \\tilde{k_P} k_{A}$"
      ],
      "text/plain": [
       "Eq(Derivative(\\tilde{E}(\\tilde{\\alpha}, A_r, P_r, \\tilde{k_P}), \\tilde{\\alpha}), -6*sqrt(3)*A_r*\\tilde{\\alpha}*k_A - 12*P_r*\\tilde{k_P}*k_A + 27*\\tilde{\\alpha}**3*k_A + 72*\\tilde{\\alpha}*\\tilde{k_P}*k_A)"
      ]
     },
     "execution_count": 61,
     "metadata": {},
     "output_type": "execute_result"
    }
   ],
   "source": [
    "dE_dalpha_iso_exp = energy_expression_whittle_step_2.diff(alpha_til).expand()\n",
    "\n",
    "print(\"Derivative of E with respect to alpha, holding other variables constant:\")\n",
    "sympy.Eq(\n",
    "    (sympy.Function(r\"\\tilde{E}\")(alpha_til, A_r, P_r, k_P_til)).diff(alpha_til),\n",
    "    dE_dalpha_iso_exp,\n",
    ")"
   ]
  },
  {
   "cell_type": "markdown",
   "id": "c39918c3-891f-4442-ba79-e0897e5046c8",
   "metadata": {},
   "source": [
    "It's kind of hard to find the roots in alpha when holding the $P_r$ and $\\tilde{k_P}$ terms constant - so instead, we can find the $P_r$ that will make a given $\\alpha$ a root, with also a given $k_P$:"
   ]
  },
  {
   "cell_type": "code",
   "execution_count": 62,
   "id": "bfa22cd6-cb42-44e2-8732-5592555f0526",
   "metadata": {},
   "outputs": [],
   "source": [
    "# all_perim_rest_solutions_for_stable_at_given_alph = sympy.solve(dE_dalpha_iso_exp, P_r)\n",
    "\n",
    "# if len(all_perim_rest_solutions_for_stable_at_given_alph) != 1:\n",
    "#     raise Exception(\"Only expected one root...\")\n",
    "\n",
    "# all_perim_rest_solutions_for_stable_at_given_alph[0]"
   ]
  },
  {
   "cell_type": "code",
   "execution_count": 63,
   "id": "66625af4-824a-4567-9502-eff87771557f",
   "metadata": {},
   "outputs": [
    {
     "data": {
      "text/latex": [
       "$\\displaystyle \\frac{\\tilde{\\alpha} \\left(- 2 \\sqrt{3} A_{r} + 9 \\tilde{\\alpha}^{2} + 24 \\tilde{k_P}\\right)}{4 \\tilde{k_P}}$"
      ],
      "text/plain": [
       "\\tilde{\\alpha}*(-2*sqrt(3)*A_r + 9*\\tilde{\\alpha}**2 + 24*\\tilde{k_P})/(4*\\tilde{k_P})"
      ]
     },
     "execution_count": 63,
     "metadata": {},
     "output_type": "execute_result"
    }
   ],
   "source": [
    "perim_rest_for_stable_alpha_TILDED = sympy.solve(dE_dalpha_iso_exp, P_r)[0]\n",
    "\n",
    "perim_rest_for_stable_alpha_TILDED"
   ]
  },
  {
   "cell_type": "markdown",
   "id": "19f78e23-150a-4ec5-a3be-8eb4c17ffa2f",
   "metadata": {},
   "source": [
    "### We implicitly have $\\alpha_{stable}$ as a function of $P_r$, $A_r$, $k_P$, $k_A$, $l_i$"
   ]
  },
  {
   "cell_type": "code",
   "execution_count": 64,
   "id": "6f0ae476-9aff-412c-a3b7-59a908896d00",
   "metadata": {},
   "outputs": [
    {
     "data": {
      "text/latex": [
       "$\\displaystyle P_{r} = \\frac{\\alpha_{stable} k_{A} l_{i} \\left(- 2 \\sqrt{3} A_{r} + 9 \\alpha_{stable}^{2} l_{i}^{2} + \\frac{24 k_{P}}{k_{A}}\\right)}{4 k_{P}}$"
      ],
      "text/plain": [
       "Eq(P_r, \\alpha_{stable}*k_A*l_i*(-2*sqrt(3)*A_r + 9*\\alpha_{stable}**2*l_i**2 + 24*k_P/k_A)/(4*k_P))"
      ]
     },
     "execution_count": 64,
     "metadata": {},
     "output_type": "execute_result"
    }
   ],
   "source": [
    "perim_rest_for_stable_alpha = perim_rest_for_stable_alpha_TILDED.subs([\n",
    "    (alpha_til, alpha*l_i),\n",
    "    (k_P_til, k_P/k_A),\n",
    "])\n",
    "\n",
    "sympy.Eq(\n",
    "    P_r,\n",
    "    perim_rest_for_stable_alpha.subs([\n",
    "        (alpha, sympy.symbols(r\"\\alpha_{stable}\")),\n",
    "    ])\n",
    ")"
   ]
  },
  {
   "cell_type": "markdown",
   "id": "e90372b9-d512-4935-bcde-a116f7b1b5eb",
   "metadata": {},
   "source": [
    "## Finding the poisson ratio\n",
    "\n",
    "So, we can now (at least implicitly!) find the alpha that brings a cell to equilibrium."
   ]
  },
  {
   "cell_type": "markdown",
   "id": "67c16fa8-b4a7-480e-a9c1-a84ab0d05086",
   "metadata": {},
   "source": [
    "## How do we find poisson ratio around the stable alpha?"
   ]
  },
  {
   "cell_type": "code",
   "execution_count": 65,
   "id": "d8e3d02f-217b-4dbf-84cd-0e43aae35cdd",
   "metadata": {},
   "outputs": [
    {
     "data": {
      "text/latex": [
       "$\\displaystyle \\frac{27 \\alpha_{stest}^{2} k_{A} l_{i}^{4}}{2} - \\frac{3 \\alpha_{stest}^{2} k_{P} l_{i} \\left(- P_{r} + 2 \\alpha_{stest} l_{i} + 4 l_{i} \\sqrt{\\alpha_{stest}^{2}}\\right)}{2 \\left(\\alpha_{stest}^{2}\\right)^{\\frac{3}{2}}} + \\frac{3 \\alpha_{stest} k_{P} l_{i} \\left(\\frac{2 \\alpha_{stest} l_{i}}{\\sqrt{\\alpha_{stest}^{2}}} + 4 l_{i}\\right)}{\\sqrt{\\alpha_{stest}^{2}}} + 3 \\sqrt{3} k_{A} l_{i}^{2} \\left(- A_{r} + \\frac{3 \\sqrt{3} \\alpha_{stest}^{2} l_{i}^{2}}{2}\\right)$"
      ],
      "text/plain": [
       "27*\\alpha_{stest}**2*k_A*l_i**4/2 - 3*\\alpha_{stest}**2*k_P*l_i*(-P_r + 2*\\alpha_{stest}*l_i + 4*l_i*sqrt(\\alpha_{stest}**2))/(2*(\\alpha_{stest}**2)**(3/2)) + 3*\\alpha_{stest}*k_P*l_i*(2*\\alpha_{stest}*l_i/sqrt(\\alpha_{stest}**2) + 4*l_i)/sqrt(\\alpha_{stest}**2) + 3*sqrt(3)*k_A*l_i**2*(-A_r + 3*sqrt(3)*\\alpha_{stest}**2*l_i**2/2)"
      ]
     },
     "execution_count": 65,
     "metadata": {},
     "output_type": "execute_result"
    }
   ],
   "source": [
    "alph_stable_dummy = sympy.symbols(r\"\\alpha_{stest}\")\n",
    "\n",
    "# alph_stable_dummy\n",
    "energy_basic.diff(alpha).diff(beta).subs([\n",
    "    (alpha, alph_stable_dummy),\n",
    "    (beta, alph_stable_dummy),\n",
    "])"
   ]
  },
  {
   "cell_type": "code",
   "execution_count": 66,
   "id": "b605f013-7b0e-410f-80bb-e3eae64c627d",
   "metadata": {},
   "outputs": [
    {
     "data": {
      "text/latex": [
       "$\\displaystyle \\frac{27 \\alpha_{stest}^{2} k_{A} l_{i}^{4}}{2} - \\frac{9 \\alpha_{stest}^{2} k_{P} l_{i} \\left(- P_{r} + 2 \\alpha_{stest} l_{i} + 4 l_{i} \\sqrt{\\alpha_{stest}^{2}}\\right)}{2 \\left(\\alpha_{stest}^{2}\\right)^{\\frac{3}{2}}} + 18 k_{P} l_{i}^{2} + \\frac{6 k_{P} l_{i} \\left(- P_{r} + 2 \\alpha_{stest} l_{i} + 4 l_{i} \\sqrt{\\alpha_{stest}^{2}}\\right)}{\\sqrt{\\alpha_{stest}^{2}}}$"
      ],
      "text/plain": [
       "27*\\alpha_{stest}**2*k_A*l_i**4/2 - 9*\\alpha_{stest}**2*k_P*l_i*(-P_r + 2*\\alpha_{stest}*l_i + 4*l_i*sqrt(\\alpha_{stest}**2))/(2*(\\alpha_{stest}**2)**(3/2)) + 18*k_P*l_i**2 + 6*k_P*l_i*(-P_r + 2*\\alpha_{stest}*l_i + 4*l_i*sqrt(\\alpha_{stest}**2))/sqrt(\\alpha_{stest}**2)"
      ]
     },
     "execution_count": 66,
     "metadata": {},
     "output_type": "execute_result"
    }
   ],
   "source": [
    "\n",
    "energy_basic.diff(beta).diff(beta).subs([\n",
    "    (alpha, alph_stable_dummy),\n",
    "    (beta, alph_stable_dummy),\n",
    "])"
   ]
  },
  {
   "cell_type": "markdown",
   "id": "ea69ca6a-f3be-4a68-8da8-5490dfae705d",
   "metadata": {},
   "source": [
    "# TODO: Define alpha stable equals one, and work from there ?"
   ]
  },
  {
   "cell_type": "code",
   "execution_count": null,
   "id": "c495374a-987f-4ea6-b218-1936be072091",
   "metadata": {},
   "outputs": [],
   "source": []
  }
 ],
 "metadata": {
  "kernelspec": {
   "display_name": "Python 3 (ipykernel)",
   "language": "python",
   "name": "python3"
  },
  "language_info": {
   "codemirror_mode": {
    "name": "ipython",
    "version": 3
   },
   "file_extension": ".py",
   "mimetype": "text/x-python",
   "name": "python",
   "nbconvert_exporter": "python",
   "pygments_lexer": "ipython3",
   "version": "3.11.5"
  }
 },
 "nbformat": 4,
 "nbformat_minor": 5
}
