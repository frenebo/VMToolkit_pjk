{
 "cells": [
  {
   "cell_type": "code",
   "execution_count": null,
   "id": "520ba52e-f604-43ca-8609-40ccf9962ef5",
   "metadata": {},
   "outputs": [],
   "source": [
    "from VMToolkit.visualizer import new_visualize_simulation\n",
    "from VMToolkit.sim.vm_state import VMState\n",
    "import sys\n",
    "import os\n",
    "import pandas as pd\n",
    "import plotly.express as px\n",
    "import json\n",
    "import numpy as np\n",
    "\n"
   ]
  },
  {
   "cell_type": "code",
   "execution_count": null,
   "id": "2e6c1844-3b44-4c8f-b5a4-f2edfcfed993",
   "metadata": {},
   "outputs": [],
   "source": [
    "\n",
    "import plotly.graph_objects as go\n",
    "\n",
    "ckpts_dirpath = \"/Users/paulkreymborg/Documents/code/VMToolkit_pjk/scratch/comsolsim\"\n",
    "# battery_dir = \"/Users/paulkreymborg/Documents/code/VMToolkit_pjk/scratch/batmedium_test\"\n",
    "# experiment_idx = 1\n",
    "\n",
    "# with open(os.path.join(battery_dir, \"manifest_experiments.json\"), \"r\") as f:\n",
    "#     manifest_jobj = json.load(f)\n",
    "\n",
    "# with open(os.path.join(battery_dir, manifest_jobj['sub_experiments'][experiment_idx]['conf_path']), \"r\") as f:\n",
    "#     experiment_metadata = json.load(f)\n",
    "\n",
    "ckpt_fns = [fn for fn in sorted(os.listdir(ckpts_dirpath)) if fn.startswith('res') and fn.endswith('json')]\n",
    "# ckpt_fns = [fn for fn in sorted(os.listdir(ckpts_dirpath)) if fn.endswith('json')]\n",
    "\n",
    "ckpt_states = []\n",
    "for fn in ckpt_fns:\n",
    "    with open(os.path.join(ckpts_dirpath, fn), 'r') as f:\n",
    "        ckpt_states.append(VMState.from_json(json.load(f)))\n",
    "# # start :x,y=0.621058,-1\n",
    "fig = new_visualize_simulation(\n",
    "    ckpt_states,\n",
    "    fields_to_show=[\"comsol_field_force\"],\n",
    "    viz_arg\n",
    ")\n",
    "\n",
    "# fig.add_trace(go.Scatter(\n",
    "#     x=[0.621058, 0.462368 , 0.400422, 0.310529],\n",
    "#     y=[-1.0757 , -0.800844,-0.693551,-0.537852],\n",
    "# ))\n",
    "fig"
   ]
  },
  {
   "cell_type": "code",
   "execution_count": null,
   "id": "366df42c-33df-4488-aa57-e665ce17e9bd",
   "metadata": {},
   "outputs": [],
   "source": [
    "print(ckpt_states[0].tissue_state().forces())"
   ]
  },
  {
   "cell_type": "code",
   "execution_count": null,
   "id": "3e68c959-a98c-4b2b-af1c-ae47860ee1de",
   "metadata": {},
   "outputs": [],
   "source": [
    "(ckpt_states[0].sim_current_stats()\n",
    "        .forces_stats().current_vertex_forces()\n",
    "       .vertex_force_stats_by_forceid()\n",
    "[\"comsol_field_force\"].force_experienced_by_vertex_id())"
   ]
  },
  {
   "cell_type": "code",
   "execution_count": null,
   "id": "7fa6645a-24d8-4d3b-8925-ac48dbbb076f",
   "metadata": {},
   "outputs": [],
   "source": []
  }
 ],
 "metadata": {
  "kernelspec": {
   "display_name": "Python 3 (ipykernel)",
   "language": "python",
   "name": "python3"
  },
  "language_info": {
   "codemirror_mode": {
    "name": "ipython",
    "version": 3
   },
   "file_extension": ".py",
   "mimetype": "text/x-python",
   "name": "python",
   "nbconvert_exporter": "python",
   "pygments_lexer": "ipython3",
   "version": "3.9.0"
  }
 },
 "nbformat": 4,
 "nbformat_minor": 5
}
