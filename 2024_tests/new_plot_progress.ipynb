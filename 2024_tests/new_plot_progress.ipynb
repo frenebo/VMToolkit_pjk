{
 "cells": [
  {
   "cell_type": "code",
   "execution_count": null,
   "id": "cd64a39c-1967-44ea-9028-6c9d404cd0c3",
   "metadata": {},
   "outputs": [],
   "source": [
    "from VMToolkit.visualizer import new_visualize_simulation\n",
    "from VMToolkit.sim.vm_state import VMState\n",
    "import sys\n",
    "import os\n",
    "import pandas as pd\n",
    "import plotly.express as px\n",
    "import json\n",
    "import numpy as np\n",
    "\n"
   ]
  },
  {
   "cell_type": "code",
   "execution_count": null,
   "id": "eb58ccbb-be0d-4dbc-8975-ba2707f42c33",
   "metadata": {},
   "outputs": [],
   "source": [
    "\n",
    "battery_dir = \"/Users/paulkreymborg/Documents/code/VMToolkit_pjk/scratch/batmedium_test\"\n",
    "experiment_idx = 0\n",
    "\n",
    "with open(os.path.join(battery_dir, \"manifest_experiments.json\"), \"r\") as f:\n",
    "    manifest_jobj = json.load(f)\n",
    "\n",
    "with open(os.path.join(battery_dir, manifest_jobj['sub_experiments'][experiment_idx]['conf_path']), \"r\") as f:\n",
    "    experiment_metadata = json.load(f)\n",
    "\n",
    "ckpts_dirpath = os.path.join(battery_dir, manifest_jobj['sub_experiments'][experiment_idx]['ckpts_dir'])\n",
    "ckpt_fns = [fn for fn in sorted(os.listdir(ckpts_dirpath)) if fn.startswith('res') and fn.endswith('json')]\n",
    "# ckpt_fns = os.listdir(\n",
    "ckpt_states = []\n",
    "for fn in ckpt_fns:\n",
    "    with open(os.path.join(ckpts_dirpath, fn), 'r') as f:\n",
    "        ckpt_states.append(VMState.from_json(json.load(f)))\n",
    "\n",
    "fig = new_visualize_simulation(ckpt_states)\n",
    "fig"
   ]
  },
  {
   "cell_type": "code",
   "execution_count": null,
   "id": "c52259c4-12ec-49eb-9fcd-428725f8598d",
   "metadata": {},
   "outputs": [],
   "source": [
    "ckpt_states[0].tissue_state().forces()['left_forcing_field'].force_type"
   ]
  },
  {
   "cell_type": "code",
   "execution_count": null,
   "id": "6c4e27e1-a915-4a31-95c1-27466e19dcfd",
   "metadata": {},
   "outputs": [],
   "source": []
  }
 ],
 "metadata": {
  "kernelspec": {
   "display_name": "Python 3 (ipykernel)",
   "language": "python",
   "name": "python3"
  },
  "language_info": {
   "codemirror_mode": {
    "name": "ipython",
    "version": 3
   },
   "file_extension": ".py",
   "mimetype": "text/x-python",
   "name": "python",
   "nbconvert_exporter": "python",
   "pygments_lexer": "ipython3",
   "version": "3.9.0"
  }
 },
 "nbformat": 4,
 "nbformat_minor": 5
}
