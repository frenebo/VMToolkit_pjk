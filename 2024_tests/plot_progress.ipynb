{
 "cells": [
  {
   "cell_type": "code",
   "execution_count": null,
   "id": "fed50c2d-2354-4c22-87f5-d4b1876061f2",
   "metadata": {},
   "outputs": [],
   "source": [
    "import sys\n",
    "# sys.path.append(\"./\") # go to parent dir\n",
    "# sys.path.append(\"/Users/paulkreymborg/Documents/code/VMTutorial_pjk/2024_tests\")\n",
    "# print(sys.path)\n",
    "import os\n",
    "import pandas as pd\n",
    "import plotly.express as px\n",
    "import json\n",
    "# import code\n",
    "from viz_sim_results.visualize import make_plotly_visualizer\n",
    "# import code.plot_cells.visualize\n",
    "import numpy as np\n",
    "\n",
    "# code.plot_cells\n",
    "# print(dir(code))\n"
   ]
  },
  {
   "cell_type": "code",
   "execution_count": null,
   "id": "61bdd068-c6b9-4e25-ae5e-6f275c56e802",
   "metadata": {},
   "outputs": [],
   "source": [
    "\n",
    "\n",
    "\n",
    "# ckpts_dir = \"../scratch/\"\n",
    "ckpts_dir = \"/Users/paulkreymborg/Documents/code/VMTutorial_pjk/scratch\"\n",
    "tiss_ckpt_fps = []\n",
    "\n",
    "include_every = 10\n",
    "checkpoint_fns = list(sorted(os.listdir(ckpts_dir)))\n",
    "for ckpt_idx, fn in enumerate(checkpoint_fns[:]):\n",
    "    # print(fn)\n",
    "    if ckpt_idx % include_every != 0:\n",
    "        continue\n",
    "        \n",
    "    if fn.endswith(\".json\") and fn.startswith(\"res\"):\n",
    "        tiss_ckpt_fps.append(os.path.join(ckpts_dir, fn))\n",
    "\n",
    "fig = make_plotly_visualizer(\n",
    "    tiss_ckpt_fps,\n",
    "    os.path.join(ckpts_dir, \"initial_vm_state.json\"),\n",
    "    # vertices_to_highlight=[0],\n",
    ")\n",
    "\n",
    "fig.show()\n"
   ]
  },
  {
   "cell_type": "code",
   "execution_count": null,
   "id": "9487d2cf-44d9-46b9-9227-a37fbf094fdd",
   "metadata": {},
   "outputs": [],
   "source": [
    "# from tissue_builder.hexagonal import HexagonalCellMesh\n",
    "# # import plotly.graph_objects as go\n",
    "# # fig = go.Figure(go.Scatter(x=[1,3,None,2,4], y=[4,2,None,4,2],\n",
    "# #             marker= dict(size=10,symbol= \"arrow-bar-up\", angleref=\"previous\")))\n",
    "# # fig.update_layout(width=500, height=300)\n",
    "# # fig.show()\n",
    "\n",
    "\n",
    "# list(init_vmstate['current_state']['forces'].keys())"
   ]
  },
  {
   "cell_type": "code",
   "execution_count": null,
   "id": "5235345d-803c-479e-8292-c46ce90f6915",
   "metadata": {},
   "outputs": [],
   "source": [
    "# # import json\n",
    "# import shapely\n",
    "# with open(\"../scratch/initial_vm_state.json\", \"r\") as f:\n",
    "#     init_vmstate = json.load(f)\n",
    "    \n",
    "# def plot_fields(vmstate):\n",
    "#     elec_fields = []\n",
    "#     for fid, fspec in vmstate['current_state']['forces'].items():\n",
    "#         if fspec['type'] == \"electric_cell_boundary_force\":\n",
    "#             elec_fields.append(fspec['field_spec'])\n",
    "#     print(elec_fields)\n",
    "#     for e_f_spec in elec_fields:\n",
    "#         poly_bounds = shapely.Polygon(e_f_spec[\"zone_bounds\"][\"polygon_vertices\"])\n",
    "#         zone_center = shapely.centroid(poly_bounds)\n",
    "#         print(zone_center.x)\n",
    "\n",
    "# plot_fields(init_vmstate)\n",
    "# # # cm = HexagonalCellMesh(\n",
    "# # #     side_length=1.0,\n",
    "# # #     box_lx=3,\n",
    "# # #     box_ly=3,\n",
    "# # # )\n",
    "# # # cm.set_all_A0(1)\n",
    "# # # cm.set_all_P0(1)\n",
    "# # # cm.build_vm_mesh(\"../scratch/nb_example.json\")\n",
    "\n",
    "# # with open(\"../scratch/example.json\") as f:\n",
    "# #     exam_obj = json.load(f)\n",
    "\n",
    "# # # exam_obj"
   ]
  },
  {
   "cell_type": "code",
   "execution_count": null,
   "id": "72f2d146-39e7-47d0-878d-dbec696f0cd5",
   "metadata": {},
   "outputs": [],
   "source": []
  },
  {
   "cell_type": "code",
   "execution_count": null,
   "id": "ef602316-2665-4879-ad44-b374ceadf46f",
   "metadata": {},
   "outputs": [],
   "source": []
  }
 ],
 "metadata": {
  "kernelspec": {
   "display_name": "Python 3 (ipykernel)",
   "language": "python",
   "name": "python3"
  },
  "language_info": {
   "codemirror_mode": {
    "name": "ipython",
    "version": 3
   },
   "file_extension": ".py",
   "mimetype": "text/x-python",
   "name": "python",
   "nbconvert_exporter": "python",
   "pygments_lexer": "ipython3",
   "version": "3.9.0"
  }
 },
 "nbformat": 4,
 "nbformat_minor": 5
}
